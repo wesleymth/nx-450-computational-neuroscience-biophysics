{
 "cells": [
  {
   "cell_type": "markdown",
   "metadata": {},
   "source": [
    "<center><font size = \"10\"> Week 8 - Synapses<center>\n",
    "<center><font size = \"8\">Tutorial 02: Tsodyks-Markram model<center>"
   ]
  },
  {
   "cell_type": "markdown",
   "metadata": {},
   "source": [
    "<font size='3'><font color='blue'> In this tutorial you will use an AMPA and NMDA model of glutamate receptors augmented with a model of synapse dynamics, the Tsodyks-Markram model. \n",
    "    \n",
    "<font size='3'><font color='blue'>You will learn how to implement the mathematical formulations into the MOD file and you will get a deeper understanding of this widely used formulation of synapse dynamics with a simplified and real morphologies."
   ]
  },
  {
   "cell_type": "markdown",
   "metadata": {},
   "source": [
    "## Some useful definitions and concepts:\n",
    "\n",
    "- Short-term plasticity: short-term (order of 10s or 100s of milliseconds) changes in the efficacy of a synapse.\n",
    "\n",
    "- Short-term facilitation: increase in synaptic efficacy. \n",
    "\n",
    "- Short-term depression: decreases in synaptic efficacy. \n",
    "\n",
    "One of the main mechanisms of short-term facilitation is transient increases in release probability of neurotransmitter-containing vesicles (due to increased presynaptic calcium concentration). Conversely, when many vesicles are released there will be fewer to release until the synapse has had a chance to replenish them, leading to short-term depression. \n",
    "\n",
    "This adds nonlinearities to the effects of individual synapses: for example, synapses which undergo short-term facilitation are much more effective at high firing rates than synapses which undergo short-term depression. The Tsodyks-Markram model captures these dynamics by modeling vesicle release.\n",
    "    \n",
    "*Slides: 24 - 27 of week 8 lecture"
   ]
  },
  {
   "cell_type": "markdown",
   "metadata": {},
   "source": [
    "### Compile MOD files"
   ]
  },
  {
   "cell_type": "code",
   "execution_count": 1,
   "metadata": {},
   "outputs": [
    {
     "name": "stdout",
     "output_type": "stream",
     "text": [
      "/Users/wesleymonteith/miniconda3/envs/biophysics/bin/nrnivmodl:10: DeprecationWarning: pkg_resources is deprecated as an API. See https://setuptools.pypa.io/en/latest/pkg_resources.html\n",
      "  from pkg_resources import working_set\n",
      "/usr/bin/xcrun\n",
      "/Users/wesleymonteith/code/nx-450-computational-neuroscience-biophysics/Tutorial_8-20241116\n",
      "Mod files: \"./NaTs2_t.mod\" \"./SK_E2.mod\" \"./SKv3_1.mod\" \"./SimpleAMPA_NMDA.mod\" \"./TsodyksMarkram_AMPA_NMDA.mod\" \"./vecevent.mod\"\n",
      "\n",
      " -> \u001b[32mCompiling\u001b[0m mod_func.cpp\n",
      " => \u001b[32mLINKING\u001b[0m shared library ./libnrnmech.dylib\n",
      "Successfully created x86_64/special\n"
     ]
    }
   ],
   "source": [
    "!nrnivmodl"
   ]
  },
  {
   "cell_type": "markdown",
   "metadata": {},
   "source": [
    "### Load the modules and hoc files that will be used"
   ]
  },
  {
   "cell_type": "code",
   "execution_count": 2,
   "metadata": {},
   "outputs": [
    {
     "name": "stderr",
     "output_type": "stream",
     "text": [
      "Warning: no DISPLAY environment variable.\n",
      "--No graphics will be displayed.\n"
     ]
    },
    {
     "data": {
      "text/plain": [
       "0.0"
      ]
     },
     "execution_count": 2,
     "metadata": {},
     "output_type": "execute_result"
    }
   ],
   "source": [
    "import neuron\n",
    "from neuron import h\n",
    "import numpy as np\n",
    "import matplotlib.pyplot as plt\n",
    "\n",
    "%matplotlib inline\n",
    "\n",
    "# Load external files & initialize\n",
    "neuron.h.load_file(\"stdrun.hoc\")\n",
    "neuron.h.stdinit()"
   ]
  },
  {
   "cell_type": "markdown",
   "metadata": {},
   "source": [
    "## 1. A simple neuron to host your synapse\n",
    "\n",
    "<font size='3'>Following the previous tutorial, we will create a single compartment soma neuron to host the synapse."
   ]
  },
  {
   "cell_type": "code",
   "execution_count": 3,
   "metadata": {},
   "outputs": [
    {
     "data": {
      "text/plain": [
       "__nrnsec_0x7fe729b98000"
      ]
     },
     "execution_count": 3,
     "metadata": {},
     "output_type": "execute_result"
    }
   ],
   "source": [
    "# Define cell shape\n",
    "soma = neuron.h.Section()\n",
    "soma.L = 40\n",
    "soma.diam = 40\n",
    "soma.insert(\"pas\")"
   ]
  },
  {
   "cell_type": "code",
   "execution_count": 4,
   "metadata": {},
   "outputs": [],
   "source": [
    "# Configure the passive biophysics\n",
    "for sec in h.allsec():\n",
    "    sec.Ra = 100\n",
    "    sec.cm = 1"
   ]
  },
  {
   "cell_type": "markdown",
   "metadata": {},
   "source": [
    "<font size='3'>Create the synapse at the center of the soma compartment"
   ]
  },
  {
   "cell_type": "code",
   "execution_count": 5,
   "metadata": {},
   "outputs": [],
   "source": [
    "synapse = h.TsodyksMarkram_AMPA_NMDA(soma(0.5))"
   ]
  },
  {
   "cell_type": "markdown",
   "metadata": {},
   "source": [
    "### Define the stimulus:\n",
    "\n",
    "<font size='3'> 8 spikes at 20Hz + 1 spike 500 ms later"
   ]
  },
  {
   "cell_type": "code",
   "execution_count": 6,
   "metadata": {},
   "outputs": [],
   "source": [
    "stimulator = h.VecStim()\n",
    "spike_times = [100.0, 150.0, 200.0, 250.0, 300.0, 350.0, 400.0, 450.0, 950.0]\n",
    "spikes_vector = h.Vector(spike_times)\n",
    "stimulator.play(spikes_vector)\n",
    "\n",
    "connection = h.NetCon(stimulator, synapse)\n",
    "connection.weight[0] = 1.0  # In units of [nS] due to the gmax scaling factor in our .mod file"
   ]
  },
  {
   "cell_type": "markdown",
   "metadata": {},
   "source": [
    "### Create a recorder for the synaptic conductance, current, the soma voltage, and the time intervals"
   ]
  },
  {
   "cell_type": "code",
   "execution_count": 7,
   "metadata": {},
   "outputs": [
    {
     "data": {
      "text/plain": [
       "Vector[6]"
      ]
     },
     "execution_count": 7,
     "metadata": {},
     "output_type": "execute_result"
    }
   ],
   "source": [
    "g_syn = h.Vector()\n",
    "g_syn.record(synapse._ref_g)\n",
    "i_syn = h.Vector()\n",
    "i_syn.record(synapse._ref_i)\n",
    "v_soma = h.Vector()\n",
    "v_soma.record(soma(0.5)._ref_v)\n",
    "time = h.Vector()\n",
    "time.record(neuron.h._ref_t)\n",
    "R_syn = h.Vector()\n",
    "R_syn.record(synapse._ref_R)\n",
    "Use_syn = h.Vector()\n",
    "Use_syn.record(synapse._ref_Use)"
   ]
  },
  {
   "cell_type": "markdown",
   "metadata": {},
   "source": [
    "### AMPA and NMDA conductances\n",
    "\n",
    "<font size='3'>Let's configure biologically plausible values for the AMPA and NMDA model parameters"
   ]
  },
  {
   "cell_type": "code",
   "execution_count": 8,
   "metadata": {
    "scrolled": true
   },
   "outputs": [],
   "source": [
    "synapse.gmax_AMPA = 0.002  # uS\n",
    "synapse.gmax_NMDA = (0.7 * 0.002)  # uS 0.7 is a biologically typical ratio of NMDA to AMPA conductance\n",
    "synapse.mg = 1.0  # mM"
   ]
  },
  {
   "cell_type": "markdown",
   "metadata": {
    "tags": []
   },
   "source": [
    "### Facilitating synapse: E1 \n",
    "(according to [Markarm et al., 1997](https://www.pnas.org/doi/10.1073/pnas.94.2.719))\n",
    "\n",
    "<font size='3'>Now let's configure parameters for facilitating synapse dynamics (E1), and simulate it. E1 type synapses have a small baseline release probability (U1), a shorter recovery time from depression (tau_rec), and a larger relaxation time of facilitation (tau_facil). This means that  the synapse does not easily run short of vesicles and the probability of vesicle release rises steadily with repeated synapse firing.\n",
    "    \n",
    "*Slides: 40 - 49 of week8 lecture"
   ]
  },
  {
   "cell_type": "code",
   "execution_count": 9,
   "metadata": {
    "tags": []
   },
   "outputs": [
    {
     "data": {
      "text/plain": [
       "0.0"
      ]
     },
     "execution_count": 9,
     "metadata": {},
     "output_type": "execute_result"
    }
   ],
   "source": [
    "synapse.U1 = 0.2  # Baseline release probability\n",
    "synapse.tau_rec = 10  # ms - recovery from depression\n",
    "synapse.tau_facil = 200  # ms - relaxation from facilitation\n",
    "\n",
    "h.tstop = 1000.0  # ms\n",
    "neuron.h.run()"
   ]
  },
  {
   "cell_type": "code",
   "execution_count": 10,
   "metadata": {},
   "outputs": [
    {
     "data": {
      "text/plain": [
       "(0.0, 1000.0, -70.0, -69.0)"
      ]
     },
     "execution_count": 10,
     "metadata": {},
     "output_type": "execute_result"
    },
    {
     "data": {
      "image/png": "[encoded data removed]",
      "text/plain": [
       "<Figure size 640x480 with 1 Axes>"
      ]
     },
     "metadata": {},
     "output_type": "display_data"
    }
   ],
   "source": [
    "# plot how the post-synaptic EPSPs look like \n",
    "plt.figure()\n",
    "plt.plot(time, v_soma)\n",
    "plt.axis([0, 1000, -70, -69.0])"
   ]
  },
  {
   "cell_type": "markdown",
   "metadata": {},
   "source": [
    "<font size = \"3\">Let's see how the fraction of available resources (R) and the Use of resources as well as\n",
    "the conductivity (g) behave during the stimulation"
   ]
  },
  {
   "cell_type": "code",
   "execution_count": 11,
   "metadata": {},
   "outputs": [
    {
     "data": {
      "text/plain": [
       "<matplotlib.legend.Legend at 0x116e7db50>"
      ]
     },
     "execution_count": 11,
     "metadata": {},
     "output_type": "execute_result"
    },
    {
     "data": {
      "image/png": "[encoded data removed]",
      "text/plain": [
       "<Figure size 640x480 with 1 Axes>"
      ]
     },
     "metadata": {},
     "output_type": "display_data"
    },
    {
     "data": {
      "image/png": "[encoded data removed]",
      "text/plain": [
       "<Figure size 640x480 with 1 Axes>"
      ]
     },
     "metadata": {},
     "output_type": "display_data"
    }
   ],
   "source": [
    "plt.figure()\n",
    "plt.plot(time, R_syn, label=\"$R$ - frac. of pool avail.\")\n",
    "plt.plot(time, Use_syn, label=\"$U_{SE}$ - running rel. prob.\")\n",
    "plt.legend()\n",
    "plt.axis([0, 1000, 0, 1.5])\n",
    "\n",
    "plt.figure()\n",
    "plt.plot(time, g_syn, label=\"$g_{syn}$\")\n",
    "plt.legend()"
   ]
  },
  {
   "cell_type": "markdown",
   "metadata": {},
   "source": [
    "## 2. Real neurons forming synapses."
   ]
  },
  {
   "cell_type": "markdown",
   "metadata": {},
   "source": [
    "### Depressing synapse: E2\n",
    "(according to [Markarm et al., 1997](https://www.pnas.org/doi/10.1073/pnas.94.2.719))\n",
    "\n",
    "<font size='3'>Now, let's configure a depressing synapse (E2) connecting two real morphologies.  E2 type synapses have a higher baseline release probability (U1), a longer recovery time from depression (tau_rec), and a very short relaxation time of facilitation (tau_facil). This means that the synapse runs out of vesicles fairly quickly and the probability of releasing vesicles increases for only a short time.\n",
    "\n",
    "The parameters in \"TsodyksMarkram_AMPA_NMDA.mod\" default to this kind of synapse\n",
    "    \n",
    "*Slides: 40 - 49 of week8 lecture"
   ]
  },
  {
   "cell_type": "markdown",
   "metadata": {},
   "source": [
    "### 2.1 Define a Cell class and instanciate the real morphologies "
   ]
  },
  {
   "cell_type": "code",
   "execution_count": 12,
   "metadata": {},
   "outputs": [],
   "source": [
    "# First, we have to define Cell class with specific channel behavior\n",
    "\n",
    "class Cell:\n",
    "    def __init__(self, filename, name, cell_type):\n",
    "        self.name = name\n",
    "        self.type = cell_type\n",
    "        self.synapses = []\n",
    "        self.build_morphology(filename)\n",
    "        self.biophysics()\n",
    "        \n",
    "    def build_morphology(self, filename):\n",
    "        \"\"\"\n",
    "        Loads a 3D morphology of the neuron\n",
    "        \"\"\"\n",
    "        h.load_file(\"import3d.hoc\")\n",
    "        h.load_file(\"stdlib.hoc\")\n",
    "        morph_reader = h.Import3d_Neurolucida3()\n",
    "        #morph_reader = h.Import3d_SWC_read()\n",
    "        morph_reader.input(filename)\n",
    "        i3d = h.Import3d_GUI(morph_reader, 0)\n",
    "        i3d.instantiate(self)  # Notice this change to be able to instantiate several cells\n",
    "\n",
    "        # Create python lists from the morphology with the different sections: soma, dend, apic and axon\n",
    "        self.somatic = []\n",
    "        self.basal = []\n",
    "        self.apical = []\n",
    "        #self.axonal = [] # for the moment we will forget about the axon\n",
    "        self.all = []\n",
    "        for sec in h.allsec():\n",
    "            #print (sec)\n",
    "            if 'soma' in sec.name():\n",
    "                self.somatic.append(sec)\n",
    "            if 'dend' in sec.name():\n",
    "                self.basal.append(sec)\n",
    "            if 'apic' in sec.name():\n",
    "                self.apical.append(sec)\n",
    "            #if 'axon' in sec.name():\n",
    "            #    self.axonal.append(sec)\n",
    "    \n",
    "    def biophysics(self):\n",
    "        \"\"\"\n",
    "        Distributes passive mechanisms and the different types\n",
    "        of ion channels on the soma and dendrites\n",
    "        \"\"\"\n",
    "        # Define passive properties\n",
    "        # You can try to change the passice properties and see what happens\n",
    "        for sec in h.allsec():\n",
    "            sec.Ra = 100\n",
    "            sec.cm = 1\n",
    "            sec.insert(\"pas\")\n",
    "            for seg in sec:\n",
    "                seg.pas.g = 0.00003\n",
    "                seg.pas.e = -75\n",
    "                \n",
    "        # Define active properties for soma and dendrites (basal and apical)\n",
    "        for sec in self.somatic:\n",
    "            sec.insert('NaTs2_t')\n",
    "            for seg in sec:\n",
    "                seg.gNaTs2_tbar_NaTs2_t = 0.25 \n",
    "            sec.insert('SK_E2')\n",
    "            for seg in sec:\n",
    "                seg.gSK_E2bar_SK_E2 = 0.01\n",
    "            sec.insert('SKv3_1') \n",
    "            for seg in sec:\n",
    "                seg.gSKv3_1bar_SKv3_1 = 0.1\n",
    "          \n",
    "        for sec in self.apical:\n",
    "            sec.insert('NaTs2_t')\n",
    "            for seg in sec:\n",
    "                seg.gNaTs2_tbar_NaTs2_t = 0.25 \n",
    "            sec.insert('SK_E2')\n",
    "            for seg in sec:\n",
    "                seg.gSK_E2bar_SK_E2 = 0.01\n",
    "            sec.insert('SKv3_1') \n",
    "            for seg in sec:\n",
    "                seg.gSKv3_1bar_SKv3_1 = 0.1\n",
    "        \n",
    "        for sec in self.basal:\n",
    "            sec.insert('NaTs2_t')\n",
    "            for seg in sec:\n",
    "                seg.gNaTs2_tbar_NaTs2_t = 0.25 \n",
    "            sec.insert('SK_E2')\n",
    "            for seg in sec:\n",
    "                seg.gSK_E2bar_SK_E2 = 0.01\n",
    "            sec.insert('SKv3_1') \n",
    "            for seg in sec:\n",
    "                seg.gSKv3_1bar_SKv3_1 = 0.1"
   ]
  },
  {
   "cell_type": "code",
   "execution_count": 13,
   "metadata": {},
   "outputs": [
    {
     "name": "stderr",
     "output_type": "stream",
     "text": [
      "NEURON: morphologies/dend-C261296A-P1_axon-C060114A4_-_Scale_x1.000_y0.975_z1.000.asc :file is not open\n",
      " near line 0\n",
      " ^\n",
      "        File[0].eof()\n",
      "      Import3d_Neurolucida3[0].rdfile(\"morphologi...\")\n",
      "    Import3d_Neurolucida3[0].input(\"morphologi...\")\n"
     ]
    },
    {
     "name": "stdout",
     "output_type": "stream",
     "text": [
      "could not open morphologies/dend-C261296A-P1_axon-C060114A4_-_Scale_x1.000_y0.975_z1.000.asc\n"
     ]
    },
    {
     "ename": "RuntimeError",
     "evalue": "hocobj_call error",
     "output_type": "error",
     "traceback": [
      "\u001b[0;31m---------------------------------------------------------------------------\u001b[0m",
      "\u001b[0;31mRuntimeError\u001b[0m                              Traceback (most recent call last)",
      "Cell \u001b[0;32mIn[13], line 6\u001b[0m\n\u001b[1;32m      3\u001b[0m path_pyr1 \u001b[38;5;241m=\u001b[39m \u001b[38;5;124m\"\u001b[39m\u001b[38;5;124mmorphologies/dend-C261296A-P1_axon-C060114A4_-_Scale_x1.000_y0.975_z1.000.asc\u001b[39m\u001b[38;5;124m\"\u001b[39m\n\u001b[1;32m      4\u001b[0m path_pyr2 \u001b[38;5;241m=\u001b[39m \u001b[38;5;124m\"\u001b[39m\u001b[38;5;124mmorphologies/dend-vd111221_idB_axon-vd110330_idB_-_Scale_x1.000_y1.050_z1.000.asc\u001b[39m\u001b[38;5;124m\"\u001b[39m\n\u001b[0;32m----> 6\u001b[0m Pyr1 \u001b[38;5;241m=\u001b[39m \u001b[43mCell\u001b[49m\u001b[43m(\u001b[49m\u001b[43mpath_pyr1\u001b[49m\u001b[43m,\u001b[49m\u001b[43m \u001b[49m\u001b[38;5;124;43m\"\u001b[39;49m\u001b[38;5;124;43mPyr1\u001b[39;49m\u001b[38;5;124;43m\"\u001b[39;49m\u001b[43m,\u001b[49m\u001b[43m \u001b[49m\u001b[38;5;124;43m\"\u001b[39;49m\u001b[38;5;124;43mPyr\u001b[39;49m\u001b[38;5;124;43m\"\u001b[39;49m\u001b[43m)\u001b[49m\n\u001b[1;32m      7\u001b[0m Pyr2 \u001b[38;5;241m=\u001b[39m Cell(path_pyr2, \u001b[38;5;124m\"\u001b[39m\u001b[38;5;124mPyr2\u001b[39m\u001b[38;5;124m\"\u001b[39m, \u001b[38;5;124m\"\u001b[39m\u001b[38;5;124mPyr\u001b[39m\u001b[38;5;124m\"\u001b[39m)\n",
      "Cell \u001b[0;32mIn[12], line 8\u001b[0m, in \u001b[0;36mCell.__init__\u001b[0;34m(self, filename, name, cell_type)\u001b[0m\n\u001b[1;32m      6\u001b[0m \u001b[38;5;28mself\u001b[39m\u001b[38;5;241m.\u001b[39mtype \u001b[38;5;241m=\u001b[39m cell_type\n\u001b[1;32m      7\u001b[0m \u001b[38;5;28mself\u001b[39m\u001b[38;5;241m.\u001b[39msynapses \u001b[38;5;241m=\u001b[39m []\n\u001b[0;32m----> 8\u001b[0m \u001b[38;5;28;43mself\u001b[39;49m\u001b[38;5;241;43m.\u001b[39;49m\u001b[43mbuild_morphology\u001b[49m\u001b[43m(\u001b[49m\u001b[43mfilename\u001b[49m\u001b[43m)\u001b[49m\n\u001b[1;32m      9\u001b[0m \u001b[38;5;28mself\u001b[39m\u001b[38;5;241m.\u001b[39mbiophysics()\n",
      "Cell \u001b[0;32mIn[12], line 19\u001b[0m, in \u001b[0;36mCell.build_morphology\u001b[0;34m(self, filename)\u001b[0m\n\u001b[1;32m     17\u001b[0m morph_reader \u001b[38;5;241m=\u001b[39m h\u001b[38;5;241m.\u001b[39mImport3d_Neurolucida3()\n\u001b[1;32m     18\u001b[0m \u001b[38;5;66;03m#morph_reader = h.Import3d_SWC_read()\u001b[39;00m\n\u001b[0;32m---> 19\u001b[0m \u001b[43mmorph_reader\u001b[49m\u001b[38;5;241;43m.\u001b[39;49m\u001b[43minput\u001b[49m\u001b[43m(\u001b[49m\u001b[43mfilename\u001b[49m\u001b[43m)\u001b[49m\n\u001b[1;32m     20\u001b[0m i3d \u001b[38;5;241m=\u001b[39m h\u001b[38;5;241m.\u001b[39mImport3d_GUI(morph_reader, \u001b[38;5;241m0\u001b[39m)\n\u001b[1;32m     21\u001b[0m i3d\u001b[38;5;241m.\u001b[39minstantiate(\u001b[38;5;28mself\u001b[39m)  \u001b[38;5;66;03m# Notice this change to be able to instantiate several cells\u001b[39;00m\n",
      "\u001b[0;31mRuntimeError\u001b[0m: hocobj_call error"
     ]
    }
   ],
   "source": [
    "# Second, we can instantiate the Cells that we will use for the simulation.\n",
    "\n",
    "path_pyr1 = \"morphologies/dend-C261296A-P1_axon-C060114A4_-_Scale_x1.000_y0.975_z1.000.asc\"\n",
    "path_pyr2 = \"morphologies/dend-vd111221_idB_axon-vd110330_idB_-_Scale_x1.000_y1.050_z1.000.asc\"\n",
    "\n",
    "Pyr1 = Cell(path_pyr1, \"Pyr1\", \"Pyr\")\n",
    "Pyr2 = Cell(path_pyr2, \"Pyr2\", \"Pyr\")"
   ]
  },
  {
   "cell_type": "code",
   "execution_count": 14,
   "metadata": {},
   "outputs": [
    {
     "ename": "NameError",
     "evalue": "name 'Pyr1' is not defined",
     "output_type": "error",
     "traceback": [
      "\u001b[0;31m---------------------------------------------------------------------------\u001b[0m",
      "\u001b[0;31mNameError\u001b[0m                                 Traceback (most recent call last)",
      "Cell \u001b[0;32mIn[14], line 3\u001b[0m\n\u001b[1;32m      1\u001b[0m \u001b[38;5;66;03m# Just for curiosity, let's check which sections formed these cells.\u001b[39;00m\n\u001b[0;32m----> 3\u001b[0m cells_Pyr \u001b[38;5;241m=\u001b[39m [\u001b[43mPyr1\u001b[49m, Pyr2]\n\u001b[1;32m      5\u001b[0m \u001b[38;5;28;01mfor\u001b[39;00m c \u001b[38;5;129;01min\u001b[39;00m cells_Pyr:\n\u001b[1;32m      6\u001b[0m     \u001b[38;5;28mprint\u001b[39m(\n\u001b[1;32m      7\u001b[0m         \u001b[38;5;124m\"\u001b[39m\u001b[38;5;132;01m%s\u001b[39;00m\u001b[38;5;124m: \u001b[39m\u001b[38;5;132;01m%d\u001b[39;00m\u001b[38;5;124m apical sections, \u001b[39m\u001b[38;5;132;01m%d\u001b[39;00m\u001b[38;5;124m basal sections, \u001b[39m\u001b[38;5;132;01m%d\u001b[39;00m\u001b[38;5;124m soma sections and \u001b[39m\u001b[38;5;132;01m%d\u001b[39;00m\u001b[38;5;124m axon sections\u001b[39m\u001b[38;5;124m\"\u001b[39m\n\u001b[1;32m      8\u001b[0m         \u001b[38;5;241m%\u001b[39m (c\u001b[38;5;241m.\u001b[39mname, \u001b[38;5;28mlen\u001b[39m(c\u001b[38;5;241m.\u001b[39mapic), \u001b[38;5;28mlen\u001b[39m(c\u001b[38;5;241m.\u001b[39mdend), \u001b[38;5;28mlen\u001b[39m(c\u001b[38;5;241m.\u001b[39msoma), \u001b[38;5;28mlen\u001b[39m(c\u001b[38;5;241m.\u001b[39maxon))\n\u001b[1;32m      9\u001b[0m     )\n",
      "\u001b[0;31mNameError\u001b[0m: name 'Pyr1' is not defined"
     ]
    }
   ],
   "source": [
    "# Just for curiosity, let's check which sections formed these cells.\n",
    "\n",
    "cells_Pyr = [Pyr1, Pyr2]\n",
    "\n",
    "for c in cells_Pyr:\n",
    "    print(\n",
    "        \"%s: %d apical sections, %d basal sections, %d soma sections and %d axon sections\"\n",
    "        % (c.name, len(c.apic), len(c.dend), len(c.soma), len(c.axon))\n",
    "    )"
   ]
  },
  {
   "cell_type": "markdown",
   "metadata": {},
   "source": [
    "### 2.2 Connect the cells \n",
    "The connect function establishes a synapse between a random neurite on the source cell, and a random dendrite on the target cell."
   ]
  },
  {
   "cell_type": "code",
   "execution_count": 15,
   "metadata": {},
   "outputs": [],
   "source": [
    "# Third, we can connect the two cells with an TM synapse at given locations\n",
    "# This function returns the netcon\n",
    "\n",
    "def connect(\n",
    "    source,\n",
    "    target,\n",
    "    weight=None,\n",
    "    delay=5,\n",
    "    source_sec=None,\n",
    "    source_neurite=\"axon\",\n",
    "    target_sec=None,\n",
    "    target_neurite=\"dend\",\n",
    "    ):\n",
    "    rng = np.random.default_rng()\n",
    "\n",
    "    if weight is None:\n",
    "        weight = rng.uniform()  # random weight\n",
    "\n",
    "    target_neurite_ = getattr(target, target_neurite)\n",
    "    if target_sec is None:\n",
    "        target_sec = rng.integers(0, len(target_neurite_))  # random dendritic section\n",
    "\n",
    "    source_neurite_ = getattr(source, source_neurite)\n",
    "    if source_sec is None:\n",
    "        source_sec = rng.integers(0, len(source_neurite_))  # random axonal section\n",
    "    \n",
    "    # HERE WE INTRODUCE THE SYNAPTIC MECHANISM !!!!!!!\n",
    "    target_syn = h.TsodyksMarkram_AMPA_NMDA(target_neurite_[target_sec](0.5))\n",
    "    target_syn.gmax_AMPA = 0.002  # uS\n",
    "    target_syn.gmax_NMDA = (0.7 * 0.002)  # uS 0.7 is a biologically typical ratio of NMDA to AMPA conductance\n",
    "    target.synapses.append(target_syn)  # store synapse\n",
    "\n",
    "    netcon = h.NetCon(\n",
    "        source_neurite_[source_sec](0.5)._ref_v,\n",
    "        target_syn,\n",
    "        sec=source_neurite_[source_sec],\n",
    "    )\n",
    "    netcon.weight[0] = weight\n",
    "\n",
    "    print(\n",
    "        f\"Connected cells {source.name} -> {target.name} with weight {weight} and delay {delay}, from {source_neurite}[{source_sec}] to {target_neurite}[{target_sec}]\"\n",
    "    )\n",
    "\n",
    "    return netcon"
   ]
  },
  {
   "cell_type": "code",
   "execution_count": 16,
   "metadata": {},
   "outputs": [
    {
     "ename": "NameError",
     "evalue": "name 'Pyr1' is not defined",
     "output_type": "error",
     "traceback": [
      "\u001b[0;31m---------------------------------------------------------------------------\u001b[0m",
      "\u001b[0;31mNameError\u001b[0m                                 Traceback (most recent call last)",
      "Cell \u001b[0;32mIn[16], line 5\u001b[0m\n\u001b[1;32m      1\u001b[0m \u001b[38;5;66;03m# Now we connect Pyr1 to Pyr2 by executing the previous function\u001b[39;00m\n\u001b[1;32m      2\u001b[0m \u001b[38;5;66;03m# We create 5 randomly connected dendo-dendritic connections\u001b[39;00m\n\u001b[1;32m      3\u001b[0m \u001b[38;5;66;03m# yes, most synapses usually form axon-to-dendrite, but dendro-dendritic synapses exist as well.\u001b[39;00m\n\u001b[0;32m----> 5\u001b[0m nc1 \u001b[38;5;241m=\u001b[39m connect(\u001b[43mPyr1\u001b[49m, Pyr2, weight\u001b[38;5;241m=\u001b[39m\u001b[38;5;241m1.0\u001b[39m, source_neurite \u001b[38;5;241m=\u001b[39m \u001b[38;5;124m\"\u001b[39m\u001b[38;5;124mdend\u001b[39m\u001b[38;5;124m\"\u001b[39m)\n\u001b[1;32m      6\u001b[0m nc2 \u001b[38;5;241m=\u001b[39m connect(Pyr1, Pyr2, weight\u001b[38;5;241m=\u001b[39m\u001b[38;5;241m1.0\u001b[39m, source_neurite \u001b[38;5;241m=\u001b[39m \u001b[38;5;124m\"\u001b[39m\u001b[38;5;124mdend\u001b[39m\u001b[38;5;124m\"\u001b[39m)\n\u001b[1;32m      7\u001b[0m nc3 \u001b[38;5;241m=\u001b[39m connect(Pyr1, Pyr2, weight\u001b[38;5;241m=\u001b[39m\u001b[38;5;241m1.0\u001b[39m, source_neurite \u001b[38;5;241m=\u001b[39m \u001b[38;5;124m\"\u001b[39m\u001b[38;5;124mdend\u001b[39m\u001b[38;5;124m\"\u001b[39m)\n",
      "\u001b[0;31mNameError\u001b[0m: name 'Pyr1' is not defined"
     ]
    }
   ],
   "source": [
    "# Now we connect Pyr1 to Pyr2 by executing the previous function\n",
    "# We create 5 randomly connected dendo-dendritic connections\n",
    "# yes, most synapses usually form axon-to-dendrite, but dendro-dendritic synapses exist as well.\n",
    "\n",
    "nc1 = connect(Pyr1, Pyr2, weight=1.0, source_neurite = \"dend\")\n",
    "nc2 = connect(Pyr1, Pyr2, weight=1.0, source_neurite = \"dend\")\n",
    "nc3 = connect(Pyr1, Pyr2, weight=1.0, source_neurite = \"dend\")\n",
    "nc4 = connect(Pyr1, Pyr2, weight=1.0, source_neurite = \"dend\")\n",
    "nc5 = connect(Pyr1, Pyr2, weight=1.0, source_neurite = \"dend\")"
   ]
  },
  {
   "cell_type": "markdown",
   "metadata": {},
   "source": [
    "### 2.3. Run the simulation"
   ]
  },
  {
   "cell_type": "code",
   "execution_count": 17,
   "metadata": {},
   "outputs": [
    {
     "ename": "NameError",
     "evalue": "name 'Pyr1' is not defined",
     "output_type": "error",
     "traceback": [
      "\u001b[0;31m---------------------------------------------------------------------------\u001b[0m",
      "\u001b[0;31mNameError\u001b[0m                                 Traceback (most recent call last)",
      "Cell \u001b[0;32mIn[17], line 10\u001b[0m\n\u001b[1;32m      5\u001b[0m stimulator\u001b[38;5;241m.\u001b[39mplay(spikes_vector)\n\u001b[1;32m      7\u001b[0m \u001b[38;5;66;03m# We want to stimulate the pre-cell and see the effet on the post-cell.\u001b[39;00m\n\u001b[1;32m      8\u001b[0m \u001b[38;5;66;03m# For this we add an exponential synapse (h.ExpSyn mechanism) stimulating the soma of the pre-cell\u001b[39;00m\n\u001b[1;32m      9\u001b[0m \u001b[38;5;66;03m# There are different mechanisms that you can use for that, like h.IClamp.\u001b[39;00m\n\u001b[0;32m---> 10\u001b[0m stim_place1 \u001b[38;5;241m=\u001b[39m h\u001b[38;5;241m.\u001b[39mExpSyn(\u001b[43mPyr1\u001b[49m\u001b[38;5;241m.\u001b[39msoma[\u001b[38;5;241m0\u001b[39m](\u001b[38;5;241m0.5\u001b[39m))\n\u001b[1;32m     11\u001b[0m stim_place1\u001b[38;5;241m.\u001b[39mtau \u001b[38;5;241m=\u001b[39m \u001b[38;5;241m2\u001b[39m  \u001b[38;5;66;03m# ms\u001b[39;00m\n\u001b[1;32m     13\u001b[0m \u001b[38;5;66;03m# Add stimulator to synapses\u001b[39;00m\n",
      "\u001b[0;31mNameError\u001b[0m: name 'Pyr1' is not defined"
     ]
    }
   ],
   "source": [
    "# first we create a stimulation vector with the times of the stimulation.\n",
    "stimulator = h.VecStim()\n",
    "spike_times = [100.0, 150.0, 200.0, 250.0, 300.0, 350.0, 400.0, 450.0, 950.0] # ms\n",
    "spikes_vector = h.Vector(spike_times)\n",
    "stimulator.play(spikes_vector)\n",
    "\n",
    "# We want to stimulate the pre-cell and see the effet on the post-cell.\n",
    "# For this we add an exponential synapse (h.ExpSyn mechanism) stimulating the soma of the pre-cell\n",
    "# There are different mechanisms that you can use for that, like h.IClamp.\n",
    "stim_place1 = h.ExpSyn(Pyr1.soma[0](0.5))\n",
    "stim_place1.tau = 2  # ms\n",
    "\n",
    "# Add stimulator to synapses\n",
    "connection1 = h.NetCon(stimulator, stim_place1)\n",
    "connection1.weight[0] = 0.5  # In units of [nS] due to the gmax scaling factor in our .mod file"
   ]
  },
  {
   "cell_type": "code",
   "execution_count": 18,
   "metadata": {},
   "outputs": [
    {
     "ename": "NameError",
     "evalue": "name 'Pyr1' is not defined",
     "output_type": "error",
     "traceback": [
      "\u001b[0;31m---------------------------------------------------------------------------\u001b[0m",
      "\u001b[0;31mNameError\u001b[0m                                 Traceback (most recent call last)",
      "Cell \u001b[0;32mIn[18], line 2\u001b[0m\n\u001b[1;32m      1\u001b[0m \u001b[38;5;66;03m# record voltage at pre and post-cell somas and plot them\u001b[39;00m\n\u001b[0;32m----> 2\u001b[0m soma_v1 \u001b[38;5;241m=\u001b[39m h\u001b[38;5;241m.\u001b[39mVector()\u001b[38;5;241m.\u001b[39mrecord(\u001b[43mPyr1\u001b[49m\u001b[38;5;241m.\u001b[39msoma[\u001b[38;5;241m0\u001b[39m](\u001b[38;5;241m0.5\u001b[39m)\u001b[38;5;241m.\u001b[39m_ref_v)\n\u001b[1;32m      3\u001b[0m soma_v2 \u001b[38;5;241m=\u001b[39m h\u001b[38;5;241m.\u001b[39mVector()\u001b[38;5;241m.\u001b[39mrecord(Pyr2\u001b[38;5;241m.\u001b[39msoma[\u001b[38;5;241m0\u001b[39m](\u001b[38;5;241m0.5\u001b[39m)\u001b[38;5;241m.\u001b[39m_ref_v)\n\u001b[1;32m      5\u001b[0m \u001b[38;5;66;03m#record time\u001b[39;00m\n",
      "\u001b[0;31mNameError\u001b[0m: name 'Pyr1' is not defined"
     ]
    }
   ],
   "source": [
    "# record voltage at pre and post-cell somas and plot them\n",
    "soma_v1 = h.Vector().record(Pyr1.soma[0](0.5)._ref_v)\n",
    "soma_v2 = h.Vector().record(Pyr2.soma[0](0.5)._ref_v)\n",
    "\n",
    "#record time\n",
    "time = h.Vector().record(h._ref_t)\n",
    "\n",
    "# run simulation\n",
    "h.finitialize(-65)\n",
    "h.continuerun(1200)"
   ]
  },
  {
   "cell_type": "code",
   "execution_count": 19,
   "metadata": {},
   "outputs": [
    {
     "ename": "NameError",
     "evalue": "name 'soma_v1' is not defined",
     "output_type": "error",
     "traceback": [
      "\u001b[0;31m---------------------------------------------------------------------------\u001b[0m",
      "\u001b[0;31mNameError\u001b[0m                                 Traceback (most recent call last)",
      "Cell \u001b[0;32mIn[19], line 3\u001b[0m\n\u001b[1;32m      1\u001b[0m \u001b[38;5;66;03m# Plot pre and post-cells voltage traces\u001b[39;00m\n\u001b[1;32m      2\u001b[0m plt\u001b[38;5;241m.\u001b[39mfigure(figsize\u001b[38;5;241m=\u001b[39m(\u001b[38;5;241m15\u001b[39m, \u001b[38;5;241m5\u001b[39m))\n\u001b[0;32m----> 3\u001b[0m plt\u001b[38;5;241m.\u001b[39mplot(time, \u001b[43msoma_v1\u001b[49m, label\u001b[38;5;241m=\u001b[39m\u001b[38;5;124m\"\u001b[39m\u001b[38;5;124mpre\u001b[39m\u001b[38;5;124m\"\u001b[39m, color\u001b[38;5;241m=\u001b[39m\u001b[38;5;124m\"\u001b[39m\u001b[38;5;124mblue\u001b[39m\u001b[38;5;124m\"\u001b[39m)\n\u001b[1;32m      4\u001b[0m plt\u001b[38;5;241m.\u001b[39mplot(time, soma_v2, label\u001b[38;5;241m=\u001b[39m\u001b[38;5;124m\"\u001b[39m\u001b[38;5;124mpost\u001b[39m\u001b[38;5;124m\"\u001b[39m, color\u001b[38;5;241m=\u001b[39m\u001b[38;5;124m\"\u001b[39m\u001b[38;5;124mred\u001b[39m\u001b[38;5;124m\"\u001b[39m)\n\u001b[1;32m      5\u001b[0m plt\u001b[38;5;241m.\u001b[39mlegend()\n",
      "\u001b[0;31mNameError\u001b[0m: name 'soma_v1' is not defined"
     ]
    },
    {
     "data": {
      "text/plain": [
       "<Figure size 1500x500 with 0 Axes>"
      ]
     },
     "metadata": {},
     "output_type": "display_data"
    }
   ],
   "source": [
    "# Plot pre and post-cells voltage traces\n",
    "plt.figure(figsize=(15, 5))\n",
    "plt.plot(time, soma_v1, label=\"pre\", color=\"blue\")\n",
    "plt.plot(time, soma_v2, label=\"post\", color=\"red\")\n",
    "plt.legend()\n",
    "plt.show()"
   ]
  },
  {
   "cell_type": "code",
   "execution_count": 20,
   "metadata": {},
   "outputs": [
    {
     "ename": "NameError",
     "evalue": "name 'soma_v2' is not defined",
     "output_type": "error",
     "traceback": [
      "\u001b[0;31m---------------------------------------------------------------------------\u001b[0m",
      "\u001b[0;31mNameError\u001b[0m                                 Traceback (most recent call last)",
      "Cell \u001b[0;32mIn[20], line 3\u001b[0m\n\u001b[1;32m      1\u001b[0m \u001b[38;5;66;03m# Plot only post-cell voltage trace\u001b[39;00m\n\u001b[1;32m      2\u001b[0m time_arr \u001b[38;5;241m=\u001b[39m np\u001b[38;5;241m.\u001b[39marray(time)\n\u001b[0;32m----> 3\u001b[0m soma_v2_arr \u001b[38;5;241m=\u001b[39m np\u001b[38;5;241m.\u001b[39marray(\u001b[43msoma_v2\u001b[49m)\n\u001b[1;32m      5\u001b[0m \u001b[38;5;28mprint\u001b[39m(time_arr\u001b[38;5;241m.\u001b[39mshape)\n\u001b[1;32m      7\u001b[0m plt\u001b[38;5;241m.\u001b[39mfigure(figsize\u001b[38;5;241m=\u001b[39m(\u001b[38;5;241m15\u001b[39m, \u001b[38;5;241m5\u001b[39m))\n",
      "\u001b[0;31mNameError\u001b[0m: name 'soma_v2' is not defined"
     ]
    }
   ],
   "source": [
    "# Plot only post-cell voltage trace\n",
    "time_arr = np.array(time)\n",
    "soma_v2_arr = np.array(soma_v2)\n",
    "\n",
    "print(time_arr.shape)\n",
    "\n",
    "plt.figure(figsize=(15, 5))\n",
    "plt.plot(time_arr[4000:], soma_v2_arr[4000:], label=\"post\", color=\"red\")\n",
    "plt.legend()\n",
    "plt.show()"
   ]
  },
  {
   "cell_type": "code",
   "execution_count": null,
   "metadata": {},
   "outputs": [],
   "source": []
  },
  {
   "cell_type": "code",
   "execution_count": null,
   "metadata": {},
   "outputs": [],
   "source": []
  }
 ],
 "metadata": {
  "kernelspec": {
   "display_name": "biophysics",
   "language": "python",
   "name": "python3"
  },
  "language_info": {
   "codemirror_mode": {
    "name": "ipython",
    "version": 3
   },
   "file_extension": ".py",
   "mimetype": "text/x-python",
   "name": "python",
   "nbconvert_exporter": "python",
   "pygments_lexer": "ipython3",
   "version": "3.12.4"
  }
 },
 "nbformat": 4,
 "nbformat_minor": 4
}
