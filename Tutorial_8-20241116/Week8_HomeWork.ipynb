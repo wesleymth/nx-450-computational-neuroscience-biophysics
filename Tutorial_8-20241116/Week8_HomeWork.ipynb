{
 "cells": [
  {
   "cell_type": "markdown",
   "metadata": {},
   "source": [
    "<center><font size = \"10\"> Week 8 - Synapses <center>\n",
    "<center><font size = \"8\">Home work "
   ]
  },
  {
   "cell_type": "code",
   "execution_count": null,
   "metadata": {
    "tags": []
   },
   "outputs": [],
   "source": [
    "# For this exercises just compile channel and synaptic mechanisms at the begining and you won't need to do this again.\n",
    "!nrnivmodl"
   ]
  },
  {
   "cell_type": "markdown",
   "metadata": {},
   "source": [
    "# Ex 1: Plot the dependence of the NMDA conductance on the Mg2+ concentration.\n",
    "\n",
    "<font size='3'>Create a single compartmental soma neuron to host the synpase modeled in SimpleAMPA_NMDA.mod file. Using the stimulation pattern and the values for the synaptic conductances used in tutorial 01, plot the NMDA conductance at different mM [Mg2+] values. Select appropiate values to explore the dynamics. \n",
    "    \n",
    "<font size='3'> What happens to the NMDA conducatance in relation to Mg2+? What is the functional purpose of this behaviour?"
   ]
  },
  {
   "cell_type": "code",
   "execution_count": null,
   "metadata": {},
   "outputs": [],
   "source": []
  },
  {
   "cell_type": "markdown",
   "metadata": {
    "tags": []
   },
   "source": [
    "# Ex 2:  Configure a pseudolinear synapse (E1)\n",
    "    \n",
    "<font size='3'> Create a single compartmental soma neuron, add to it passive properties, add to the center of the neuron a synapse with the mechanism modeled in TsodyksMarkram_AMPA_NMDA.mod file, inject a stimulation pattern and define the conductances for NMDA and AMPA receptors, as it was done in tutorial 02. \n",
    "\n",
    "<font size='3'>Play around with `U1`, `tau_rec` and `tau_facil` , and find the values that make the synapse _pseudolinear_, so that it first undergoes facilitation, and then a depression as the stimulus goes on for longer. \n",
    "\n",
    "<font size='3'> Plot the `R`, `Use` and conductance curves. Explain in your own words what `U1`, `tau_rec` and `tau_facil` represent.\n",
    "    \n",
    "<font size='3'>Plot comparison (bar plot) between the three parameters for each of the three synapse types(facilitating, depressing and pseudolinear). Explain the relationships between the parameter values and the properties of the synapse type they belong to."
   ]
  },
  {
   "cell_type": "code",
   "execution_count": null,
   "metadata": {},
   "outputs": [],
   "source": []
  },
  {
   "cell_type": "markdown",
   "metadata": {},
   "source": [
    "# Ex 3: Compute EPSP's Features: amplitudes, latencies, tau rise and Coefficient of Variation (CV) of the EPSP amplitudes \n",
    "\n",
    "<font size='3'>Compute the amplitudes, latencies and tau rise of the excitatory postsynaptic potential (EPSP) of the three connections traces provided for your group (.h5 files you can find in the group folder). Visualize the mean values and standard deviations of this features.\n",
    "\n",
    "\n",
    "<font size='3'>Then compute the coefficient of variation of EPSP amplitudes for each of the connections and the mean CV profile between them. Visualize your results in two plots:\n",
    "- mean CV profiles: the plot should have four curves, one per each connection and one for the mean\n",
    "- raster plot of CV of EPSP amplitudes as a function of EPSP amplitudes (all EPSPS, not only the first one)\n",
    "\n",
    "<font size='3'>Both plots should look similar to the ones in the paper show in the lecture [Barros-Zulaica et al., 2019](https://www.ncbi.nlm.nih.gov/pubmed/31680928), Figure 1 D and F and Figure 6 D and F. \n",
    "    \n",
    "<font size='3'>*Hint: Be careful with which plot should have a standard deviations!*\n",
    "    \n",
    "__Note that for all the files, the stimulation times are the same as in tutorial 3.__"
   ]
  },
  {
   "cell_type": "code",
   "execution_count": null,
   "metadata": {},
   "outputs": [],
   "source": []
  },
  {
   "cell_type": "markdown",
   "metadata": {},
   "source": [
    "# Ex 4: Compute failure rate\n",
    "<font size='3'>\n",
    "    \n",
    "Compute the failure rate of the EPSPs from the connections of your group folder. The failure rate is the fraction of trials from which no PSP is generated above certain threshold. You can find a way of computing the failure rate in [Feldmeyer et al., 1999](https://www.ncbi.nlm.nih.gov/pmc/articles/PMC2269646/) (Methods - Data analysis). Make sure to test for failure based on both latency and amplitude size. Necessary noise can be extracted from the initial part of the simulation, before any stimulus arrives (use the code bellow).\n",
    "\n",
    "\n",
    "- Represent the mean result of each of the three connections in the same bar plot. \n",
    "- For each connection visualize the distributions of the EPSPs amplitudes using a histogram, with a different color for failed and successful EPSPs.\n",
    "\n",
    "<font size='3'>"
   ]
  },
  {
   "cell_type": "code",
   "execution_count": null,
   "metadata": {},
   "outputs": [],
   "source": [
    "# CODE TO EXTRACT NOISE FROM YOUR TRACES:\n",
    "\n",
    "def compute_noise(trace, stimulation_index, time_before=50):\n",
    "    pre_psp_trace = trace[0 : stimulation_index - time_before]\n",
    "    noise_max = np.max(psp_trace)\n",
    "    noise_min = np.min(psp_trace)\n",
    "    noise_amp = np.abs(noise_max - noise_min)\n",
    "    return noise_amp * 1000\n"
   ]
  },
  {
   "cell_type": "code",
   "execution_count": null,
   "metadata": {},
   "outputs": [],
   "source": [
    "noise_collection = {}\n",
    "for key in traces_collection:\n",
    "    noise = []\n",
    "    for psp_trace in traces:\n",
    "        noise.append(compute_noise(psp_trace, stimulation_indices[0]))\n",
    "\n",
    "    noise_collection[key] = np.array(noise)\n",
    "\n",
    "noise_std = pd.DataFrame(noise_collection).std()"
   ]
  },
  {
   "cell_type": "code",
   "execution_count": null,
   "metadata": {},
   "outputs": [],
   "source": []
  }
 ],
 "metadata": {
  "kernelspec": {
   "display_name": "Python3",
   "language": "python",
   "name": "python3"
  },
  "language_info": {
   "codemirror_mode": {
    "name": "ipython",
    "version": 3
   },
   "file_extension": ".py",
   "mimetype": "text/x-python",
   "name": "python",
   "nbconvert_exporter": "python",
   "pygments_lexer": "ipython3",
   "version": "3.12.5"
  }
 },
 "nbformat": 4,
 "nbformat_minor": 4
}
