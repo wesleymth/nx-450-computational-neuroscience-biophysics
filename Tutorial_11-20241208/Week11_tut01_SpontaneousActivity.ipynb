{
 "cells": [
  {
   "cell_type": "markdown",
   "id": "a1072af6-68cd-4eea-8909-c46f2f388d7b",
   "metadata": {},
   "source": [
    "<center><font size = \"10\"> Week 11 - Networks <center>\n",
    "<center><font size = \"8\">Tutorial 01: Spontaneous activity <center>\n",
    "    \n",
    "    "
   ]
  },
  {
   "cell_type": "markdown",
   "id": "355cab49-800e-4ced-a136-0356fc192a43",
   "metadata": {},
   "source": [
    "When the brain is not actively processing sensory input or performing some task it is nonetheless constantly active. In fact, most of the energy consumed by your brain is due to this spontaneous activity. What the point of all this spontaneous activity is is not yet clear and we have a lot to learn about it.\n",
    "\n",
    "In brain modeling the overall depolarization and variability of activity coming into a brain region of interest from distant regions is going to strongly influence the network dynamics and firing behavior. However, explicitly modeling all input regions just to get the dynamics of a small region correct is computationally expensive. It is therefore common practice to model this background of distant input as \"noise\". In reality, it is lkely that some important information is carried by these inputs, but for the purposes of the model we are agnostic to it.\n",
    "\n",
    "Usually, coming up with a noise model and ensuring it reproduces the spontaneous activity of the brain region is done before you apply a stimulus."
   ]
  },
  {
   "cell_type": "code",
   "execution_count": null,
   "id": "190bc082-73fc-43ea-af82-097f8e32ee72",
   "metadata": {
    "tags": []
   },
   "outputs": [],
   "source": [
    "from neuron import h\n",
    "import numpy as np\n",
    "import pandas as pd\n",
    "import matplotlib.pyplot as plt\n",
    "np.random.seed(1)"
   ]
  },
  {
   "cell_type": "code",
   "execution_count": null,
   "id": "85e5609d-702c-498b-aae0-6850f832349c",
   "metadata": {
    "tags": []
   },
   "outputs": [],
   "source": [
    "class Cell:\n",
    "    def __init__(self, filename, name, cell_type):\n",
    "        self.name = name\n",
    "        self.type = cell_type\n",
    "        self.synapses = []\n",
    "        self.build_morphology(filename)\n",
    "        self.biophysics()\n",
    "\n",
    "    def build_morphology(self, filename):\n",
    "        h.load_file(\"stdlib.hoc\")\n",
    "        h.load_file(\"import3d.hoc\")\n",
    "        if filename.endswith('.asc'):\n",
    "            morph_reader = h.Import3d_Neurolucida3()\n",
    "        else:\n",
    "            morph_reader = h.Import3d_SWC_read()\n",
    "        morph_reader.input(filename)\n",
    "        i3d = h.Import3d_GUI(morph_reader, 0)\n",
    "        i3d.instantiate(\n",
    "            self\n",
    "        )  # Notice this change to be able to instantiate several cells\n",
    "        # all_sections should have the same order as neurom\n",
    "        self.all_sections = self.soma + self.axon + self.dend\n",
    "        if hasattr(self, 'apic'):\n",
    "            self.all_sections += self.apic\n",
    "        print(len(self.dend), len(self.all_sections))\n",
    "        self.efferent_synapses = []\n",
    "        self.afferent_synapses = []\n",
    "\n",
    "    def biophysics(self):\n",
    "        for sec in h.allsec():\n",
    "            sec.Ra = 100  # Axial resistance in Ohm * cm\n",
    "            sec.cm = 1  # Membrane capacitance in micro Farads / cm^2\n",
    "            sec.insert(\"pas\")\n",
    "            for seg in sec:\n",
    "                seg.pas.g = 0.00003\n",
    "                seg.pas.e = -75\n",
    "\n",
    "        # Insert passive current in the dendrite\n",
    "        for sec in self.soma:\n",
    "            sec.insert(\"hh\")\n",
    "            for seg in sec:\n",
    "                seg.hh.gnabar = 0.12  # Sodium conductance in S/cm2\n",
    "                seg.hh.gkbar = 0.036  # Potassium conductance in S/cm2\n",
    "\n",
    "        if hasattr(self, \"apic\"):\n",
    "            for sec in self.apic:\n",
    "                sec.insert(\"hh\")\n",
    "                for seg in sec:\n",
    "                    seg.hh.gnabar = 0.12  # Sodium conductance in S/cm2\n",
    "                    seg.hh.gkbar = 0.036  # Potassium conductance in S/cm2\n",
    "\n",
    "        for sec in self.dend:\n",
    "            sec.insert(\"hh\")\n",
    "            for seg in sec:\n",
    "                seg.hh.gnabar = 0.12  # Sodium conductance in S/cm2\n",
    "                seg.hh.gkbar = 0.036  # Potassium conductance in S/cm2\n",
    "\n",
    "        for sec in self.axon:\n",
    "            sec.insert(\"hh\")\n",
    "            for seg in sec:\n",
    "                seg.hh.gnabar = 0.12  # Sodium conductance in S/cm2\n",
    "                seg.hh.gkbar = 0.036  # Potassium conductance in S/cm2"
   ]
  },
  {
   "cell_type": "code",
   "execution_count": null,
   "id": "7a71b442-5a92-4da4-8f43-78ec2c8b2e09",
   "metadata": {
    "tags": []
   },
   "outputs": [],
   "source": [
    "Pyr1 = Cell(\"Pyr_01.swc\", \"Pyr1\", \"Pyr\")\n",
    "Pyr2 = Cell(\"Pyr_02.swc\", \"Pyr2\", \"Pyr\")\n",
    "Int1 = Cell(\"Int_01.swc\", \"Int1\", \"Int\")\n",
    "cells_Pyr = [Pyr1, Pyr2]\n",
    "cells_Int = [Int1]\n",
    "cells = cells_Pyr + cells_Int"
   ]
  },
  {
   "cell_type": "markdown",
   "id": "13d29eaa-8ae1-47f4-a39c-640d175e530a",
   "metadata": {
    "tags": []
   },
   "source": [
    "## Creating background \"noise\"\n",
    "\n",
    "In this case we are creating background noise that fluctuates rapidly. If the noise current at each timestep were independent of the noise at preceding/succeeding times, the noise would quite quickly smooth out to a constant when the size of the time step is small. Actual neural activity is also not temporally independent, but if a neuron was firing a few milliseconds ago, the odds are higher that it will be firing again. So, for this tutorial we instead have an input current that changes a little bit at random with each timestep.\n",
    "\n",
    "In the cortex, long-range inputs are either excitatory or modulatory. We are working with cortical cells at the moment, so let us assume that our noise current is non-negative.\n",
    "\n",
    "__Further reading:__\n",
    "\n",
    "More sophisticated and data-driven noise models have been used in https://www.biorxiv.org/content/10.1101/2023.05.17.541168v3.abstract and https://www.science.org/doi/full/10.1126/sciadv.abq7592 . "
   ]
  },
  {
   "cell_type": "code",
   "execution_count": null,
   "id": "55731253-9826-464a-a1b2-51aad1ccf47a",
   "metadata": {
    "tags": []
   },
   "outputs": [],
   "source": [
    "bkg_stims = []\n",
    "bkg_currents = []\n",
    "for cell in cells:\n",
    "    stim = h.IClamp(cell.soma[0](0.5))\n",
    "    stim.delay = 0\n",
    "    stim.dur = 1e9\n",
    "    last = 0\n",
    "    stimulus_by_time = []\n",
    "    decay = 0.5\n",
    "    amp = 0.9\n",
    "    for st in np.arange(0, 3000, h.dt):\n",
    "        change = np.random.normal() * amp * h.dt\n",
    "        new = last - (last * decay * h.dt) + change\n",
    "        if new < 0:\n",
    "            new = 0\n",
    "        last = new\n",
    "        stimulus_by_time.append(new)\n",
    "    stim_current = h.Vector(stimulus_by_time)\n",
    "    bkg_currents.append(stim_current)\n",
    "    plt.plot(stimulus_by_time, alpha=0.1)\n",
    "    plt.xlim(0, 1000)\n",
    "    stim_current.play(stim._ref_amp, h.dt)\n",
    "    bkg_stims.append(stim)\n",
    "\n",
    "print(bkg_stims)"
   ]
  },
  {
   "cell_type": "code",
   "execution_count": null,
   "id": "54376079-2557-4b03-a4f7-d96dfdc58821",
   "metadata": {
    "tags": []
   },
   "outputs": [],
   "source": [
    "def run_simulation(simulation_time):\n",
    "    Vm = []\n",
    "    for cell in cells:\n",
    "        v = h.Vector()\n",
    "        v.record(cell.soma[0](0.5)._ref_v)\n",
    "        Vm.append(v)\n",
    "\n",
    "\n",
    "    time = h.Vector()\n",
    "    time.record(h._ref_t)\n",
    "\n",
    "\n",
    "    h.finitialize(-65)\n",
    "    h.load_file('stdrun.hoc')\n",
    "    h.continuerun(simulation_time)\n",
    "\n",
    "    return Vm, time\n",
    "\n",
    "\n",
    "\n",
    "Vm, time = run_simulation(200)"
   ]
  },
  {
   "cell_type": "code",
   "execution_count": null,
   "id": "4748d919-bf56-4af0-ac8c-7859a48ca4fd",
   "metadata": {
    "tags": []
   },
   "outputs": [],
   "source": [
    "synapses = pd.DataFrame(columns=['@source_node', '@target_node'])\n",
    "\n",
    "def connectivity_plot(axis, synapses):\n",
    "    for (pre, post), conn in synapses.reset_index().groupby(['@source_node', '@target_node'])['index'].count().items():\n",
    "        axis.plot([0, 1], [-pre, -post], linewidth=conn)\n",
    "    axis.set_yticks([])\n",
    "    axis.set_xticks([])\n",
    "\n",
    "\n",
    "def plot_results(Vm, time):\n",
    "\n",
    "    n_subplots = len(Vm)\n",
    "    f = plt.figure(figsize=(24, 12))\n",
    "    axis=None\n",
    "    axes = []\n",
    "    for i, v in enumerate(Vm):\n",
    "        if axis is None:\n",
    "            axis = plt.subplot(n_subplots, 2, 2*i + 2)\n",
    "        else:\n",
    "            axis = plt.subplot(n_subplots, 2, 2*i + 2, sharex=axis)\n",
    "        axis.plot(time, v)\n",
    "        axis.set_ylabel('$V_m (mV)$')\n",
    "        axes.append(axis)\n",
    "    axis.set_xlabel('time (ms)')\n",
    "    ax4 = plt.subplot(1, 2, 1)\n",
    "    connectivity_plot(ax4, synapses)\n",
    "    \n",
    "    ax4.set_ylabel('Neuron')\n",
    "    ax4.set_title('connections')\n",
    "    axes.append(ax4)\n",
    "    return f, axes\n",
    " \n",
    "plot_results(Vm, time)"
   ]
  },
  {
   "cell_type": "markdown",
   "id": "aedcd6bd-92cc-48ea-8c97-7f3668e31e82",
   "metadata": {},
   "source": [
    "Note in the above graph that the same noise current has a much stronger effect in different cells! (three plots at the right). This is why most real noise models are often scaled based on the rheobase of the cell model."
   ]
  },
  {
   "cell_type": "code",
   "execution_count": null,
   "id": "93a87de5-7d03-4a3a-b8a7-7be6a5ae7eb8",
   "metadata": {
    "tags": []
   },
   "outputs": [],
   "source": [
    "connprobs = np.array([[0.8, #pyr-pyr \n",
    "                       0.9], # pyr-int,\n",
    "                      [0.8, # int-pyr\n",
    "                       0]]) # int-int\n",
    "\n",
    "syn_per_conn = np.array([[2, 3], [4, 2]])\n",
    "\n",
    "\n",
    "synapses = []\n",
    "for pregid, pre in enumerate(cells):\n",
    "    for postgid, post in enumerate(cells):\n",
    "        if pre == post:\n",
    "            continue\n",
    "        if pre in cells_Pyr:\n",
    "            i = 0\n",
    "        else:\n",
    "            i = 1\n",
    "        if post in cells_Pyr:\n",
    "            j = 0\n",
    "        else:\n",
    "            j = 1\n",
    "        connprob = connprobs[i, j]\n",
    "        if np.random.uniform(0, 1) > connprob:\n",
    "            continue\n",
    "        if hasattr(post, 'apic'):\n",
    "            post_cell_dends = post.dend + post.apic\n",
    "        else:\n",
    "            post_cell_dends = post.dend\n",
    "        post_cell_offset = 1 + len(post.axon)\n",
    "        print(len(post.all_sections), len(post.dend), len(post_cell_dends), post_cell_offset, len(post_cell_dends) + post_cell_offset)\n",
    "        for _ in range(syn_per_conn[i, j]):\n",
    "            # done this way because it's similar to the data you will work with\n",
    "            synapses.append({\n",
    "                '@source_node': int(pregid),\n",
    "                '@target_node': int(postgid),\n",
    "                'efferent_section_id': np.random.randint(1, 1 + len(pre.axon)),\n",
    "                'afferent_section_id': np.random.randint(post_cell_offset, post_cell_offset + len(post_cell_dends)),\n",
    "                'afferent_section_pos': np.random.uniform(0, 1), \n",
    "                'efferent_section_pos': np.random.uniform(0, 1)})\n",
    "\n",
    "            \n",
    "synapses = pd.DataFrame(synapses)\n",
    "synapses"
   ]
  },
  {
   "cell_type": "code",
   "execution_count": null,
   "id": "7cb5ef9a-346c-482a-8d65-003b22935bc0",
   "metadata": {
    "tags": []
   },
   "outputs": [],
   "source": [
    "def place_synapse(pre_cell, post_cell, synapse_data):\n",
    "\n",
    "    post_segment = post_cell.all_sections[int(synapse['afferent_section_id'])](synapse['afferent_section_pos'])\n",
    "    pre_section = pre_cell.all_sections[int(synapse['efferent_section_id'])]\n",
    "    pre_segment = pre_section(synapse['efferent_section_pos'])\n",
    "    syn = h.ExpSyn(post_segment)\n",
    "    nc = h.NetCon(pre_segment._ref_v, syn, sec=pre_section)\n",
    "    nc.weight[0] = 0.5\n",
    "    nc.delay=5 # a 5ms delay gives us more interpretable results, but be aware synaptic transmission is usually a lot faster\n",
    "    pre_cell.efferent_synapses.append((syn, nc))\n",
    "    post_cell.afferent_synapses.append((syn, nc))\n",
    "\n",
    "    return syn, nc\n",
    "\n",
    "synapse_models = []\n",
    "netcons = []\n",
    "for _, synapse in synapses.iterrows():\n",
    "    source = cells[int(synapse['@source_node'])]\n",
    "    target = cells[int(synapse['@target_node'])]\n",
    "    syn, nc = place_synapse(source, target, synapse)\n",
    "    synapse_models.append(syn)\n",
    "    netcons.append(nc)\n",
    "    "
   ]
  },
  {
   "cell_type": "code",
   "execution_count": null,
   "id": "dd003c1d-7c01-4a4c-b3a9-3949af0ccc5b",
   "metadata": {
    "tags": []
   },
   "outputs": [],
   "source": [
    "Vm, time = run_simulation(200)\n",
    "plot_results(Vm, time)"
   ]
  },
  {
   "cell_type": "markdown",
   "id": "a21ee208-45fe-4051-8480-2e8ce007bf09",
   "metadata": {},
   "source": [
    "# inhibition\n",
    "\n",
    "Most interneurons are inhibitory, with the reversal potential of the GABA-A receptor at around -70 mV in adult animals.\n",
    "\n",
    "In this case we see a very modest inhibitory effect, as the voltage is mostly already close to -70mV"
   ]
  },
  {
   "cell_type": "code",
   "execution_count": null,
   "id": "7a164b54-949c-4d79-9bd8-15dd72ddcb9f",
   "metadata": {
    "tags": []
   },
   "outputs": [],
   "source": [
    "for eff, nc in Int1.efferent_synapses:\n",
    "    eff.e = -70\n"
   ]
  },
  {
   "cell_type": "code",
   "execution_count": null,
   "id": "8b59daa7-a094-4543-b9ba-0989f3160dac",
   "metadata": {
    "tags": []
   },
   "outputs": [],
   "source": [
    "Vm, time = run_simulation(200)\n",
    "\n",
    "f, a = plot_results(Vm, time)\n"
   ]
  }
 ],
 "metadata": {
  "kernelspec": {
   "display_name": "biophysics",
   "language": "python",
   "name": "python3"
  },
  "language_info": {
   "codemirror_mode": {
    "name": "ipython",
    "version": 3
   },
   "file_extension": ".py",
   "mimetype": "text/x-python",
   "name": "python",
   "nbconvert_exporter": "python",
   "pygments_lexer": "ipython3",
   "version": "3.12.4"
  }
 },
 "nbformat": 4,
 "nbformat_minor": 5
}
