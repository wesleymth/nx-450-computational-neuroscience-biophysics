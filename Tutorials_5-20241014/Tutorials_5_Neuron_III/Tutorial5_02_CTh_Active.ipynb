{
 "cells": [
  {
   "cell_type": "markdown",
   "metadata": {},
   "source": [
    "<center><font size = \"10\"> Multicompartmental Neuron Model: <center>\n",
    "<center><font size = \"8\"> Cable Theory <center>\n",
    "<center><font size = \"8\">Tutorial 02: Active Properties<center>"
   ]
  },
  {
   "cell_type": "markdown",
   "metadata": {},
   "source": [
    "<font size=\"3\"><font color=\"blue\">In this tutorial you will se how the voltage signal propagates along simple mophologies with active membrane properties.\n",
    "    \n",
    "<font size='3'><font color='blue'>In order to understand what is going on along this tutorial, you should review the concepts of __cable theory__ in the lecture and/or in [here](https://en.wikipedia.org/wiki/Cable_theory) as well as the concept of __active electrical properties__ of a neuron in [here](http://www.scholarpedia.org/article/Neuron#:~:text=themes%20of%20concern.-,Passive%20electrical%20properties,cytoplasm%20and%20the%20extracellular%20milieu.)"
   ]
  },
  {
   "cell_type": "markdown",
   "metadata": {},
   "source": [
    "# 1. Adding active properties to a soma"
   ]
  },
  {
   "cell_type": "markdown",
   "metadata": {},
   "source": [
    "## 1.1 Biological modeling: mechanisms\n",
    "<font size='3'>Mechanisms represent ion channels, buffers, synapses dynamics in NEURON. They are not point processes but \"distributed mechanisms\" and they are present on the entire surface of a section. Mechanisms parameters can change within compartments.\n",
    "\n",
    "<font size='3'>NEURON has some built-in mechanisms, for example a passive leak current *pas* and sodium and potassium currents to generate action potentials *hh* (from the squid axon, measured by Hodgkin and Huxley!)"
   ]
  },
  {
   "cell_type": "code",
   "execution_count": null,
   "metadata": {},
   "outputs": [],
   "source": [
    "%matplotlib inline\n",
    "\n",
    "# Import NEURON as a Python module, together with the hoc language and the gui\n",
    "from neuron import h  # ,gui\n",
    "import matplotlib.pyplot as plt"
   ]
  },
  {
   "cell_type": "code",
   "execution_count": null,
   "metadata": {},
   "outputs": [],
   "source": [
    "# Insert passive and active mechanisms\n",
    "hhsoma = h.Section()\n",
    "hhsoma.L = 20\n",
    "hhsoma.diam = 20\n",
    "hhsoma.nseg = 1\n",
    "\n",
    "# Passive\n",
    "hhsoma.insert(\"pas\")\n",
    "for seg in hhsoma:\n",
    "    seg.pas.g = 0.003  # Conductance of the leak channels (in S/cm2)\n",
    "    seg.pas.e = (\n",
    "        -60\n",
    "    )  # Leak reversal potential, it influences the steady state membrane potential\n",
    "\n",
    "# Active\n",
    "hhsoma.insert(\"hh\")\n",
    "for seg in hhsoma:\n",
    "    seg.hh.gkbar = 0.008  # Maximal conductance of the potassium channels\n",
    "    seg.hh.gnabar = 0.12  # Maximal conductance of the sodium channels"
   ]
  },
  {
   "cell_type": "code",
   "execution_count": null,
   "metadata": {},
   "outputs": [],
   "source": [
    "stim = h.IClamp(hhsoma(0.5))\n",
    "stim.delay = 1\n",
    "stim.dur = 1\n",
    "stim.amp = 1\n",
    "\n",
    "time = h.Vector()\n",
    "voltage = h.Vector()\n",
    "time.record(h._ref_t)\n",
    "voltage.record(hhsoma(0.5)._ref_v)"
   ]
  },
  {
   "cell_type": "code",
   "execution_count": null,
   "metadata": {},
   "outputs": [],
   "source": [
    "h.load_file(\"stdrun.hoc\")\n",
    "\n",
    "h.tstop = 25\n",
    "h.finitialize(-65)\n",
    "\n",
    "h.init()\n",
    "h.run()\n",
    "\n",
    "plt.plot(time, voltage, \"k\");"
   ]
  },
  {
   "cell_type": "markdown",
   "metadata": {},
   "source": [
    "current_records# 2. Dendritic signal summation\n",
    "<font size='3'>In this case we are going to use the cell that we have just created in tutorial 01.\n",
    "    \n",
    "<font color='red'><font size='5'>RESTART YOUR KERNEL"
   ]
  },
  {
   "cell_type": "code",
   "execution_count": null,
   "metadata": {},
   "outputs": [],
   "source": [
    "%matplotlib inline\n",
    "\n",
    "from neuron import h\n",
    "import matplotlib.pyplot as plt\n",
    "import numpy as np\n",
    "import math as m\n",
    "import neurom as nm\n",
    "from neurom import view\n",
    "from hoc2swc import neuron2swc"
   ]
  },
  {
   "cell_type": "code",
   "execution_count": null,
   "metadata": {},
   "outputs": [],
   "source": [
    "# Global containers for objects\n",
    "simulations_records = []  # stimulations\n",
    "voltage_records = []  # voltage recordings\n",
    "current_records = []  # current recordings\n",
    "\n",
    "\n",
    "def reset():\n",
    "    \"\"\"Convenience functions for setting up stimulation, recording and simulation\"\"\"\n",
    "    del simulations_records[:]\n",
    "    del voltage_records[:]\n",
    "    del current_records[:]\n",
    "\n",
    "\n",
    "def iclamp(location, delay=100, amplitude=0.1, duration=500):\n",
    "    \"\"\"\"Inject a current step with parameters at location\"\"\"\n",
    "    stim = h.IClamp(location)  # Place a stimulation electrode at location\n",
    "    stim.delay = delay  # stim delay (ms)\n",
    "    stim.amp = amplitude  # stim amplitude (pA)\n",
    "    stim.dur = duration  # stim ducurrent_recordsration (ms)\n",
    "    simulations_records.append({\"stim\": stim, \"loc\": str(location)})\n",
    "\n",
    "\n",
    "def record_voltage(location):\n",
    "    \"\"\"Setup recording of voltage at location\"\"\"\n",
    "    vec = h.Vector()\n",
    "    vec.record(location._ref_v)  # record voltage at location\n",
    "    voltage_records.append({\"vec\": vec, \"loc\": str(location)})\n",
    "\n",
    "\n",
    "def record_current(stimulation_dict):\n",
    "    \"\"\"Setup recording of stimulation current\"\"\"\n",
    "    vec = h.Vector()\n",
    "    vec.record(stimulation_dict[\"stim\"]._ref_i)  # record stimulation current\n",
    "    current_records.append({\"vec\": vec, \"loc\": stimulation_dict[\"loc\"]})\n",
    "\n",
    "\n",
    "def init_run(v_i, t_stop):\n",
    "    \"\"\"Initialize and run a simulation\"\"\"\n",
    "    # Record time\n",
    "    rec_t = h.Vector()\n",
    "    rec_t.record(h._ref_t)\n",
    "    # Record current for all stimuli\n",
    "    for stimulation_dict in simulations_records:\n",
    "        record_current(stimulation_dict)\n",
    "    # Setup simulation and run\n",
    "    h.load_file(\"stdrun.hoc\")\n",
    "    h.finitialize(v_i)  # initial voltage\n",
    "    h.continuerun(t_stop)  # final time\n",
    "    return rec_t\n",
    "\n",
    "\n",
    "def tvi_plots(t, voltage_records=[], current_records=[], vmax=40, imax=0.5):\n",
    "    \"\"\"Plot current and voltage for all stims and recordings\"\"\"\n",
    "    plt.figure()\n",
    "    plt.title(\"currents\")\n",
    "    plt.ylim((-0.01, imax))\n",
    "    plt.xlabel(\"t (ms)\")\n",
    "    plt.ylabel(\"I (pA)\")\n",
    "    for idict in current_records:\n",
    "        plt.plot(t, idict[\"vec\"], label=idict[\"loc\"])\n",
    "    plt.legend(loc=1)\n",
    "\n",
    "    plt.figure()\n",
    "    plt.title(\"voltages\")\n",
    "    plt.ylim((-71, vmax))\n",
    "    plt.ylabel(\"V (mV)\")\n",
    "    plt.xlabel(\"t (ms)\")\n",
    "    for vdict in voltage_records:\n",
    "        plt.plot(t, vdict[\"vec\"], label=vdict[\"loc\"])\n",
    "    plt.legend(loc=1)\n",
    "\n",
    "\n",
    "def plot_morphology(fname=\"cell_01\"):\n",
    "    fname = \"{}.swc\".format(fname)\n",
    "    h.define_shape()\n",
    "    h.topology()\n",
    "    neuron2swc(fname, swap_yz=False)\n",
    "    neuron1 = nm.load_morphology(fname)\n",
    "    view.plot_morph(neuron1)"
   ]
  },
  {
   "cell_type": "markdown",
   "metadata": {},
   "source": [
    "## 2.1 Add active properties at the soma"
   ]
  },
  {
   "cell_type": "code",
   "execution_count": null,
   "metadata": {},
   "outputs": [],
   "source": [
    "# SOMA\n",
    "# Create soma\n",
    "soma = h.Section(name=\"soma\")\n",
    "soma.L = 20  # length (µm)\n",
    "soma.diam = 20  # diameter (µm)\n",
    "soma.Ra = 123.0  # axial resistivity (Ω*cm)\n",
    "soma.cm = 1  # capacitance (µF/cm^2)\n",
    "\n",
    "# Insert passive properties\n",
    "soma.insert(\"pas\")\n",
    "for seg in soma:\n",
    "    seg.pas.g = 0.0003  # Conductance of the leak channels (in S/cm2)\n",
    "    seg.pas.e = (\n",
    "        -70\n",
    "    )  # Leak reversal potential, it influences the steady state membrane potential\n",
    "\n",
    "# Insert active properties\n",
    "soma.insert(\"hh\")\n",
    "for seg in soma:\n",
    "    seg.hh.gkbar = 0.1  # Maximal conductance of the potassium channels\n",
    "    seg.hh.gnabar = 0.4  # Maximal conductance of the sodium channels\n",
    "\n",
    "# AXON\n",
    "axon = h.Section(name=\"axon\")\n",
    "\n",
    "# Axon section (blue in plot)\n",
    "axon.diam = 3\n",
    "axon.L = 100  # length (µm)\n",
    "axon.nseg = 5  # diameter (µm)\n",
    "axon.Ra = 123.0  # axial resistivity (Ω*cm)\n",
    "axon.cm = 1  # capacitance (µF/cm^2)\n",
    "\n",
    "# Topology\n",
    "axon.connect(soma(0))\n",
    "\n",
    "axon.insert(\"pas\")\n",
    "for seg in axon:\n",
    "    seg.pas.g = 0.0003  # Conductance of the leak channels (in S/cm2)\n",
    "    seg.pas.e = (\n",
    "        -70\n",
    "    )  # Leak reversal potential, it influences the steady state membrane potential\n",
    "\n",
    "# DENDRITE\n",
    "dend = h.Section(name=\"dend\")\n",
    "\n",
    "# Dendrite section (red in plot)\n",
    "dend.L = 200  # length (µm)\n",
    "dend.diam = 1  # diameter (µm)\n",
    "dend.nseg = 5  # number of segments\n",
    "dend.Ra = 123.0  # axial resistivity (Ω*cm)\n",
    "dend.cm = 1  # capacitance (µF/cm^2)\n",
    "\n",
    "# Topology\n",
    "dend.connect(soma(1))\n",
    "\n",
    "# Passive properties in dendrite and axon\n",
    "dend.insert(\"pas\")\n",
    "for seg in dend:\n",
    "    seg.pas.g = 0.0003  # Conductance of the leak channels (in S/cm2)\n",
    "    seg.pas.e = (\n",
    "        -70\n",
    "    )  # Leak reversal potential, it influences the steady state membrane potential\n",
    "\n",
    "\n",
    "# DENDRITIC BRANCHES\n",
    "branch_0 = h.Section(name=\"branch_0\")\n",
    "branch_1 = h.Section(name=\"branch_1\")\n",
    "branch_2 = h.Section(name=\"branch_2\")\n",
    "branch_3 = h.Section(name=\"branch_3\")\n",
    "\n",
    "branchlst = [branch_0, branch_1, branch_2, branch_3]\n",
    "\n",
    "# Branch geometry\n",
    "# Long and thick\n",
    "branch_0.L = 300\n",
    "branch_0.diam = 10\n",
    "# Short and thin\n",
    "branch_1.L = 100\n",
    "branch_1.diam = 8\n",
    "# Short and thick\n",
    "branch_2.L = 100\n",
    "branch_2.diam = 3\n",
    "# Long and thin\n",
    "branch_3.L = 200\n",
    "branch_3.diam = 1\n",
    "\n",
    "# Connect them\n",
    "branch_0.connect(dend(1))\n",
    "branch_1.connect(dend(1))\n",
    "branch_2.connect(dend(1))\n",
    "branch_3.connect(dend(1))\n",
    "\n",
    "# Passive properties in dendrite branches\n",
    "for branch in branchlst:\n",
    "    branch.Ra = 130.0  # axial resistivity (Ω*cm)\n",
    "    branch.cm = 1  # capacitance (µF/cm^2)\n",
    "    branch.insert(\"pas\")\n",
    "    for seg in branch:\n",
    "        seg.pas.g = 0.0003  # Conductance of the leak channels (in S/cm2)\n",
    "        seg.pas.e = (\n",
    "            -70\n",
    "        )  # Leak reversal potential, it influences the steady state membrane potential\n",
    "\n",
    "plot_morphology(\"cell_03\")"
   ]
  },
  {
   "cell_type": "markdown",
   "metadata": {},
   "source": [
    "<font size=\"3\">With coincident inputs to all dendritic branches, we're able to trigger an AP at the soma, which we can then observe in the dendrite trunk."
   ]
  },
  {
   "cell_type": "code",
   "execution_count": null,
   "metadata": {},
   "outputs": [],
   "source": [
    "reset()\n",
    "\n",
    "# Setup stimulations and recordings\n",
    "for branch in branchlst:\n",
    "    iclamp(branch(0.5), amplitude=0.5, delay=100, duration=50)\n",
    "record_voltage(soma(0.5))\n",
    "record_voltage(dend(0.5))\n",
    "\n",
    "# Simulate and plot\n",
    "v_init = -70\n",
    "t_stop = 700\n",
    "tvi_plots(init_run(v_init, t_stop), voltage_records, current_records, vmax=60, imax=1)"
   ]
  },
  {
   "cell_type": "markdown",
   "metadata": {},
   "source": [
    "## 2.2 Add active properties at the dendrites"
   ]
  },
  {
   "cell_type": "code",
   "execution_count": null,
   "metadata": {},
   "outputs": [],
   "source": [
    "dend.insert(\"hh\")\n",
    "for seg in dend:\n",
    "    seg.hh.gkbar = 0.1  # Maximal conductance of the potassium channels\n",
    "    seg.hh.gnabar = 0.4  # Maximal conductance of the sodium channels"
   ]
  },
  {
   "cell_type": "markdown",
   "metadata": {},
   "source": [
    "<font size=\"3\">We observe that the dendritic response to the AP is increased due to the presence of active channels."
   ]
  },
  {
   "cell_type": "code",
   "execution_count": null,
   "metadata": {},
   "outputs": [],
   "source": [
    "reset()\n",
    "\n",
    "# Setup stimulations and recordings\n",
    "for branch in branchlst:\n",
    "    iclamp(branch(1), amplitude=0.5, delay=100, duration=50)\n",
    "    # record_voltage(branch(0.5))\n",
    "record_voltage(soma(0.5))\n",
    "record_voltage(dend(0.5))\n",
    "\n",
    "# Simulate and plot\n",
    "v_init = -70\n",
    "t_stop = 700\n",
    "tvi_plots(init_run(v_init, t_stop), voltage_records, current_records, vmax=60, imax=1)"
   ]
  }
 ],
 "metadata": {
  "kernelspec": {
   "display_name": "Python3",
   "language": "python",
   "name": "python3"
  },
  "language_info": {
   "codemirror_mode": {
    "name": "ipython",
    "version": 3
   },
   "file_extension": ".py",
   "mimetype": "text/x-python",
   "name": "python",
   "nbconvert_exporter": "python",
   "pygments_lexer": "ipython3",
   "version": "3.12.5"
  }
 },
 "nbformat": 4,
 "nbformat_minor": 4
}
