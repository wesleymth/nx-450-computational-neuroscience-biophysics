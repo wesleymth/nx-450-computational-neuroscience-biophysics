{
 "cells": [
  {
   "cell_type": "markdown",
   "metadata": {},
   "source": [
    "<center><font size = \"10\"> Multicompartmental Neuron Model: <center>\n",
    "<center><font size = \"8\"> Cable Theory <center>\n",
    "<center><font size = \"8\">Tutorial 01: Passive Properties<center>"
   ]
  },
  {
   "cell_type": "markdown",
   "metadata": {},
   "source": [
    "<font size='3'><font color='blue'>During this tutorial you will study voltage spatial attenuation on simple morphologies with only passive membrane properties using the approach of the cable theory shown during the lecture.\n",
    "    \n",
    "<font size='3'><font color='blue'>In order to understand what is going on along this tutorial, you should review the concepts of __cable theory__ in the lecture and/or in [here](https://en.wikipedia.org/wiki/Cable_theory) as well as the concept of __passive electrical properties__ of a neuron in [here](http://www.scholarpedia.org/article/Neuron#:~:text=themes%20of%20concern.-,Passive%20electrical%20properties,cytoplasm%20and%20the%20extracellular%20milieu.)"
   ]
  },
  {
   "cell_type": "markdown",
   "metadata": {},
   "source": [
    "# 1. Voltage spatial discretization"
   ]
  },
  {
   "cell_type": "code",
   "execution_count": null,
   "metadata": {},
   "outputs": [],
   "source": [
    "# First call all the useful packages\n",
    "%matplotlib inline\n",
    "from neuron import h\n",
    "import matplotlib.pyplot as plt"
   ]
  },
  {
   "cell_type": "code",
   "execution_count": null,
   "metadata": {},
   "outputs": [],
   "source": [
    "# Create a section\n",
    "soma = h.Section()\n",
    "soma.Ra = 1\n",
    "soma.L = 100\n",
    "soma.diam = 10\n",
    "soma.cm = 1\n",
    "\n",
    "# Inject a current step into the soma\n",
    "stim = h.IClamp(soma(0.5))  # Place a stimulation electrode in the middle of the soma\n",
    "stim.delay = 1  # ms\n",
    "stim.amp = 1  # pA\n",
    "stim.dur = 3  # ms\n",
    "\n",
    "# Initialize NEURON vectors to record time, voltage and current\n",
    "rec_t = h.Vector()\n",
    "rec_t.record(h._ref_t)\n",
    "\n",
    "rec_v = h.Vector()\n",
    "rec_v.record(soma(0.5)._ref_v)\n",
    "\n",
    "rec_i = h.Vector()\n",
    "rec_i.record(stim._ref_i)\n",
    "\n",
    "# Initialize and run a simulation\n",
    "h.load_file(\"stdrun.hoc\")\n",
    "h.finitialize(-65)\n",
    "h.continuerun(5)\n",
    "h.steps_per_ms = 40.0\n",
    "\n",
    "h.init()\n",
    "h.run()"
   ]
  },
  {
   "cell_type": "code",
   "execution_count": null,
   "metadata": {},
   "outputs": [],
   "source": [
    "# Plot the stimulation protocol and the voltage response\n",
    "fig, ax1 = plt.subplots()\n",
    "plt.plot(rec_t, rec_v, \"b\", label=\"Voltage response\")\n",
    "ax2 = ax1.twinx()\n",
    "plt.plot(rec_t, rec_i, \"g\", label=\"Injected current\")\n",
    "\n",
    "ax2.set_ylim([-1, 10])\n",
    "ax1.set_xlabel(\"Time (ms)\")\n",
    "ax1.set_ylabel(\"Voltage (mV)\")\n",
    "ax2.set_ylabel(\"Current (nA)\")\n",
    "ax1.legend(loc=\"upper left\")\n",
    "ax2.legend(loc=\"upper right\");"
   ]
  },
  {
   "cell_type": "markdown",
   "metadata": {},
   "source": [
    "<font size=\"3\">In the previous simulation we recorded the voltage response at the middle of the soma. \n",
    "\n",
    "<font size=\"3\">To have more refined spatial discretization we can increase *nseg*. To make sure that the electrodes have the best accuracy, it is always advisable to have an odd number of segments. However, we always have to record through time from the center of each compartment, then \"transpose\" the recordings to visualize the results across space."
   ]
  },
  {
   "cell_type": "code",
   "execution_count": null,
   "metadata": {},
   "outputs": [],
   "source": [
    "soma.nseg = 11\n",
    "\n",
    "\n",
    "def transpose_recording(reclist, nloc, tstop):\n",
    "    retlist = []\n",
    "    # each element of reclist is a neuron.h.Vector of recordings for one out of nloc spatial locations\n",
    "    # (usually compartment centers) over time\n",
    "    for i in range(0, int(tstop / h.dt) + 1):\n",
    "        retlist.append(h.Vector(nloc, 0))\n",
    "        for j in range(0, nloc):\n",
    "            retlist[i].x[j] = reclist[j].x[i]\n",
    "\n",
    "    return retlist"
   ]
  },
  {
   "cell_type": "code",
   "execution_count": null,
   "metadata": {},
   "outputs": [],
   "source": [
    "reclist = h.List()\n",
    "\n",
    "for i in range(0, soma.nseg):\n",
    "    tmpRecVec = h.Vector()\n",
    "    tmpRecVec.record(soma((0.5 + i * 1.0) / soma.nseg)._ref_v)\n",
    "    reclist.append(tmpRecVec)\n",
    "\n",
    "h.init()\n",
    "h.run(11)\n",
    "xlocations = h.Vector()\n",
    "\n",
    "for i in range(0, soma.nseg):\n",
    "    xlocations.append(soma.L * (0.5 + i * 1.0) / (soma.nseg))\n",
    "\n",
    "spatialrec = transpose_recording(reclist, soma.nseg, 5)\n",
    "fig = plt.figure()\n",
    "plt.plot(xlocations, spatialrec[41])  # 1.025/0.025 = 41\n",
    "plt.ylabel(\"Voltage (mV)\")\n",
    "plt.xlabel(\"Spatial location (um)\")\n",
    "plt.title(\"Spatial distribution at t = 1.025 ms\");"
   ]
  },
  {
   "cell_type": "markdown",
   "metadata": {},
   "source": [
    "# 2. Voltage spatial attenuation: more complex morphologies\n",
    "\n",
    "<font color='red'><font size='5'>RESTART YOUR KERNEL"
   ]
  },
  {
   "cell_type": "code",
   "execution_count": null,
   "metadata": {},
   "outputs": [],
   "source": [
    "# First call all the usefull packages\n",
    "%matplotlib inline\n",
    "\n",
    "from neuron import h\n",
    "import matplotlib.pyplot as plt\n",
    "import numpy as np\n",
    "import math as m\n",
    "import neurom as nm\n",
    "from neurom import view\n",
    "from hoc2swc import neuron2swc"
   ]
  },
  {
   "cell_type": "code",
   "execution_count": null,
   "metadata": {},
   "outputs": [],
   "source": [
    "# Defining some usefull functions.\n",
    "\n",
    "# Global containers for objects\n",
    "simulations_records = []  # stimulations\n",
    "voltage_records = []  # voltage recordings\n",
    "current_records = []  # current recordings\n",
    "\n",
    "\n",
    "def reset():\n",
    "    \"\"\"Convenience functions for setting up stimulation, recording and simulation\"\"\"\n",
    "    del simulations_records[:]\n",
    "    del voltage_records[:]\n",
    "    del current_records[:]\n",
    "\n",
    "\n",
    "def iclamp(location, delay=100, amplitude=0.1, duration=500):\n",
    "    \"\"\"\"Inject a current step with parameters at location\"\"\"\n",
    "    stim = h.IClamp(location)  # Place a stimulation electrode at location\n",
    "    stim.delay = delay  # stim delay (ms)\n",
    "    stim.amp = amplitude  # stim amplitude (pA)\n",
    "    stim.dur = duration  # stim duration (ms)\n",
    "    simulations_records.append({\"stim\": stim, \"loc\": str(location)})\n",
    "\n",
    "\n",
    "def record_voltage(location):\n",
    "    \"\"\"Setup recording of voltage at location\"\"\"\n",
    "    vec = h.Vector()\n",
    "    vec.record(location._ref_v)  # record voltage at location\n",
    "    voltage_records.append({\"vec\": vec, \"loc\": str(location)})\n",
    "\n",
    "\n",
    "def record_current(stimulation_dict):\n",
    "    \"\"\"Setup recording of stimulation current\"\"\"\n",
    "    vec = h.Vector()\n",
    "    vec.record(stimulation_dict[\"stim\"]._ref_i)  # record stimulation current\n",
    "    current_records.append({\"vec\": vec, \"loc\": stimulation_dict[\"loc\"]})\n",
    "\n",
    "\n",
    "def init_run(v_i, t_stop):\n",
    "    \"\"\"Initialize and run a simulation\"\"\"\n",
    "    # Record time\n",
    "    rec_t = h.Vector()\n",
    "    rec_t.record(h._ref_t)\n",
    "    # Record current for all stimuli\n",
    "    for stimulation_dict in simulations_records:\n",
    "        record_current(stimulation_dict)\n",
    "    # Setup simulation and run\n",
    "    h.load_file(\"stdrun.hoc\")\n",
    "    h.finitialize(v_i)  # initial voltage\n",
    "    h.continuerun(t_stop)  # final time\n",
    "    return rec_t\n",
    "\n",
    "\n",
    "def tvi_plots(t, voltage_records=[], current_records=[], vmax=40, imax=0.5):\n",
    "    \"\"\"Plot current and voltage for all stims and recordings\"\"\"\n",
    "    plt.figure()\n",
    "    plt.title(\"currents\")\n",
    "    plt.ylim((-0.01, imax))\n",
    "    plt.xlabel(\"t (ms)\")\n",
    "    plt.ylabel(\"I (pA)\")\n",
    "    for idict in current_records:\n",
    "        plt.plot(t, idict[\"vec\"], label=idict[\"loc\"])\n",
    "    plt.legend(loc=1)\n",
    "\n",
    "    plt.figure()\n",
    "    plt.title(\"voltages\")\n",
    "    plt.ylim((-71, vmax))\n",
    "    plt.ylabel(\"V (mV)\")\n",
    "    plt.xlabel(\"t (ms)\")\n",
    "    for vdict in voltage_records:\n",
    "        plt.plot(t, vdict[\"vec\"], label=vdict[\"loc\"])\n",
    "    plt.legend(loc=1)\n",
    "\n",
    "\n",
    "def plot_morphology(fname=\"cell_01\"):\n",
    "    fname = \"{}.swc\".format(fname)\n",
    "    h.define_shape()\n",
    "    h.topology()\n",
    "    neuron2swc(fname, swap_yz=False)\n",
    "    neuron1 = nm.load_morphology(fname)\n",
    "    view.plot_morph(neuron1)"
   ]
  },
  {
   "cell_type": "markdown",
   "metadata": {},
   "source": [
    "<font size='3'>Create a morphology with soma, dendrite and axon"
   ]
  },
  {
   "cell_type": "code",
   "execution_count": null,
   "metadata": {},
   "outputs": [],
   "source": [
    "# Define all the sections first\n",
    "soma = h.Section(name=\"soma\")\n",
    "dend = h.Section(name=\"dend\")\n",
    "axon = h.Section(name=\"axon\")\n",
    "\n",
    "# Soma section (black in plot)\n",
    "soma.L = 20  # length (µm)\n",
    "soma.diam = 20  # diameter (µm)\n",
    "soma.Ra = 123.0  # axial resistivity (Ω*cm)\n",
    "soma.cm = 1  # capacitance (µF/cm^2)\n",
    "\n",
    "# Dendrite section (red in plot)\n",
    "dend.L = 200  # length (µm)\n",
    "dend.diam = 1  # diameter (µm)\n",
    "dend.nseg = 5  # number of segments\n",
    "dend.Ra = 123.0  # axial resistivity (Ω*cm)\n",
    "dend.cm = 1  # capacitance (µF/cm^2)\n",
    "\n",
    "# Axon section (blue in plot)\n",
    "axon.diam = 3\n",
    "axon.L = 100  # length (µm)\n",
    "axon.nseg = 5  # diameter (µm)\n",
    "axon.Ra = 123.0  # axial resistivity (Ω*cm)\n",
    "axon.cm = 1  # capacitance (µF/cm^2)\n",
    "\n",
    "# Topology\n",
    "dend.connect(soma(1))\n",
    "axon.connect(soma(0))\n",
    "\n",
    "# Passive properties\n",
    "soma.insert(\"pas\")\n",
    "for seg in soma:\n",
    "    seg.pas.g = 0.0003  # Conductance of the leak channels (in S/cm2)\n",
    "    seg.pas.e = (\n",
    "        -70\n",
    "    )  # Leak reversal potential, it influences the steady state membrane potential\n",
    "\n",
    "dend.insert(\"pas\")\n",
    "for seg in dend:\n",
    "    seg.pas.g = 0.0003  # Conductance of the leak channels (in S/cm2)\n",
    "    seg.pas.e = (\n",
    "        -70\n",
    "    )  # Leak reversal potential, it influences the steady state membrane potential\n",
    "\n",
    "axon.insert(\"pas\")\n",
    "for seg in axon:\n",
    "    seg.pas.g = 0.0003  # Conductance of the leak channels (in S/cm2)\n",
    "    seg.pas.e = (\n",
    "        -70\n",
    "    )  # Leak reversal potential, it influences the steady state membrane potential\n",
    "\n",
    "# Plot morphology so far\n",
    "plot_morphology(\"cell_02\")"
   ]
  },
  {
   "cell_type": "markdown",
   "metadata": {},
   "source": [
    "<font size='3'>Let's stimulate at the far end of the dendrite and record in the soma"
   ]
  },
  {
   "cell_type": "code",
   "execution_count": null,
   "metadata": {},
   "outputs": [],
   "source": [
    "reset()\n",
    "\n",
    "# Setup stimulations and recordings\n",
    "iclamp(dend(1), amplitude=0.1)\n",
    "record_voltage(soma(0.5))\n",
    "\n",
    "# Simulate and plot\n",
    "v_init = -70\n",
    "t_stop = 700\n",
    "tvi_plots(init_run(v_init, t_stop), voltage_records, current_records)"
   ]
  },
  {
   "cell_type": "markdown",
   "metadata": {},
   "source": [
    "<font size='3'>Let's do it again but with a higher current. Note how the voltage at the soma is higher."
   ]
  },
  {
   "cell_type": "code",
   "execution_count": null,
   "metadata": {},
   "outputs": [],
   "source": [
    "reset()\n",
    "\n",
    "# Setup stimulations and recordings\n",
    "iclamp(dend(1), amplitude=0.4)\n",
    "record_voltage(soma(0.5))\n",
    "\n",
    "# Simulate and plot\n",
    "v_init = -70\n",
    "t_stop = 700\n",
    "tvi_plots(init_run(v_init, t_stop), voltage_records, current_records)"
   ]
  },
  {
   "cell_type": "markdown",
   "metadata": {},
   "source": [
    "<font size='3'>Let's try again but stimulating at different locations along the dendrite at different times. Note how the voltage recorded at the soma has diminishing amplitude as we stimulate farther along the dendrite."
   ]
  },
  {
   "cell_type": "code",
   "execution_count": null,
   "metadata": {},
   "outputs": [],
   "source": [
    "reset()\n",
    "\n",
    "# Scan at different locations with different delays\n",
    "delays = np.arange(100, 600, 100)\n",
    "locations = np.linspace(0, 1, 5)\n",
    "\n",
    "# Setup stimulations and recordings\n",
    "for p in zip(locations, delays):\n",
    "    iclamp(dend(p[0]), amplitude=0.4, delay=p[1], duration=50)\n",
    "record_voltage(soma(0.5))\n",
    "\n",
    "# Simulate and plot\n",
    "v_init = -70\n",
    "t_stop = 700\n",
    "tvi_plots(init_run(v_init, t_stop), voltage_records, current_records)"
   ]
  },
  {
   "cell_type": "markdown",
   "metadata": {},
   "source": [
    "<font size='3'>The same, but this duplicating the diameter of the dendrite. \n",
    "\n",
    "<font size='3'>Note how the amplitudes at the soma get reduced. This is because a larger diameter means a lower membrane resistance which leads to a smaller length constant."
   ]
  },
  {
   "cell_type": "code",
   "execution_count": null,
   "metadata": {},
   "outputs": [],
   "source": [
    "reset()\n",
    "\n",
    "# Duplicate dendrite diameter\n",
    "dend.diam = 2\n",
    "\n",
    "# Scan at different locations with different delays\n",
    "delays = np.arange(100, 600, 100)\n",
    "locations = np.linspace(0, 1, 5)\n",
    "\n",
    "# Setup stimulations and recordings\n",
    "for p in zip(locations, delays):\n",
    "    iclamp(dend(p[0]), amplitude=0.4, delay=p[1], duration=50)\n",
    "record_voltage(soma(0.5))\n",
    "\n",
    "# Simulate and plot\n",
    "v_init = -70\n",
    "t_stop = 700\n",
    "tvi_plots(init_run(v_init, t_stop), voltage_records, current_records)"
   ]
  },
  {
   "cell_type": "markdown",
   "metadata": {},
   "source": [
    "<font size='3'>Now let's stimulate once at the soma and measure at different locations along the dendrite. We can observe attenuation."
   ]
  },
  {
   "cell_type": "code",
   "execution_count": null,
   "metadata": {},
   "outputs": [],
   "source": [
    "reset()\n",
    "\n",
    "# Increase axial resistivity\n",
    "dend.Ra = 300\n",
    "\n",
    "# Scan at different locations with different delays\n",
    "locations = np.linspace(0, 1, 5)\n",
    "\n",
    "# Setup stimulations and recordings\n",
    "iclamp(soma(0.5), amplitude=0.4)\n",
    "for p in locations:\n",
    "    record_voltage(dend(p))\n",
    "\n",
    "# Simulate and plot\n",
    "v_init = -70\n",
    "t_stop = 700\n",
    "tvi_plots(init_run(v_init, t_stop), voltage_records, current_records, vmax=-20)"
   ]
  },
  {
   "cell_type": "markdown",
   "metadata": {},
   "source": [
    "<font size='3'>Now let's add four branches to the dendritic tree, with different dimensions (exagerated)."
   ]
  },
  {
   "cell_type": "code",
   "execution_count": null,
   "metadata": {},
   "outputs": [],
   "source": [
    "branch_0 = h.Section(name=\"branch_0\")\n",
    "branch_1 = h.Section(name=\"branch_1\")\n",
    "branch_2 = h.Section(name=\"branch_2\")\n",
    "branch_3 = h.Section(name=\"branch_3\")\n",
    "\n",
    "branchlst = [branch_0, branch_1, branch_2, branch_3]\n",
    "\n",
    "# Branch geometry\n",
    "# Long and thick\n",
    "branch_0.L = 300\n",
    "branch_0.diam = 10\n",
    "# Short and thin\n",
    "branch_1.L = 100\n",
    "branch_1.diam = 8\n",
    "# Short and thick\n",
    "branch_2.L = 100\n",
    "branch_2.diam = 3\n",
    "# Long and thin\n",
    "branch_3.L = 200\n",
    "branch_3.diam = 1\n",
    "\n",
    "# Connect them\n",
    "branch_0.connect(dend(1))\n",
    "branch_1.connect(dend(1))\n",
    "branch_2.connect(dend(1))\n",
    "branch_3.connect(dend(1))\n",
    "\n",
    "# Passive properties in dendrite branches\n",
    "for branch in branchlst:\n",
    "    branch.Ra = 130.0  # axial resistivity (Ω*cm)\n",
    "    branch.cm = 1  # capacitance (µF/cm^2)\n",
    "    branch.insert(\"pas\")\n",
    "    for seg in branch:\n",
    "        seg.pas.g = 0.0003  # Conductance of the leak channels (in S/cm2)\n",
    "        seg.pas.e = (\n",
    "            -70\n",
    "        )  # Leak reversal potential, it influences the steady state membrane potential\n",
    "\n",
    "plot_morphology(\"cell_03\")"
   ]
  },
  {
   "cell_type": "markdown",
   "metadata": {},
   "source": [
    "<font size='3'>Now let's stimulate the different branches and measure at the soma. Note the different amplitude of responses."
   ]
  },
  {
   "cell_type": "code",
   "execution_count": null,
   "metadata": {},
   "outputs": [],
   "source": [
    "reset()\n",
    "\n",
    "# Setup stimulations and recordings\n",
    "for idx, branch in enumerate(branchlst):\n",
    "    iclamp(branch(0.5), amplitude=0.4, delay=100 + idx * 100, duration=50)\n",
    "record_voltage(soma(0.5))\n",
    "\n",
    "# Simulate and plot\n",
    "v_init = -70\n",
    "t_stop = 700\n",
    "tvi_plots(init_run(v_init, t_stop), voltage_records, current_records, vmax=-65)"
   ]
  },
  {
   "cell_type": "markdown",
   "metadata": {},
   "source": [
    "<font size='3'>Now let's do the reverse. Stimulate at the soma and measure at the distal ends of branches."
   ]
  },
  {
   "cell_type": "code",
   "execution_count": null,
   "metadata": {},
   "outputs": [],
   "source": [
    "reset()\n",
    "\n",
    "# Setup stimulations and recordings\n",
    "iclamp(soma(0.5), amplitude=0.4)\n",
    "for branch in branchlst:\n",
    "    record_voltage(branch(1))\n",
    "\n",
    "# Simulate and plot\n",
    "v_init = -70\n",
    "t_stop = 700\n",
    "tvi_plots(init_run(v_init, t_stop), voltage_records, current_records, vmax=-66)"
   ]
  }
 ],
 "metadata": {
  "kernelspec": {
   "display_name": "Python3",
   "language": "python",
   "name": "python3"
  },
  "language_info": {
   "codemirror_mode": {
    "name": "ipython",
    "version": 3
   },
   "file_extension": ".py",
   "mimetype": "text/x-python",
   "name": "python",
   "nbconvert_exporter": "python",
   "pygments_lexer": "ipython3",
   "version": "3.12.5"
  }
 },
 "nbformat": 4,
 "nbformat_minor": 4
}
