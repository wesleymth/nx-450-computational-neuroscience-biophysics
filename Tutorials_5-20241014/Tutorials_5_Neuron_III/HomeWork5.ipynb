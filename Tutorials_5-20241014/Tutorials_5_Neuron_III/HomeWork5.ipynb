{
 "cells": [
  {
   "cell_type": "markdown",
   "metadata": {},
   "source": [
    "<center><font size = \"10\"> Tutorial 4: <center>\n",
    "<center><font size = \"8\"> Multicompartmental Neuron Model  <center> \n",
    "<center><font size = \"8\">Home work<center>"
   ]
  },
  {
   "cell_type": "markdown",
   "metadata": {},
   "source": [
    "# Ex 1: Attenuation. \n",
    "\n",
    "<font size=\"3\">Create a simple morphology with only one section called soma, as it is done in tutorial 01 of this week 4, point 1. Perform a current clamp experiment in which the stimulation has the following parameters: delay 1 ms, amplitude 1 pA and duration 10 ms. Then do the following:\n",
    "    \n",
    "\n",
    "    - inject current at the centre of the section soma and show voltage vs spatial location, for different number of segments per section (6, 8, 10, 11 and 21) (in the same plot).\n",
    "    - do the same as before, but injecting current at the end of the soma.\n",
    "    - explain with your own words what differences do you see between injecting the current in the center or at the end of the section, and what differences do you observe if we have more or less segments per section.\n",
    "    - inject current at the center of the section soma and manipulate (increase, decrease) the axial resistance Ra, show the results in one plot and explain what do you see\n",
    "    - do the same as before, but this time manipulate the section diameter. Plot the results and explain what you see"
   ]
  },
  {
   "cell_type": "code",
   "execution_count": null,
   "metadata": {},
   "outputs": [],
   "source": []
  },
  {
   "cell_type": "markdown",
   "metadata": {
    "tags": []
   },
   "source": [
    "# Ex 2: Action Potential Back Propagation. \n",
    "\n",
    "<font size='3'> Create a neuron with a soma, an axon with two sections, and a dendrite consisting of a main trunk opening into three branches (as in tutorial 2). Each of the branches should have a different diameter (5, 1 and 0.1 µm) but the same length (300 µm). Add passive properties to every section and add active properties (hh) to the soma, axon and to the dendritic trunk, but not to the branches. You can use the parameters (for the active properties) from tutorial 03. \n",
    "\n",
    "<font size='3'> Perform a current clamp experiment in which the soma is stimulated at the center and the dendritic branches and axon are recorded at their ends. Choose the best stimulation parameters to see the signal attenuation in the branches. Visualize the results.\n",
    "    \n",
    "<font size='3'>Explain with your own words:    \n",
    "   - What are passive and active membrane properties?  \n",
    "   - What is going on with the voltage signal propagation from the soma to each of the branches? What happens in the axon?\n",
    "   - What happens if the active properties of the dendrite are removed? \n",
    "    \n",
    "<font size=\"3\"> __Hint:__ Use similar i and V plots to those in tutorial 3, part 3 to help you with the explanation."
   ]
  },
  {
   "cell_type": "code",
   "execution_count": null,
   "metadata": {},
   "outputs": [],
   "source": []
  },
  {
   "cell_type": "markdown",
   "metadata": {},
   "source": [
    "# Ex 3: Dendritic input signal summation in the soma\n",
    "<font size=\"3\"> Load one of the \"good\" morphology files that were given in week 2. For this exercise choose one pyramidal cell, instantiate it and visualise it, as it is done in tutorial 03.\n",
    "    \n",
    "<font size=\"3\"> Perform a current clamp experiment that stimulates all the dendrites (basal and apical) at their midpoints and record at the middle of the soma. Play around with the different stimulation parameters: delay, amplitude and duration.\n",
    "\n",
    "<font size=\"3\"> __Hint:__ Modify one parameter at a time, by increasing or decreasing its value several times, and see what it is happening to the voltage.\n",
    "\n",
    "<font size=\"3\"> Read the articles that you can find in the homework folder. Plot results of different stimulation protocols that could help you explain: \n",
    "    \n",
    "    - What is dendritic signal integration? And, in your opinion, what is its importance for the brain? \n",
    "    - What happens if you stimulate only apical dendrites? What would you see at the soma?\n",
    "    \n",
    "    \n",
    "<font size=\"3\"> __Hint:__ Use similar i and V plots to those in tutorial 3, part 4."
   ]
  },
  {
   "cell_type": "code",
   "execution_count": null,
   "metadata": {},
   "outputs": [],
   "source": []
  }
 ],
 "metadata": {
  "kernelspec": {
   "display_name": "Python3",
   "language": "python",
   "name": "python3"
  },
  "language_info": {
   "codemirror_mode": {
    "name": "ipython",
    "version": 3
   },
   "file_extension": ".py",
   "mimetype": "text/x-python",
   "name": "python",
   "nbconvert_exporter": "python",
   "pygments_lexer": "ipython3",
   "version": "3.12.5"
  }
 },
 "nbformat": 4,
 "nbformat_minor": 4
}
