{
 "cells": [
  {
   "cell_type": "markdown",
   "metadata": {},
   "source": [
    "<center><font size = \"10\"> Week 10 - Cells in Space  <center>\n",
    "<center><font size = \"8\">Home work - Solutions<center>"
   ]
  },
  {
   "cell_type": "markdown",
   "metadata": {},
   "source": [
    "<font size = \"3\">Please, write your group number and the names and surnames of the group members here\n",
    "<br>Group number: \n",
    "<br>Group member1: \n",
    "<br>Group member2:\n",
    "<br>Group member3:"
   ]
  },
  {
   "cell_type": "markdown",
   "metadata": {},
   "source": [
    "## <font color= 'red'>Ex 1:</font> Placing cells\n",
    "\n",
    "<font size='3'> 10um_cells.csv Is a table with (among other information) the positions of neurons in a model of the primary visual cortex (within the cooridnate system of the allen mouse brain atlas).\n",
    "   The ascii files contain the morphologies of these cells (the number corresponds to the row in the csv).\n",
    "    \n",
    "Load the morphologies and dataframe and place the cells at the x, y, z positions reported in the table.\n",
    "Visualize the morphologies in all three planes.\n",
    "\n",
    "<font size='3'><font color= 'red'>[1 pts]</font>"
   ]
  },
  {
   "cell_type": "code",
   "execution_count": 1,
   "metadata": {},
   "outputs": [],
   "source": []
  },
  {
   "cell_type": "code",
   "execution_count": 4,
   "metadata": {},
   "outputs": [],
   "source": []
  },
  {
   "cell_type": "markdown",
   "metadata": {},
   "source": [
    "## <font color= 'red'>Ex 2:</font> Rotate cells\n",
    "\n",
    "Align each cell's y-axis with the vector 'u', 'v', 'w'  reported for it in 21_cells.csv.\n",
    "At the end of this part their soma positions should still be the same as they were at the end of Ex 1.\n",
    "Visualize them again in all three planes.\n",
    "\n",
    "Hint: consider the order of rotation/translation operations."
   ]
  },
  {
   "cell_type": "markdown",
   "metadata": {},
   "source": [
    "<span style=\"color:green\">\n",
    "<font size='3'>\n",
    "\n",
    "### **Grading**: \n",
    "\n",
    "- 1 pts for correct rotation and positon\n",
    "- 0.5 pts for plotting 3 axes\n",
    "\n",
    "</span>"
   ]
  },
  {
   "cell_type": "code",
   "execution_count": null,
   "metadata": {
    "tags": []
   },
   "outputs": [],
   "source": []
  },
  {
   "cell_type": "markdown",
   "metadata": {},
   "source": [
    "## <font color= 'red'>Ex 3:</font> Synaptic pruning rules\n",
    "<font size=4>\n",
    "To anatomically constrain the connectivity between the neurons using this geometry we need to identify the potential synapse sites between them. \n",
    "However, going from potential synapse sites to actual synapse sites is generally not straightforward.\n",
    "\n",
    "We are not going to implement the above algorithm, instead we will do something simpler.\n",
    "\n",
    "Suppose in the brain region we are modeling we have only very coarse-grained data on connection probability: the overall connection probability for cells with soma within 10um of an inserted electrode. This data reveals an overall connection probability of 0.05. Additionally, we have some data that the number of synapses per connection within this brain region tends to be a poisson distribution with a mean of 6.\n",
    "    \n",
    "To add the anatomical constraint, we apply a simple version of Peters' rule where we assume that the expectation value of the number of synapses between a pair of neurons is proportional to the number of potential synapse sites.\n",
    "\n",
    "$E[n_{syn}|n_{app}=\\hat{n_{app}}] = C \\hat{n_{app}}$\n",
    "    \n",
    "Where $n_{syn}$ and $n_{app}$ are the number of synapses and appositions(potential synapse sites) respectively, and C is a constant.\n",
    "    \n",
    "Conditional expectation value is defined as:\n",
    "    \n",
    "    \n",
    "$ E[n_{syn}|n_{app}=\\hat{n_{app}}] = \\sum_{\\hat{n_{syn}} = 0}^{\\infty} \\hat{n_{syn}} P(n_{syn}=\\hat{n_{syn}}|n_{app}=\\hat{n_{app}})$\n",
    "    \n",
    "The simplest solution that satisfies this constraint is to have a fixed probability of converting a potential synapse site into an actual synapse, leading to a binomial distribution.\n",
    "\n",
    "$P(n_{syn}=\\hat{n_{syn}}|n_{app}=\\hat{n_{app}}) = Binom(n=\\hat{n_{app}}, k=\\hat{n_{syn}}, p=C)$\n",
    "    \n",
    "We recieve some data that the average density of synapses is 28% of the density of potential synapse sites, setting C at 0.28.\n",
    "\n",
    "appositions.csv contains all potential synapse sites identified between the 21 neurons we placed before.\n",
    "Apply this general pruning and provide a dataframe of actualy synapses based on it.\n",
    "\n",
    "Subsequently:\n",
    "    \n",
    "    - calculate the overall connection probability. \n",
    "    - plot a histogram of the number of synapses per connection. Ensure you use a bin size of 1 (so 1, 2, 3, 4 etc.)\n",
    "    - on the same axis, plot the probability mass function of a poisson dstribution at 6 synapses per connection.\n",
    "\n",
    "Based on these outcomes, what are some limitations of this naive synapse placement rule? Can you suggest one or more improvements that would lead to more realistic connectivity?\n",
    "\n",
    "<font color='red'> [3 pts]\n",
    "    \n",
    "Further reading: \n",
    "    This problem gets far more complex when you consider that each brain region consists of many cell types with differing connectivity properties.\n",
    "    for an example of how this kind of problem can be addressed in practice, see this paper: https://www.ncbi.nlm.nih.gov/pmc/articles/PMC4597796/ "
   ]
  },
  {
   "cell_type": "markdown",
   "metadata": {},
   "source": [
    "<span style=\"color:green\">\n",
    "<font size='3'>\n",
    "\n",
    "### **Grading**: \n",
    "\n",
    "- 0.5 pt for implementing the rule.\n",
    "- 0.5 pts each for connection probability and synapses per connection.\n",
    "- 1 pts for answering the questions\n",
    "\n",
    "</span>"
   ]
  },
  {
   "cell_type": "code",
   "execution_count": 49,
   "metadata": {
    "tags": []
   },
   "outputs": [],
   "source": []
  },
  {
   "cell_type": "code",
   "execution_count": 50,
   "metadata": {},
   "outputs": [],
   "source": [
    "appositions = pd.read_csv(\"toy_data/10um_appositions.csv\")\n",
    "\n"
   ]
  },
  {
   "cell_type": "code",
   "execution_count": 51,
   "metadata": {
    "tags": []
   },
   "outputs": [
    {
     "data": {
      "text/plain": [
       "@source_node  @target_node\n",
       "2636          16297            9\n",
       "              19473            9\n",
       "              45243           12\n",
       "              49867            1\n",
       "              54379            3\n",
       "                              ..\n",
       "169253        157828           1\n",
       "171009        149948           4\n",
       "              157828           6\n",
       "              168462           3\n",
       "              169253           3\n",
       "Name: edge_ids, Length: 139, dtype: int64"
      ]
     },
     "execution_count": 51,
     "metadata": {},
     "output_type": "execute_result"
    }
   ],
   "source": []
  },
  {
   "cell_type": "markdown",
   "metadata": {},
   "source": [
    "<font color='blue'>\n",
    "    Answers:\n",
    "        This kind of synapse placement rule will overestimate synapses per connection and wind up placing a lot of connections with only one synapse, which should be in the minority in reality.\n",
    "        Any suggestion which would shift the mode of the distribution of synapses per connecton higher and reduce connection probability is accepted."
   ]
  },
  {
   "cell_type": "code",
   "execution_count": null,
   "metadata": {},
   "outputs": [],
   "source": []
  }
 ],
 "metadata": {
  "kernelspec": {
   "display_name": "Python3",
   "language": "python",
   "name": "python3"
  },
  "language_info": {
   "codemirror_mode": {
    "name": "ipython",
    "version": 3
   },
   "file_extension": ".py",
   "mimetype": "text/x-python",
   "name": "python",
   "nbconvert_exporter": "python",
   "pygments_lexer": "ipython3",
   "version": "3.11.5"
  }
 },
 "nbformat": 4,
 "nbformat_minor": 4
}
