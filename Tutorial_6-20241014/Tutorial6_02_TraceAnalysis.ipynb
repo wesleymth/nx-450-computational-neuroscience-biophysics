{
 "cells": [
  {
   "cell_type": "markdown",
   "metadata": {},
   "source": [
    "<center><font size = \"10\"> Week 6 - Single Cell Electrophysiology<center>\n",
    "<center><font size = \"8\">Tutorial 02: Analysis<center>"
   ]
  },
  {
   "cell_type": "markdown",
   "metadata": {},
   "source": [
    "<font size = \"3\"><font color = \"blue\"> In this tutorial you will analyse real single cell voltage recordings"
   ]
  },
  {
   "cell_type": "code",
   "execution_count": null,
   "metadata": {
    "tags": []
   },
   "outputs": [],
   "source": [
    "# Load usefull packages\n",
    "%matplotlib inline\n",
    "\n",
    "import matplotlib.pyplot as plt\n",
    "import numpy as np\n",
    "import csv\n",
    "import pandas as pd"
   ]
  },
  {
   "cell_type": "markdown",
   "metadata": {},
   "source": [
    "# 1. Open files with traces"
   ]
  },
  {
   "cell_type": "markdown",
   "metadata": {},
   "source": [
    "### Traces description\n",
    "\n",
    "<font size='3'>Here we have some traces (exp_FirePatter_ch(6/7)_(52/53).dat). Ch6 contains the voltage response and Ch7 the current stimulation. The numbers 52 and 53 represent different \"sweeps\", so different repetitions of the same stimulation over the same cell."
   ]
  },
  {
   "cell_type": "code",
   "execution_count": null,
   "metadata": {
    "tags": []
   },
   "outputs": [],
   "source": [
    "# Open and plot files\n",
    "\n",
    "def get_data(fn):\n",
    "    \"\"\"Read  data file and formatfor plotting\"\"\"\n",
    "    d = np.fromfile(fn)    \n",
    "    return d[::2], d[1::2]\n",
    "\n",
    "file_v1 = \"exp_FirePattern_ch6_52.dat\"\n",
    "file_v2 = \"exp_FirePattern_ch6_53.dat\"\n",
    "\n",
    "FILE_v = [file_v1, file_v2] \n",
    "\n",
    "plt.figure(figsize=(15,3))\n",
    "for fv in FILE_v:\n",
    "    t, v = get_data(fv)\n",
    "    plt.plot(t,v)"
   ]
  },
  {
   "cell_type": "markdown",
   "metadata": {},
   "source": [
    "# 2. Extracting peaks, peak times and amplitude for one sweep"
   ]
  },
  {
   "cell_type": "code",
   "execution_count": null,
   "metadata": {
    "tags": []
   },
   "outputs": [],
   "source": [
    "from scipy.signal import find_peaks, peak_prominences\n",
    "\n",
    "t, v = get_data(file_v1)\n",
    "\n",
    "# Amplitudes and peak locations\n",
    "peaks_time, _ = find_peaks(v, prominence=1, height=-20)\n",
    "amplitudes = peak_prominences(v, peaks_time, wlen=40)[0]\n",
    "\n",
    "voltage_peaks = []\n",
    "for x in peaks_time:\n",
    "    volt_p = v[x]\n",
    "    voltage_peaks.append(volt_p)\n",
    "    \n",
    "#Print results   \n",
    "print(\"Voltage peaks: %s\" %voltage_peaks)\n",
    "print('\\n')\n",
    "print (\"Amplitudes of action potentials: %s \" % amplitudes)\n",
    "print('\\n')\n",
    "print(\"Times of peak occurences: %s\" % peaks_time)\n",
    "\n",
    "# Plot\n",
    "plt.figure(figsize=(15,3))\n",
    "plt.plot(v,'k--')\n",
    "plt.plot(peaks_time, v[peaks_time], 'rx')\n",
    "plt.ylabel('voltage (mV)')"
   ]
  },
  {
   "cell_type": "markdown",
   "metadata": {},
   "source": [
    "# 3. Using a specific library: eFEL\n",
    "\n",
    "<font size = \"3\">Find the project [here](https://github.com/BlueBrain/eFEL) and the documentation [here](https://efel.readthedocs.io/en/latest/) (also in [pdf](https://readthedocs.org/projects/efel/downloads/pdf/latest/))\n",
    "\n",
    "<font size='3'>We will use the getFeatureValues() function, which accepts as input a dictionary that represents the trace, and the request eFeature names. The trace dictionary consists of the time and voltage trace, and two floats stim_start and stim_end that specify when the stimulus starts and stops."
   ]
  },
  {
   "cell_type": "code",
   "execution_count": null,
   "metadata": {
    "tags": []
   },
   "outputs": [],
   "source": [
    "file_c1 = \"exp_FirePattern_ch7_52.dat\"\n",
    "\n",
    "t, v = get_data(file_v1)\n",
    "t, i = get_data(file_c1)\n",
    "\n",
    "# Look for start and end time\n",
    "peaks_time, _ = find_peaks(i, prominence=1, height=-20)\n",
    "\n",
    "print(np.min(peaks_time))\n",
    "print(np.max(peaks_time))"
   ]
  },
  {
   "cell_type": "code",
   "execution_count": null,
   "metadata": {
    "tags": []
   },
   "outputs": [],
   "source": [
    "import efel\n",
    "from json2html import *\n",
    "import IPython\n",
    "\n",
    "stim_start = 378.9 # in ms\n",
    "stim_end = 3681.0\n",
    "trace = {'T': t, 'V': v, 'stim_start': [stim_start], 'stim_end': [stim_end]}"
   ]
  },
  {
   "cell_type": "code",
   "execution_count": null,
   "metadata": {
    "tags": []
   },
   "outputs": [],
   "source": [
    "feature_values = efel.getFeatureValues([trace], ['AP_amplitude', 'peak_time', 'peak_voltage'])[0]\n",
    "feature_values = {feature_name: list(values) for feature_name, values in feature_values.items()}\n",
    "IPython.display.HTML(json2html.convert(json=feature_values))"
   ]
  }
 ],
 "metadata": {
  "kernelspec": {
   "display_name": "Python3",
   "language": "python",
   "name": "python3"
  },
  "language_info": {
   "codemirror_mode": {
    "name": "ipython",
    "version": 3
   },
   "file_extension": ".py",
   "mimetype": "text/x-python",
   "name": "python",
   "nbconvert_exporter": "python",
   "pygments_lexer": "ipython3",
   "version": "3.11.5"
  }
 },
 "nbformat": 4,
 "nbformat_minor": 4
}
