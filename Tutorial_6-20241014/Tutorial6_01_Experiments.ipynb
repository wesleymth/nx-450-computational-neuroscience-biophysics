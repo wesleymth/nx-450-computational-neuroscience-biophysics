{
 "cells": [
  {
   "cell_type": "markdown",
   "metadata": {},
   "source": [
    "<center><font size = \"10\"> Week 6 - Single Cell Electrophysiology<center>\n",
    "<center><font size = \"8\">Tutorial 01: Experiments to study the cell<center>"
   ]
  },
  {
   "cell_type": "markdown",
   "metadata": {},
   "source": [
    "<font size = \"3\"><font color = \"blue\"> In this tutorial you will see two types of protocols to study the passive and active properties of an excitable cell."
   ]
  },
  {
   "cell_type": "code",
   "execution_count": null,
   "metadata": {
    "tags": []
   },
   "outputs": [],
   "source": [
    "# This will compile the mechanisms inside the MOD files (and create a new folder x86_64/special).\n",
    "! nrnivmodl"
   ]
  },
  {
   "cell_type": "code",
   "execution_count": null,
   "metadata": {
    "tags": []
   },
   "outputs": [],
   "source": [
    "# Load usefull packages\n",
    "%matplotlib inline\n",
    "\n",
    "from neuron import h\n",
    "import hoc\n",
    "import matplotlib.pyplot as plt\n",
    "import numpy as np\n",
    "import math as m\n",
    "import neurom as nm"
   ]
  },
  {
   "cell_type": "code",
   "execution_count": null,
   "metadata": {
    "tags": []
   },
   "outputs": [],
   "source": [
    "# Define NEURON class with specific morphology and channel behavior\n",
    "\n",
    "class NEURON:\n",
    "    def __init__(self):\n",
    "        self.build_morphology()\n",
    "        self.define_biophysics()\n",
    "        \n",
    "    def build_morphology(self):\n",
    "        \"\"\"\n",
    "        Loads a 3D morphology of the neuron\n",
    "        \"\"\"\n",
    "        # Load hoc routines to import 3D morphologies\n",
    "        h.load_file('stdlib.hoc')\n",
    "        h.load_file(\"import3d.hoc\")\n",
    "        #cell = h.Import3d_SWC_read() # We have a .swc morphology file\n",
    "        cell = h.Import3d_Neurolucida3()\n",
    "\n",
    "        # Read the file and creates automatically section.connect(parent) statements\n",
    "        cell.input('MorphTestASC.asc')\n",
    "\n",
    "        # Instantiate morphology for simulation and\n",
    "        # execute the connect statements and loads the cell into h scope\n",
    "        self.importedcell = h.Import3d_GUI(cell,0)\n",
    "        self.importedcell.instantiate(None) \n",
    "\n",
    "        # Create python lists from the morphology with the different sections: soma, dend, apic and axon\n",
    "        self.somatic = []\n",
    "        self.basal = []\n",
    "        self.apical = []\n",
    "        #self.axonal = [] # for the moment we will forget about the axon\n",
    "        self.all = []\n",
    "        for sec in h.allsec():\n",
    "            #print (sec)\n",
    "            if 'soma' in sec.name():\n",
    "                self.somatic.append(sec)\n",
    "            if 'dend' in sec.name():\n",
    "                self.basal.append(sec)\n",
    "            if 'apic' in sec.name():\n",
    "                self.apical.append(sec)\n",
    "            #if 'axon' in sec.name():\n",
    "            #    self.axonal.append(sec)\n",
    "    \n",
    "    def define_biophysics(self):\n",
    "        \"\"\"\n",
    "        Distributes passive mechanisms and the different types\n",
    "        of ion channels on the soma and dendrites\n",
    "        \"\"\"\n",
    "        # Define passive properties\n",
    "        # You can try to change the passice properties and see what happens\n",
    "        for sec in h.allsec():\n",
    "            sec.Ra = 100\n",
    "            sec.cm = 1\n",
    "            sec.insert(\"pas\")\n",
    "            for seg in sec:\n",
    "                seg.pas.g = 0.00003\n",
    "                seg.pas.e = -75\n",
    "                \n",
    "        # Define active properties for soma and dendrites (basal and apical)\n",
    "        for sec in self.somatic:\n",
    "            sec.insert('NaTs2_t')\n",
    "            for seg in sec:\n",
    "                seg.gNaTs2_tbar_NaTs2_t = 0.25 \n",
    "            sec.insert('SK_E2')\n",
    "            for seg in sec:\n",
    "                seg.gSK_E2bar_SK_E2 = 0.01\n",
    "            sec.insert('SKv3_1') \n",
    "            for seg in sec:\n",
    "                seg.gSKv3_1bar_SKv3_1 = 0.1\n",
    "          \n",
    "        for sec in self.apical:\n",
    "            sec.insert('NaTs2_t')\n",
    "            for seg in sec:\n",
    "                seg.gNaTs2_tbar_NaTs2_t = 0.25 \n",
    "            sec.insert('SK_E2')\n",
    "            for seg in sec:\n",
    "                seg.gSK_E2bar_SK_E2 = 0.01\n",
    "            sec.insert('SKv3_1') \n",
    "            for seg in sec:\n",
    "                seg.gSKv3_1bar_SKv3_1 = 0.1\n",
    "        \n",
    "        for sec in self.basal:\n",
    "            sec.insert('NaTs2_t')\n",
    "            for seg in sec:\n",
    "                seg.gNaTs2_tbar_NaTs2_t = 0.25 \n",
    "            sec.insert('SK_E2')\n",
    "            for seg in sec:\n",
    "                seg.gSK_E2bar_SK_E2 = 0.01\n",
    "            sec.insert('SKv3_1') \n",
    "            for seg in sec:\n",
    "                seg.gSKv3_1bar_SKv3_1 = 0.1"
   ]
  },
  {
   "cell_type": "code",
   "execution_count": null,
   "metadata": {
    "tags": []
   },
   "outputs": [],
   "source": [
    "# Instantiate the cell\n",
    "Cell = NEURON()"
   ]
  },
  {
   "cell_type": "code",
   "execution_count": null,
   "metadata": {
    "tags": []
   },
   "outputs": [],
   "source": [
    "# As we didn't define all the cell properties, there are some that have defalut values\n",
    "# We can check those values and check what other mechanisms are in the soma for instance.\n",
    "\n",
    "Cell.somatic[0].psection()"
   ]
  },
  {
   "cell_type": "markdown",
   "metadata": {
    "tags": []
   },
   "source": [
    "# 1. Studying cell passive properties: subthreshold stimulation\n",
    "__SUBTHRESHOLD STIMULATION:__ Sub-threshold (or subthreshold) refers to a stimulus that is too small in magnitude to produce an action potential in excitable cells.\n",
    "\n",
    "In general, a sub-threshold stimulus leads to the depolarization of the membrane, but the magnitude of the depolarization is not large enough to reach the threshold voltage. Therefore, sub-threshold stimuli do not elicit action potentials.\n",
    "\n",
    "Using this type of protocols we can study the passive properties of the cell such as the input resistance.\n",
    "\n",
    "To review the concepts of passive properties you can check again the links in Week 5 tutorials."
   ]
  },
  {
   "cell_type": "code",
   "execution_count": null,
   "metadata": {
    "tags": []
   },
   "outputs": [],
   "source": [
    "# Inject current steps into the soma\n",
    "stim_ampl = [- 0.05, - 0.01, 0.1]\n",
    "\n",
    "# Define plots\n",
    "fig1, ax1 = plt.subplots(figsize=(15,3))\n",
    "ax1.set(xlabel = 't (ms)', ylabel = 'V (mV)')\n",
    "\n",
    "fig2, ax2 = plt.subplots(figsize=(15,3))\n",
    "ax2.set(xlabel = 't (ms)', ylabel = 'I (nA)')\n",
    "\n",
    "# Stimulation\n",
    "for sa in stim_ampl:  \n",
    "    # Place a stimulation electrode in the middle of the soma\n",
    "    stim = h.IClamp(Cell.somatic[0](0.5))         \n",
    "    stim.delay = 100   # stim delay (ms)\n",
    "    stim.dur = 300     # stim duration (ms)\n",
    "    stim.amp = sa    # stim amplitude (nA)    \n",
    "    # Initialize NEURON vectors to record time, voltage and current\n",
    "    # time vector\n",
    "    rec_t = h.Vector()\n",
    "    rec_t.record(h._ref_t)\n",
    "    # membrame potential vector\n",
    "    rec_v_soma = h.Vector()\n",
    "    rec_v_soma.record(Cell.somatic[0](0.5)._ref_v)\n",
    "    # current\n",
    "    rec_i = h.Vector()\n",
    "    rec_i.record(stim._ref_i)\n",
    "\n",
    "    # Initialize and run a simulation\n",
    "    h.load_file('stdrun.hoc')\n",
    "    h.finitialize(-65)\n",
    "    h.continuerun(500)\n",
    "    \n",
    "    ax1.plot(rec_t, rec_v_soma)\n",
    "    ax2.plot(rec_t, rec_i)"
   ]
  },
  {
   "cell_type": "markdown",
   "metadata": {},
   "source": [
    "### Save the results in, for example a CSV file format"
   ]
  },
  {
   "cell_type": "code",
   "execution_count": null,
   "metadata": {
    "tags": []
   },
   "outputs": [],
   "source": [
    "import pandas as pd          # \"as\" allows us to give a shorthand name to the module\n",
    "                             # which are usually conventional\n",
    "\n",
    "list_t = []\n",
    "list_i = []\n",
    "list_v = []\n",
    "\n",
    "# Inject current steps into the soma\n",
    "stim_ampl = [- 0.05, - 0.01, 0.1]\n",
    "\n",
    "# Stimulation\n",
    "for sa in stim_ampl: \n",
    "    # Place a stimulation electrode in the middle of the soma\n",
    "    stim = h.IClamp(Cell.somatic[0](0.5))         \n",
    "    stim.delay = 100   # stim delay (ms)\n",
    "    stim.dur = 300     # stim duration (ms)\n",
    "    stim.amp = sa    # stim amplitude (nA)    \n",
    "    # Initialize NEURON vectors to record time, voltage and current\n",
    "    # time vector\n",
    "    rec_t = h.Vector()\n",
    "    rec_t.record(h._ref_t)\n",
    "    # membrame potential vector\n",
    "    rec_v_soma = h.Vector()\n",
    "    rec_v_soma.record(Cell.somatic[0](0.5)._ref_v)\n",
    "    # current\n",
    "    rec_i = h.Vector()\n",
    "    rec_i.record(stim._ref_i)\n",
    "        \n",
    "    # Initialize and run a simulation\n",
    "    h.load_file('stdrun.hoc')\n",
    "    h.finitialize(-65)\n",
    "    h.continuerun(500)\n",
    "    \n",
    "    list_t.append(list(rec_t))\n",
    "    list_i.append(list(rec_i))\n",
    "    list_v.append(list(rec_v_soma))\n",
    "\n",
    "df = pd.DataFrame([list_t, list_i, list_v])\n",
    "# save dataframe in csv file\n",
    "df.to_csv('Subthreshold_test.csv')"
   ]
  },
  {
   "cell_type": "code",
   "execution_count": null,
   "metadata": {
    "tags": []
   },
   "outputs": [],
   "source": [
    "#If I want to read it\n",
    "# import pandas as pd\n",
    "\n",
    "pd.read_csv('Subthreshold_test.csv') \n",
    "\n",
    "#print (df.head(1))\n",
    "time0 = df.loc[0,0]\n",
    "volt0 = df.loc[2,0]\n",
    "\n",
    "time1 = df.loc[0,1]\n",
    "volt1 = df.loc[2,1]\n",
    "\n",
    "time2 = df.loc[0,2]\n",
    "volt2 = df.loc[2,2]\n",
    "\n",
    "plt.figure(figsize=(15,3))\n",
    "plt.plot(time0, volt0)\n",
    "plt.plot(time1, volt1)\n",
    "plt.plot(time2, volt2);"
   ]
  },
  {
   "cell_type": "markdown",
   "metadata": {},
   "source": [
    "# 2. Studying cell active properties: suprathreshold stimulation\n",
    "\n",
    "__SUPRATHRESHOLD STIMULATION:__ Supra-threshold (or suprathreshold) refers to a stimulus that is big enough in magnitude to produce an action potential in excitable cells.\n",
    "\n",
    "Using this type of protocols we can study the active properties of the cell such as the amplitude or the shape of the action potential.\n",
    "\n",
    "To review the concepts of active properties you can check again the links in Week 5 tutorials."
   ]
  },
  {
   "cell_type": "code",
   "execution_count": null,
   "metadata": {
    "tags": []
   },
   "outputs": [],
   "source": [
    "# Inject current steps into the soma\n",
    "stim_ampl = [0.01, 0.5, 1.0]\n",
    "\n",
    "# Define plots\n",
    "fig1, ax1 = plt.subplots(figsize=(15,3))\n",
    "ax1.set(xlabel = 't (ms)', ylabel = 'V (mV)')\n",
    "\n",
    "fig2, ax2 = plt.subplots(figsize=(15,3))\n",
    "ax2.set(xlabel = 't (ms)', ylabel = 'I (nA)')\n",
    "\n",
    "# Stimulation\n",
    "for sa in stim_ampl:  \n",
    "    # Place a stimulation electrode in the middle of the soma\n",
    "    stim = h.IClamp(Cell.somatic[0](0.5))         \n",
    "    stim.delay = 100   # stim delay (ms)\n",
    "    stim.dur = 300     # stim duration (ms)\n",
    "    stim.amp = sa    # stim amplitude (nA)    \n",
    "    # Initialize NEURON vectors to record time, voltage and current\n",
    "    # time vector\n",
    "    rec_t = h.Vector()\n",
    "    rec_t.record(h._ref_t)\n",
    "    # membrame potential vector\n",
    "    rec_v_soma = h.Vector()\n",
    "    rec_v_soma.record(Cell.somatic[0](0.5)._ref_v)\n",
    "    # current\n",
    "    rec_i = h.Vector()\n",
    "    rec_i.record(stim._ref_i)\n",
    "\n",
    "    # Initialize and run a simulation\n",
    "    h.load_file('stdrun.hoc')\n",
    "    h.finitialize(-65)\n",
    "    h.continuerun(500)\n",
    "    \n",
    "    ax1.plot(rec_t, rec_v_soma)\n",
    "    ax2.plot(rec_t, rec_i)"
   ]
  }
 ],
 "metadata": {
  "kernelspec": {
   "display_name": "Python3",
   "language": "python",
   "name": "python3"
  },
  "language_info": {
   "codemirror_mode": {
    "name": "ipython",
    "version": 3
   },
   "file_extension": ".py",
   "mimetype": "text/x-python",
   "name": "python",
   "nbconvert_exporter": "python",
   "pygments_lexer": "ipython3",
   "version": "3.11.5"
  }
 },
 "nbformat": 4,
 "nbformat_minor": 4
}
