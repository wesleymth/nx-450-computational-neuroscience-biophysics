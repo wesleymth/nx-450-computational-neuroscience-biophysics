{
 "cells": [
  {
   "cell_type": "markdown",
   "metadata": {},
   "source": [
    "<center><font size = \"10\"> Week 6 - Single Cell Electrophysiology <center>\n",
    "<center><font size = \"8\">Home work<center>"
   ]
  },
  {
   "cell_type": "markdown",
   "metadata": {},
   "source": [
    "<font size = \"3\">Please, write your group number and the names and surnames of the group members here\n",
    "<br>Group number:\n",
    "<br>Group member1:\n",
    "<br>Group member2:\n",
    "<br>Group member3:\n",
    "    \n",
    "__IMPORTANT:__<font size = \"3\"> Exercises in <font color='red'>red</font> are mandatory assignements to be delivered by next Monday before 23:59."
   ]
  },
  {
   "cell_type": "markdown",
   "metadata": {},
   "source": [
    "# <font color= 'red'>Ex1:</font> Stimulation protocols to study various cell properties\n",
    "\n",
    "<font size='3'>\n",
    "Your task is to design and perform two different stimulation protocols that could be used to study the AP properties (e.g. amplitude, shape, rise-time, fall-time) and passive properties (e.g. input resistance and voltage base). Apply the protocols to the cells you have in your group folder (two .asc files). When defining the cells biophysics, use the passive, active properties and mechanisms (MOD files) used in tutorial 01. Don't include any biophysics on the cell axon, as it was done in Tutorial 01.\n",
    "\n",
    "\n",
    "<font size='3'>Run the protocols and discuss in your own words, why do you think these types of protocols are useful when studying cell functional characteristics and behavior? <font color= 'red'>[2 pts]\n",
    "    "
   ]
  },
  {
   "cell_type": "code",
   "execution_count": null,
   "metadata": {},
   "outputs": [],
   "source": []
  },
  {
   "cell_type": "markdown",
   "metadata": {
    "tags": []
   },
   "source": [
    "# <font color= 'red'>Ex2:</font>. Analysing real single cell voltage traces from patch-clamp experiments\n",
    "\n",
    "<font size='3'>Find the voltage base, firing frequency, spike count and after-hiperpolarization depth (AHP-depth) from the recordings that you can find in your folder group (.dat files). Extract the asked features from the one or several stimulation protocols that you think you can extract the features from.\n",
    "\n",
    "<font size='3'>You can compute it as you wish, using eFEL, scipy.signal  or creating your own functions. <font color= 'red'>[2 pts]\n",
    "\n",
    "#### Traces description\n",
    "\n",
    "* The files are named with: stimuli type (e.g. \"APWaveform\", \"FirePattern\", \"IV\"). \n",
    "* Sweep (repetition) number: (e.g. \"APWaveform_46-51\"), of increasing/decreasing amplitudes.\n",
    "* Note that we have pairs of recordings with the same trace number (e.g. \"exp_APWaveform_ch7_51.dat\" and \"exp_APWaveform_ch6_51.dat\"). One of them contains the current stimulus (in this case \"*ch7*\") and the other the voltage response (in this case \"*ch6*\").\n",
    "    \n",
    "    \n",
    "_Hints_: \n",
    "1. If you are having trouble, consider this: we can extract voltage base from _____ traces, firing frequency from ______ and the AHP depth from some traces of __________. Note that only some voltage features such as voltage base, steady state voltage or minimum voltage can be extracted from __ traces, but not __ related features. \n",
    "2. Use section 3 of Efel documentation ([pdf](https://readthedocs.org/projects/efel/downloads/pdf/latest/)) to help you with the descriptions of the electrical features that you can find on the different traces."
   ]
  },
  {
   "cell_type": "code",
   "execution_count": null,
   "metadata": {},
   "outputs": [],
   "source": []
  },
  {
   "cell_type": "markdown",
   "metadata": {
    "tags": []
   },
   "source": [
    "# <font color= 'red'>Ex3:</font> Genetic Algorithm (Optimisation)\n",
    "\n",
    "<font size='3'>Change the GA code in such a way that instead of the Spikecount feature, we search for a solution with AP amplitude of 96 for stim_amp = 0.5 nA and AP amplitdue of 85 for stim_amp = 0.05 nA.\n",
    "    \n",
    "<font size='3'>As you can see the optimisation algoithm explained in the tutorial is very simple and gives a lot of possible solutions. Explain and demonstrate how can you modify the GA optimisation to better contrain the returned solution. <font color= 'red'>[2 pts]\n",
    "    "
   ]
  },
  {
   "cell_type": "code",
   "execution_count": null,
   "metadata": {},
   "outputs": [],
   "source": []
  }
 ],
 "metadata": {
  "kernelspec": {
   "display_name": "Python3",
   "language": "python",
   "name": "python3"
  },
  "language_info": {
   "codemirror_mode": {
    "name": "ipython",
    "version": 3
   },
   "file_extension": ".py",
   "mimetype": "text/x-python",
   "name": "python",
   "nbconvert_exporter": "python",
   "pygments_lexer": "ipython3",
   "version": "3.11.5"
  }
 },
 "nbformat": 4,
 "nbformat_minor": 4
}
