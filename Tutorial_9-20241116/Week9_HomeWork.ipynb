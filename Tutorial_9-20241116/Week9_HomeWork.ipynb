{
 "cells": [
  {
   "cell_type": "markdown",
   "metadata": {},
   "source": [
    "<center><font size = \"10\"> Week 9 - Long-term plasticity <center>\n",
    "<center><font size = \"8\"> Homework<center>"
   ]
  },
  {
   "cell_type": "markdown",
   "metadata": {},
   "source": [
    "<font size = \"3\">Please, write your group number and the names and surnames of the group members here\n",
    "<br>Group number:\n",
    "<br>Group member1:\n",
    "<br>Group member2:\n",
    "<br>Group member3:\n",
    "    \n",
    "__IMPORTANT:__<font size = \"3\"> Exercises in <font color='red'>red</font> are mandatory assignements to be delivered by next Monday before 23:59."
   ]
  },
  {
   "cell_type": "code",
   "execution_count": null,
   "metadata": {},
   "outputs": [],
   "source": [
    "import neuron, time\n",
    "from neuron import h\n",
    "import numpy as np\n",
    "import matplotlib.pyplot as plt\n",
    "import matplotlib.image as mpimg\n",
    "import matplotlib.gridspec as gridspec\n",
    "%matplotlib inline\n",
    "\n",
    "# Recompile external files, load & initialize\n",
    "!nrnivmodl\n",
    "neuron.h.load_file(\"stdrun.hoc\");\n",
    "neuron.h.stdinit();"
   ]
  },
  {
   "cell_type": "markdown",
   "metadata": {},
   "source": [
    "# <font color= 'red'>Ex 1:</font>  Evolution of synaptic conductance in STDP\n",
    "    \n",
    "<font size='3'> Let's explore further the changes of synaptic conductance over time in STDP. Go back to tutorial 1 section 3 and set up everything you need to run it. Once you are ready, expand the plot to 3x2, adding the following in the last row:\n",
    "   - plot the total excitatory synaptic conductance 𝑔𝐸(𝑡) \n",
    "   - plot each of the synaptic conductance changes $g_i$ (similar to the $P_i(t)$ plot)\n",
    "\n",
    "\n",
    "<font size='3'> With the help of these plots, answer the following questions:\n",
    "   1) In the above, even though all the presynaptic neurons have the same average firing rate, many of the synapses seem to have been weakened? Did you expect that?\n",
    "   2) Total synaptic conductance is fluctuating over time. How do you expect 𝑔𝐸 to fluctuate if synapses did not show any STDP like behavior?\n",
    "   3) Do synaptic weights ever reach a stationary state when synapses show STDP?\n",
    "    \n",
    "<font size='3'><font color= 'red'>[2 pts]</font>"
   ]
  },
  {
   "cell_type": "code",
   "execution_count": 4,
   "metadata": {},
   "outputs": [],
   "source": [
    "# Some functions to help you\n",
    "\n",
    "# Define parameters of the STDP process\n",
    "def default_pars_STDP(**kwargs):\n",
    "    pars = {}\n",
    "    \n",
    "    # typical neuron parameters\n",
    "    pars['V_th'] = -55.     # spike threshold [mV]\n",
    "    pars['V_reset'] = -75.  # reset potential [mV]\n",
    "    pars['tau_m'] = 10.     # membrane time constant [ms]\n",
    "    pars['V_init'] = -65.   # initial potential [mV]\n",
    "    pars['V_L'] = -75.      # leak reversal potential [mV]\n",
    "    pars['tref'] = 2.       # refractory time (ms)\n",
    "    \n",
    "    # STDP parameters\n",
    "    pars['A_plus'] = 0.008                   # magnitude of LTP\n",
    "    pars['A_minus'] = pars['A_plus'] * 1.10  # magnitude of LTD\n",
    "    pars['tau_stdp'] = 20.                   # STDP time constant [ms]\n",
    "    \n",
    "    # simulation parameters\n",
    "    pars['T'] = 400.  # Total duration of simulation [ms]\n",
    "    pars['dt'] = .1   # Simulation time step [ms]\n",
    "    \n",
    "    # external parameters if any\n",
    "    for k in kwargs:\n",
    "        pars[k] = kwargs[k]\n",
    "\n",
    "    pars['range_t'] = np.arange(0, pars['T'], pars['dt'])  # Vector of discretized time points [ms]\n",
    "    return pars\n",
    "\n",
    "def Poisson_generator(pars, rate, n, myseed=False):\n",
    "    \"\"\"Generates poisson trains\n",
    "    Args:\n",
    "        pars            : parameter dictionary\n",
    "        rate            : noise amplitute [Hz]\n",
    "        n               : number of Poisson trains\n",
    "        myseed          : random seed. int or boolean\n",
    "    Returns:\n",
    "        pre_spike_train : spike train matrix, ith row represents whether\n",
    "                          there is a spike in ith spike train over time\n",
    "                          (1 if spike, 0 otherwise)\n",
    "    \"\"\"\n",
    "    \n",
    "    # Retrieve simulation parameters\n",
    "    dt, range_t = pars['dt'], pars['range_t']\n",
    "    Lt = range_t.size\n",
    "    \n",
    "    # set random seed\n",
    "    if myseed:\n",
    "        np.random.seed(seed=myseed)\n",
    "    else:\n",
    "        np.random.seed()\n",
    "\n",
    "    # generate uniformly distributed random variables\n",
    "    u_rand = np.random.rand(n, Lt)\n",
    "\n",
    "    # generate Poisson train\n",
    "    poisson_train = 1. * (u_rand < rate * (dt / 1000.))\n",
    "\n",
    "    return poisson_train\n",
    "\n",
    "def generate_P(pars, pre_spike_train_ex):\n",
    "    \"\"\"\n",
    "    track of pre-synaptic spikes\n",
    "    Args:\n",
    "        pars               : parameter dictionary\n",
    "        pre_spike_train_ex : binary spike train input from\n",
    "                             presynaptic excitatory neuron\n",
    "    Returns:\n",
    "        P                  : LTP ratio\n",
    "    \"\"\"\n",
    "    # Get parameters\n",
    "    A_plus, tau_stdp = pars['A_plus'], pars['tau_stdp']\n",
    "    dt, range_t = pars['dt'], pars['range_t']\n",
    "    Lt = range_t.size\n",
    "\n",
    "    # Initialize\n",
    "    P = np.zeros(pre_spike_train_ex.shape)\n",
    "    for it in range(Lt - 1):\n",
    "        # Calculate the delta increment dP\n",
    "        dP = -(dt / tau_stdp) * P[:, it] + A_plus * pre_spike_train_ex[:, it + 1]\n",
    "        # Update P\n",
    "        P[:, it + 1] = P[:, it] + dP\n",
    "    return P"
   ]
  },
  {
   "cell_type": "markdown",
   "metadata": {},
   "source": [
    "# <font color='red'>Ex 2:</font> Evolution of synaptic weights and STDP conditions\n",
    "\n",
    "<font size='3'> copy and use the widget at the end of tutorial 1 to explore how synaptic weights change over time and given different conditions:\n",
    "   1) Increase the firing rate (i.e., 30 Hz) of presynaptic neurons, and investigate the effect on the dynamics of synaptic weight distribution\n",
    "   2) halve the population size of presynaptic neurons, what do you observe? What happens if you double it?\n",
    "   3) What happens if you double the EPSP time constant? How do you explain this?\n",
    "   4) And if you decrease it to 4ms? What is the simple, smallest change you can make to reproduce the previous behavior? Can you find another, equivalent change that also does the same? Does this make sense with the previous answers?\n",
    "\n",
    "<font color= 'red'>[2 pts]</font>"
   ]
  },
  {
   "cell_type": "code",
   "execution_count": null,
   "metadata": {},
   "outputs": [],
   "source": []
  },
  {
   "cell_type": "markdown",
   "metadata": {},
   "source": [
    "# <font color='red'>Ex 3:</font> Voltage-dependent plasticity model\n",
    "\n",
    "The clopath et al. model can explain the dependence of not just timing but also frequency on plasticity.\n",
    "\n",
    "Simulate the model as in tutorial 2 and vary both the spike timing and frequency of stimulation. \n",
    "For speed, use just one repetition of 5 spikes and an interstimulus interval of 400.\n",
    "Use $\\Delta t$ values -10, -7, -5, 5, 7, 10 ms and frequency values 2, 5, 10, 20, 40 Hz.\n",
    "Plot the STDP curves for different frequencies on the same axis (allowing you to compare)\n",
    "\n",
    "1. What is the effect of frequency on LTD and on LTP?\n",
    "2. How does this effect result from the model?\n",
    "\n",
    "<font color='red'> [2 pts]"
   ]
  },
  {
   "cell_type": "code",
   "execution_count": null,
   "metadata": {},
   "outputs": [],
   "source": []
  }
 ],
 "metadata": {
  "kernelspec": {
   "display_name": "Python3",
   "language": "python",
   "name": "python3"
  },
  "language_info": {
   "codemirror_mode": {
    "name": "ipython",
    "version": 3
   },
   "file_extension": ".py",
   "mimetype": "text/x-python",
   "name": "python",
   "nbconvert_exporter": "python",
   "pygments_lexer": "ipython3",
   "version": "3.12.5"
  }
 },
 "nbformat": 4,
 "nbformat_minor": 4
}
