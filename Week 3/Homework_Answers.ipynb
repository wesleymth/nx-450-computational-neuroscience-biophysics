{
 "cells": [
  {
   "cell_type": "markdown",
   "metadata": {},
   "source": [
    "<center><font size = \"10\"> Week 4 - Ion Channels <center>\n",
    "<center><font size = \"8\">Home work SOLUTIONS<center>"
   ]
  },
  {
   "cell_type": "markdown",
   "metadata": {},
   "source": [
    "<font size = \"3\">Please, write your group number and the names and surnames of the group members here\n",
    "<br>Group number:\n",
    "<br>Group member1:\n",
    "<br>Group member2:\n",
    "<br>Group member3:"
   ]
  },
  {
   "cell_type": "markdown",
   "metadata": {
    "tags": []
   },
   "source": [
    "# Ex1. Extracting parameters from experimental data\n",
    "\n",
    "<font size=5>\n",
    "\n",
    "You have been provided with a .nwb file (pottasium_ion_channel_rCell8600.nwb) describing measurements of a potassium channel.\n",
    "The Activiation protocol contains current traces for an ion channel voltage clamped at potentials between -90 mV and +80 mV, at 10mV intervals.\n",
    "\n",
    "Plot each of the traces and inspect them.\n",
    "For each trace identify the maximum current $I_{max}$ and the activation time constant $ \\tau_m $.\n",
    "You can find $\\tau_m$ at each potential value by fitting an exponential function $ y = a + b e^{\\frac{-x}{\\tau_{m}}} $ to the activation curve.\n",
    "Fit each trace between some start time of your choice (choose carefully) and the point of maximum ionic current.\n",
    "\n",
    "    \n",
    "Finally, plot $tau_m$ and $I_k$ against membrane potential (on separate axes). How do they vary with voltage? What does this mean for the behavior of the channel?\n",
    "\n",
    "[2 pts]\n",
    "\n"
   ]
  },
  {
   "cell_type": "markdown",
   "metadata": {},
   "source": [
    "Marking: \n",
    "    \n",
    "0.5 point for realising to start from 100ms, \n",
    "0.5 point for finding a good explonential function to fit all data, given that in some cases the curves for the first \n",
    "pulses can't be fitted with the exponential function of the tutorial.\n",
    "0.5 points for plotting the traces\n",
    "0.5 for plotting I_k and tau_m, recognizing that the channel becomes more active and activates more quickly when the cell is depolarized."
   ]
  },
  {
   "cell_type": "code",
   "execution_count": 1,
   "metadata": {},
   "outputs": [],
   "source": [
    "import pandas as pd\n",
    "import numpy as np\n",
    "from scipy import stats\n",
    "from scipy.optimize import curve_fit\n",
    "import matplotlib.pyplot as plt\n",
    "import h5py\n",
    "from scipy.optimize import leastsq\n",
    "import math\n",
    "import matplotlib.cm as cm\n",
    "\n",
    "def plotDataFiles(nwbFile, protocolName, repID):\n",
    "    \n",
    "    taus = []\n",
    "    # Open the file\n",
    "    open_data = h5py.File(nwbFile, 'r')\n",
    "    # Select what we need for ploting\n",
    "    string_data = '/acquisition/timeseries/'+ protocolName + '/repetitions/repetition' + repID +'/data'\n",
    "    string_xinterval = '/acquisition/timeseries/'+ protocolName + '/repetitions/repetition' + repID +'/x_interval'\n",
    "    string_xstart = '/acquisition/timeseries/'+ protocolName + '/repetitions/repetition' + repID +'/x_start'\n",
    "  \n",
    "    # save to a different variables\n",
    "    data = open_data[(string_data)]\n",
    "    x_interval = open_data[(string_xinterval)]\n",
    "    x_start = open_data[(string_xstart)]\n",
    "    \n",
    "    # create time vector in ms\n",
    "    nRow, nCol = data.shape\n",
    "    x_end = x_start[0] + x_interval[0]*(float(nRow - 1))\n",
    "    time = np.linspace(x_start[0], x_end, nRow) * 1000\n",
    "    \n",
    "    \n",
    "    # plot the traces to see at what time point to start fitting data to exponential\n",
    "    plt.figure()\n",
    "    plt.title('%s protocol' %protocolName)\n",
    "    plt.ylabel('curent trace (pA)')\n",
    "    plt.xlabel('time (ms)')\n",
    "    plt.plot(time, data, 'b')\n",
    "    plt.show()  \n",
    "    \n",
    "    data_t = np.transpose(data)\n",
    "    i = 0\n",
    "    pot= - 90\n",
    "    popt = None\n",
    "    potentials = []\n",
    "    currents = []\n",
    "    a = []\n",
    "    b = []\n",
    "    for trace in data_t:                      \n",
    "            maximum = max(trace) #get the maximum amplitude\n",
    "            \n",
    "            #Find the indecies where time is 100ms and the amplitude is max           \n",
    "            index1 = np.where(time==[100.0])  #at which we have 100ms\n",
    "            index2 = np.where(trace==maximum) #at which the amplitude is max \n",
    "            \n",
    "            #Get integer numbers\n",
    "            fl_arr1 = np.asarray(index1).flatten() #create arrays from index1 and index2     \n",
    "            fl_arr2 = np.asarray(index2).flatten() \n",
    "            i1 = int(np.asarray(fl_arr1[0]))       #extract integers\n",
    "            i2 = int(np.asarray(fl_arr2[0]))       \n",
    "            \n",
    "            #Select in the time array only the values between 100ms and the max amplitude\n",
    "            x_data = time[i1:i2] \n",
    "            x_data = x_data.flatten()      #convert the ndarray to a 1D array\n",
    "            x_data=x_data-100              #each element of time array updated to have a scale from 0 to x and better fitting\n",
    "            x_data = pd.Series(x_data)     #convert the 1D array to pandas.core.series (type needed by curve fit in the exp)\n",
    "            \n",
    "            #Select in the trace array only the values between 100ms and the max amplitude\n",
    "            y_data = trace[i1:i2]\n",
    "            y_data = y_data.flatten()      \n",
    "            y_data = pd.Series(y_data)\n",
    "            \n",
    "            #print number of the trace and voltage applied\n",
    "            j = str(i+1)\n",
    "            potential = str(pot)\n",
    "            print('This is trace # : '+j+' with voltage : '+potential+' mV')\n",
    "            potentials.append(pot)\n",
    "            currents.append(maximum)\n",
    "            if len(x_data) != 0 and len(y_data) != 0:\n",
    "                popt = curveFittingSingleExp(x_data,y_data, p0=popt)\n",
    "                a.append(popt[1])\n",
    "                b.append(popt[2])\n",
    "                taus.append(popt[0]) # it returns the tau value\n",
    "                                                                  # it creates a list with tau values from all traces\n",
    "            else: # data is empty, just append nan\n",
    "                a.append(np.nan)\n",
    "                b.append(np.nan)\n",
    "                taus.append(np.nan)\n",
    "                \n",
    "            i = i+1\n",
    "            pot = pot+10\n",
    "    \n",
    "    return potentials, taus, a, b, currents\n",
    "\n",
    "\n",
    "# Function for exponential fitting\n",
    "def func_expi(x, tau, a, b):\n",
    "\n",
    "    return (a + b * np.exp(-x/tau))\n",
    "\n",
    "def curveFittingSingleExp(x_data,y_data, p0=None):\n",
    "    popt, pcov = curve_fit(func_expi, x_data, y_data, p0=p0)\n",
    "    perr = np.sqrt(np.diag(pcov))\n",
    "    plt.figure() #figsize=(10,6))\n",
    "    plt.plot(x_data, y_data, 'xk', label='original data' )\n",
    "    plt.plot(x_data, func_expi(x_data, popt[0],popt[1],popt[2]), '-r',label='fit: tau=%.3f, error=%.3f' %(popt[0],perr[0]))\n",
    "    plt.legend()\n",
    "    plt.show()\n",
    "    \n",
    "    return popt  # it returns the tau value\n",
    "\n"
   ]
  },
  {
   "cell_type": "code",
   "execution_count": 2,
   "metadata": {},
   "outputs": [
    {
     "ename": "FileNotFoundError",
     "evalue": "[Errno 2] Unable to open file (unable to open file: name = 'Data_files/rCell8600.nwb', errno = 2, error message = 'No such file or directory', flags = 0, o_flags = 0)",
     "output_type": "error",
     "traceback": [
      "\u001b[0;31m---------------------------------------------------------------------------\u001b[0m",
      "\u001b[0;31mFileNotFoundError\u001b[0m                         Traceback (most recent call last)",
      "Cell \u001b[0;32mIn[2], line 2\u001b[0m\n\u001b[1;32m      1\u001b[0m fileName2 \u001b[38;5;241m=\u001b[39m \u001b[38;5;124m'\u001b[39m\u001b[38;5;124mData_files/rCell8600.nwb\u001b[39m\u001b[38;5;124m'\u001b[39m\n\u001b[0;32m----> 2\u001b[0m potentials, taus, a, b, currents \u001b[38;5;241m=\u001b[39m \u001b[43mplotDataFiles\u001b[49m\u001b[43m(\u001b[49m\u001b[43mfileName2\u001b[49m\u001b[43m,\u001b[49m\u001b[43m \u001b[49m\u001b[38;5;124;43m'\u001b[39;49m\u001b[38;5;124;43mActivation\u001b[39;49m\u001b[38;5;124;43m'\u001b[39;49m\u001b[43m,\u001b[49m\u001b[43m \u001b[49m\u001b[38;5;124;43m'\u001b[39;49m\u001b[38;5;124;43m1\u001b[39;49m\u001b[38;5;124;43m'\u001b[39;49m\u001b[43m)\u001b[49m\n",
      "Cell \u001b[0;32mIn[1], line 15\u001b[0m, in \u001b[0;36mplotDataFiles\u001b[0;34m(nwbFile, protocolName, repID)\u001b[0m\n\u001b[1;32m     13\u001b[0m taus \u001b[38;5;241m=\u001b[39m []\n\u001b[1;32m     14\u001b[0m \u001b[38;5;66;03m# Open the file\u001b[39;00m\n\u001b[0;32m---> 15\u001b[0m open_data \u001b[38;5;241m=\u001b[39m \u001b[43mh5py\u001b[49m\u001b[38;5;241;43m.\u001b[39;49m\u001b[43mFile\u001b[49m\u001b[43m(\u001b[49m\u001b[43mnwbFile\u001b[49m\u001b[43m,\u001b[49m\u001b[43m \u001b[49m\u001b[38;5;124;43m'\u001b[39;49m\u001b[38;5;124;43mr\u001b[39;49m\u001b[38;5;124;43m'\u001b[39;49m\u001b[43m)\u001b[49m\n\u001b[1;32m     16\u001b[0m \u001b[38;5;66;03m# Select what we need for ploting\u001b[39;00m\n\u001b[1;32m     17\u001b[0m string_data \u001b[38;5;241m=\u001b[39m \u001b[38;5;124m'\u001b[39m\u001b[38;5;124m/acquisition/timeseries/\u001b[39m\u001b[38;5;124m'\u001b[39m\u001b[38;5;241m+\u001b[39m protocolName \u001b[38;5;241m+\u001b[39m \u001b[38;5;124m'\u001b[39m\u001b[38;5;124m/repetitions/repetition\u001b[39m\u001b[38;5;124m'\u001b[39m \u001b[38;5;241m+\u001b[39m repID \u001b[38;5;241m+\u001b[39m\u001b[38;5;124m'\u001b[39m\u001b[38;5;124m/data\u001b[39m\u001b[38;5;124m'\u001b[39m\n",
      "File \u001b[0;32m~/miniconda3/envs/biophysics/lib/python3.12/site-packages/h5py/_hl/files.py:561\u001b[0m, in \u001b[0;36mFile.__init__\u001b[0;34m(self, name, mode, driver, libver, userblock_size, swmr, rdcc_nslots, rdcc_nbytes, rdcc_w0, track_order, fs_strategy, fs_persist, fs_threshold, fs_page_size, page_buf_size, min_meta_keep, min_raw_keep, locking, alignment_threshold, alignment_interval, meta_block_size, **kwds)\u001b[0m\n\u001b[1;32m    552\u001b[0m     fapl \u001b[38;5;241m=\u001b[39m make_fapl(driver, libver, rdcc_nslots, rdcc_nbytes, rdcc_w0,\n\u001b[1;32m    553\u001b[0m                      locking, page_buf_size, min_meta_keep, min_raw_keep,\n\u001b[1;32m    554\u001b[0m                      alignment_threshold\u001b[38;5;241m=\u001b[39malignment_threshold,\n\u001b[1;32m    555\u001b[0m                      alignment_interval\u001b[38;5;241m=\u001b[39malignment_interval,\n\u001b[1;32m    556\u001b[0m                      meta_block_size\u001b[38;5;241m=\u001b[39mmeta_block_size,\n\u001b[1;32m    557\u001b[0m                      \u001b[38;5;241m*\u001b[39m\u001b[38;5;241m*\u001b[39mkwds)\n\u001b[1;32m    558\u001b[0m     fcpl \u001b[38;5;241m=\u001b[39m make_fcpl(track_order\u001b[38;5;241m=\u001b[39mtrack_order, fs_strategy\u001b[38;5;241m=\u001b[39mfs_strategy,\n\u001b[1;32m    559\u001b[0m                      fs_persist\u001b[38;5;241m=\u001b[39mfs_persist, fs_threshold\u001b[38;5;241m=\u001b[39mfs_threshold,\n\u001b[1;32m    560\u001b[0m                      fs_page_size\u001b[38;5;241m=\u001b[39mfs_page_size)\n\u001b[0;32m--> 561\u001b[0m     fid \u001b[38;5;241m=\u001b[39m \u001b[43mmake_fid\u001b[49m\u001b[43m(\u001b[49m\u001b[43mname\u001b[49m\u001b[43m,\u001b[49m\u001b[43m \u001b[49m\u001b[43mmode\u001b[49m\u001b[43m,\u001b[49m\u001b[43m \u001b[49m\u001b[43muserblock_size\u001b[49m\u001b[43m,\u001b[49m\u001b[43m \u001b[49m\u001b[43mfapl\u001b[49m\u001b[43m,\u001b[49m\u001b[43m \u001b[49m\u001b[43mfcpl\u001b[49m\u001b[43m,\u001b[49m\u001b[43m \u001b[49m\u001b[43mswmr\u001b[49m\u001b[38;5;241;43m=\u001b[39;49m\u001b[43mswmr\u001b[49m\u001b[43m)\u001b[49m\n\u001b[1;32m    563\u001b[0m \u001b[38;5;28;01mif\u001b[39;00m \u001b[38;5;28misinstance\u001b[39m(libver, \u001b[38;5;28mtuple\u001b[39m):\n\u001b[1;32m    564\u001b[0m     \u001b[38;5;28mself\u001b[39m\u001b[38;5;241m.\u001b[39m_libver \u001b[38;5;241m=\u001b[39m libver\n",
      "File \u001b[0;32m~/miniconda3/envs/biophysics/lib/python3.12/site-packages/h5py/_hl/files.py:235\u001b[0m, in \u001b[0;36mmake_fid\u001b[0;34m(name, mode, userblock_size, fapl, fcpl, swmr)\u001b[0m\n\u001b[1;32m    233\u001b[0m     \u001b[38;5;28;01mif\u001b[39;00m swmr \u001b[38;5;129;01mand\u001b[39;00m swmr_support:\n\u001b[1;32m    234\u001b[0m         flags \u001b[38;5;241m|\u001b[39m\u001b[38;5;241m=\u001b[39m h5f\u001b[38;5;241m.\u001b[39mACC_SWMR_READ\n\u001b[0;32m--> 235\u001b[0m     fid \u001b[38;5;241m=\u001b[39m \u001b[43mh5f\u001b[49m\u001b[38;5;241;43m.\u001b[39;49m\u001b[43mopen\u001b[49m\u001b[43m(\u001b[49m\u001b[43mname\u001b[49m\u001b[43m,\u001b[49m\u001b[43m \u001b[49m\u001b[43mflags\u001b[49m\u001b[43m,\u001b[49m\u001b[43m \u001b[49m\u001b[43mfapl\u001b[49m\u001b[38;5;241;43m=\u001b[39;49m\u001b[43mfapl\u001b[49m\u001b[43m)\u001b[49m\n\u001b[1;32m    236\u001b[0m \u001b[38;5;28;01melif\u001b[39;00m mode \u001b[38;5;241m==\u001b[39m \u001b[38;5;124m'\u001b[39m\u001b[38;5;124mr+\u001b[39m\u001b[38;5;124m'\u001b[39m:\n\u001b[1;32m    237\u001b[0m     fid \u001b[38;5;241m=\u001b[39m h5f\u001b[38;5;241m.\u001b[39mopen(name, h5f\u001b[38;5;241m.\u001b[39mACC_RDWR, fapl\u001b[38;5;241m=\u001b[39mfapl)\n",
      "File \u001b[0;32mh5py/_objects.pyx:54\u001b[0m, in \u001b[0;36mh5py._objects.with_phil.wrapper\u001b[0;34m()\u001b[0m\n",
      "File \u001b[0;32mh5py/_objects.pyx:55\u001b[0m, in \u001b[0;36mh5py._objects.with_phil.wrapper\u001b[0;34m()\u001b[0m\n",
      "File \u001b[0;32mh5py/h5f.pyx:102\u001b[0m, in \u001b[0;36mh5py.h5f.open\u001b[0;34m()\u001b[0m\n",
      "\u001b[0;31mFileNotFoundError\u001b[0m: [Errno 2] Unable to open file (unable to open file: name = 'Data_files/rCell8600.nwb', errno = 2, error message = 'No such file or directory', flags = 0, o_flags = 0)"
     ]
    }
   ],
   "source": [
    "fileName2 = 'Data_files/rCell8600.nwb'\n",
    "potentials, taus, a, b, currents = plotDataFiles(fileName2, 'Activation', '1')"
   ]
  },
  {
   "cell_type": "code",
   "execution_count": 3,
   "metadata": {},
   "outputs": [
    {
     "ename": "NameError",
     "evalue": "name 'potentials' is not defined",
     "output_type": "error",
     "traceback": [
      "\u001b[0;31m---------------------------------------------------------------------------\u001b[0m",
      "\u001b[0;31mNameError\u001b[0m                                 Traceback (most recent call last)",
      "Cell \u001b[0;32mIn[3], line 1\u001b[0m\n\u001b[0;32m----> 1\u001b[0m plt\u001b[38;5;241m.\u001b[39mplot(\u001b[43mpotentials\u001b[49m,taus)\n\u001b[1;32m      2\u001b[0m plt\u001b[38;5;241m.\u001b[39mxlim([\u001b[38;5;241m-\u001b[39m\u001b[38;5;241m100\u001b[39m, \u001b[38;5;241m100\u001b[39m])\n\u001b[1;32m      3\u001b[0m plt\u001b[38;5;241m.\u001b[39mtitle(\u001b[38;5;124m'\u001b[39m\u001b[38;5;124mchannel time constant VS clamped voltage stimulation\u001b[39m\u001b[38;5;124m'\u001b[39m)\n",
      "\u001b[0;31mNameError\u001b[0m: name 'potentials' is not defined"
     ]
    }
   ],
   "source": [
    "plt.plot(potentials,taus)\n",
    "plt.xlim([-100, 100])\n",
    "plt.title('channel time constant VS clamped voltage stimulation')\n",
    "plt.ylabel('Tau (ms)')\n",
    "plt.xlabel('V (mV)')\n",
    "plt.show()\n"
   ]
  },
  {
   "cell_type": "code",
   "execution_count": 4,
   "metadata": {
    "tags": []
   },
   "outputs": [
    {
     "ename": "NameError",
     "evalue": "name 'potentials' is not defined",
     "output_type": "error",
     "traceback": [
      "\u001b[0;31m---------------------------------------------------------------------------\u001b[0m",
      "\u001b[0;31mNameError\u001b[0m                                 Traceback (most recent call last)",
      "Cell \u001b[0;32mIn[4], line 1\u001b[0m\n\u001b[0;32m----> 1\u001b[0m plt\u001b[38;5;241m.\u001b[39mplot(\u001b[43mpotentials\u001b[49m, currents)\n\u001b[1;32m      2\u001b[0m plt\u001b[38;5;241m.\u001b[39mylabel(\u001b[38;5;124m\"\u001b[39m\u001b[38;5;124mI (mA)\u001b[39m\u001b[38;5;124m\"\u001b[39m)\n\u001b[1;32m      3\u001b[0m plt\u001b[38;5;241m.\u001b[39mxlabel(\u001b[38;5;124m\"\u001b[39m\u001b[38;5;124mV (mV)\u001b[39m\u001b[38;5;124m\"\u001b[39m)\n",
      "\u001b[0;31mNameError\u001b[0m: name 'potentials' is not defined"
     ]
    }
   ],
   "source": [
    "plt.plot(potentials, currents)\n",
    "plt.ylabel(\"I (mA)\")\n",
    "plt.xlabel(\"V (mV)\")"
   ]
  },
  {
   "cell_type": "markdown",
   "metadata": {},
   "source": [
    "# Ex2. Implementing a Potassium channel\n",
    "\n",
    "<font size=5>\n",
    "\n",
    "See `SKv3.1.mod`. Your task is to fill it in to implement the following potassium channel model:\n",
    "\n",
    "$I_K = g_k \\times (v - E_k)$\n",
    "    \n",
    "Where $I_k$ is potassium current, v is membrane potential, $g_k$ the potassium conductance, and $E_k$ is the reversal potential of potassium (provided for you within the NEURON simulator).\n",
    "\n",
    "Note: to use the file you will need to copy it into the parent directory once it is ready. The !nrnivmodl command below will fail if the file is not present in the parent directory or the file has errors.\n",
    "\n",
    "$g_k = \\bar{g_k} \\times m $\n",
    "    \n",
    "Where $\\bar{g_k}$ is the maximum potassium conductance and m evolves according to the differential equation:\n",
    "\n",
    "$m' = \\frac{(m_{inf} - m)}{\\tau_m}$\n",
    "\n",
    "$m_{inf} = \\frac{1}{1 + e^{\\frac{v - v_{half}}{ s_m}}}$\n",
    "    \n",
    "$\\tau_m = \\frac{c_{\\tau}}{1 + e^{\\frac{v - v_{\\tau}}{s_{\\tau}}}} $\n",
    "    \n",
    "With some values fixed:\n",
    "    \n",
    "$s_m = -9.7$\n",
    "    \n",
    "$c_{\\tau} = 4$\n",
    "    \n",
    "$\\bar{g_k} = 0.0001 Scm^{-2}$\n",
    "\n",
    "$v_{\\tau} =  -46.560 V$\n",
    "    \n",
    "$s_{\\tau} = -44$\n",
    "\n",
    "The remaining parameter, $v_{half}$ we will vary.\n",
    "    \n",
    "Next, Create a cell in Neuron with the following characteristics: \n",
    "    \n",
    " - 1 section (soma) with one segment 15 µm of length and diameter, \n",
    " - 120 Ω*cm of axial radius and \n",
    " - 1.6 µF/cm^2 of capacitance. \n",
    "    \n",
    "Insert the channel you just created.\n",
    "Add a current clamp stimulus starting at 100ms and lasting 500ms.\n",
    "    \n",
    "Vary vhalf for to the values -30, -20, -10, 0, 10, 20. \n",
    "For each value of vhalf, vary stimulus amplitude between 0 and 1.5.\n",
    "Record the maximum membrane potential and potassium conductance for each.\n",
    "    \n",
    "plot the I/V curves for each v_half on the same axes. \n",
    "explain the meaning of the results.\n",
    "\n",
    "[2 pts]\n",
    "    \n",
    "Marking: \n",
    "    1 pts for entering the correct equations into the modfile\n",
    "    0.5 for correctly plotting I/V curves\n",
    "    0.5 pts for showing that modifying the half-value of the conductance shifts the switch from open to closed to different potentials."
   ]
  },
  {
   "cell_type": "code",
   "execution_count": 5,
   "metadata": {
    "tags": []
   },
   "outputs": [
    {
     "name": "stdout",
     "output_type": "stream",
     "text": [
      "/Users/wesleymonteith/miniconda3/envs/biophysics/bin/nrnivmodl:10: DeprecationWarning: pkg_resources is deprecated as an API. See https://setuptools.pypa.io/en/latest/pkg_resources.html\n",
      "  from pkg_resources import working_set\n",
      "/usr/bin/xcrun\n",
      "/Users/wesleymonteith/code/nx-450-computational-neuroscience-biophysics/Week 3\n",
      "Mod files: \"./Ca.mod\"\n",
      "\n",
      " -> \u001b[32mCompiling\u001b[0m mod_func.cpp\n",
      " => \u001b[32mLINKING\u001b[0m shared library ./libnrnmech.dylib\n",
      "Successfully created x86_64/special\n"
     ]
    }
   ],
   "source": [
    "!nrnivmodl"
   ]
  },
  {
   "cell_type": "code",
   "execution_count": 6,
   "metadata": {
    "tags": []
   },
   "outputs": [
    {
     "name": "stderr",
     "output_type": "stream",
     "text": [
      "Warning: no DISPLAY environment variable.\n",
      "--No graphics will be displayed.\n"
     ]
    },
    {
     "data": {
      "text/plain": [
       "1.0"
      ]
     },
     "execution_count": 6,
     "metadata": {},
     "output_type": "execute_result"
    }
   ],
   "source": [
    "from neuron import h\n",
    "from tqdm import tqdm\n",
    "h.load_file('stdrun.hoc')"
   ]
  },
  {
   "cell_type": "code",
   "execution_count": 7,
   "metadata": {
    "tags": []
   },
   "outputs": [
    {
     "ename": "ValueError",
     "evalue": "argument not a density mechanism name.",
     "output_type": "error",
     "traceback": [
      "\u001b[0;31m---------------------------------------------------------------------------\u001b[0m",
      "\u001b[0;31mValueError\u001b[0m                                Traceback (most recent call last)",
      "Cell \u001b[0;32mIn[7], line 8\u001b[0m\n\u001b[1;32m      6\u001b[0m soma\u001b[38;5;241m.\u001b[39mcm \u001b[38;5;241m=\u001b[39m \u001b[38;5;241m20\u001b[39m\n\u001b[1;32m      7\u001b[0m soma\u001b[38;5;241m.\u001b[39minsert(\u001b[38;5;124m'\u001b[39m\u001b[38;5;124mpas\u001b[39m\u001b[38;5;124m'\u001b[39m) \u001b[38;5;66;03m# passive leakage\u001b[39;00m\n\u001b[0;32m----> 8\u001b[0m \u001b[43msoma\u001b[49m\u001b[38;5;241;43m.\u001b[39;49m\u001b[43minsert\u001b[49m\u001b[43m(\u001b[49m\u001b[38;5;124;43m\"\u001b[39;49m\u001b[38;5;124;43mSKv3_1\u001b[39;49m\u001b[38;5;124;43m\"\u001b[39;49m\u001b[43m)\u001b[49m\n",
      "\u001b[0;31mValueError\u001b[0m: argument not a density mechanism name."
     ]
    }
   ],
   "source": [
    "soma = h.Section()\n",
    "soma.L = 18.0     # length (µm)\n",
    "soma.diam = 18.0  # diameter (µm)\n",
    "soma.Ra = 123.0   # axial resistivity (Ω*cm)\n",
    "soma.nseg = 1\n",
    "soma.cm = 20\n",
    "soma.insert('pas') # passive leakage\n",
    "soma.insert(\"SKv3_1\")\n",
    "\n"
   ]
  },
  {
   "cell_type": "code",
   "execution_count": 8,
   "metadata": {
    "tags": []
   },
   "outputs": [],
   "source": [
    "# Inject a current step into the soma\n",
    "stim = h.IClamp(soma(0.5))         # Place a stimulation electrode in the middle of the soma\n",
    "stim.delay = 100   # stim delay (ms)\n",
    "stim.amp = 0.6   # stim amplitude (nA)\n",
    "stim.dur = 500     # stim duration (ms)"
   ]
  },
  {
   "cell_type": "code",
   "execution_count": 9,
   "metadata": {
    "tags": []
   },
   "outputs": [
    {
     "ename": "AttributeError",
     "evalue": "ik, the mechanism does not exist at __nrnsec_0x7f94dff79000(0.5)",
     "output_type": "error",
     "traceback": [
      "\u001b[0;31m---------------------------------------------------------------------------\u001b[0m",
      "\u001b[0;31mAttributeError\u001b[0m                            Traceback (most recent call last)",
      "Cell \u001b[0;32mIn[9], line 2\u001b[0m\n\u001b[1;32m      1\u001b[0m ik \u001b[38;5;241m=\u001b[39m h\u001b[38;5;241m.\u001b[39mVector()\n\u001b[0;32m----> 2\u001b[0m ik\u001b[38;5;241m.\u001b[39mrecord(\u001b[43msoma\u001b[49m\u001b[43m(\u001b[49m\u001b[38;5;241;43m0.5\u001b[39;49m\u001b[43m)\u001b[49m\u001b[38;5;241;43m.\u001b[39;49m\u001b[43m_ref_ik\u001b[49m)\n\u001b[1;32m      3\u001b[0m v \u001b[38;5;241m=\u001b[39m h\u001b[38;5;241m.\u001b[39mVector()\n\u001b[1;32m      4\u001b[0m v\u001b[38;5;241m.\u001b[39mrecord(soma(\u001b[38;5;241m0.5\u001b[39m)\u001b[38;5;241m.\u001b[39m_ref_v)\n",
      "\u001b[0;31mAttributeError\u001b[0m: ik, the mechanism does not exist at __nrnsec_0x7f94dff79000(0.5)"
     ]
    }
   ],
   "source": [
    "ik = h.Vector()\n",
    "ik.record(soma(0.5)._ref_ik)\n",
    "v = h.Vector()\n",
    "v.record(soma(0.5)._ref_v)\n",
    "t = h.Vector()\n",
    "t.record(h._ref_t)\n",
    "\n",
    "\n",
    "for vhalf in tqdm([-30, -20, -10, 0, 10, 20]):\n",
    "    vmax = []\n",
    "    imax = []\n",
    "    for amp in np.linspace(0, 1.4, 20):\n",
    "        for sec in soma:\n",
    "            sec.SKv3_1.v_half = vhalf\n",
    "            sec.SKv3_1.slope_tau = 4\n",
    "        stim.amp = amp\n",
    "        h.finitialize(-70)\n",
    "        h.continuerun(700)\n",
    "        vmax.append(np.array(v).max())\n",
    "        imax.append(np.array(ik).max())\n",
    "    plt.plot(vmax, imax)\n",
    "\n",
    "plt.show()\n",
    "\n"
   ]
  },
  {
   "cell_type": "code",
   "execution_count": null,
   "metadata": {},
   "outputs": [],
   "source": []
  },
  {
   "cell_type": "code",
   "execution_count": null,
   "metadata": {
    "tags": []
   },
   "outputs": [],
   "source": []
  },
  {
   "cell_type": "code",
   "execution_count": null,
   "metadata": {},
   "outputs": [],
   "source": []
  },
  {
   "cell_type": "markdown",
   "metadata": {},
   "source": [
    "# Ex3. Finding the rheobase (minimal current needed to elicit an action potential) of a cell\n",
    "\n",
    "<font size = \"3\">Create a cell in Neuron with the following characteristics: \n",
    "    \n",
    " - 1 section (soma) with one segment 15 µm of length and diameter, \n",
    " - 120 Ω*cm of axial radius and \n",
    " - 1.6 µF/cm^2 of capacitance. \n",
    "\n",
    "Add active sodium and potassium channels using the hodgekin-huxley (hh) mechanism. Set (gNa = 0.09 S and gK = 0.01 S).\n",
    "hh also includes a passive conductance driving the neuron to its resting potential.\n",
    "Set hh.el to -70 mV and hh.gl to 0.003 S/cm^2. \n",
    "    \n",
    "Generate a current clamp experiment in which you inject 0.016 mA current into the cell soma with 50 ms delay, 500ms in duration. Use a voltage base of -70 mV and set the total recording duration of the experiment to 800ms. This is your base experiment - plot the injected current and the resulting membrane potential. Vary the injected current to find the rheobase of this cell - what is its amplitude ? What is the threshold potential for this cell? \n",
    "\n",
    "Next, inject the rheobase current into the cell for 60 ms followed 200ms later by double rheobase current for only 30ms. Plot the voltage trace. What do you see? Why does this effect occur?\n",
    "    \n",
    "Finally, inject rheobase as in the first experiment but vary the sodium conductance with values 0.08, 0.09, 0.12. Plot the voltage traces. Is the excitability of the cell very sensitive to this parameter? How does this relate to the role of sodium channels in action potential generation?\n",
    "    \n",
    "<font size = \"3\">[2 pt]"
   ]
  },
  {
   "cell_type": "markdown",
   "metadata": {},
   "source": [
    "Marking: \n",
    "0.5 point for setting up base experiment and plotting injected current and voltage reponse with properly labeled axes and units\n",
    "0.5 point for figuring out and justifying the rheobase of this cell= minimum amount of current required to make the cell fire (0.028 pA) and for finding the threshold membrane voltage = -55mV (approx - between -62 and 50).\n",
    "0.5 point for discussing how the ease with which a membrane can be stimulated depends on two variables: the strength of the stimulus, and the duration for which the stimulus is applied. A stronger stimulus delivered in a smaller time window tends to cause more spiking, as the membrane leak conductance will have less time remove the injected potential. \n",
    "\n",
    "0.5 point for showing dependence of firing on soldium channels and associating this with the role of sodium channels in the rise phase of the AP."
   ]
  },
  {
   "cell_type": "code",
   "execution_count": 10,
   "metadata": {},
   "outputs": [
    {
     "name": "stdout",
     "output_type": "stream",
     "text": [
      "/Users/wesleymonteith/miniconda3/envs/biophysics/bin/nrnivmodl:10: DeprecationWarning: pkg_resources is deprecated as an API. See https://setuptools.pypa.io/en/latest/pkg_resources.html\n",
      "  from pkg_resources import working_set\n",
      "/usr/bin/xcrun\n",
      "/Users/wesleymonteith/code/nx-450-computational-neuroscience-biophysics/Week 3\n",
      "Mod files: \"./Ca.mod\"\n",
      "\n",
      " -> \u001b[32mCompiling\u001b[0m mod_func.cpp\n",
      " => \u001b[32mLINKING\u001b[0m shared library ./libnrnmech.dylib\n",
      "Successfully created x86_64/special\n"
     ]
    }
   ],
   "source": [
    "# This will compile the mechanisms inside the MOD files (and create a new folder x86_64/special).\n",
    "! nrnivmodl\n"
   ]
  },
  {
   "cell_type": "code",
   "execution_count": 11,
   "metadata": {},
   "outputs": [
    {
     "data": {
      "text/plain": [
       "1.0"
      ]
     },
     "execution_count": 11,
     "metadata": {},
     "output_type": "execute_result"
    }
   ],
   "source": [
    "from neuron import h\n",
    "import matplotlib.pyplot as plt\n",
    "%matplotlib inline\n",
    "\n",
    "h.load_file('stdrun.hoc')\n"
   ]
  },
  {
   "cell_type": "code",
   "execution_count": 12,
   "metadata": {},
   "outputs": [],
   "source": [
    "from neuron import h\n",
    "import matplotlib.pyplot as plt\n",
    "import numpy as np\n",
    "%matplotlib inline\n",
    "\n",
    "h.load_file('stdrun.hoc')\n",
    "def run_exp(amplitude_1, dur, amplitude_2, dur_2, second_stim, gna=0.09):\n",
    "    # Create a section \n",
    "    # Create a section \n",
    "    soma = h.Section()\n",
    "    soma.L = 15.0    # length (µm)\n",
    "    soma.diam = 15.0  # diameter (µm)\n",
    "    soma.Ra = 120.0   # axial resistivity (Ω*cm)\n",
    "    soma.cm = 1.6      # capacitance (µF/cm^2) \n",
    "    soma.nseg = 1\n",
    "\n",
    "    # Insert passive properties\n",
    "    #soma.insert('pas')\n",
    "    #for seg in soma:\n",
    "    #    seg.pas.g = 0.0003 # Conductance of the leak channels (in S/cm2)\n",
    "    #    seg.pas.e = -70   # Leak reversal potential, it influences the steady state membrane potential\n",
    "\n",
    "    # Insert active properties\n",
    "    soma.insert('hh')\n",
    "    for seg in soma:\n",
    "        seg.hh.gkbar = 0.01   # Maximal conductance of the potassium channels\n",
    "        seg.hh.gnabar = gna\n",
    "        seg.hh.el = -70\n",
    "        seg.hh.gl = 0.0003\n",
    "\n",
    "    # Inject a current step into the soma\n",
    "    stim = h.IClamp(soma(0.5))         # Place a stimulation electrode in the middle of the soma\n",
    "    stim.delay = 50   # stim delay (ms)\n",
    "    stim.amp = amplitude_1  # <-----------------------stim amplitude (pA) stim.amp = 0.028\n",
    "    stim.dur = dur     # stim duration (ms)\n",
    "\n",
    "    if second_stim:\n",
    "        # Inject a current step into the soma\n",
    "        stim2 = h.IClamp(soma(0.5))         # Place a stimulation electrode in the middle of the soma\n",
    "        stim2.delay = 50+dur+200  # stim delay (ms)\n",
    "        stim2.amp = amplitude_2   # <-----------------------stim amplitude (pA) stim.amp = 0.028\n",
    "        stim2.dur = dur_2     # stim duration (ms)\n",
    "\n",
    "        stim_current2 = h.Vector()\n",
    "        stim_current2.record(stim2._ref_i)\n",
    "\n",
    "\n",
    "    stim_current = h.Vector()\n",
    "    stim_current.record(stim._ref_i)\n",
    "\n",
    "    \n",
    "    # Initialize NEURON vectors to record time, voltage and current\n",
    "    # time vector\n",
    "    rec_t = h.Vector()\n",
    "    rec_t.record(h._ref_t)\n",
    "    # membrame potential vector\n",
    "    rec_v = h.Vector()\n",
    "    rec_v.record(soma(0.5)._ref_v)\n",
    "\n",
    "    # Na current\n",
    "    rec_iNa = h.Vector()\n",
    "    rec_iNa.record(soma(0.5)._ref_ina)\n",
    "    # K current\n",
    "    rec_iK = h.Vector()\n",
    "    rec_iK.record(soma(0.5)._ref_ik)\n",
    "\n",
    "    # Initialize and run a simulation\n",
    "    h.finitialize(-70)    # initial voltage \n",
    "    h.continuerun(800)    # total recording duration\n",
    "\n",
    "\n",
    "    f, (ax0, ax1)= plt.subplots(2,1, figsize=(6,3), gridspec_kw = {'height_ratios':[3, 1]})\n",
    "    ax0.plot(rec_t,rec_v, 'k')\n",
    "    ax1.plot(rec_t,stim_current, 'blue')\n",
    "    if second_stim:\n",
    "        ax1.plot(rec_t,stim_current2, 'red')\n",
    "\n",
    "    ax0.set_ylabel('Voltage (mV)')\n",
    "    ax0.spines['right'].set_visible(False)\n",
    "    ax0.spines['top'].set_visible(False)\n",
    "    ax0.spines['bottom'].set_visible(False)\n",
    "    ax0.get_xaxis().set_visible(False)\n",
    "\n",
    "    ax1.plot([50,50],[0.01,0.02],'k')\n",
    "    ax1.set_ylabel('I (nA)')\n",
    "    ax1.set_xlabel('t (ms)')\n",
    "    ax1.spines['right'].set_visible(False)\n",
    "    ax1.spines['top'].set_visible(False)\n",
    "    ax1.spines['left'].set_visible(False)\n",
    "    plt.tight_layout()\n",
    "    return rec_t.to_python(), rec_v.to_python()\n"
   ]
  },
  {
   "cell_type": "code",
   "execution_count": null,
   "metadata": {},
   "outputs": [],
   "source": []
  },
  {
   "cell_type": "code",
   "execution_count": 13,
   "metadata": {},
   "outputs": [
    {
     "data": {
      "image/png": "[encoded data removed]",
      "text/plain": [
       "<Figure size 600x300 with 2 Axes>"
      ]
     },
     "metadata": {},
     "output_type": "display_data"
    },
    {
     "data": {
      "image/png": "[encoded data removed]",
      "text/plain": [
       "<Figure size 600x300 with 2 Axes>"
      ]
     },
     "metadata": {},
     "output_type": "display_data"
    },
    {
     "data": {
      "image/png": "[encoded data removed]",
      "text/plain": [
       "<Figure size 600x300 with 2 Axes>"
      ]
     },
     "metadata": {},
     "output_type": "display_data"
    }
   ],
   "source": [
    "ratio = 2\n",
    "amplitude_1 = 0.016\n",
    "amplitude_2 = 0.015\n",
    "amplitude_3 = amplitude_1 * ratio\n",
    "dur = 500\n",
    "dur1 = 60\n",
    "dur2 = dur1 / ratio\n",
    "run_exp(amplitude_1, dur, 0, 0, False)\n",
    "run_exp(amplitude_2, dur, 0, 0, False)\n",
    "e=run_exp(amplitude_1, dur1, amplitude_3, dur2, True)"
   ]
  },
  {
   "cell_type": "code",
   "execution_count": 14,
   "metadata": {},
   "outputs": [
    {
     "name": "stderr",
     "output_type": "stream",
     "text": [
      "100%|██████████| 3/3 [00:00<00:00,  5.84it/s]\n"
     ]
    },
    {
     "data": {
      "image/png": "[encoded data removed]",
      "text/plain": [
       "<Figure size 600x300 with 2 Axes>"
      ]
     },
     "metadata": {},
     "output_type": "display_data"
    },
    {
     "data": {
      "image/png": "[encoded data removed]",
      "text/plain": [
       "<Figure size 600x300 with 2 Axes>"
      ]
     },
     "metadata": {},
     "output_type": "display_data"
    },
    {
     "data": {
      "image/png": "[encoded data removed]",
      "text/plain": [
       "<Figure size 600x300 with 2 Axes>"
      ]
     },
     "metadata": {},
     "output_type": "display_data"
    }
   ],
   "source": [
    "for gna in tqdm([0.08, 0.09, 0.12]):\n",
    "    run_exp(amplitude_1, dur, 0, 0, False, gna=gna)\n",
    "    plt.title(f\"g = {gna}\")"
   ]
  },
  {
   "cell_type": "markdown",
   "metadata": {},
   "source": []
  },
  {
   "cell_type": "markdown",
   "metadata": {
    "tags": []
   },
   "source": []
  },
  {
   "cell_type": "markdown",
   "metadata": {},
   "source": []
  },
  {
   "cell_type": "code",
   "execution_count": null,
   "metadata": {},
   "outputs": [],
   "source": []
  },
  {
   "cell_type": "code",
   "execution_count": null,
   "metadata": {},
   "outputs": [],
   "source": []
  },
  {
   "cell_type": "code",
   "execution_count": null,
   "metadata": {},
   "outputs": [],
   "source": []
  },
  {
   "cell_type": "code",
   "execution_count": null,
   "metadata": {},
   "outputs": [],
   "source": []
  },
  {
   "cell_type": "code",
   "execution_count": null,
   "metadata": {},
   "outputs": [],
   "source": []
  },
  {
   "cell_type": "code",
   "execution_count": null,
   "metadata": {},
   "outputs": [],
   "source": []
  },
  {
   "cell_type": "code",
   "execution_count": null,
   "metadata": {},
   "outputs": [],
   "source": []
  },
  {
   "cell_type": "code",
   "execution_count": null,
   "metadata": {},
   "outputs": [],
   "source": []
  },
  {
   "cell_type": "code",
   "execution_count": null,
   "metadata": {},
   "outputs": [],
   "source": []
  },
  {
   "cell_type": "code",
   "execution_count": null,
   "metadata": {},
   "outputs": [],
   "source": []
  },
  {
   "cell_type": "code",
   "execution_count": null,
   "metadata": {},
   "outputs": [],
   "source": []
  }
 ],
 "metadata": {
  "kernelspec": {
   "display_name": "Python3",
   "language": "python",
   "name": "python3"
  },
  "language_info": {
   "codemirror_mode": {
    "name": "ipython",
    "version": 3
   },
   "file_extension": ".py",
   "mimetype": "text/x-python",
   "name": "python",
   "nbconvert_exporter": "python",
   "pygments_lexer": "ipython3",
   "version": "3.12.4"
  }
 },
 "nbformat": 4,
 "nbformat_minor": 4
}
