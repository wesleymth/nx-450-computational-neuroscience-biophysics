{
 "cells": [
  {
   "cell_type": "markdown",
   "metadata": {},
   "source": [
    "<center><font size = \"10\"> Week 4 - Ion Channels <center>\n",
    "<center><font size = \"8\">Home work SOLUTIONS<center>"
   ]
  },
  {
   "cell_type": "markdown",
   "metadata": {
    "tags": []
   },
   "source": [
    "# Ex1. Extracting parameters from experimental data\n",
    "\n",
    "<font size=5>\n",
    "\n",
    "You have been provided with a .nwb file describing measurements of a potassium channel (pottasium_ion_channel_rCell8600.nwb).\n",
    "The Activiation protocol contains current traces for an ion channel voltage clamped at potentials between -90 mV and +80 mV, at 10mV intervals.\n",
    "\n",
    "Plot each of the traces and inspect them.\n",
    "For each trace identify the maximum current $I_{max}$ and the activation time constant $ \\tau_m $.\n",
    "You can find $\\tau_m$ at each potential value by fitting an exponential function $ y = a + b e^{\\frac{-x}{\\tau_{m}}} $ to the activation curve.\n",
    "Fit each trace between some start time of your choice (choose carefully) and the point of maximum ionic current.\n",
    "\n",
    "    \n",
    "Finally, plot $tau_{m}$ and $I_{k}$ against membrane potential (on separate axes). How do they vary with voltage? What does this mean for the behavior of the channel?\n",
    "\n"
   ]
  },
  {
   "cell_type": "code",
   "execution_count": null,
   "metadata": {},
   "outputs": [],
   "source": []
  },
  {
   "cell_type": "markdown",
   "metadata": {},
   "source": [
    "# Ex2. Implementing a Potassium channel\n",
    "\n",
    "<font size=5>\n",
    "\n",
    "See `SKv3.1.mod`. Your task is to complete the file to implement the following potassium channel model:\n",
    "\n",
    "$I_K = g_k \\times (v - E_k)$\n",
    "    \n",
    "Where $I_k$ is potassium current, v is membrane potential, $g_k$ the potassium conductance, and $E_k$ is the reversal potential of potassium (provided for you within the NEURON simulator).\n",
    "\n",
    "Note: to use the file you will need to copy it into the parent directory once it is ready. The !nrnivmodl command below will fail if the file is not present in the parent directory or the file has errors.\n",
    "\n",
    "$g_k = \\bar{g_k} \\times m $\n",
    "    \n",
    "Where $\\bar{g_k}$ is the maximum potassium conductance and m evolves according to the differential equation:\n",
    "\n",
    "$m' = \\frac{(m_{inf} - m)}{\\tau_m}$\n",
    "\n",
    "$m_{inf} = \\frac{1}{1 + e^{\\frac{v - v_{half}}{ s_m}}}$\n",
    "    \n",
    "$\\tau_m = \\frac{c_{\\tau}}{1 + e^{\\frac{v - v_{\\tau}}{s_{\\tau}}}} $\n",
    "    \n",
    "With some values fixed:\n",
    "    \n",
    "$s_m = -9.7$\n",
    "    \n",
    "$c_{\\tau} = 4$\n",
    "    \n",
    "$\\bar{g_k} = 0.0001 Scm^{-2}$\n",
    "\n",
    "$v_{\\tau} =  -46.560 V$\n",
    "    \n",
    "$s_{\\tau} = -44$\n",
    "\n",
    "The remaining parameter, $v_{half}$ we will vary.\n",
    "    \n",
    "Next, Create a cell in Neuron with the following characteristics: \n",
    "    \n",
    " - 1 section (soma) with one segment 15 µm of length and diameter, \n",
    " - 120 Ω*cm of axial radius and \n",
    " - 1.6 µF/cm^2 of capacitance. \n",
    "    \n",
    "Insert the channel you just created.\n",
    "Add a current clamp stimulus starting at 100ms and lasting 500ms.\n",
    "    \n",
    "Vary vhalf for to the values -30, -20, -10, 0, 10, 20. \n",
    "For each value of vhalf, vary stimulus amplitude between 0 and 1.5.\n",
    "Record the maximum membrane potential and potassium conductance for each.\n",
    "    \n",
    "plot the I/V curves for each v_half on the same axes. \n",
    "explain the meaning of the results.\n",
    "    "
   ]
  },
  {
   "cell_type": "code",
   "execution_count": null,
   "metadata": {},
   "outputs": [],
   "source": []
  },
  {
   "cell_type": "markdown",
   "metadata": {},
   "source": [
    "# Ex3. Finding the rheobase (minimal current needed to elicit an action potential) of a cell\n",
    "\n",
    "<font size = \"3\">Create a cell in Neuron with the following characteristics: \n",
    "    \n",
    " - 1 section (soma) with one segment 15 µm of length and diameter, \n",
    " - 120 Ω*cm of axial radius and \n",
    " - 1.6 µF/cm^2 of capacitance. \n",
    "\n",
    "Add active sodium and potassium channels using the hodgekin-huxley (hh) mechanism. Set (gNa = 0.09 S and gK = 0.01 S).\n",
    "hh also includes a passive conductance driving the neuron to its resting potential.\n",
    "Set hh.el to -70 mV and hh.gl to 0.003 S/cm^2. \n",
    "    \n",
    "Generate a current clamp experiment in which you inject 0.016 mA current into the cell soma with 50 ms delay, 500ms in duration. Use a voltage base of -70 mV and set the total recording duration of the experiment to 800ms. This is your base experiment - plot the injected current and the resulting membrane potential. Vary the injected current to find the rheobase of this cell - what is its amplitude ? What is the threshold potential for this cell? \n",
    "\n",
    "Next, inject the rheobase current into the cell for 60 ms followed 200ms later by double rheobase current for only 30ms. Plot the voltage trace. What do you see? Why does this effect occur?\n",
    "    \n",
    "Finally, inject rheobase as in the first experiment but vary the sodium conductance with values 0.08, 0.09, 0.12. Plot the voltage traces. Is the excitability of the cell very sensitive to this parameter? How does this relate to the role of sodium channels in action potential generation?\n",
    "    "
   ]
  },
  {
   "cell_type": "code",
   "execution_count": null,
   "metadata": {},
   "outputs": [],
   "source": []
  }
 ],
 "metadata": {
  "kernelspec": {
   "display_name": "Python3",
   "language": "python",
   "name": "python3"
  },
  "language_info": {
   "codemirror_mode": {
    "name": "ipython",
    "version": 3
   },
   "file_extension": ".py",
   "mimetype": "text/x-python",
   "name": "python",
   "nbconvert_exporter": "python",
   "pygments_lexer": "ipython3",
   "version": "3.12.5"
  }
 },
 "nbformat": 4,
 "nbformat_minor": 4
}
