{
 "cells": [
  {
   "cell_type": "markdown",
   "metadata": {
    "user_expressions": []
   },
   "source": [
    "<center><font size = \"10\"> Week 1 - Python3 Tutorial<center>\n",
    "<center><font size = \"8\">Tutorial 01: Introduction<center>\n",
    "<br>\n",
    "\n",
    "<font size = \"5\">__IMPORTANT:__ These exercises will not be graded"
   ]
  },
  {
   "cell_type": "markdown",
   "metadata": {
    "user_expressions": []
   },
   "source": [
    "# Data types (numbers, strings, booleans)\n",
    "\n",
    "<font size = \"3\"> Python supports a variety of data types, including:\n",
    "    \n",
    "<font size = \"3\">- __Integers__: (or \"ints\") are positive or negative whole numbers with no decimal point (e.g. 2, 4, 789242876, 300)\n",
    "\n",
    "    \n",
    "<font size = \"3\">- __Floats__: (or \"floating points real numbers\") represent real numbers and are written with a decimal point between the integer and fractional parts (e.g. 3.4, 567.54, -34.5)\n",
    "\n",
    "\n",
    "<font size = \"3\">- __Strings__: are sequences of characters. Python strings can be created with single quotes, double quotes, or triple quotes. When we use triple quotes, strings can span several lines without using the new line character (e.g. 'Hello world', \"Goodbye world\")\n",
    "\n",
    "\n",
    "<font size = \"3\">- __Booleans__: (or \"bools\") are used to represent whether something like the result of an expression is either True or False.\n",
    "\n",
    "<font size = \"3\">Examples:"
   ]
  },
  {
   "cell_type": "code",
   "execution_count": null,
   "metadata": {
    "tags": []
   },
   "outputs": [],
   "source": [
    "\"\"\"\n",
    "By using \"#\" or triple quotes we can add comments in our code\n",
    "The equals sign \"=\" is used to assign a value to a variable\n",
    "print() will display a representation of whatever is inside the parentheses\n",
    "\n",
    "Variable names can use upper case and lower case letters, the underscore, and the digits 0-9\n",
    "They cannot start with a digit\n",
    "\"\"\"\n",
    "\n",
    "# Create a variable and print its value\n",
    "my_num1 = 4\n",
    "print(my_num1)\n",
    "\n",
    "\"\"\"\n",
    "In Python there is no need to define the type of a variable (it is done automatically), \n",
    "but we can check the data type of a variable\n",
    "\"\"\"\n",
    "\n",
    "print(type(my_num1))\n",
    "\n",
    "\"\"\"\n",
    "TO RUN THE CELL PRESS CTRL + ENTER\n",
    "\"\"\""
   ]
  },
  {
   "cell_type": "code",
   "execution_count": null,
   "metadata": {
    "tags": []
   },
   "outputs": [],
   "source": [
    "my_num2 = 4.0        \n",
    "\n",
    "name1 = 'What if: '  \n",
    "name2 = \"I add a string to a string? \" \n",
    "name3 = '''\n",
    "lets\n",
    "write\n",
    "three lines \n",
    "'''\n",
    "\n",
    "binary1 = True                        # Or 'False'.\n",
    "\n",
    "print(name1)\n",
    "print(name2)\n",
    "print(name3)\n",
    "print (type(my_num2))\n",
    "print (type(name1))\n",
    "print (type(name2))\n",
    "print (type(name3))\n",
    "print (type(binary1))"
   ]
  },
  {
   "cell_type": "markdown",
   "metadata": {
    "user_expressions": []
   },
   "source": [
    "## Operations with data\n",
    "<font size = \"3\"> For each data type there are various operations which can be performed on them (such as arithmetic operations). "
   ]
  },
  {
   "cell_type": "code",
   "execution_count": null,
   "metadata": {
    "tags": []
   },
   "outputs": [],
   "source": [
    "\"\"\"\n",
    "It possible to define a new variable\n",
    "\"\"\"\n",
    "\n",
    "my_num12 = my_num1 + my_num2\n",
    "print (my_num12)\n",
    "\n",
    "\n",
    "\"\"\"\n",
    "Or we can print the result directly\n",
    "\"\"\"\n",
    "\n",
    "print (my_num1 - my_num2)\n",
    "print (my_num1 - my_num1)"
   ]
  },
  {
   "cell_type": "markdown",
   "metadata": {
    "user_expressions": []
   },
   "source": [
    "<font size = \"3\">__Important:__ If an operation is between integers (except division), the result will be an integer, if the operation is between floats the result will be a float, and if the operation is between integers and floats the result will be a float."
   ]
  },
  {
   "cell_type": "code",
   "execution_count": null,
   "metadata": {
    "tags": []
   },
   "outputs": [],
   "source": [
    "\"\"\"\n",
    "Multiplication, division and exponential \n",
    "\"\"\"\n",
    "\n",
    "a = my_num1/my_num2\n",
    "b = my_num1//my_num1 # in python3 // represents integer division (rounded down)\n",
    "c = my_num1/my_num1\n",
    "print (a)\n",
    "print (b)\n",
    "print (c)\n",
    "print (my_num1 * my_num2)\n",
    "print (my_num1**2) \n",
    "print (my_num2**2)"
   ]
  },
  {
   "cell_type": "markdown",
   "metadata": {
    "user_expressions": []
   },
   "source": [
    "<font size = \"3\"> We can also perform certain __arithmetic__ operations (addition and multiplication) on __strings__ "
   ]
  },
  {
   "cell_type": "code",
   "execution_count": null,
   "metadata": {
    "tags": []
   },
   "outputs": [],
   "source": [
    "name12 = name1 + name2\n",
    "\n",
    "name11 = name1*2\n",
    "\n",
    "print (name12)\n",
    "print (name11)       "
   ]
  },
  {
   "cell_type": "markdown",
   "metadata": {
    "user_expressions": []
   },
   "source": [
    "<font size = \"3\">It is possible to do other sorts of operations with strings in python"
   ]
  },
  {
   "cell_type": "code",
   "execution_count": null,
   "metadata": {
    "scrolled": true,
    "tags": []
   },
   "outputs": [],
   "source": [
    "\"\"\"\n",
    "We can use dir() to list all methods of a variable,\n",
    "that is, operations that we can do with that variable\n",
    "\"\"\"\n",
    "\n",
    "print(dir(name2))               "
   ]
  },
  {
   "cell_type": "code",
   "execution_count": null,
   "metadata": {
    "tags": []
   },
   "outputs": [],
   "source": [
    "\"\"\"\n",
    "Let's try some\n",
    "\"\"\"\n",
    "\n",
    "print (name2.upper()) # capital leters\n",
    "print (len(name2))    # string size\n",
    "print (name2.replace('a','X'))"
   ]
  },
  {
   "cell_type": "markdown",
   "metadata": {
    "user_expressions": []
   },
   "source": [
    "<font size = \"3\"> __Ex.1: What does the \"split\" method do? Google it and try it.__"
   ]
  },
  {
   "cell_type": "code",
   "execution_count": null,
   "metadata": {
    "tags": []
   },
   "outputs": [],
   "source": [
    "\"\"\"\n",
    "Your code here\n",
    "\"\"\""
   ]
  },
  {
   "cell_type": "markdown",
   "metadata": {
    "user_expressions": []
   },
   "source": [
    "<font size = \"3\">What about __Booleans__?\n",
    "\n",
    "<font size = \"3\">Boolean expressions (or logical expressions) evaluate to one of two states: True or False. \n",
    "\n",
    "<font size = \"3\">Python provides the boolean type that can have either the value True or False. \n",
    "\n",
    "<font size = \"3\">Many functions and operations return boolean objects.\n",
    "\n",
    "<font size = \"3\">Every object has a boolean value. For instance, the following elements are False:\n",
    "\n",
    "<font size = \"3\">- None\n",
    "    \n",
    "<font size = \"3\">- False\n",
    "    \n",
    "<font size = \"3\">- 0 (for all numeric types: integer, float, complex, etc.)\n",
    "    \n",
    "<font size = \"3\">- Empty collections: “”, (), [], {}\n",
    "    \n",
    "<font size = \"3\">- Object instances of classes that have the special method `__nonzero__`\n",
    "    \n",
    "<font size = \"3\">- Object instances of classes that implement `__len__` to return False or zero under certain conditions\n",
    "\n",
    "<font size = \"3\">All other objects have the boolean value True.\n",
    "\n",
    "<font size = \"3\">With booleans we can evaluate the result of __comparisons__ using the following operators: ==, <, >, =<, =>, !=. Let's see some examples:"
   ]
  },
  {
   "cell_type": "code",
   "execution_count": null,
   "metadata": {
    "tags": []
   },
   "outputs": [],
   "source": [
    "x = 2\n",
    "y = -5\n",
    "\n",
    "print (3 < x < 1)\n",
    "print (-2 > y < -1)\n",
    "print (y == -5)\n",
    "print (x != 2)"
   ]
  },
  {
   "cell_type": "markdown",
   "metadata": {
    "user_expressions": []
   },
   "source": [
    "<font size = \"3\">With booleans we can also make: \n",
    "\n",
    "<font size = \"3\">- logical operations using __AND__ and __OR__  \n",
    "    \n",
    "<font size = \"3\">- membership operations using __IN__ \n",
    "    \n",
    "<font size = \"3\">- identity operations using __IS__"
   ]
  },
  {
   "cell_type": "code",
   "execution_count": null,
   "metadata": {
    "tags": []
   },
   "outputs": [],
   "source": [
    "a = 50\n",
    "b = 25\n",
    "\n",
    "x = [1,2,3,4,5,6,7,8,9,10]\n",
    "y = [2,4,6,8,10,12,14,16,18,20]\n",
    "\n",
    "print ('Example of logic operations ')\n",
    "print (a>40 or b>40)                  # OR: if at least one of the conditions is True, it evaluates True\n",
    "print (a>100 and b<50)                # AND: both conditions have to be true to evaluate True\n",
    "print (a<0 and b<0)\n",
    "print (a==0 or b==0)\n",
    "print (a>0 and b<0)\n",
    "\n",
    "print ('Example operations of membership')\n",
    "print (6 in x)\n",
    "print (6 not in y)\n",
    "\n",
    "print ('Example operations of identity')\n",
    "print(x is y)\n",
    "print (y is y)\n",
    "print (x is not x)"
   ]
  },
  {
   "cell_type": "markdown",
   "metadata": {
    "user_expressions": []
   },
   "source": [
    "# Python data collections: Lists, Tuples and Dictionaries "
   ]
  },
  {
   "cell_type": "markdown",
   "metadata": {
    "user_expressions": []
   },
   "source": [
    "## Lists\n",
    "\n",
    "<font size = \"3\"> Python lists are similar to arrays or vectors in other programming languages. They are __changeable__ collections of __ordered__ data, which support __indexing__, among others properties and allow duplicate members. In Python, lists are written with __square brackets__."
   ]
  },
  {
   "cell_type": "code",
   "execution_count": null,
   "metadata": {
    "tags": []
   },
   "outputs": [],
   "source": [
    "couple = [1, 2]                        # Simple list with two integers\n",
    "items = [couple, my_num1, name1, 3]    # Lists can contain any type of data, even other lists\n",
    "print(items)                   "
   ]
  },
  {
   "cell_type": "code",
   "execution_count": null,
   "metadata": {
    "tags": []
   },
   "outputs": [],
   "source": [
    "\"\"\"\n",
    "Let's see how to index a specific element of the list\n",
    "\"\"\"\n",
    "\n",
    "print ('First element of the list = ', items[0])  # Note that Python indices start from 0!!!\n",
    "print ('Elements 2 and 3 are ', items[1:3])       # a:b is a sequence of integers from a to b (not including b)\n",
    "print ('The last elements is ', items[-1])        # Negative indexing means beginning from the end, \n",
    "                                                  # -1 refers to the last item, -2 refers to the second to last item etc.\n",
    "    \n",
    "print (items[0][1])    # As the first element is a list we can also ask for an element inside of it                \n",
    "print (items[2][2:8])  # Strings also support indexing                  \n",
    "                                      "
   ]
  },
  {
   "cell_type": "code",
   "execution_count": null,
   "metadata": {
    "scrolled": true,
    "tags": []
   },
   "outputs": [],
   "source": [
    "\"\"\"\n",
    "It is also posible to define a list by using the list constructor (instatiating an object of the list class)\n",
    "\"\"\"\n",
    "\n",
    "list1 = list((2,'abc', (3,4,5), 5, 2, 2))  # (3,4,5) is a tuple, not a list\n",
    "numbers1 = list(range(10))                 # range help us to create a list of consecutive numbers \n",
    "                                           # range(start, stop, step)\n",
    "numbers2 = list(range(2, 31, 2))\n",
    "\n",
    "print (list1)\n",
    "print (numbers1)\n",
    "print (numbers2)"
   ]
  },
  {
   "cell_type": "markdown",
   "metadata": {
    "user_expressions": []
   },
   "source": [
    "<font size = \"3\">It is also posible to perform list operations such as: modifying the elements, removing elements, adding lists,... by using the methods defined for this class."
   ]
  },
  {
   "cell_type": "code",
   "execution_count": null,
   "metadata": {
    "tags": []
   },
   "outputs": [],
   "source": [
    "\"\"\"\n",
    "Lists can be changed: renaming elements\n",
    "\"\"\"\n",
    "\n",
    "print ('This is list1 before: ', list1)\n",
    "\n",
    "list1[0] = 'fgh'\n",
    "\n",
    "print ('This is list1 after: ', list1)   # Be aware that list1 has been changed and won't be the same anymore"
   ]
  },
  {
   "cell_type": "code",
   "execution_count": null,
   "metadata": {
    "tags": []
   },
   "outputs": [],
   "source": [
    "\"\"\"\n",
    "Other list operations:\n",
    "\"\"\"\n",
    "list2 = numbers1 + list1 + numbers2   # concatenate lists\n",
    "list3 = list1*5                       # repeat list\n",
    "\n",
    "print (list2)\n",
    "print (list3)"
   ]
  },
  {
   "cell_type": "code",
   "execution_count": null,
   "metadata": {
    "tags": []
   },
   "outputs": [],
   "source": [
    "\"\"\"\n",
    "Let's check what methods the class list has\n",
    "\"\"\"\n",
    "\n",
    "print (help(list))"
   ]
  },
  {
   "cell_type": "code",
   "execution_count": null,
   "metadata": {
    "tags": []
   },
   "outputs": [],
   "source": [
    "\"\"\"\n",
    "Let's try a few of them:\n",
    "\"\"\"\n",
    "\n",
    "list_size = len(list1)   # how many elements are in the list\n",
    "count = list1.count(2)   # count items\n",
    "list4 = list1.clear()    # remove all items from list\n",
    "\n",
    "print (list_size)\n",
    "print(count)\n",
    "print(list4)\n",
    "print(list1)             # Careful!! Now list1 is an empty list!!\n",
    "\n"
   ]
  },
  {
   "cell_type": "markdown",
   "metadata": {
    "user_expressions": []
   },
   "source": [
    "<font size = \"3\">__Ex. 2: How can we add an element to the end of a list? Or at another position?__ \n",
    "\n",
    "<font size = \"3\">You can google it or check the methods using 'help(list)'\n",
    " "
   ]
  },
  {
   "cell_type": "code",
   "execution_count": null,
   "metadata": {
    "tags": []
   },
   "outputs": [],
   "source": [
    "# Add an elemend to end of the list \"items\"\n",
    "\n",
    "# Add an element after the first element of the list"
   ]
  },
  {
   "cell_type": "markdown",
   "metadata": {
    "user_expressions": []
   },
   "source": [
    "## Tuples\n",
    "<font size =\"3\">A tuple is an __immutable and ordered__ collection of data. Tuples are sequences, just like lists. The differences between tuples and lists are: 1) tuples cannot be changed unlike lists and 2) tuples use __parentheses ( )__, rather than square brackets [ ]."
   ]
  },
  {
   "cell_type": "code",
   "execution_count": null,
   "metadata": {
    "tags": []
   },
   "outputs": [],
   "source": [
    "\"\"\"\n",
    "Lists and tuples are very similar...\n",
    "\"\"\"\n",
    "\n",
    "numbers_mut = list(range(10,30,2))\n",
    "numbers_immut = tuple(range(10,30,2))  # tuples can be defined using the tuple constructor\n",
    "\n",
    "print (numbers_mut)\n",
    "print (numbers_immut)"
   ]
  },
  {
   "cell_type": "code",
   "execution_count": null,
   "metadata": {
    "tags": []
   },
   "outputs": [],
   "source": [
    "\"\"\"\n",
    "...but not exactly the same\n",
    "\"\"\"\n",
    "\n",
    "numbers_mut[0] = 'changed'    # changing an element in the list\n",
    "\n",
    "print (numbers_mut)\n",
    "\n",
    "numbers_immut[0] = 1          # traying to change an element in the tuple... will provoke an error\n",
    "\n",
    "print (numbers_immut)"
   ]
  },
  {
   "cell_type": "markdown",
   "metadata": {},
   "source": [
    "## Dictionaries\n",
    "\n",
    "<font size =\"3\">A dictionary is a collection which is unordered, changeable and indexed. In Python, dictionaries are written with curly brackets { }, and are composed of keys and values.\n",
    "    \n",
    "<font size =\"3\">Keys and values can be of any type (not only strings)."
   ]
  },
  {
   "cell_type": "code",
   "execution_count": null,
   "metadata": {
    "tags": []
   },
   "outputs": [],
   "source": [
    "# Let's create a simple dictionary\n",
    "\n",
    "random = {'neurons': ['pyramidal', 'GABA'], 'velocity': [True, 140.0, 'Km/h'], 'names and ages': [('Ana', 15), ('John', 34)]}\n",
    "\n",
    "# Search for elements\n",
    "\n",
    "print (random['velocity'])            # we first get the value of an element of the dictionary using its key: 'velocity'. In this case the value is a list.\n",
    "print (random['names and ages'][0])   # We can then choose an element in the list.\n",
    "print (random['neurons'][1][3])       # We can index as many times as the values support\n",
    "print (random['velocity'][1])"
   ]
  },
  {
   "cell_type": "code",
   "execution_count": null,
   "metadata": {
    "tags": []
   },
   "outputs": [],
   "source": [
    "# Let's check what methods the class dict has\n",
    "\n",
    "print (help(dict))"
   ]
  },
  {
   "cell_type": "code",
   "execution_count": null,
   "metadata": {
    "tags": []
   },
   "outputs": [],
   "source": [
    "# Let's try a few of them\n",
    "\n",
    "keys = random.keys()\n",
    "\n",
    "print (keys)                      # object with all the keys\n",
    "print (list(keys)[1])             # we can redifine the object with the list constructor\n",
    "print (len(random))               # length of the dictionary\n",
    "print (len(random['neurons'][0])) # length of a specific element in the dictionary "
   ]
  },
  {
   "cell_type": "markdown",
   "metadata": {
    "user_expressions": []
   },
   "source": [
    "<font size = \"3\">__Ex. 3: How can we add a new key / value pair to the dictionary?__"
   ]
  },
  {
   "cell_type": "code",
   "execution_count": null,
   "metadata": {
    "tags": []
   },
   "outputs": [],
   "source": [
    "# Add a new key / value pair to the dictionary"
   ]
  },
  {
   "cell_type": "markdown",
   "metadata": {
    "user_expressions": []
   },
   "source": [
    "# Iterations and conditions\n",
    "\n",
    "<font size =\"3\"> Strings, lists, tuples and dictionaries are examples of iterable python objects. This means that we can perform a repeated operation on each of their elements. "
   ]
  },
  {
   "cell_type": "markdown",
   "metadata": {
    "user_expressions": []
   },
   "source": [
    "## Python for loops\n",
    "\n",
    "<font size =\"3\">Definite iteration loops are frequently referred to as \"for-loops\", because \"for\" is the keyword that is used for them in most programming languages, including Python.\n",
    "    \n",
    "<font size =\"3\">Example:"
   ]
  },
  {
   "cell_type": "code",
   "execution_count": null,
   "metadata": {
    "tags": []
   },
   "outputs": [],
   "source": [
    "num_list1 = list(range(10))\n",
    "\n",
    "for n in num_list1: \n",
    "    print(n)"
   ]
  },
  {
   "cell_type": "markdown",
   "metadata": {
    "user_expressions": []
   },
   "source": [
    "<font size =\"3\">The first line of a \"for-loop\" starts with \"for\" and must end with \":\". The following lines inside the loop must be indented (increased space on the left margin). \n",
    "\n",
    "<font size =\"3\">A condition statement (if, while, ...) follows the same syntactic rules (see below)."
   ]
  },
  {
   "cell_type": "code",
   "execution_count": null,
   "metadata": {
    "tags": []
   },
   "outputs": [],
   "source": [
    "\"\"\"\n",
    "A for-loop within another for-loop\n",
    "\"\"\"\n",
    "\n",
    "num_list2 = list(range(10, 20))\n",
    "\n",
    "for n1 in num_list1:\n",
    "    print ('list1 number ', n1)\n",
    "    for n2 in num_list2:\n",
    "        print ('list2 number ', n2)\n",
    "        "
   ]
  },
  {
   "cell_type": "code",
   "execution_count": null,
   "metadata": {
    "tags": []
   },
   "outputs": [],
   "source": [
    "\"\"\"\n",
    "If we want to iterate through two lists together, we use 'zip'\n",
    "Note: the two lists must be the same length\n",
    "\"\"\"\n",
    "\n",
    "for n1, n2 in zip(num_list1, num_list2):\n",
    "    print (n1, n2)"
   ]
  },
  {
   "cell_type": "markdown",
   "metadata": {
    "user_expressions": []
   },
   "source": [
    "## Python conditions: if, elif, else and while\n",
    "\n",
    "<font size =\"3\">We'll understand these commands thourgh several examples"
   ]
  },
  {
   "cell_type": "markdown",
   "metadata": {
    "user_expressions": []
   },
   "source": [
    "### if and elif"
   ]
  },
  {
   "cell_type": "code",
   "execution_count": null,
   "metadata": {
    "tags": []
   },
   "outputs": [],
   "source": [
    "\"\"\"\n",
    "A for-loop that checks the parity of a list of integers through two condition checks\n",
    "\"\"\"\n",
    "\n",
    "numbers = [0,1,2,3,4,5,6,7,8,9,10]\n",
    "\n",
    "result = []                              # create an empty list in which the results will be saved\n",
    "for num in numbers:                      # iterate through each element in the \"numbers\" list\n",
    "    if num % 2 == 0:                     # condition for even numbers; Note the difference betweeen \"=\" and \"==\", and Google the % operator for numbers\n",
    "        result.append(\"%d is even\" %num) # What is the \"%\" symbol on the string? Google it! \n",
    "    elif num % 2 == 1:                   # condition for odd numbers\n",
    "        result.append(\"%d is odd\" %num)  \n",
    "                                         \n",
    "print (result)        "
   ]
  },
  {
   "cell_type": "code",
   "execution_count": null,
   "metadata": {
    "tags": []
   },
   "outputs": [],
   "source": [
    "\"\"\"\n",
    "We can achieve the same effect as above using a one line \"list comprehension\" (google it!)\n",
    "\"\"\"\n",
    "\n",
    "print ([\"%d is even\" %num if num % 2 == 0 else \"%d is odd\" %num for num in numbers]) "
   ]
  },
  {
   "cell_type": "markdown",
   "metadata": {
    "user_expressions": []
   },
   "source": [
    "<font size =\"3\">__Ex4: Create a dictionary in which the grades of 4 subjects \n",
    "(Maths, Physics, Literature and Phylosophy) are stored for 3 students (Peter, Ana and Lisa)__\n",
    "    \n",
    "<font size =\"3\">_Hint: First define the lists of subjects and students to iterate through_"
   ]
  },
  {
   "cell_type": "markdown",
   "metadata": {
    "user_expressions": []
   },
   "source": [
    "### elif"
   ]
  },
  {
   "cell_type": "code",
   "execution_count": null,
   "metadata": {
    "tags": []
   },
   "outputs": [],
   "source": [
    "\"\"\"\n",
    "For loop that checks if numbers on a list are less than 5 or not\n",
    "\"\"\"\n",
    "\n",
    "result = []                              # create an empty list in which the results will be saved\n",
    "for num in numbers:                      # iterate each element in \"numbers\" list\n",
    "    if num < 5:                          # condition\n",
    "        result.append(\"%d is less than 5\" %num) \n",
    "    else:                                # rest of the elements that don't follow the previous condition...\n",
    "        result.append(\"%d is greater or equal than 5\" %num)\n",
    "                                         \n",
    "print(result)   "
   ]
  },
  {
   "cell_type": "markdown",
   "metadata": {
    "user_expressions": []
   },
   "source": [
    "### while"
   ]
  },
  {
   "cell_type": "code",
   "execution_count": null,
   "metadata": {
    "tags": []
   },
   "outputs": [],
   "source": [
    "x = 10\n",
    "while x < 21:                                # this loop will continue until the condition evaluates to False\n",
    "    print('x is %d smaller than 21' %(21-x)) # you can also compute the replacement value\n",
    "    x = x + 1                                # you can also write it like this: x += 1\n",
    "else:\n",
    "    print ('x = 21')\n",
    "    "
   ]
  },
  {
   "cell_type": "markdown",
   "metadata": {
    "user_expressions": []
   },
   "source": [
    "# Functions \n",
    "\n",
    "<font size =\"3\">In programming, a function is a named block of code that, can optionally take an input and return an output. \n",
    "    \n",
    "<font size =\"3\">In Python, the name of a function is preceeded by __\"def\"__ and the following lines of code to be executed are indented. The last line of a function defines the output variable(s), preceded by __\"return\"__."
   ]
  },
  {
   "cell_type": "code",
   "execution_count": null,
   "metadata": {
    "tags": []
   },
   "outputs": [],
   "source": [
    "def add_to_even_num(numb_list, num_to_add):\n",
    "    \"\"\"\n",
    "    This is a docstring. Is the usual way of documenting what a function does and its inputs and outputs.\n",
    "    This function corrects voltage values in a dictionary of electrophysiological features.\n",
    "    :param num_list: list with numbers\n",
    "    :param num_to_add: number to add to the even numbers in num_list\n",
    "    :return new_list:\n",
    "    \"\"\"\n",
    "    new_list = []                            # defining empty list to save new values\n",
    "    for n in numb_list:\n",
    "        if n % 2 == 0: \n",
    "            new_list.append(n + num_to_add)  # add new values into the empty list\n",
    "        elif n % 2 == 1:                   \n",
    "            pass                             # if this happens do NOTHING (skip iteration)  \n",
    "    \n",
    "    return(new_list)                         # return the new list as solution\n",
    "        "
   ]
  },
  {
   "cell_type": "code",
   "execution_count": null,
   "metadata": {
    "tags": []
   },
   "outputs": [],
   "source": [
    "\"\"\"\n",
    "Now we will call the fuction, but first we should define the value of the input parameters\n",
    "\"\"\"\n",
    "\n",
    "numb_list = [22, 23, 42, 56, 102, 451, 802, 36]\n",
    "num_to_add = 10.3\n",
    "\n",
    "new_list = add_to_even_num(numb_list, num_to_add)\n",
    "\n",
    "print (new_list)"
   ]
  },
  {
   "cell_type": "code",
   "execution_count": null,
   "metadata": {
    "tags": []
   },
   "outputs": [],
   "source": [
    "\"\"\"\n",
    "Finally, a neuroscientific toy example: \n",
    "a dictionary of some electrophysiological properties (or features) of a neuron\n",
    "that will be checked for correction by the next function \"correct_voltage\"\n",
    "\"\"\"\n",
    "\n",
    "efel_features = {'corrected': False,\n",
    "                 'spike_threshold': [-40, 'mV'], 'V_rest': [-65, 'mV'], \n",
    "                 'spike_frequency': [110, 'Hz'] , 'Time_to_first_spike': [70, 'ms']}\n",
    "\n",
    "\n",
    "def correct_voltage(features_dict, correction):\n",
    "    \n",
    "    \"\"\"\n",
    "    This function corrects voltage values in a dictionary of electrophysiological features.\n",
    "    :param features_dict: dictionary with electrical features\n",
    "    :param correction: number to add as a correction\n",
    "    :return new_dict: dictionary similar to features_dict but with the values corrected.\n",
    "    \"\"\"\n",
    "    \n",
    "    new_dict = features_dict.copy()        # Create the dictionary in which the corrected values will be saved.\n",
    "    \n",
    "    if new_dict['corrected'] == True:      # If the data are already corrected there is no need for correction\n",
    "        print('no need for correction')\n",
    "    else:                     \n",
    "        k_list = list(new_dict.keys())     # make a list with the keys of the dictionary\n",
    "        k_list.remove('corrected')         # remove the key that we don't need\n",
    "        for k in k_list:                   # iterate over the keys\n",
    "            if new_dict[k][1] == 'mV':     # apply correction over voltage data only\n",
    "                new_dict[k][0] += correction\n",
    "        new_dict['corrected'] = True       # change the dictionary info to corrected\n",
    "        \n",
    "    return new_dict  \n",
    "    "
   ]
  },
  {
   "cell_type": "code",
   "execution_count": null,
   "metadata": {
    "tags": []
   },
   "outputs": [],
   "source": [
    "\"\"\"\n",
    "The following line calls the function with the appropriate number and types of arguments (inputs) and prints\n",
    "the output. Calling the function is not sufficient to see its output.\n",
    "\"\"\"\n",
    "\n",
    "new_dict = correct_voltage(efel_features,10)\n",
    "\n",
    "print(new_dict) "
   ]
  },
  {
   "cell_type": "markdown",
   "metadata": {
    "user_expressions": []
   },
   "source": [
    "<font size=\"3\">__NOTE:__ If you run the above function multiple times, you'll notice that the values keep changing. To understand why, look up the documentation of the copy() method of a dictionary and search online for the difference between a shallow and a deep copy."
   ]
  },
  {
   "cell_type": "markdown",
   "metadata": {
    "user_expressions": []
   },
   "source": [
    "# Classes\n",
    "\n",
    "\n",
    "<font size =\"3\">Python is a language that implements __\"object-oriented\" programming__ (OOP). In OOP, importance is given to data rather than just writing instructions to complete a task. \n",
    "\n",
    "<font size =\"3\">An __object__ is a thing or idea that you want to model in your program. An object can be anything, e.g. employee, bank account, car, neuron, etc.\n",
    "\n",
    "<font size =\"3\">A __class__ is a blueprint for creating an object. A class defines the data (attributes) and behaviors (or methods) of the object.\n",
    "    \n",
    "<font size =\"3\">An __instance__ of a class is a particular realization of a class, that is, a particular object among those defined by the same class.\n",
    "\n",
    "<font size =\"3\">For example, if we're writing a class representing a car, we can define attributes of the car such as make, model, fuel type, # of passengers, etc. and behaviors like start, break, accelerate, etc. These attributes and methods are not specific to just one particular car, but define the general properties of a car that we're including in our model and that all objects of this class will have. When we create particular instances of this class, then we'll be able to assign particular values to the attributes for each particular car.\n",
    "\n",
    "<font size =\"3\">In this way, OOP allows us to bundle together data and functions (attributes and methods) relevant to the object we're modeling, and create many instances of it, all sharing the same design, but each having particular values.\n",
    "\n",
    "<font size =\"3\">_HINT: if you want to know more about OOP look for information on Google, there are plenty of tutorials that could be useful for you._"
   ]
  },
  {
   "cell_type": "code",
   "execution_count": null,
   "metadata": {
    "tags": []
   },
   "outputs": [],
   "source": [
    "\"\"\"\n",
    "Let's build the class Neuron that will have as atributes its name \n",
    "and as methods (behavior) the morphology and biophysics\n",
    "\"\"\"\n",
    "\n",
    "class Neuron:                   # Class names usually starts with a capital letter\n",
    "    \n",
    "    \"\"\"\n",
    "    Simple class for creating a neuron.\n",
    "    \"\"\"\n",
    "    # In a class definition, the object itself is named \"self\". \n",
    "    # The self can have some attributes\n",
    "    # that can be retrieved from outside the class definition.\n",
    "    \n",
    "    # constructor\n",
    "    def __init__(self, name):   # Methods defined with \"__something__\" are special methods. \n",
    "                                # For example the __init__ method is automatically called when we instatiate a class. \n",
    "                                # It doesn't accept \"return\" statements.\n",
    "        self.name = name\n",
    "    \n",
    "    def morphology(self, n_dend, n_branches):\n",
    "        self.morphology = {}\n",
    "        self.morphology['soma'] = {'sections': range(1)}\n",
    "        self.morphology['dendrites'] = {'sections':[[dend for dend in range(n_dend)] for branch in range(n_branches)]}\n",
    "        self.morphology['axon'] = {'sections':range(5)}\n",
    "        return self.morphology\n",
    "    \n",
    "    def biophysics(self, channels):\n",
    "        \"\"\"\n",
    "        Distribute channels on neuron sections\n",
    "        \"\"\"\n",
    "        self.biophysics = {name:list(channels) for name in self.morphology.keys()}           \n",
    "        self.biophysics['axon'] = channels[:2]\n",
    "        self.biophysics['dendrites'].remove('NaT')\n",
    "        return self.biophysics"
   ]
  },
  {
   "cell_type": "code",
   "execution_count": null,
   "metadata": {
    "tags": []
   },
   "outputs": [],
   "source": [
    "# This is the instantiation of the Neuron class. \n",
    "# It takes as arguments those specified in the __init__ method.\n",
    "\n",
    "my_neuron = Neuron('dummy_neuron')"
   ]
  },
  {
   "cell_type": "markdown",
   "metadata": {
    "user_expressions": []
   },
   "source": [
    "<font size =\"3\"> We call a class method by: __object.method_name( )__ \n",
    "\n",
    " <font size =\"3\">Note that the \"self\" in the class definition is replaced by the object name."
   ]
  },
  {
   "cell_type": "code",
   "execution_count": null,
   "metadata": {
    "scrolled": true,
    "tags": []
   },
   "outputs": [],
   "source": [
    "num_dend = 7\n",
    "num_branches = 15\n",
    "\n",
    "print (my_neuron.morphology(num_dend, num_branches))"
   ]
  },
  {
   "cell_type": "code",
   "execution_count": null,
   "metadata": {
    "tags": []
   },
   "outputs": [],
   "source": [
    "ion_channels = ['NaT', 'Kv3.1', 'CaT', 'KCa3.1','HCN']\n",
    "\n",
    "print (my_neuron.biophysics(ion_channels))"
   ]
  },
  {
   "cell_type": "code",
   "execution_count": null,
   "metadata": {
    "tags": []
   },
   "outputs": [],
   "source": [
    "\"\"\"\n",
    "Now you can have a more direct feeling of the \"dir\" and \"__doc__\" methods\n",
    "\"\"\"\n",
    "\n",
    "print ('class directory = ', dir(my_neuron))\n",
    "print ('\\n class description = ', my_neuron.__doc__)"
   ]
  },
  {
   "cell_type": "markdown",
   "metadata": {
    "user_expressions": []
   },
   "source": [
    "# Working with files: create, open, read, modify and safe"
   ]
  },
  {
   "cell_type": "markdown",
   "metadata": {
    "user_expressions": []
   },
   "source": [
    "<font size =\"3\">Learning how to deal with files is very important as we will work with files all the time."
   ]
  },
  {
   "cell_type": "code",
   "execution_count": null,
   "metadata": {
    "tags": []
   },
   "outputs": [],
   "source": [
    "# Write something into a new file called \"my_first_file.txt\"\n",
    "\n",
    "with open('my_first_file.txt', 'w') as g:  # Here you can specify the path in which you want the file to be saved. \n",
    "                                           # 'w' means open file for writing\n",
    "    \n",
    "    g.write(str(123))   \n",
    "    g.write('this is a test')              # write something else between the 'quotes'\n",
    "    \n",
    "g.close()"
   ]
  },
  {
   "cell_type": "markdown",
   "metadata": {
    "user_expressions": []
   },
   "source": [
    "<font size =\"3\">Check if the file has been correctly created. \n",
    "\n",
    "<font size =\"3\">You can add new information to the same file by opening it in \"append\" mode."
   ]
  },
  {
   "cell_type": "code",
   "execution_count": null,
   "metadata": {
    "tags": []
   },
   "outputs": [],
   "source": [
    "with open('my_first_file.txt', 'a+') as g: # 'a' Open for appending at the end of the file without truncating it. \n",
    "                                           # Creates a new file if it does not exist. \n",
    "                                           # '+' open a file for updating (reading and writing)\n",
    "    g.write('\\n bla bla bla')              # write something to file here\n",
    "                                           # the simbol '\\n' = jump line in the text\n",
    "g.close()"
   ]
  },
  {
   "cell_type": "code",
   "execution_count": null,
   "metadata": {
    "tags": []
   },
   "outputs": [],
   "source": [
    "with open('my_first_file.txt', 'r+') as g: # 'r+' means open for reading and appending  \n",
    "    # open for reading and appending\n",
    "    l = g.readlines()\n",
    "    print (l)"
   ]
  },
  {
   "cell_type": "markdown",
   "metadata": {},
   "source": [
    "<font size=\"3\">Look up the documentation for more advanced file manipulation."
   ]
  },
  {
   "cell_type": "code",
   "execution_count": null,
   "metadata": {},
   "outputs": [],
   "source": []
  }
 ],
 "metadata": {
  "kernelspec": {
   "display_name": "Python3",
   "language": "python",
   "name": "python3"
  },
  "language_info": {
   "codemirror_mode": {
    "name": "ipython",
    "version": 3
   },
   "file_extension": ".py",
   "mimetype": "text/x-python",
   "name": "python",
   "nbconvert_exporter": "python",
   "pygments_lexer": "ipython3",
   "version": "3.12.5"
  }
 },
 "nbformat": 4,
 "nbformat_minor": 4
}
