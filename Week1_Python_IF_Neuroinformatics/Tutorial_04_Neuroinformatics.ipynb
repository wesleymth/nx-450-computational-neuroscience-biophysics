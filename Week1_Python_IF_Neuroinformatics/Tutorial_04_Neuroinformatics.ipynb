{
 "cells": [
  {
   "cell_type": "markdown",
   "id": "923d1e9d-b4fb-43b6-995c-8b9a95a5500d",
   "metadata": {
    "tags": [],
    "user_expressions": []
   },
   "source": [
    "<center><font size = \"10\"> Week 1 <center>\n",
    "<center><font size = \"8\"> Tutorial 04: Neuroscience Datasets  <center>"
   ]
  },
  {
   "cell_type": "markdown",
   "id": "4b6f2141-2ed3-4d6a-ad32-66a03df5e9f7",
   "metadata": {},
   "source": [
    "<font size=\"4\" color=\"red\"> There is no coding in this tutorial. Instead you will navigate many important websites for neuroscience data and access datasets."
   ]
  },
  {
   "cell_type": "markdown",
   "id": "6e0cbf2a-1770-41e7-ad52-7947aed95aff",
   "metadata": {
    "tags": [],
    "user_expressions": []
   },
   "source": [
    "# Looking at datasets in practice \n",
    "\n",
    "<font size='3'> Curating data is an intensive process that takes a lot of effort. Most datasets are quite complex and non-trivial to navigate.\n",
    "    \n",
    "<font size='3'> We'll now go through several different resources so you can get better appreciate the problems we discussed in class.\n",
    "    \n",
    "<font size='3'> Do your best to interact with the data and make your questions more specific as you go along. Remember: to understand the quality and limitations of a dataset you must have a precise idea of what you want to gain from it.\n",
    "    \n",
    "<font size='3'> As you manipulate a dataset you will start to grasp the story behind it. Reading documentation, abstracts and descriptions that come with a resource is key to understanding what the data represents, and what it does not. The more you inform yourself about the dataset, the better you likley to understand the biases and limitations the data might contain."
   ]
  },
  {
   "cell_type": "markdown",
   "id": "58c62061-7303-4ee5-b531-65423003c40b",
   "metadata": {
    "user_expressions": []
   },
   "source": [
    "<img src=\"images/Metadata.png\" width=\"500\"> <img src=\"images/DataLifeCycle.jpg\" width=\"500\">"
   ]
  },
  {
   "cell_type": "markdown",
   "id": "12d8cc0a-d0df-4c94-813c-19005fc037a1",
   "metadata": {
    "tags": [],
    "user_expressions": []
   },
   "source": [
    "# Understanding the importance of metadata\n",
    "\n",
    "<font size='3'> Let us search neural morphologies on [NeuroMorpho.Org](https://neuromorpho.org/) and think about the importance of metadata\n",
    "    \n",
    "    1) Spend some seconds looking at the statistics on the homepage: the platform has been running since 2006 and has more than 30 million downloads and accesses. Compare that with a Youtube video and then remind yourself that YouTube has more than 2.6 billion monthly active users... how many neuroscientists do you think there are on Earth? How many times a month do you think they download morphologies?\n",
    "    \n",
    "    2) Search morphologies by keyword --> https://neuromorpho.org/KeywordSearch.jsp  \n",
    "       Try out the example search queries listed on the page, and view the results arranging them with the orange buttons by brain region and cell type. Finally, try the summary button.\n",
    "    \n",
    "    3) Search morphologies by metadata --> https://neuromorpho.org/MetaData.jsp\n",
    "       Each of the options shows dropdown menus and possible selections. Open at least 8 and see if you notice if you see anything unexpected."
   ]
  },
  {
   "cell_type": "markdown",
   "id": "f56c5939-75cc-4ac9-afe9-f957cd41aaa6",
   "metadata": {
    "user_expressions": []
   },
   "source": [
    "<img src=\"images/NeuroMorpho_keywords.JPG\" width=\"420\"> <img src=\"images/NeuroMorpho_metadata.JPG\" width=\"420\">"
   ]
  },
  {
   "cell_type": "markdown",
   "id": "997662df-8d8c-449f-a4ac-57a6f757c37b",
   "metadata": {
    "user_expressions": []
   },
   "source": [
    "<font size='3'> Describe the difference between the two searches: what does metadata allow to do in addition?"
   ]
  },
  {
   "cell_type": "code",
   "execution_count": null,
   "id": "abcea886-b093-4cf6-962d-adac6f7e6e83",
   "metadata": {},
   "outputs": [],
   "source": [
    "notes_during_class = {}\n",
    "notes_during_class[1] = \"Keyword search is useful for specific questions, metadata allows you to explore all possibilities that exist in the dataset \\\n",
    "                         some of which you may not even imagine were there... like whale and red panda neuron morphologies\""
   ]
  },
  {
   "cell_type": "markdown",
   "id": "49a429b1-ba0e-4be5-9b95-2d1fe849538f",
   "metadata": {
    "user_expressions": []
   },
   "source": [
    "# Morphologies\n",
    "\n",
    "<font size='3'> Spend some more time examining morphologies and reflect on why it is vital to collect this kind of data and organise it precisely so it can be retrieved, downloaded and used publicly.\n",
    "    \n",
    "    1) How much time does it take to acquire a neural morphology? \n",
    "    2) How many do you need before you can start to accurately characterize a specific cell type? Or a local circuit? Or a brain area?\n",
    "    3) What are the challenges to organising and sharing this data?\n",
    "    4) What features are most important to look at when you open a morphology? Did they change over the years?\n",
    "    \n",
    "<font size='3'> Spending an time now looking at the details of NeuroMorpho.Org and later on as you progress in your neuroscience studies is time well spent. Reading the experimenters' notes, the many different tags and classes people felt they had to introduce, seeing the development and change of techniques since 2006, all give invaluable insight based on years of work behind lab benches that you can now access for free on your laptop."
   ]
  },
  {
   "cell_type": "markdown",
   "id": "b5abded0-8fa8-4e06-9584-e018eb561fab",
   "metadata": {
    "tags": [],
    "user_expressions": []
   },
   "source": [
    "# Ion Channels\n",
    "<font size='3'> It is not just the structure of a neuron that requires precise data collection and management, we are going to look next at the fundamental components of a cell's electrophysiological properties: ion channels.\n",
    "    \n",
    "<font size='3'> Open Channelpedia https://channelpedia.epfl.ch/\n",
    "    \n",
    "\n",
    "<img src=\"images/Channelpedia_graph.png\" width='500'> <img src=\"images/Channelpedia_temperature_effect.png\" width='700'>\n",
    "    \n",
    "    \n",
    "<font size='3'> 1) First look at the graph on the main page<br> 2) Next open a specific channel, let's pick [Kv3.3](https://channelpedia.epfl.ch/wikipages/13)\n",
    "    \n",
    "\n",
    "<font size='3'> What are two important take home messages from this that you should never forget in the laboratory?"
   ]
  },
  {
   "cell_type": "code",
   "execution_count": null,
   "id": "3e16336a-658b-4d3c-aac4-b3069a558adb",
   "metadata": {},
   "outputs": [],
   "source": [
    "notes_during_class[2] = \" 1) Temperature can have a very noticable impact on neurons (look at Kv3.3!)  \\\n",
    "                             (if you wonder about mice body temperature have a look at https://doi.org/10.1007/s10544-015-0028-9)  \\\n",
    "                          2) There are many families or ion channels and systematic, organised datasets are a big help\""
   ]
  },
  {
   "cell_type": "markdown",
   "id": "e2870998-da6a-4323-9f86-ea6135ba02ce",
   "metadata": {
    "user_expressions": []
   },
   "source": [
    "<font size='3'> To understand the motivations, approach and importance of this work, I suggest you read this [brief story](https://channelpedia.epfl.ch/KvPaper) of Kv channels in your free time.  "
   ]
  },
  {
   "cell_type": "markdown",
   "id": "0bbe1ecf-a171-4b52-b222-23a387c9a238",
   "metadata": {
    "tags": [],
    "user_expressions": []
   },
   "source": [
    "# Brain atlases\n",
    "\n",
    "<font size='3'> Atlases are one of the most powerful dataset types for describing the brain. They answer the very basic question of where 'something' is. Answering these foundational questions often produces some of the most valuable and laborious pieces of scientific work. Keep in mind that animal-to-animal differences, tissue shrinkage, effective neural marking and a long history of conflicting and ambiguous anatomical nomenclature hierarchies are only some of the challenges that must be overcome. Whenever people have made the effort and developed the expertise to create quality atlases, they have become cornerstone references for the research community. This page https://scalablebrainatlas.incf.org/ is a helpful place to start when thinking about brain atlases: \n",
    "\n",
    "<img src=\"images/ScalableAtlases.png\" width='1000'>"
   ]
  },
  {
   "cell_type": "markdown",
   "id": "9044d678-6bbb-44a1-9d4f-5da702a5666c",
   "metadata": {
    "user_expressions": []
   },
   "source": [
    "<font size='3'> We will now look at the recent large-scale atlas projects from the Allen Institute http://atlas.brain-map.org/\n",
    "    \n",
    "<font size='3'> Many atlases are available on this main page. Spend some minutes reading the brief descriptions on the left of each box. Hovering over the images gives more detail. They are all worth reading.\n",
    "    \n",
    "<font size='3'> Next, focus on the adult mouse atlas:\n",
    "\n",
    "<img src=\"images/AllenMouseAtlas_overview.JPG\" width='1200'>"
   ]
  },
  {
   "cell_type": "markdown",
   "id": "d2bc7169-f884-4f67-a665-9f1ed5600c10",
   "metadata": {
    "user_expressions": []
   },
   "source": [
    "### Try to get a practical idea of how it was built:\n",
    "    \n",
    "   1) Open the [documentation](http://help.brain-map.org/download/attachments/2818171/Mouse_Common_Coordinate_Framework.pdf) and focus on figure 1 and the Reference datasets paragraph on page 3\n",
    "    \n",
    "    This should give you an overview of how many datasets were created, how they are related to each other, as well as a few key properties such as the number of specimens used. What is the difference between version 3 and the previous versions that you can easily see?\n",
    "    \n",
    "   2) Open the [histological data](http://connectivity.brain-map.org/static/referencedata). Here you can see the stains that were applied. Selecting one of the datasets and clicking 'view selections' opens the microscopy images.\n",
    "    \n",
    "   3) Notice that these are just the inputs of the building process. Now see figure 2 in the documentation and get a glimpse into the problems and the computational steps required to produce the atlas. No need to go into detail.\n",
    "  \n",
    "  "
   ]
  },
  {
   "cell_type": "markdown",
   "id": "77243e77-a989-417b-9565-634122359d90",
   "metadata": {
    "user_expressions": []
   },
   "source": [
    "### Now we explore the atlas:\n",
    "    \n",
    "<font size='3'> We start in 2D --> open the Coronal Sections http://atlas.brain-map.org/atlas\n",
    "    \n",
    "    1) The background image is a Nissl stain; on the right side of the brain, atlas colours and labels are shown superimposed\n",
    "    2) Hovering with the mouse over a region gives you the acronym and name (upper left corner)\n",
    "    3) Try to zoom in and out. Notice the scalebar changes accordingly\n",
    "    4) You can scroll between slices by selecting the images at the bottom of the screen. Try jumping from image (70 of 132) to (76 of 132)\n",
    "    5) Now focus on the left panel with its collapsable list of colour-coded regions. If you click on one, it becomes highlighted in the image.\n",
    "    6) What happens if you click an area not present in the current image? Try alternating between CNU - Cerebral nuclei and CBN - Cerebellar nuclei\n"
   ]
  },
  {
   "cell_type": "markdown",
   "id": "9538a1a8-d79d-4bf7-8600-55a8d6c62c4f",
   "metadata": {
    "user_expressions": []
   },
   "source": [
    "<img src=\"images/AllenMouseAtlas_2D_view.png\" width='1200'>"
   ]
  },
  {
   "cell_type": "markdown",
   "id": "3bd15184-b100-4309-a0a8-cbf680fda776",
   "metadata": {
    "user_expressions": []
   },
   "source": [
    "<font size='3'> Next we view the atlas in 3D --> go back to http://atlas.brain-map.org/ and open the 3D Viewer http://connectivity.brain-map.org/3d-viewer\n",
    "    \n",
    "    1) In the bottom left select one structure to view. Try Isocortex\n",
    "    2) Move the view around. Left mouse button to rotate, right button to pan. You can toggle the reference grid on and off. \n",
    "    3) Now look at the right panel called Virtual Tractography, click inside to select an experiment from the Mouse Brain Connectivity dataset http://connectivity.brain-map.org/\n",
    "    4) Hovering over the points in the image highlights the region and returns corresponding experiments\n",
    "    5) On the top left select Target Search and here you can filter your results by specifying a source and target region from the collapsable menu we already saw in the 2D viewer\n",
    "    6) Let us pick one experiment, copy the experiment ID and paste it into the Tractograhpy panel. Example: Experiment 100141214 - DG\n",
    "    7) Now you can see the experiment results in the 3D atlas. You can change the colour \n"
   ]
  },
  {
   "cell_type": "markdown",
   "id": "0670f73e-e6ab-4b64-b560-f63b807511d6",
   "metadata": {
    "user_expressions": []
   },
   "source": [
    "<img src=\"images/AllenMouseAtlas_3D_view_with_tractography.JPG\" width='1200'>"
   ]
  },
  {
   "cell_type": "markdown",
   "id": "1c6271c7-424e-478a-8407-64542314596f",
   "metadata": {
    "tags": [],
    "user_expressions": []
   },
   "source": [
    "# Cell atlases\n",
    "\n",
    "<font size='3'> Cell atlases focus on cell counts, neuron densities and single-cell reconstructions in space.\n",
    "    \n",
    "<font size='3'> Let us go back to NeuroMorpho.Org and look at its atlas https://neuromorpho.org/LS_Video.jsp. This atlas only shows the available rodent data, but it can be helpful if you download their data regularly. You can download it to your local PC."
   ]
  },
  {
   "cell_type": "markdown",
   "id": "01df991e-36db-4682-801e-e46a0c13ac0e",
   "metadata": {
    "user_expressions": []
   },
   "source": [
    "<img src=\"images/NeuroMorpho_atlas.jpg\" width='500'>"
   ]
  },
  {
   "cell_type": "markdown",
   "id": "5ae0929d-bd6a-4bb3-86a7-f850c4db66f4",
   "metadata": {
    "user_expressions": []
   },
   "source": [
    "### For cell counts and density estimations, we look at an example from EPFL\n",
    "\n",
    "<font size='3'> First, open the main page https://bbp.epfl.ch/nexus/cell-atlas/doc/about.html and get an overview. Take away the key ideas, and know that you can always find the related papers and portals linked here. \n",
    "\n",
    "<font size='3'> Next open the resource interface https://bbp.epfl.ch/nexus/cell-atlas/ and play around. On the left, you should be able to recognise familiar elements at this point. If not, try these steps:\n",
    "    \n",
    "    1) Select a region from the collapsible menu we already saw above in the Allen Atlas \n",
    "    2) Interact with the 3D image on the right. This practice can help you to become familiar with the rodent brain and recognise its structures.\n",
    "    3) Finally, look at the numbers. Switch between cell counts and densities and change colours by region or cell types, etc. "
   ]
  },
  {
   "cell_type": "markdown",
   "id": "1b1227ee-22bc-4dc0-8b0b-8f4adaeb1425",
   "metadata": {
    "user_expressions": []
   },
   "source": [
    "<img src=\"images/BBPCellAtlas.jpg\" width='1200'>"
   ]
  },
  {
   "cell_type": "code",
   "execution_count": null,
   "id": "6a7eb085-9767-4ac0-b570-19532b1cf606",
   "metadata": {},
   "outputs": [],
   "source": []
  },
  {
   "cell_type": "markdown",
   "id": "27982c5c-3279-45d8-9575-73b255447b2d",
   "metadata": {
    "user_expressions": []
   },
   "source": [
    "### What about cell reconstructions in space? We take a look at Janelia MouseLight Project\n",
    "    \n",
    "<font size='3'> Go first to https://www.janelia.org/project-team/mouselight/research and read this short page (2min). Do you understand the motivation and questions underlying the project?\n",
    "    \n",
    "<font size='3'> Given this premise, look at the tool page https://www.janelia.org/project-team/mouselight/neuronbrowser\n",
    "    \n",
    "<font size='3'> Follow the 3 minute tutorial you find there  (https://www.janelia.org/sites/default/files/Project%20Teams/Mouse%20Light/final_new.mp4)\n",
    "    \n",
    "<font size='3'> Now open the interface yourself http://ml-neuronbrowser.janelia.org/ and come up with a specific query.\n",
    "    \n",
    "    1) Think about the source and target regions your cell of interest may span\n",
    "    2) Play with a few examples, try to make them quite specific\n",
    "    3) How many reconstructions did you find? Is this enough for a particular use case?\n",
    "    \n",
    "<font size='3'> In the example below I ask for cells with a soma in the entorhinal cortex and axons going into hippocampus CA1"
   ]
  },
  {
   "cell_type": "markdown",
   "id": "c5803eaf-ab21-49bc-9c77-287fe8100234",
   "metadata": {
    "user_expressions": []
   },
   "source": [
    "<img src=\"images/JaneliaMouseLight.png\" width='1200'>"
   ]
  },
  {
   "cell_type": "markdown",
   "id": "b9f4249c-abed-4daa-8ce5-22125b970dc1",
   "metadata": {
    "tags": [],
    "user_expressions": []
   },
   "source": [
    "# Live papers\n",
    "\n",
    "<font size='3'> To conclude the tutorial, let's have a look at a live paper: https://live-papers.brainsimulation.eu/#2020-hjorth-et-al\n",
    "    \n",
    "<font size='3'> How do you read one of these?\n",
    "    \n",
    "    1) First, spend a minute getting an overview: what data is there? Is there code you can run? How much? This inspection gives you an idea of the scale of the work produced and made available.\n",
    "    \n",
    "    2) Second, click on the related link and pull up the standard article (https://www.pnas.org/doi/full/10.1073/pnas.2000671117). Read the abstract and the outline of the sections. \n",
    "    \n",
    "    3) Finally, put the paper and resource side-by-side and experiment with the material.\n",
    "    \n",
    "<font size='3'> Do you see the advantage of having immediate access to the data as you read?"
   ]
  },
  {
   "cell_type": "code",
   "execution_count": null,
   "id": "407248c1-ce88-48da-8fdf-e379c69f8808",
   "metadata": {
    "tags": []
   },
   "outputs": [],
   "source": [
    "notes_during_class[3] = \"It gives you the chance to interact and test your questions/understanding as you read.\""
   ]
  },
  {
   "cell_type": "markdown",
   "id": "ac078335",
   "metadata": {
    "tags": [],
    "user_expressions": []
   },
   "source": [
    "# Future\n",
    "\n",
    "You can come back to this tutorial during later weeks as well, as you encounter more concepts from the course. It helps you navigate the resources publicly availiable and the challenges behind them."
   ]
  }
 ],
 "metadata": {
  "kernelspec": {
   "display_name": "Python3",
   "language": "python",
   "name": "python3"
  },
  "language_info": {
   "codemirror_mode": {
    "name": "ipython",
    "version": 3
   },
   "file_extension": ".py",
   "mimetype": "text/x-python",
   "name": "python",
   "nbconvert_exporter": "python",
   "pygments_lexer": "ipython3",
   "version": "3.12.5"
  }
 },
 "nbformat": 4,
 "nbformat_minor": 5
}
