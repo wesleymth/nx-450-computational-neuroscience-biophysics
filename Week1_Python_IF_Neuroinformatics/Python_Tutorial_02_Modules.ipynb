{
 "cells": [
  {
   "cell_type": "markdown",
   "metadata": {
    "user_expressions": []
   },
   "source": [
    "<center><font size = \"10\"> Week 1 - Python 3 <center>\n",
    "<center><font size = \"8\">Tutorial 02: Useful Modules and Packages<center>"
   ]
  },
  {
   "cell_type": "markdown",
   "metadata": {
    "user_expressions": []
   },
   "source": [
    "# Module and Package\n",
    "\n",
    "<font size = \"3\"> We don't usually store all of our files at the same location on our computer. Rather, we use a well-organized hierarchy of directories. Similar files are kept in the same directory, for example, we might keep our collection of music in the \"music\" directory\". Analogous to this, Python has __packages__ for directories and __modules__ for files. As our application program grows larger in size, we place similar modules in the same package and different modules in different packages. This makes a project easy to manage and conceptually clear.\n",
    "    \n",
    "<font size = \"3\">- A __module__ is a file containing Python definitions and statements. The file name is the module name with the suffix \".py\" appended.\n",
    "  \n",
    "<font size = \"3\">- __Packages__ are a way of structuring Python’s module namespace using “dotted module names”.\n",
    "\n",
    "<font size=\"3\">Let's see some important packages for this course and learn how to use them. Much more information can be found online at the links provided or elsewhere."
   ]
  },
  {
   "cell_type": "markdown",
   "metadata": {
    "user_expressions": []
   },
   "source": [
    "## PANDAS\n",
    "\n",
    "<font size =\"3\">Pandas is a powerful package for data management in Python: https://pandas.pydata.org/pandas-docs/stable/\n",
    "\n",
    "<font size =\"3\">Example creating a pandas dataframe, which takes the form of a table (similar to an Excel table):"
   ]
  },
  {
   "cell_type": "code",
   "execution_count": null,
   "metadata": {
    "tags": []
   },
   "outputs": [],
   "source": [
    "\"\"\"\n",
    "Import the pandas module\n",
    "\"as\" allows us to give a shorthand name to the module\n",
    "These shorthands are mostly used consistently by all Python programmers\n",
    "\"\"\"\n",
    "import pandas as pd\n",
    "\n",
    "\n",
    "\"\"\"\n",
    "Intialise dictionary of lists\n",
    "\"\"\"\n",
    "data = {'Name':['Tom', 'nick', 'krish', 'jack'], \n",
    "        'Age':[20, 21, 19, 18]} \n",
    "\n",
    "\n",
    "\"\"\"\n",
    "Create the dataframe\n",
    "\"\"\"\n",
    "df = pd.DataFrame(data) \n",
    "\n",
    "\n",
    "\"\"\"\n",
    "Print the dataframe\n",
    "\"\"\"\n",
    "print(df)"
   ]
  },
  {
   "cell_type": "code",
   "execution_count": null,
   "metadata": {
    "tags": []
   },
   "outputs": [],
   "source": [
    "\"\"\"\n",
    "Simpler (reduced) visualization of the dataframe with head()\n",
    "\"\"\"\n",
    "\n",
    "print(df.head())     # shows by default the first 5 rows of the data\n",
    "print (df.head(1))   # shows only the first row"
   ]
  },
  {
   "cell_type": "code",
   "execution_count": null,
   "metadata": {
    "tags": []
   },
   "outputs": [],
   "source": [
    "\"\"\"\n",
    "Check data:\n",
    "- shape (number of rows, number of columns)\n",
    "- length (number of rows)\n",
    "- dimension (number of columns)\n",
    "\"\"\"\n",
    "\n",
    "print (df.shape)\n",
    "print (len(df))\n",
    "print (df.ndim)"
   ]
  },
  {
   "cell_type": "code",
   "execution_count": null,
   "metadata": {
    "tags": []
   },
   "outputs": [],
   "source": [
    "\"\"\"\n",
    "Select a column\n",
    "\"\"\"\n",
    "df['Age']"
   ]
  },
  {
   "cell_type": "code",
   "execution_count": null,
   "metadata": {
    "tags": []
   },
   "outputs": [],
   "source": [
    "\"\"\"\n",
    "Select a specific row\n",
    "\"\"\"\n",
    "df.loc[1]      "
   ]
  },
  {
   "cell_type": "code",
   "execution_count": null,
   "metadata": {
    "tags": []
   },
   "outputs": [],
   "source": [
    "\"\"\"\n",
    "Select row and column\n",
    "\"\"\"\n",
    "\n",
    "df.loc[1,'Name'] # 1 is the row index, 'Name' is the column name"
   ]
  },
  {
   "cell_type": "code",
   "execution_count": null,
   "metadata": {
    "tags": []
   },
   "outputs": [],
   "source": [
    "\"\"\"\n",
    "Change which column is the primary index of the rows\n",
    "\"\"\"\n",
    "df.set_index('Name')"
   ]
  },
  {
   "cell_type": "code",
   "execution_count": null,
   "metadata": {
    "tags": []
   },
   "outputs": [],
   "source": [
    "\"\"\"\n",
    "Operate on groups (groupby operation)\n",
    "\"\"\"\n",
    "import pandas as pd\n",
    "\n",
    "\"\"\"\n",
    "Create dataframe\n",
    "\"\"\"\n",
    "data = pd.DataFrame({\n",
    "    'height (cm)': [100, 112, 132, 115, 200, 184, 192, 153, 180],\n",
    "    'age': [10, 12, 10, 14, 20, 20, 50, 20, 50],\n",
    "    'likes bananas': [True, False, True, True, False, False, True, True, True]\n",
    "})\n",
    "\n",
    "\"\"\"\n",
    "Iterate through elements grouped by value of \"likes bananas\"\n",
    "\"\"\"\n",
    "for likes_bananas, subdata in data.groupby('likes bananas'):\n",
    "    print(subdata)\n",
    "\n",
    "\"\"\"\n",
    "Calculate mean height by age\n",
    "\"\"\"\n",
    "data.groupby('age')['height (cm)'].mean()"
   ]
  },
  {
   "cell_type": "markdown",
   "metadata": {
    "user_expressions": []
   },
   "source": [
    "## NUMPY\n",
    "\n",
    "<font size =\"3\">Numpy is the fundamental Python package for scientific computing and array processing: https://numpy.org\n"
   ]
  },
  {
   "cell_type": "code",
   "execution_count": null,
   "metadata": {
    "tags": []
   },
   "outputs": [],
   "source": [
    "\"\"\"\n",
    "Examples of array creation\n",
    "\"\"\"\n",
    "\n",
    "import numpy as np \n",
    "  \n",
    "\"\"\"\n",
    "Creating array from list with type float \n",
    "\"\"\"\n",
    "a = np.array([[1, 2, 4], [5, 8, 7]], dtype = 'float') \n",
    "print (\"Array created using from list:\\n\", a) \n",
    "    \n",
    "\"\"\"\n",
    "Creating a 3X4 array with all zeros \n",
    "\"\"\"\n",
    "b = np.zeros((3, 4)) \n",
    "print (\"\\nAn array initialized with all zeros:\\n\", b) \n",
    "    \n",
    "\"\"\"\n",
    "Create an array with random values \n",
    "\"\"\"\n",
    "c = np.random.random((2, 2)) \n",
    "print (\"\\nA random array:\\n\", c) \n",
    "  \n",
    "\"\"\"\n",
    "Create a sequence of integers from 0 to 30 with steps of 5\n",
    "\"\"\"\n",
    "d = np.arange(0, 30, 5) \n",
    "print (\"\\nA sequential array with steps of 5:\\n\", d) "
   ]
  },
  {
   "cell_type": "code",
   "execution_count": null,
   "metadata": {
    "tags": []
   },
   "outputs": [],
   "source": [
    "\"\"\"\n",
    "Basic operations on a single array \n",
    "\"\"\"\n",
    "\n",
    "import numpy as np \n",
    "  \n",
    "a = np.array([1, 2, 5, 3]) \n",
    "  \n",
    "\"\"\"\n",
    "Add 1 to every element \n",
    "\"\"\"\n",
    "print (\"Adding 1 to every element:\", a+1) \n",
    "    \n",
    "\"\"\"\n",
    "Multiply each element by 10 \n",
    "\"\"\"\n",
    "print (\"Multiplying each element by 10:\", a*10) \n",
    "    \n",
    "\"\"\"\n",
    "Transpose of array \n",
    "\"\"\"\n",
    "a = np.array([[1, 2, 3], [3, 4, 5], [9, 6, 0]]) \n",
    "  \n",
    "print (\"\\nOriginal array:\\n\", a) \n",
    "print (\"Transpose of array:\\n\", a.T) "
   ]
  },
  {
   "cell_type": "code",
   "execution_count": null,
   "metadata": {
    "tags": []
   },
   "outputs": [],
   "source": [
    "# Unary operators in numpy \n",
    "\n",
    "import numpy as np \n",
    "  \n",
    "arr = np.array([[1, 5, 6], \n",
    "                [4, 7, 2], \n",
    "                [3, 1, 9]]) \n",
    "  \n",
    "# Maximum element of array \n",
    "print (\"Largest element is:\", arr.max()) \n",
    "\n",
    "print (\"\\nRow-wise maximum elements:\", \n",
    "                    arr.max(axis = 1)) \n",
    "    \n",
    "# Sum of array elements \n",
    "print (\"\\nSum of all array elements:\", \n",
    "                            arr.sum()) \n",
    "  \n",
    "# Cumulative sum along each row \n",
    "print (\"\\nCumulative sum along each row:\\n\", \n",
    "                        arr.cumsum(axis = 1)) "
   ]
  },
  {
   "cell_type": "code",
   "execution_count": null,
   "metadata": {
    "tags": []
   },
   "outputs": [],
   "source": [
    "# Binary operators in Numpy \n",
    "\n",
    "import numpy as np \n",
    "  \n",
    "a = np.array([[1, 2], \n",
    "            [3, 4]]) \n",
    "b = np.array([[4, 3], \n",
    "            [2, 1]]) \n",
    "  \n",
    "# Add arrays \n",
    "print (\"Array sum:\\n\", a + b) \n",
    "  \n",
    "# Multiply arrays (elementwise multiplication) \n",
    "print (\"\\nArray multiplication:\\n\", a*b) \n",
    "  \n",
    "# Matrix multiplication \n",
    "print (\"\\nMatrix multiplication:\\n\", a.dot(b)) "
   ]
  },
  {
   "cell_type": "markdown",
   "metadata": {
    "user_expressions": []
   },
   "source": [
    "## MATPLOTLIB\n",
    "\n",
    "<font size =\"3\">Matplotlib is a python 2D plotting library: https://matplotlib.org"
   ]
  },
  {
   "cell_type": "code",
   "execution_count": null,
   "metadata": {
    "tags": []
   },
   "outputs": [],
   "source": [
    "# Easy example\n",
    "\n",
    "import matplotlib.pyplot as plt     # here we import a specific submodule of matplotlib\n",
    "                                    # and give it a shorthand name\n",
    "\n",
    "# IPython magic command: plots will be generated inline instead of in a separated window.\n",
    "# See http://ipython.org/ipython-doc/dev/interactive/magics.html\n",
    "%matplotlib inline\n",
    "\n",
    "x = list(range(0, 50, 2))\n",
    "y = list(range(0, 25, 1))\n",
    "\n",
    "plt.scatter(x, y, c=\"g\", alpha=0.5, marker='o', label=\"Luck\")\n",
    "plt.xlabel(\"Leprechauns\")\n",
    "plt.ylabel(\"Gold\")\n",
    "plt.legend(loc='upper left')\n",
    "plt.show()"
   ]
  },
  {
   "cell_type": "markdown",
   "metadata": {
    "user_expressions": []
   },
   "source": [
    "<font size =\"3\">Now a more complex example of loading data from a file and plotting it using __Numpy__ and __Matplotlib__"
   ]
  },
  {
   "cell_type": "code",
   "execution_count": null,
   "metadata": {
    "tags": []
   },
   "outputs": [],
   "source": [
    "import numpy as np\n",
    "import matplotlib.pyplot as plt\n",
    "\n",
    "# If you already run this line before you don't need to write it again\n",
    "# %matplotlib inline\n",
    "\n",
    "# Open data1.txt and save rows into different lists\n",
    "with open ('data1.txt', 'r') as d:\n",
    "    data = d.readlines()\n",
    "    #print (data)                   # check what is inside data1.txt by uncomment this line\n",
    "    \n",
    "# Organize data\n",
    "xdata = []\n",
    "ydata = []\n",
    "for d in data:\n",
    "    if d == data[0]:\n",
    "        pass\n",
    "    else:\n",
    "        d_split = d.split('\\t')\n",
    "        xdata.append(float(d_split[0]))\n",
    "        d_split[1].replace('\\n', '')\n",
    "        ydata.append(float(d_split[1]))\n",
    "    \n",
    "# Plot data\n",
    "fig0, ax = plt.subplots(figsize=(10,6))\n",
    "ax.scatter(xdata, ydata)\n",
    "ax.set_xlabel('t [ms]')\n",
    "ax.set_ylabel('Y0')"
   ]
  },
  {
   "cell_type": "markdown",
   "metadata": {
    "user_expressions": []
   },
   "source": [
    "<font size =\"3\">Let's  plot a histogram:"
   ]
  },
  {
   "cell_type": "code",
   "execution_count": null,
   "metadata": {
    "tags": []
   },
   "outputs": [],
   "source": [
    "import matplotlib.mlab as mlab\n",
    "\n",
    "x = np.random.normal(size = 1000)\n",
    "plt.hist(x, density=True, bins=100, facecolor='green', alpha=0.75)\n",
    "plt.ylabel('Probability')\n",
    "plt.title('Histogram')\n",
    "plt.grid(True)"
   ]
  },
  {
   "cell_type": "markdown",
   "metadata": {
    "user_expressions": []
   },
   "source": [
    "<font size =\"3\">Now let's plot the ydata:"
   ]
  },
  {
   "cell_type": "code",
   "execution_count": null,
   "metadata": {
    "tags": []
   },
   "outputs": [],
   "source": [
    "plt.hist(ydata, density=True, bins=100, facecolor='blue', alpha=0.75)\n",
    "\n",
    "plt.xlabel('y')\n",
    "plt.ylabel('Probability')\n",
    "plt.title('Histogram')\n",
    "plt.grid(True)"
   ]
  },
  {
   "cell_type": "markdown",
   "metadata": {
    "user_expressions": []
   },
   "source": [
    "## Scipy\n",
    "\n",
    "<font size =\"3\">Scipy is an \"ecosystem\" of open-source software for mathematics, science, and engineering: https://docs.scipy.org/doc/scipy/reference/"
   ]
  },
  {
   "cell_type": "markdown",
   "metadata": {
    "user_expressions": []
   },
   "source": [
    "As an example, let's solve the system:\n",
    "\n",
    "\\begin{equation}\n",
    "x + 3y + 5z = 10\n",
    "\\end{equation}\n",
    "\n",
    "\\begin{equation}\n",
    "2x + 5y + z = 8\n",
    "\\end{equation}\n",
    "\n",
    "\\begin{equation}\n",
    "2x + 3y + 8z = 3\n",
    "\\end{equation}\n",
    " \n",
    "We can write it in the format:\n",
    "\n",
    "\\begin{split}\\left[\\begin{array}{ccc} 1 & 3 & 5\\\\ 2 & 5 & 1\\\\ 2 & 3 & 8\\end{array}\\right]\\left[\\begin{array}{c} x\\\\ y\\\\ z\\end{array}\\right]=\\left[\\begin{array}{c} 10\\\\ 8\\\\ 3\\end{array}\\right].\\end{split}"
   ]
  },
  {
   "cell_type": "code",
   "execution_count": null,
   "metadata": {
    "tags": []
   },
   "outputs": [],
   "source": [
    "from scipy import linalg        # here we import only the linalg submodule from scipy\n",
    "                                # this is equivalent to \"import scipy.linalg as linalg\"\n",
    "\n",
    "A = np.array([[1,3,5], [2,5,1], [2,3,8]])\n",
    "b = np.array([10, 8, 3])\n",
    "\n",
    "x = linalg.solve(A,b)"
   ]
  },
  {
   "cell_type": "code",
   "execution_count": null,
   "metadata": {
    "tags": []
   },
   "outputs": [],
   "source": [
    "# Result, determinant and norm\n",
    "print (A)\n",
    "print (linalg.det(A))\n",
    "print (linalg.norm(A, 1))"
   ]
  },
  {
   "cell_type": "markdown",
   "metadata": {
    "user_expressions": []
   },
   "source": [
    "<font size =\"3\">Now we will fit a curve using the data loaded from data1.txt file in the previous example"
   ]
  },
  {
   "cell_type": "code",
   "execution_count": null,
   "metadata": {
    "tags": []
   },
   "outputs": [],
   "source": [
    "# We will use the function \"curve_fit\", that can be found in the module \"optimize\" of the library \"SciPy\"\n",
    "\n",
    "from scipy.optimize import curve_fit\n",
    "\n",
    "def expcurve(x, a):\n",
    "    '''A model'''\n",
    "    return 1 - a*np.exp(-x)\n",
    "\n",
    "def betterexpcurve(x, a, b, c):\n",
    "    '''A better model'''\n",
    "    return a - b*np.exp(-x*c)\n",
    "\n",
    "\n",
    "# Fit model\n",
    "popt, pcov = curve_fit(betterexpcurve, xdata, ydata)\n",
    "\n",
    "# Standard deviation errors on the parameters, see curve_fit documentation\n",
    "perr = np.sqrt(np.diag(pcov))\n",
    "\n",
    "# Generate data from the model\n",
    "x = np.linspace(min(xdata)-1, max(xdata)+1)\n",
    "y = betterexpcurve(x, *popt)\n",
    "\n",
    "# Plot raw data and model\n",
    "fig1, ax = plt.subplots(figsize=(12,8))\n",
    "ax.scatter(xdata, ydata, label='Raw Data')\n",
    "ax.plot(x,y, '--g', lw=3, label='Model')\n",
    "ax.set_xlabel('t [ms]')\n",
    "ax.set_ylabel('Y0')\n",
    "ax.legend(loc=2)"
   ]
  }
 ],
 "metadata": {
  "kernelspec": {
   "display_name": "Python3",
   "language": "python",
   "name": "python3"
  },
  "language_info": {
   "codemirror_mode": {
    "name": "ipython",
    "version": 3
   },
   "file_extension": ".py",
   "mimetype": "text/x-python",
   "name": "python",
   "nbconvert_exporter": "python",
   "pygments_lexer": "ipython3",
   "version": "3.12.5"
  }
 },
 "nbformat": 4,
 "nbformat_minor": 4
}
