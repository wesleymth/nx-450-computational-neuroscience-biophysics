{
 "cells": [
  {
   "cell_type": "markdown",
   "id": "36645f39",
   "metadata": {},
   "source": [
    "<center><font size = \"10\"> Week 1<center>\n",
    "<center><font size = \"8\"> Homework 02: Neuroscience Datasets<center>"
   ]
  },
  {
   "cell_type": "markdown",
   "id": "4c2d7b13",
   "metadata": {},
   "source": [
    "## Ex2.1. Morphologies\n",
    "\n",
    "<font size='3'> Go to [NeuroMorpho.Org](https://neuromorpho.org/) and answer the following questions:\n",
    "\n",
    "    A) How many Siberian tiger neurons are available? Which brain region are they from?\n",
    "    B) How many experiments have a protocol in ovo? Is the Shepherds-crook-neuron a principal cell?\n",
    "    \n",
    "    C) How many interneurons showing either parvalbumin or somatostatin are there in the hippocampus CA1? What about in any of the CA regions?\n",
    "    D) Tissue shrinkage can be a serious problem. How many morphologies report it? How many correct for it?\n",
    "    \n",
    "    E) What is the highest slice thickness reported (in millimetres)? Are these central nervous system cells?\n",
    "    F) Is there a Hungarian file format? How about a Viking one?\n",
    "    \n",
    "    G) Hippocampus CA is made up of the subfields CA1 + CA2 + CA3. Try answering question C again. What number do you get now? Why is that?\n",
    "       Write your reply (do not change your answer to C, it's ok). Remember: it can be dangerous to use wildcards... they are wild!\n",
    "    \n",
    "<font size='3'> Fill in your answers in the dictionary below. Format is already in place, <font color= 'red'>only</font> change the contents."
   ]
  },
  {
   "cell_type": "code",
   "execution_count": null,
   "id": "f36db4e4-c05e-4d00-89dd-784604ac39e2",
   "metadata": {},
   "outputs": [],
   "source": [
    "answers = {}\n",
    "\n",
    "answers['morphologies_A'] = (0, 'brain_region')\n",
    "answers['morphologies_B'] = (0, True or False )\n",
    "   \n",
    "answers['morphologies_C'] = (0, 0)\n",
    "answers['morphologies_D'] = (0, 0)\n",
    "    \n",
    "answers['morphologies_E'] = (0, True or False)\n",
    "answers['morphologies_F'] = (True or False, True or False)\n",
    "    \n",
    "answers['morphologies_G'] = (0, 'Write your reply here') "
   ]
  },
  {
   "cell_type": "markdown",
   "id": "423ff8d0",
   "metadata": {
    "tags": []
   },
   "source": [
    "## Ex2.2. Ion Channels\n",
    "\n",
    "<font size='3'> Given what you learned from [Channelpedia](https://channelpedia.epfl.ch/) and the [Kv3.3 channel](https://channelpedia.epfl.ch/wikipages/13), ask yourself:\n",
    "    \n",
    "    A) When you read ANY experiment reporting neural traces/activity/dynamics what is one key factor you should immediately look for in the methods?\n",
    "    B) What about in vivo studies that sometimes don't report it explicitly?"
   ]
  },
  {
   "cell_type": "code",
   "execution_count": null,
   "id": "993ca264",
   "metadata": {},
   "outputs": [],
   "source": [
    "answers['ion_channels_A'] = 'Write your reply here'\n",
    "answers['ion_channels_B'] = 'Write your reply here'"
   ]
  },
  {
   "cell_type": "markdown",
   "id": "859c75d5-0e8b-4768-a185-5624569a30ae",
   "metadata": {
    "tags": []
   },
   "source": [
    "## Ex2.3. Brain atlases\n",
    "\n",
    "<font size='3'> Go the [Allen Brain Atlas portal](http://atlas.brain-map.org/) and answer the following questions:\n",
    "    \n",
    "    Adult Mouse\n",
    "    A) How many specimens were used to create the latest adult mouse atlas?\n",
    "    B) What is the reason/purpose behind that?\n",
    "    C) Does this also mean there are caveats you should remember when consulting it?\n",
    "    \n",
    "    Adult Human\n",
    "    D) How many specimens were used to create the adult human atlas? What age are they on average (in years)?\n",
    "    E) Therefore we need to keep in mind __________ differences and ___ differences may play a role, particularly in certain regions. ___ is of course a factor as well.\n",
    "    F) What is another tissue-handling artefact that has a higher impact in very low n cases? Did you mention it for the mouse or did you forget it?\n",
    "    \n",
    "    Developing Mouse\n",
    "    G) How many sections does the E11.5 atlas have and at what intervals? How about E13.5 and P14?\n",
    "    H) Why these differences in the number of sections? Why such variation in the intervals?\n",
    "    \n",
    "    Mouse Spinal Cord\n",
    "    I) How long are the intervals between sections in this case (in μm)? Why is that?\n",
    "    \n",
    "<font size='3'> Keeping this kind of perspective and common sense is very valuable when looking at datasets"
   ]
  },
  {
   "cell_type": "code",
   "execution_count": null,
   "id": "24e46a33-3f4b-4001-b1fb-6b168cffb072",
   "metadata": {},
   "outputs": [],
   "source": [
    "answers['brain_atlases_A'] = 0\n",
    "answers['brain_atlases_B'] = 'Keep it short! Two sentences max'\n",
    "answers['brain_atlases_C'] = 'Keep it short! Two sentences max'\n",
    "\n",
    "answers['brain_atlases_D'] = (0, 0)\n",
    "answers['brain_atlases_E'] = '__________ differences and ___ differences [...]. ___ is of course a factor as well'\n",
    "answers['brain_atlases_F'] = 'Tissue _____________'\n",
    "\n",
    "answers['brain_atlases_G'] = ('__ at __ μm', '__ at __ μm', '__ at __ μm')\n",
    "answers['brain_atlases_H'] = 'Keep it short! Two sentences max'\n",
    "\n",
    "answers['brain_atlases_I'] = (0, 'Write your reply here')"
   ]
  },
  {
   "cell_type": "markdown",
   "id": "00c726f2-d97a-45fd-9ce3-b34f0a9e2e46",
   "metadata": {},
   "source": [
    "## Ex2.4. Cell atlases\n",
    "\n",
    "<font size='3'> Go to the [Blue Brain Cell Atlas](https://bbp.epfl.ch/nexus/cell-atlas/) and answer the following questions:\n",
    "    \n",
    "    A) What is the ratio of excitatory to inhibitory neurons in the claustrum?\n",
    "    B) Can you find a brain region with no excitatory cells?\n",
    "    C) What is the total volume of the periaqueductal gray (in mm3)? And of the locus ceruleus?\n",
    "    D) What is the ratio between neurons and glia in the substantia innominata?\n",
    "    \n",
    "<font size='3'> Now go to [MouseLight Neuron Browser](http://ml-neuronbrowser.janelia.org/) and continue with these:\n",
    "    \n",
    "    E) How many available axons originating in the midbrain pass through the corpus callosum?\n",
    "    F) How many available cells project to the main olfactory bulb from outside the olfactory areas?\n",
    "    G) In which brain region is neuron AA1079?\n",
    "    H) Search the area around neuron AA1079 in a radius of 1.5 mm, how many neighbouring neurons can you find? "
   ]
  },
  {
   "cell_type": "code",
   "execution_count": null,
   "id": "d468bba9-3ad0-4638-a7d9-2472b8954a81",
   "metadata": {},
   "outputs": [],
   "source": [
    "answers['cell_atlases_A'] = 0                      # use round(n, 4) to avoid gazillion decimals\n",
    "answers['cell_atlases_B'] = 'brain_region'\n",
    "answers['cell_atlases_C'] = (0, 0)\n",
    "answers['cell_atlases_D'] = 0\n",
    "\n",
    "answers['cell_atlases_E'] = 0\n",
    "answers['cell_atlases_F'] = 0\n",
    "answers['cell_atlases_G'] = 'brain_region'\n",
    "answers['cell_atlases_H'] = 0"
   ]
  },
  {
   "cell_type": "markdown",
   "id": "437ce823-c1a3-4d15-aa27-c2fc030a8589",
   "metadata": {},
   "source": [
    "## Ex2.5. Explore data in 3D and produce an image\n",
    "\n",
    "<font size='3'> To conclude the exercise go to the [Allen Brain Explorer](http://connectivity.brain-map.org/3d-viewer) and take a single screenshot showing:\n",
    "\n",
    "    - Your favourite injection experiment going from the olfactory areas to the cerebellum, change the colour to blue\n",
    "    - The isocortex and cerebellar cortex. Choose the camera angle that looks best to you\n",
    "    \n",
    "<font size='3'> Write the experiment ID below and attach the screenshot in your email together with your notebook. Try to paste the screenshot in a markdown cell to display it here, but don't stress if you can't or it does not save."
   ]
  },
  {
   "cell_type": "code",
   "execution_count": null,
   "id": "ad0f8e2e-566e-4ca6-a911-3f28fd47c677",
   "metadata": {},
   "outputs": [],
   "source": [
    "answers['screenshot_experiment_ID'] = 0"
   ]
  },
  {
   "cell_type": "markdown",
   "id": "037584f5-5af6-40d2-a196-a8d98ea4ae22",
   "metadata": {},
   "source": [
    "## <font color= 'red'>Correction</font> \n",
    "\n",
    "<font color= 'red'>6 pts</font> maximum:\n",
    "  - <font color= 'red'>5 pts</font> from questions, all questions are equal\n",
    "  - <font color= 'red'>1 pts</font> for the screenshot\n",
    "\n"
   ]
  },
  {
   "cell_type": "markdown",
   "id": "912dd10b-811a-47e5-962d-dd5e2ce03952",
   "metadata": {
    "tags": []
   },
   "source": [
    "#### Python practice\n",
    "The exercise is over, but have a look at the correction function below. Grading here is done by displaying only those answers that are not == and counting mistakes"
   ]
  },
  {
   "cell_type": "code",
   "execution_count": null,
   "id": "bf6cc886-ed4d-4e72-a0d0-339347ee73ee",
   "metadata": {},
   "outputs": [],
   "source": [
    "from colorama import Fore\n",
    "\n",
    "def compare_answers(first, second):\n",
    "    assert first.keys() == second.keys(), f'Question labels have been changed'\n",
    "    for key in first.keys():\n",
    "        if first[key] != second[key]:\n",
    "            print(Fore.BLACK + '{}  |  '.format(key)    +\n",
    "                  Fore.RED   + '{}'.format(first[key])  +\n",
    "                  Fore.BLACK + '  |  '                  +\n",
    "                  Fore.GREEN + '{}'.format(second[key]) )\n",
    "    return"
   ]
  },
  {
   "cell_type": "markdown",
   "id": "1c9efea8-9ae1-4be9-9b43-59ac18ddc477",
   "metadata": {
    "jp-MarkdownHeadingCollapsed": true,
    "tags": []
   },
   "source": [
    "<font size=\"3\" color=\"red\"> --> Copy the correct answers dictionary here <-- "
   ]
  },
  {
   "cell_type": "code",
   "execution_count": null,
   "id": "7f4747df-4cce-408b-a785-3e8a8694160a",
   "metadata": {},
   "outputs": [],
   "source": [
    "max_points  = 5\n",
    "n_questions = len(correct_answers.keys())\n",
    "compare_answers(answers, correct_answers)\n",
    "\n",
    "#  TAs CHANGE THIS\n",
    "#-------------------\\\n",
    "screenshot = True   #\n",
    "n_mistakes = 4.5    # every wrong answer +1 mistake, partially correct tuples +0.5\n",
    "#-------------------|\n",
    "\n",
    "score = round(max_points * (n_questions - n_mistakes) / n_questions, 1) + screenshot\n",
    "print(Fore.BLUE + '\\n\\n--->  The score for  | {} |  is {} points  <---'.format(student_names, score))"
   ]
  }
 ],
 "metadata": {
  "kernelspec": {
   "display_name": "Python3",
   "language": "python",
   "name": "python3"
  },
  "language_info": {
   "codemirror_mode": {
    "name": "ipython",
    "version": 3
   },
   "file_extension": ".py",
   "mimetype": "text/x-python",
   "name": "python",
   "nbconvert_exporter": "python",
   "pygments_lexer": "ipython3",
   "version": "3.12.5"
  }
 },
 "nbformat": 4,
 "nbformat_minor": 5
}
