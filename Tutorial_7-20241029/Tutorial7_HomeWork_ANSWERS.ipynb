{
 "cells": [
  {
   "cell_type": "markdown",
   "metadata": {},
   "source": [
    "<center><font size = \"10\"> Week 7 - Connections <center>\n",
    "<center><font size = \"8\">Homework - Answers<center>"
   ]
  },
  {
   "cell_type": "markdown",
   "metadata": {},
   "source": [
    "<font size = \"3\">Please, write your group number and the names and surnames of the group members here\n",
    "<br>Group number:\n",
    "<br>Group member1:\n",
    "<br>Group member2:\n",
    "<br>Group member3:"
   ]
  },
  {
   "cell_type": "markdown",
   "metadata": {},
   "source": [
    "# <font color='red'> Ex1: </font> Connect all-to-all with random weights.\n",
    "\n",
    "<font size='3'>In week 3 Home Works (Morphologies) each group received a set of ten morphology files to check their quality. Each set of cells have __FIVE__ good morphology files.\n",
    "\n",
    "<font size='3'> For this exercise, connect your five cells all to all (unidirectionally) with random weights, as it is done in tutorial 01 of this week, and display the connectivity matrix with the weights.\n",
    "    \n",
    "<font color= 'red'>[1.5 pts]"
   ]
  },
  {
   "cell_type": "markdown",
   "metadata": {
    "tags": []
   },
   "source": [
    "### **Grading**: \n",
    "- <font color= 'red'>[0.5 pts]</font> for a clear setup of all the functions you need\n",
    "- <font color= 'red'>[0.5 pts]</font> for a step by step process loading cells and connecting them\n",
    "- <font color= 'red'>[0.5 pts]</font> for connection weights plot, with labels and legend"
   ]
  },
  {
   "cell_type": "code",
   "execution_count": 1,
   "metadata": {},
   "outputs": [
    {
     "name": "stderr",
     "output_type": "stream",
     "text": [
      "Warning: no DISPLAY environment variable.\n",
      "--No graphics will be displayed.\n"
     ]
    }
   ],
   "source": [
    "# Load useful packages\n",
    "import os\n",
    "from neuron import h, gui\n",
    "import numpy as np\n",
    "import math as m\n",
    "import random as rd\n",
    "\n",
    "import matplotlib.pyplot as plt\n",
    "%matplotlib inline"
   ]
  },
  {
   "cell_type": "markdown",
   "metadata": {},
   "source": [
    "_First, we define the `Cell` class._"
   ]
  },
  {
   "cell_type": "code",
   "execution_count": 2,
   "metadata": {},
   "outputs": [],
   "source": [
    "class Cell:\n",
    "    def __init__(self, filename, name, cell_type):\n",
    "        self.name = name\n",
    "        self.type = cell_type\n",
    "        self.synapses = []\n",
    "        self.build_morphology(filename)\n",
    "        self.biophysics()\n",
    "        \n",
    "    def build_morphology(self, filename):\n",
    "        h.load_file('import3d.hoc')\n",
    "        h.load_file('stdlib.hoc')\n",
    "        #morph_reader = h.Import3d_Neurolucida3()\n",
    "        morph_reader = h.Import3d_SWC_read()\n",
    "        morph_reader.input(filename)\n",
    "        i3d = h.Import3d_GUI(morph_reader, 0)\n",
    "        i3d.instantiate(self)\n",
    "    \n",
    "    def biophysics(self):\n",
    "        # Insert passive properties in the neuron\n",
    "        for sec in h.allsec():\n",
    "            sec.Ra = 100    # Axial resistance in Ohm * cm\n",
    "            sec.cm = 1      # Membrane capacitance in micro Farads / cm^2\n",
    "            sec.insert(\"pas\")\n",
    "            for seg in sec:\n",
    "                seg.pas.g = 0.00003\n",
    "                seg.pas.e = -75\n",
    "        \n",
    "        # Insert active properties in the neuron\n",
    "        for sec in self.soma:\n",
    "            sec.insert('hh')\n",
    "            for seg in sec:\n",
    "                seg.hh.gnabar = 0.12  # Sodium conductance in S/cm2\n",
    "                seg.hh.gkbar = 0.036  # Potassium conductance in S/cm2\n",
    "        \n",
    "        if hasattr(self, 'apic'):\n",
    "            for sec in self.apic:\n",
    "                sec.insert('hh')\n",
    "                for seg in sec:\n",
    "                    seg.hh.gnabar = 0.12  # Sodium conductance in S/cm2\n",
    "                    seg.hh.gkbar = 0.036  # Potassium conductance in S/cm2\n",
    "        \n",
    "        for sec in self.dend:\n",
    "            sec.insert('hh')\n",
    "            for seg in sec:\n",
    "                seg.hh.gnabar = 0.12  # Sodium conductance in S/cm2\n",
    "                seg.hh.gkbar = 0.036  # Potassium conductance in S/cm2\n",
    "                \n",
    "        for sec in self.axon:\n",
    "            sec.insert('hh')\n",
    "            for seg in sec:    \n",
    "                seg.hh.gnabar = 0.12  # Sodium conductance in S/cm2\n",
    "                seg.hh.gkbar = 0.036  # Potassium conductance in S/cm2"
   ]
  },
  {
   "cell_type": "markdown",
   "metadata": {},
   "source": [
    "_We also define the functions used to create the random weight matrix, and to connect two neurons, as in the tutorials._"
   ]
  },
  {
   "cell_type": "code",
   "execution_count": 3,
   "metadata": {},
   "outputs": [],
   "source": [
    "# returns NxN matrix of random weights in [0,1) with zero diagonal\n",
    "def random_weights(n):\n",
    "    rng = np.random.default_rng()\n",
    "    weights = rng.random((n,n))\n",
    "    np.fill_diagonal(weights,0.0)\n",
    "    return weights"
   ]
  },
  {
   "cell_type": "code",
   "execution_count": 4,
   "metadata": {},
   "outputs": [],
   "source": [
    "# connect two cells with an exponential synapse at given locations\n",
    "# returns the netcon\n",
    "def connect(source, target, weight = None, delay = 5, source_sec = None, source_neurite = 'axon', target_sec = None, target_neurite = 'dend'):\n",
    "    rng = np.random.default_rng()\n",
    "    \n",
    "    if weight is None:\n",
    "        weight = rng.uniform() # random weight\n",
    "    \n",
    "    target_neurite_ = getattr(target, target_neurite)\n",
    "    if target_sec is None:\n",
    "        target_sec = rng.integers(0,len(target_neurite_)) # random dendritic section\n",
    "    \n",
    "    source_neurite_ = getattr(source, source_neurite)\n",
    "    if source_sec is None:\n",
    "        source_sec = rng.integers(0,len(source_neurite_)) # random axonal section\n",
    "    \n",
    "    target_syn = h.ExpSyn(target_neurite_[target_sec](0.5))\n",
    "    target.synapses.append(target_syn) # store synapse\n",
    "    \n",
    "    netcon = h.NetCon(source_neurite_[source_sec](0.5)._ref_v, target_syn, sec=source_neurite_[source_sec])\n",
    "    netcon.weight[0] = weight\n",
    "    netcon.delay = delay\n",
    "    \n",
    "    print('Connected cells %s -> %s with weight %g and delay %g, from %s[%d] to %s[%d]' % (source.name,target.name,weight,delay,source_neurite,source_sec,target_neurite,target_sec))\n",
    "    return netcon"
   ]
  },
  {
   "cell_type": "markdown",
   "metadata": {},
   "source": [
    "_Finally, we define the function to plot the connection matrix._"
   ]
  },
  {
   "cell_type": "code",
   "execution_count": 1,
   "metadata": {},
   "outputs": [],
   "source": [
    "def heatmap(data, row_labels, col_labels, ax=None, cbar_kw={}, cbarlabel=\"\", **kwargs):\n",
    "    \"\"\"\n",
    "    Create a heatmap from a numpy array and two lists of labels.\n",
    "\n",
    "    Parameters\n",
    "    ----------\n",
    "    data\n",
    "        A 2D numpy array of shape (N, M).\n",
    "    row_labels\n",
    "        A list or array of length N with the labels for the rows.\n",
    "    col_labels\n",
    "        A list or array of length M with the labels for the columns.\n",
    "    ax\n",
    "        A `matplotlib.axes.Axes` instance to which the heatmap is plotted.  If\n",
    "        not provided, use current axes or create a new one.  Optional.\n",
    "    cbar_kw\n",
    "        A dictionary with arguments to `matplotlib.Figure.colorbar`.  Optional.\n",
    "    cbarlabel\n",
    "        The label for the colorbar.  Optional.\n",
    "    **kwargs\n",
    "        All other arguments are forwarded to `imshow`.\n",
    "    \"\"\"\n",
    "    \n",
    "    if not ax:\n",
    "        ax = plt.gca()\n",
    "\n",
    "    # Plot the heatmap\n",
    "    im = ax.imshow(data, **kwargs)\n",
    "\n",
    "    # Create colorbar\n",
    "    cbar = ax.figure.colorbar(im, ax=ax, **cbar_kw)\n",
    "    cbar.ax.set_ylabel(cbarlabel, rotation=-90, va=\"bottom\")\n",
    "\n",
    "    # We want to show all ticks...\n",
    "    ax.set_xticks(np.arange(data.shape[1]))\n",
    "    ax.set_yticks(np.arange(data.shape[0]))\n",
    "    # ... and label them with the respective list entries.\n",
    "    ax.set_xticklabels(col_labels)\n",
    "    ax.set_yticklabels(row_labels)\n",
    "\n",
    "    # Let the horizontal axes labeling appear on top.\n",
    "    ax.tick_params(top=True, bottom=False,\n",
    "                   labeltop=True, labelbottom=False)\n",
    "\n",
    "    # Rotate the tick labels and set their alignment.\n",
    "    plt.setp(ax.get_xticklabels(), rotation=-30, ha=\"right\",\n",
    "             rotation_mode=\"anchor\")\n",
    "\n",
    "    # Turn spines off and create white grid.\n",
    "    for edge, spine in ax.spines.items():\n",
    "        spine.set_visible(False)\n",
    "\n",
    "    ax.set_xticks(np.arange(data.shape[1]+1)-.5, minor=True)\n",
    "    ax.set_xlabel(\"Target\")\n",
    "    ax.set_yticks(np.arange(data.shape[0]+1)-.5, minor=True)\n",
    "    ax.set_ylabel(\"Source\")\n",
    "    ax.grid(which=\"minor\", color=\"w\", linestyle='-', linewidth=3)\n",
    "    ax.tick_params(which=\"minor\", bottom=False, left=False)\n",
    "\n",
    "    return im, cbar"
   ]
  },
  {
   "cell_type": "markdown",
   "metadata": {},
   "source": [
    "_Now, we create the cells, display some stats and..._"
   ]
  },
  {
   "cell_type": "code",
   "execution_count": 2,
   "metadata": {},
   "outputs": [
    {
     "ename": "NameError",
     "evalue": "name 'Cell' is not defined",
     "output_type": "error",
     "traceback": [
      "\u001b[0;31m---------------------------------------------------------------------------\u001b[0m",
      "\u001b[0;31mNameError\u001b[0m                                 Traceback (most recent call last)",
      "Cell \u001b[0;32mIn[2], line 1\u001b[0m\n\u001b[0;32m----> 1\u001b[0m Pyr1 \u001b[38;5;241m=\u001b[39m \u001b[43mCell\u001b[49m(\u001b[38;5;124m'\u001b[39m\u001b[38;5;124minput/example_morphologies/Pyr_01.swc\u001b[39m\u001b[38;5;124m'\u001b[39m,\u001b[38;5;124m'\u001b[39m\u001b[38;5;124mPyr1\u001b[39m\u001b[38;5;124m'\u001b[39m,\u001b[38;5;124m'\u001b[39m\u001b[38;5;124mPyr\u001b[39m\u001b[38;5;124m'\u001b[39m)\n\u001b[1;32m      2\u001b[0m Pyr2 \u001b[38;5;241m=\u001b[39m Cell(\u001b[38;5;124m'\u001b[39m\u001b[38;5;124minput/example_morphologies/Pyr_02.swc\u001b[39m\u001b[38;5;124m'\u001b[39m,\u001b[38;5;124m'\u001b[39m\u001b[38;5;124mPyr2\u001b[39m\u001b[38;5;124m'\u001b[39m,\u001b[38;5;124m'\u001b[39m\u001b[38;5;124mPyr\u001b[39m\u001b[38;5;124m'\u001b[39m)\n\u001b[1;32m      3\u001b[0m Pyr3 \u001b[38;5;241m=\u001b[39m Cell(\u001b[38;5;124m'\u001b[39m\u001b[38;5;124minput/example_morphologies/Pyr_03.swc\u001b[39m\u001b[38;5;124m'\u001b[39m,\u001b[38;5;124m'\u001b[39m\u001b[38;5;124mPyr3\u001b[39m\u001b[38;5;124m'\u001b[39m,\u001b[38;5;124m'\u001b[39m\u001b[38;5;124mPyr\u001b[39m\u001b[38;5;124m'\u001b[39m)\n",
      "\u001b[0;31mNameError\u001b[0m: name 'Cell' is not defined"
     ]
    }
   ],
   "source": [
    "Pyr1 = Cell('input/example_morphologies/Pyr_01.swc','Pyr1','Pyr')\n",
    "Pyr2 = Cell('input/example_morphologies/Pyr_02.swc','Pyr2','Pyr')\n",
    "Pyr3 = Cell('input/example_morphologies/Pyr_03.swc','Pyr3','Pyr')\n",
    "Int1 = Cell('input/example_morphologies/Int_01.swc','Int1','Int')\n",
    "Int2 = Cell('input/example_morphologies/Int_02.swc','Int2','Int')\n",
    "\n",
    "cells_Pyr = [Pyr1, Pyr2, Pyr3]\n",
    "cells_Int = [Int1,Int2]\n",
    "cells = cells_Pyr + cells_Int\n",
    "\n",
    "for c in cells_Pyr:\n",
    "    print('%s: %d apical sections, %d basal sections, %d soma sections and %d axon sections' % (c.name,len(c.apic),len(c.dend), len(c.soma), len(c.axon)))\n",
    "for c in cells_Int:\n",
    "    print('%s: %d basal sections, %d soma sections and %d axon sections' % (c.name,len(c.dend), len(c.soma), len(c.axon)))"
   ]
  },
  {
   "cell_type": "markdown",
   "metadata": {},
   "source": [
    "_... make all-to-all, random-weight, connections._"
   ]
  },
  {
   "cell_type": "code",
   "execution_count": 3,
   "metadata": {},
   "outputs": [
    {
     "ename": "NameError",
     "evalue": "name 'random_weights' is not defined",
     "output_type": "error",
     "traceback": [
      "\u001b[0;31m---------------------------------------------------------------------------\u001b[0m",
      "\u001b[0;31mNameError\u001b[0m                                 Traceback (most recent call last)",
      "Cell \u001b[0;32mIn[3], line 1\u001b[0m\n\u001b[0;32m----> 1\u001b[0m weight_matrix \u001b[38;5;241m=\u001b[39m \u001b[43mrandom_weights\u001b[49m(\u001b[38;5;241m5\u001b[39m)\n\u001b[1;32m      3\u001b[0m netcons \u001b[38;5;241m=\u001b[39m [] \u001b[38;5;66;03m# save the netcons in case we want to modify them later\u001b[39;00m\n\u001b[1;32m      5\u001b[0m \u001b[38;5;28;01mfor\u001b[39;00m i, source_cell \u001b[38;5;129;01min\u001b[39;00m \u001b[38;5;28menumerate\u001b[39m(cells):\n",
      "\u001b[0;31mNameError\u001b[0m: name 'random_weights' is not defined"
     ]
    }
   ],
   "source": [
    "weight_matrix = random_weights(5)\n",
    "\n",
    "netcons = [] # save the netcons in case we want to modify them later\n",
    "\n",
    "for i, source_cell in enumerate(cells):\n",
    "    for j, target_cell in enumerate(cells):\n",
    "        if source_cell.name == target_cell.name:\n",
    "            continue   # do not connect cells to themselves\n",
    "        nc = connect(source_cell,target_cell,weight_matrix[i,j])\n",
    "        netcons.append(nc)"
   ]
  },
  {
   "cell_type": "markdown",
   "metadata": {},
   "source": [
    "_Display the resulting weight matrix:_"
   ]
  },
  {
   "cell_type": "code",
   "execution_count": 4,
   "metadata": {},
   "outputs": [
    {
     "ename": "NameError",
     "evalue": "name 'plt' is not defined",
     "output_type": "error",
     "traceback": [
      "\u001b[0;31m---------------------------------------------------------------------------\u001b[0m",
      "\u001b[0;31mNameError\u001b[0m                                 Traceback (most recent call last)",
      "Cell \u001b[0;32mIn[4], line 1\u001b[0m\n\u001b[0;32m----> 1\u001b[0m fig, ax \u001b[38;5;241m=\u001b[39m \u001b[43mplt\u001b[49m\u001b[38;5;241m.\u001b[39msubplots()\n\u001b[1;32m      3\u001b[0m im, cbar \u001b[38;5;241m=\u001b[39m heatmap(weight_matrix, \n\u001b[1;32m      4\u001b[0m                    [\u001b[38;5;124m'\u001b[39m\u001b[38;5;124mPyr1\u001b[39m\u001b[38;5;124m'\u001b[39m, \u001b[38;5;124m'\u001b[39m\u001b[38;5;124mPyr2\u001b[39m\u001b[38;5;124m'\u001b[39m, \u001b[38;5;124m'\u001b[39m\u001b[38;5;124mPyr3\u001b[39m\u001b[38;5;124m'\u001b[39m, \u001b[38;5;124m'\u001b[39m\u001b[38;5;124mInh1\u001b[39m\u001b[38;5;124m'\u001b[39m, \u001b[38;5;124m'\u001b[39m\u001b[38;5;124mInh2\u001b[39m\u001b[38;5;124m'\u001b[39m], \n\u001b[1;32m      5\u001b[0m                    [\u001b[38;5;124m'\u001b[39m\u001b[38;5;124mPyr1\u001b[39m\u001b[38;5;124m'\u001b[39m, \u001b[38;5;124m'\u001b[39m\u001b[38;5;124mPyr2\u001b[39m\u001b[38;5;124m'\u001b[39m, \u001b[38;5;124m'\u001b[39m\u001b[38;5;124mPyr3\u001b[39m\u001b[38;5;124m'\u001b[39m, \u001b[38;5;124m'\u001b[39m\u001b[38;5;124mInh1\u001b[39m\u001b[38;5;124m'\u001b[39m, \u001b[38;5;124m'\u001b[39m\u001b[38;5;124mInh2\u001b[39m\u001b[38;5;124m'\u001b[39m], \n\u001b[1;32m      6\u001b[0m                    ax\u001b[38;5;241m=\u001b[39max, cmap\u001b[38;5;241m=\u001b[39m\u001b[38;5;124m\"\u001b[39m\u001b[38;5;124mviridis\u001b[39m\u001b[38;5;124m\"\u001b[39m, cbarlabel\u001b[38;5;241m=\u001b[39m\u001b[38;5;124m\"\u001b[39m\u001b[38;5;124mConnection weights\u001b[39m\u001b[38;5;124m\"\u001b[39m)\n\u001b[1;32m      8\u001b[0m ax\u001b[38;5;241m.\u001b[39mset_title(\u001b[38;5;124m\"\u001b[39m\u001b[38;5;124mConnection weight matrix between cells\u001b[39m\u001b[38;5;124m\"\u001b[39m, fontsize \u001b[38;5;241m=\u001b[39m \u001b[38;5;241m15\u001b[39m)\n",
      "\u001b[0;31mNameError\u001b[0m: name 'plt' is not defined"
     ]
    }
   ],
   "source": [
    "fig, ax = plt.subplots()\n",
    "\n",
    "im, cbar = heatmap(weight_matrix, \n",
    "                   ['Pyr1', 'Pyr2', 'Pyr3', 'Inh1', 'Inh2'], \n",
    "                   ['Pyr1', 'Pyr2', 'Pyr3', 'Inh1', 'Inh2'], \n",
    "                   ax=ax, cmap=\"viridis\", cbarlabel=\"Connection weights\")\n",
    "\n",
    "ax.set_title(\"Connection weight matrix between cells\", fontsize = 15)\n",
    "fig.tight_layout()"
   ]
  },
  {
   "cell_type": "markdown",
   "metadata": {},
   "source": [
    "# <font color='red'> Ex2: </font> Connect your cells considering connection probability\n",
    "\n",
    "<font size='3'> Connect your five cells as it is done in tutorial 02, considering the following connection probabilities between cell types:<br>\n",
    "<br> PC - PC: 65 %\n",
    "<br> PC - Inh: 23 %\n",
    "<br> Inh - PC: 41 %\n",
    "<br> Inh - Inh: 36 %\n",
    "\n",
    "<font size='3'> Then show the results on a probability matrix.\n",
    "    \n",
    "<font color= 'red'>[1 pt]"
   ]
  },
  {
   "cell_type": "markdown",
   "metadata": {
    "tags": []
   },
   "source": [
    "### **Grading**: \n",
    "- <font color= 'red'>[0.5 pts]</font> for a step by step process loading cells and connecting them\n",
    "- <font color= 'red'>[0.5 pts]</font> for probability matrix plot"
   ]
  },
  {
   "cell_type": "markdown",
   "metadata": {},
   "source": [
    "_We re-create the cells, otherwise they will have retained the previous connections (although we don't really care, because we are not running any simulation)._"
   ]
  },
  {
   "cell_type": "code",
   "execution_count": 9,
   "metadata": {},
   "outputs": [],
   "source": [
    "Pyr1 = Cell('input/example_morphologies/Pyr_01.swc','Pyr1','Pyr')\n",
    "Pyr2 = Cell('input/example_morphologies/Pyr_02.swc','Pyr2','Pyr')\n",
    "Pyr3 = Cell('input/example_morphologies/Pyr_03.swc','Pyr3','Pyr')\n",
    "Int1 = Cell('input/example_morphologies/Int_01.swc','Int1','Int')\n",
    "Int2 = Cell('input/example_morphologies/Int_02.swc','Int2','Int')\n",
    "\n",
    "cells_Pyr = [Pyr1, Pyr2, Pyr3]\n",
    "cells_Int = [Int1,Int2]\n",
    "cells = cells_Pyr + cells_Int"
   ]
  },
  {
   "cell_type": "markdown",
   "metadata": {},
   "source": [
    "_We specify the connection probabilites between cell types._"
   ]
  },
  {
   "cell_type": "code",
   "execution_count": 10,
   "metadata": {},
   "outputs": [],
   "source": [
    "conn_prob_dict = {}\n",
    "conn_prob_dict[(\"Pyr\", \"Pyr\")] = 0.65 # Pyr to Pyr\n",
    "conn_prob_dict[(\"Pyr\", \"Int\")] = 0.23 # Pyr to Int\n",
    "conn_prob_dict[(\"Int\", \"Pyr\")] = 0.41 # Int to Pyr\n",
    "conn_prob_dict[(\"Int\", \"Int\")] = 0.36 # Int to Int"
   ]
  },
  {
   "cell_type": "markdown",
   "metadata": {},
   "source": [
    "_We decide of connecting the neurons depending on the above probabilities, and retain the chosen weights in a matrix, then display this matrix._ "
   ]
  },
  {
   "cell_type": "code",
   "execution_count": 11,
   "metadata": {},
   "outputs": [
    {
     "name": "stdout",
     "output_type": "stream",
     "text": [
      "Connected cells Pyr1 -> Pyr3 with weight 0.840077 and delay 5, from axon[69] to dend[9]\n",
      "Connected cells Pyr2 -> Pyr1 with weight 0.0748439 and delay 5, from axon[111] to dend[1]\n",
      "Connected cells Pyr2 -> Pyr3 with weight 0.888447 and delay 5, from axon[63] to dend[24]\n",
      "Connected cells Pyr3 -> Pyr2 with weight 0.764218 and delay 5, from axon[101] to dend[29]\n",
      "Connected cells Int1 -> Pyr1 with weight 0.791519 and delay 5, from axon[168] to dend[10]\n",
      "Connected cells Int1 -> Pyr3 with weight 0.510776 and delay 5, from axon[3] to dend[36]\n",
      "Connected cells Int1 -> Int2 with weight 0.770156 and delay 5, from axon[286] to dend[0]\n",
      "Connected cells Int2 -> Int1 with weight 0.67708 and delay 5, from axon[39] to dend[36]\n"
     ]
    }
   ],
   "source": [
    "weight_matrix = np.zeros((5,5))\n",
    "\n",
    "netcons = [] # save the netcons in case we want to modify them later\n",
    "\n",
    "rng = np.random.default_rng()\n",
    "\n",
    "for i, source_cell in enumerate(cells):\n",
    "    for j, target_cell in enumerate(cells):\n",
    "        if source_cell.name == target_cell.name:\n",
    "            continue   # do not connect cells to themselves\n",
    "        if rng.random() < conn_prob_dict[(source_cell.type, target_cell.type)]:\n",
    "            weight = rng.uniform()\n",
    "            nc = connect(source_cell,target_cell,weight)\n",
    "            netcons.append(nc)\n",
    "            weight_matrix[i,j] = weight\n",
    "            \n",
    "prob_matrix = np.array([[conn_prob_dict[(\"Pyr\", \"Pyr\")], \n",
    "                         conn_prob_dict[(\"Pyr\", \"Int\")]],\n",
    "                        [conn_prob_dict[(\"Int\", \"Pyr\")], \n",
    "                         conn_prob_dict[(\"Int\", \"Int\")]]])"
   ]
  },
  {
   "cell_type": "code",
   "execution_count": 12,
   "metadata": {},
   "outputs": [
    {
     "data": {
      "image/png": "[encoded data removed]",
      "text/plain": [
       "<Figure size 640x480 with 2 Axes>"
      ]
     },
     "metadata": {},
     "output_type": "display_data"
    }
   ],
   "source": [
    "fig, ax = plt.subplots()\n",
    "im, cbar = heatmap(prob_matrix, ['Pyr', 'Int'], ['Pyr', 'Int'], \n",
    "                   ax=ax, cmap=\"viridis\", cbarlabel=\"Connection probability\")\n",
    "\n",
    "ax.set_title(\"Connection probability matrix between cell types\", fontsize = 15)\n",
    "fig.tight_layout()"
   ]
  },
  {
   "cell_type": "markdown",
   "metadata": {},
   "source": [
    "# <font color='red'> Ex3: </font> Distribution of contacts: Convergence Matrix\n",
    "\n",
    "<font size='3'> Consider the following mean contact points between cell types: \n",
    "<br> PC_axon - PC_basal: 4\n",
    "<br> PC_axon - PC_apical: 1.5\n",
    "<br> PC_axon - Inh_basal: 3\n",
    "<br> Inh_axon - PC_soma: 3.5\n",
    "<br> Inh_axon - PC_basal: 2\n",
    "<br> Inh_axon - Inh_soma: 4\n",
    "<br> Inh_axon - Inh_basal: 1.6\n",
    "\n",
    "<font size='3'> Connect your cells by selecting the contact points from a normal distribution with a specific mean value per connection (values above). \n",
    "    \n",
    "<font size='3'> Show the results on a __convergence__ matrix (how many contacts each of the cells receives from the others). \n",
    "    \n",
    "<font color= 'red'>[2 pts]"
   ]
  },
  {
   "cell_type": "markdown",
   "metadata": {},
   "source": [
    "### **Grading**: \n",
    "- <font color= 'red'>[1 pt]</font> for correct cell connections\n",
    "- <font color= 'red'>[1 pt]</font> for the convergence matrix plot, with labels and legend"
   ]
  },
  {
   "cell_type": "code",
   "execution_count": 13,
   "metadata": {},
   "outputs": [],
   "source": [
    "# specify expected number of contacts between cell types, considering target neurite\n",
    "expected_contacts = np.zeros((2,2,3), dtype=int)\n",
    "\n",
    "expected_contacts[0,0,0] = 0 # Pyr to Pyr (soma)\n",
    "expected_contacts[0,0,1] = 4 # Pyr to Pyr (dend)\n",
    "expected_contacts[0,0,2] = 1.5 # Pyr to Pyr (apic)\n",
    "\n",
    "expected_contacts[1,0,0] = 3.5 # Int to Pyr (soma)\n",
    "expected_contacts[1,0,1] = 2 # Int to Pyr (dend)\n",
    "expected_contacts[1,0,2] = 0 # Int to Pyr (apic)\n",
    "\n",
    "expected_contacts[0,1,0] = 0 # Pyr to Int (soma)\n",
    "expected_contacts[0,1,1] = 3 # Pyr to Int (dend)\n",
    "\n",
    "expected_contacts[1,1,0] = 4 # Int to Int (soma)\n",
    "expected_contacts[1,1,1] = 1.6 # Int to Int (dend)"
   ]
  },
  {
   "cell_type": "code",
   "execution_count": 14,
   "metadata": {},
   "outputs": [
    {
     "name": "stdout",
     "output_type": "stream",
     "text": [
      "Connected cells Pyr1 -> Pyr2 with weight 0.0987951 and delay 5, from axon[87] to dend[26]\n",
      "Connected cells Pyr1 -> Pyr2 with weight 0.0748258 and delay 5, from axon[115] to dend[46]\n",
      "Connected cells Pyr1 -> Pyr2 with weight 0.0606735 and delay 5, from axon[16] to dend[44]\n",
      "Connected cells Pyr1 -> Pyr2 with weight 0.588057 and delay 5, from axon[268] to dend[42]\n",
      "Connected cells Pyr1 -> Pyr3 with weight 0.0201928 and delay 5, from axon[266] to dend[17]\n",
      "Connected cells Pyr1 -> Pyr3 with weight 0.927037 and delay 5, from axon[185] to dend[14]\n",
      "Connected cells Pyr1 -> Pyr3 with weight 0.372496 and delay 5, from axon[90] to dend[24]\n",
      "Connected cells Pyr1 -> Int1 with weight 0.708473 and delay 5, from axon[7] to dend[44]\n",
      "Connected cells Pyr1 -> Int1 with weight 0.368685 and delay 5, from axon[164] to dend[67]\n",
      "Connected cells Pyr1 -> Int1 with weight 0.452072 and delay 5, from axon[63] to dend[33]\n",
      "Connected cells Pyr1 -> Int2 with weight 0.965266 and delay 5, from axon[115] to dend[18]\n",
      "Connected cells Pyr2 -> Pyr1 with weight 0.599778 and delay 5, from axon[81] to dend[0]\n",
      "Connected cells Pyr2 -> Pyr1 with weight 0.14803 and delay 5, from axon[18] to dend[34]\n",
      "Connected cells Pyr2 -> Pyr1 with weight 0.227063 and delay 5, from axon[102] to apic[24]\n",
      "Connected cells Pyr2 -> Pyr3 with weight 0.653373 and delay 5, from axon[28] to dend[2]\n",
      "Connected cells Pyr2 -> Pyr3 with weight 0.0282887 and delay 5, from axon[80] to dend[10]\n",
      "Connected cells Pyr2 -> Pyr3 with weight 0.0346412 and delay 5, from axon[95] to dend[27]\n",
      "Connected cells Pyr2 -> Pyr3 with weight 0.236021 and delay 5, from axon[82] to dend[28]\n",
      "Connected cells Pyr2 -> Pyr3 with weight 0.0657292 and delay 5, from axon[21] to apic[5]\n",
      "Connected cells Pyr2 -> Int1 with weight 0.743488 and delay 5, from axon[53] to dend[12]\n",
      "Connected cells Pyr2 -> Int2 with weight 0.923947 and delay 5, from axon[19] to dend[7]\n",
      "Connected cells Pyr2 -> Int2 with weight 0.572212 and delay 5, from axon[31] to dend[16]\n",
      "Connected cells Pyr2 -> Int2 with weight 0.937305 and delay 5, from axon[90] to dend[9]\n",
      "Connected cells Pyr3 -> Pyr1 with weight 0.622232 and delay 5, from axon[55] to dend[55]\n",
      "Connected cells Pyr3 -> Pyr1 with weight 0.170824 and delay 5, from axon[15] to dend[60]\n",
      "Connected cells Pyr3 -> Pyr1 with weight 0.348994 and delay 5, from axon[62] to dend[38]\n",
      "Connected cells Pyr3 -> Pyr1 with weight 0.319896 and delay 5, from axon[25] to dend[7]\n",
      "Connected cells Pyr3 -> Pyr2 with weight 0.0429158 and delay 5, from axon[6] to dend[27]\n",
      "Connected cells Pyr3 -> Pyr2 with weight 0.00674958 and delay 5, from axon[51] to dend[33]\n",
      "Connected cells Pyr3 -> Pyr2 with weight 0.864521 and delay 5, from axon[84] to apic[10]\n",
      "Connected cells Pyr3 -> Int1 with weight 0.96123 and delay 5, from axon[32] to dend[47]\n",
      "Connected cells Pyr3 -> Int1 with weight 0.993001 and delay 5, from axon[43] to dend[59]\n",
      "Connected cells Pyr3 -> Int2 with weight 0.0626082 and delay 5, from axon[53] to dend[27]\n",
      "Connected cells Pyr3 -> Int2 with weight 0.0422737 and delay 5, from axon[57] to dend[23]\n",
      "Connected cells Pyr3 -> Int2 with weight 0.382676 and delay 5, from axon[38] to dend[16]\n",
      "Connected cells Int1 -> Pyr1 with weight 0.114034 and delay 5, from axon[139] to soma[0]\n",
      "Connected cells Int1 -> Pyr1 with weight 0.181882 and delay 5, from axon[260] to soma[0]\n",
      "Connected cells Int1 -> Pyr1 with weight 0.299525 and delay 5, from axon[298] to soma[0]\n",
      "Connected cells Int1 -> Pyr1 with weight 0.164363 and delay 5, from axon[194] to soma[0]\n",
      "Connected cells Int1 -> Pyr1 with weight 0.142741 and delay 5, from axon[164] to soma[0]\n",
      "Connected cells Int1 -> Pyr1 with weight 0.187179 and delay 5, from axon[315] to dend[21]\n",
      "Connected cells Int1 -> Pyr2 with weight 0.29647 and delay 5, from axon[150] to soma[0]\n",
      "Connected cells Int1 -> Pyr2 with weight 0.0376234 and delay 5, from axon[57] to soma[0]\n",
      "Connected cells Int1 -> Pyr2 with weight 0.547608 and delay 5, from axon[60] to soma[0]\n",
      "Connected cells Int1 -> Pyr2 with weight 0.647479 and delay 5, from axon[169] to soma[0]\n",
      "Connected cells Int1 -> Pyr2 with weight 0.330012 and delay 5, from axon[208] to dend[5]\n",
      "Connected cells Int1 -> Pyr3 with weight 0.290972 and delay 5, from axon[131] to dend[10]\n",
      "Connected cells Int1 -> Pyr3 with weight 0.713053 and delay 5, from axon[275] to dend[36]\n",
      "Connected cells Int1 -> Int2 with weight 0.240197 and delay 5, from axon[142] to soma[0]\n",
      "Connected cells Int1 -> Int2 with weight 0.572995 and delay 5, from axon[57] to soma[0]\n",
      "Connected cells Int1 -> Int2 with weight 0.967539 and delay 5, from axon[124] to soma[0]\n",
      "Connected cells Int1 -> Int2 with weight 0.907621 and delay 5, from axon[188] to soma[0]\n",
      "Connected cells Int2 -> Pyr1 with weight 0.546677 and delay 5, from axon[79] to soma[0]\n",
      "Connected cells Int2 -> Pyr1 with weight 0.0428531 and delay 5, from axon[149] to soma[0]\n",
      "Connected cells Int2 -> Pyr1 with weight 0.501951 and delay 5, from axon[153] to soma[0]\n",
      "Connected cells Int2 -> Pyr1 with weight 0.179353 and delay 5, from axon[106] to dend[16]\n",
      "Connected cells Int2 -> Pyr1 with weight 0.0356551 and delay 5, from axon[61] to dend[12]\n",
      "Connected cells Int2 -> Pyr2 with weight 0.986968 and delay 5, from axon[127] to soma[0]\n",
      "Connected cells Int2 -> Pyr2 with weight 0.445891 and delay 5, from axon[167] to soma[0]\n",
      "Connected cells Int2 -> Pyr2 with weight 0.811264 and delay 5, from axon[87] to soma[0]\n",
      "Connected cells Int2 -> Pyr2 with weight 0.787674 and delay 5, from axon[77] to dend[4]\n",
      "Connected cells Int2 -> Pyr3 with weight 0.694716 and delay 5, from axon[48] to soma[0]\n",
      "Connected cells Int2 -> Pyr3 with weight 0.429581 and delay 5, from axon[82] to soma[0]\n",
      "Connected cells Int2 -> Pyr3 with weight 0.551939 and delay 5, from axon[51] to soma[0]\n",
      "Connected cells Int2 -> Pyr3 with weight 0.358391 and delay 5, from axon[101] to soma[0]\n",
      "Connected cells Int2 -> Pyr3 with weight 0.458394 and delay 5, from axon[151] to soma[0]\n",
      "Connected cells Int2 -> Pyr3 with weight 0.468576 and delay 5, from axon[91] to dend[27]\n",
      "Connected cells Int2 -> Pyr3 with weight 0.783043 and delay 5, from axon[16] to dend[24]\n",
      "Connected cells Int2 -> Pyr3 with weight 0.718163 and delay 5, from axon[11] to dend[14]\n",
      "Connected cells Int2 -> Int1 with weight 0.135655 and delay 5, from axon[6] to soma[0]\n",
      "Connected cells Int2 -> Int1 with weight 0.0335404 and delay 5, from axon[27] to soma[0]\n",
      "Connected cells Int2 -> Int1 with weight 0.511598 and delay 5, from axon[113] to soma[0]\n",
      "Connected cells Int2 -> Int1 with weight 0.635619 and delay 5, from axon[0] to soma[0]\n",
      "Connected cells Int2 -> Int1 with weight 0.382229 and delay 5, from axon[167] to dend[26]\n"
     ]
    }
   ],
   "source": [
    "# generate number of contacts per cell type, by selecting them from a normal distribution \n",
    "# in which the mean is the expected_contacts value\n",
    "\n",
    "netcons = [] # store all netcons\n",
    "\n",
    "rng = np.random.default_rng()\n",
    "\n",
    "for i, source_cell in enumerate(cells):\n",
    "    for j, target_cell in enumerate(cells):\n",
    "        if source_cell.name == target_cell.name:\n",
    "            continue   # For now do not connect cells to themselves\n",
    "        \n",
    "        # Define the expected_contacts index depending on cell type\n",
    "        if source_cell.type == 'Pyr':\n",
    "            source_type = 0\n",
    "        else :\n",
    "            source_type = 1\n",
    "        if target_cell.type == 'Pyr':\n",
    "            target_type = 0\n",
    "        else :\n",
    "            target_type = 1\n",
    "        \n",
    "        # Add connection depending on expected contacts\n",
    "        for n, neurite in enumerate(['soma', 'dend', 'apic']):\n",
    "            contacts = expected_contacts[source_type, target_type, n]\n",
    "            if contacts > 0:\n",
    "                contacts = m.floor(rng.normal(contacts))\n",
    "            if contacts < 0:\n",
    "                contacts = 0\n",
    "            for i in range(0, contacts):\n",
    "                nc = connect(source_cell, target_cell, target_neurite=neurite)\n",
    "                netcons.append(nc)"
   ]
  },
  {
   "cell_type": "code",
   "execution_count": 15,
   "metadata": {
    "tags": []
   },
   "outputs": [
    {
     "name": "stderr",
     "output_type": "stream",
     "text": [
      "/var/folders/my/2hxsh9b90b9brv55p9f5x2700000gn/T/ipykernel_62628/3594904780.py:15: UserWarning: set_ticklabels() should only be used with a fixed number of ticks, i.e. after set_ticks() or using a FixedLocator.\n",
      "  ax.set_xticklabels(['','Pyr1','Pyr2', 'Pyr3', 'Int1', 'Int2'])\n",
      "/var/folders/my/2hxsh9b90b9brv55p9f5x2700000gn/T/ipykernel_62628/3594904780.py:16: UserWarning: set_ticklabels() should only be used with a fixed number of ticks, i.e. after set_ticks() or using a FixedLocator.\n",
      "  ax.set_yticklabels(['','Pyr1', 'Pyr2', 'Pyr3', 'Int1', 'Int2'])\n"
     ]
    },
    {
     "data": {
      "image/png": "[encoded data removed]",
      "text/plain": [
       "<Figure size 640x480 with 2 Axes>"
      ]
     },
     "metadata": {},
     "output_type": "display_data"
    }
   ],
   "source": [
    "# Convergence matrix\n",
    "contacts_matrix = np.zeros((5,5))\n",
    "cellnames = [x.name for x in cells]\n",
    "\n",
    "# iterate over netcons and count\n",
    "for nc in netcons:\n",
    "    pre = nc.precell().name\n",
    "    pos = nc.postcell().name\n",
    "    ipre = cellnames.index(pre)\n",
    "    ipos = cellnames.index(pos)\n",
    "    contacts_matrix[ipos,ipre] += 1\n",
    "\n",
    "fig, ax = plt.subplots()\n",
    "ax.set_title(\"Convergence matrix\", fontsize = 15)\n",
    "ax.set_xticklabels(['','Pyr1','Pyr2', 'Pyr3', 'Int1', 'Int2'])\n",
    "ax.set_yticklabels(['','Pyr1', 'Pyr2', 'Pyr3', 'Int1', 'Int2'])\n",
    "plt.xlabel('Source')\n",
    "plt.ylabel('Target')\n",
    "plt.imshow(contacts_matrix, cmap=\"YlGn\")\n",
    "cbar = plt.colorbar()\n",
    "cbar.set_label(\"Convergence\", rotation=270)"
   ]
  },
  {
   "cell_type": "markdown",
   "metadata": {},
   "source": [
    "# <font color='red'> Ex4: </font>  Real Connectivity Rules\n",
    "\n",
    "<font size='3'> Imagine that you have to build a network with your five cells (3 pyramidals and 2 GABAergic interneurons) from rat somatosensory cortex. <br> In this situation you'd have to extract real connectivity rules for articles and decide how you can use them as parameters.\n",
    "    \n",
    "<font size='3'> For this exercise read the short Gupta et al. (2000) paper provided and digest it, writing below all the points that seem important when thinking about connectivity rules for various Int --> Int and Int --> Pyr.\n",
    "    \n",
    "<font size='3'> Use a mix of bullet points and complete sentences to summarise and comment every piece of information. Take some time with expressing your ideas precisely and concisely. Consider it exam practice.    \n",
    "    \n",
    "<font color= 'red'> [1.5 pts]\n",
    "    \n",
    "<font size='3'> _Hint_: If you need help, you can follow these points:\n",
    "    1) give an overview of the paper and the parameters they report\n",
    "    2) what is the overall connection probability for the cells they are examining?\n",
    "    3) what are the three different classes of GABAergic synapses they observed?\n",
    "    4) what are the three principles of synapse formation they mention?"
   ]
  },
  {
   "cell_type": "markdown",
   "metadata": {},
   "source": [
    "### **Grading levels**: \n",
    "- <font color= 'red'>[1.5 pts]</font> if summary contains >80% of the points in the reference answer, well organised\n",
    "- <font color= 'red'>[1.2 pts]</font> if summary contains ~70% of the points in the reference answer\n",
    "- <font color= 'red'>[0.8 pts]</font> if summary contains ~50% of the points in the reference answer\n",
    "- <font color= 'red'>[0.4 pts]</font> if summary contains <30% of the points in the reference answer"
   ]
  },
  {
   "cell_type": "markdown",
   "metadata": {},
   "source": [
    "### <font color= 'red'>Organizing principles for a diversity of GABAergic interneurons and synapses in the neocortex (Gupta 2000)\n",
    "The synaptic connections between presynaptic interneturons and postsynaptic pyramidal cells have been studied by means of electrophysiological recordings. \n",
    "<br> The parameters to model synaptic connection have been retrieved from the average synaptic responses. In particular we have:\n",
    "- F = time constant to recover from facilitation\n",
    "- D = time constant to recover from depression\n",
    "- A = absolute strength of the connection (quantal size x # release sites)\n",
    "- Coefficient of variation CV\n",
    "- Failure of transmission\n",
    "\n",
    "***\n",
    "<font  size='3' color= 'red'> _General connection probability:_\n",
    "\n",
    "On the first \"around 3000 potential GABAergic connections\" and \"there were more than 240 GABAergic connections\". To find the probability of a GABAergic connection we simply divide the number of connections by the number of potential connections : <br>\n",
    "<b>P(GABA connection)</b> = 240/3000 = <b>0.08 (8%)</b>. <br>\n",
    "\n",
    "***\n",
    "<font  size='3' color= 'red'> _They observed three different classes of GABAergic synapses depending on the recovery test response RTR compared to the first response in the AP train (distinguishable by the F:D ratio). Here are the classes and some important characteristics:_\n",
    "\n",
    "**F1 GABAergic synapses: facilitated RTR (D~10xF)**\n",
    " - Total occurrence: 13.4% ; IN to PC: 7.6%; IN to IN: 29.2%\n",
    " - Failures(%) 26.8 +/- 26.3\n",
    " - Maximal conductance (nS): 3.24+/- 2.6 ; Conductance per synapse(nS): 0.35 +/- 0.28\n",
    " - Synapse numbers: 9.3+/-3.1\n",
    " \n",
    "**F2 GABAergic synapses: depressed RTR (D~40xF)**\n",
    " - Total occurrence: 71.5% ; IN to PC: 76.3%; IN to IN: 58.3%\n",
    " - Failures(%) 5.14 +/- 8.7\n",
    " - Maximal conductance (nS): 7.76 +/- 6.6 ; Conductance per synapse(nS): 0.49 +/- 0.41\n",
    " - Synapse numbers: 16+/-5.5\n",
    " \n",
    "**F3 GABAergic synapses: unchanged/recovered RTR (D~F)**\n",
    " - Total occurrence: 15.1% ; IN to PC: 16%; IN to IN: 12.5%\n",
    " - Failures(%) 8.89 +/- 11.85\n",
    " - Maximal conductance (nS): 3.44 +/- 0.84 ; Conductance per synapse(nS): 0.2 +/- 0.05\n",
    " - Synapse numbers: 16.7+/-11.9\n",
    "\n",
    "***\n",
    "<font  size='3' color= 'red'> _They also reflect on the different INTs based on their morphology, wiring and electrophysiological responses. They mention three principles:_\n",
    "\n",
    "**Synapse mapping principle** <br>\n",
    "Specific classes of INTs form specific types of synapses onto Pyr and INTs.\n",
    "\n",
    "**Presynaptic-postsynaptic interaction principle** <br>\n",
    "Different classes of INTs can form different types of synapses with the same class of target neurons. The postsynaptic cell does not define the type of synapses that are formed. By looking at the divergence map, they saw that the same INT axon can form different types of synapses with different types of target neruons. Therefore, the type of synapses depend on specific interactions between pre- and postsynaptic cells.\n",
    "\n",
    "**Synaptic homogeneity principle** <br>\n",
    "INTs form synapses with homogeneous D, F (i.e. identical temporal dynamics) with different targets of the same class. Only A differs. The same principle is true also for different classes of target neurons. Therefore, INTs form \"GABA groups\" where the same type of synapse is present for a given group of target neurons. Note also that an INT can form different GABA groups; all pyramidal neurons in layers II and IV are in the same GABA group.\n",
    "\n",
    "***"
   ]
  },
  {
   "cell_type": "code",
   "execution_count": null,
   "metadata": {},
   "outputs": [],
   "source": []
  }
 ],
 "metadata": {
  "kernelspec": {
   "display_name": "biophysics",
   "language": "python",
   "name": "python3"
  },
  "language_info": {
   "codemirror_mode": {
    "name": "ipython",
    "version": 3
   },
   "file_extension": ".py",
   "mimetype": "text/x-python",
   "name": "python",
   "nbconvert_exporter": "python",
   "pygments_lexer": "ipython3",
   "version": "3.12.4"
  }
 },
 "nbformat": 4,
 "nbformat_minor": 4
}
