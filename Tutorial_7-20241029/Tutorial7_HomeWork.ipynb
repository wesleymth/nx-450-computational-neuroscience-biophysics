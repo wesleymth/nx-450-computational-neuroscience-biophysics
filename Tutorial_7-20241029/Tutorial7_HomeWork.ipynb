{
 "cells": [
  {
   "cell_type": "markdown",
   "metadata": {},
   "source": [
    "<center><font size = \"10\"> Week 7 - Connections <center>\n",
    "<center><font size = \"8\">Homework<center>"
   ]
  },
  {
   "cell_type": "markdown",
   "metadata": {},
   "source": [
    "<font size = \"3\">Please, write your group number and the names and surnames of the group members here\n",
    "<br>Group number:\n",
    "<br>Group member1:\n",
    "<br>Group member2:\n",
    "<br>Group member3:"
   ]
  },
  {
   "cell_type": "markdown",
   "metadata": {},
   "source": [
    "# <font color='red'> Ex1: </font> Connect all-to-all with random weights.\n",
    "\n",
    "<font size='3'>In week 3 Home Works (Morphologies) each group received a set of ten morphology files to check their quality. Each set of cells have __FIVE__ good morphology files.\n",
    "\n",
    "<font size='3'> For this exercise, connect your five cells all to all (unidirectionally) with random weights, as it is done in tutorial 01 of this week, and display the connectivity matrix with the weights.\n",
    "    \n",
    "<font color= 'red'>[1.5 pts]"
   ]
  },
  {
   "cell_type": "markdown",
   "metadata": {
    "tags": []
   },
   "source": [
    "### **Grading**: \n",
    "- <font color= 'red'>[0.5 pts]</font> for a clear setup of all the functions you need\n",
    "- <font color= 'red'>[0.5 pts]</font> for a step by step process loading cells and connecting them\n",
    "- <font color= 'red'>[0.5 pts]</font> for connection weights plot, with labels and legend"
   ]
  },
  {
   "cell_type": "markdown",
   "metadata": {},
   "source": [
    "# <font color='red'> Ex2: </font> Connect your cells considering connection probability\n",
    "\n",
    "<font size='3'> Connect your five cells as it is done in tutorial 02, considering the following connection probabilities between cell types:<br>\n",
    "<br> PC - PC: 65 %\n",
    "<br> PC - Inh: 23 %\n",
    "<br> Inh - PC: 41 %\n",
    "<br> Inh - Inh: 36 %\n",
    "\n",
    "<font size='3'> Then show the results on a probability matrix.\n",
    "    \n",
    "<font color= 'red'>[1 pt]"
   ]
  },
  {
   "cell_type": "markdown",
   "metadata": {
    "tags": []
   },
   "source": [
    "### **Grading**: \n",
    "- <font color= 'red'>[0.5 pts]</font> for a step by step process loading cells and connecting them\n",
    "- <font color= 'red'>[0.5 pts]</font> for probability matrix plot"
   ]
  },
  {
   "cell_type": "markdown",
   "metadata": {},
   "source": [
    "# <font color='red'> Ex3: </font> Distribution of contacts: Convergence Matrix\n",
    "\n",
    "<font size='3'> Consider the following mean contact points between cell types: \n",
    "<br> PC_axon - PC_basal: 4\n",
    "<br> PC_axon - PC_apical: 1.5\n",
    "<br> PC_axon - Inh_basal: 3\n",
    "<br> Inh_axon - PC_soma: 3.5\n",
    "<br> Inh_axon - PC_basal: 2\n",
    "<br> Inh_axon - Inh_soma: 4\n",
    "<br> Inh_axon - Inh_basal: 1.6\n",
    "\n",
    "<font size='3'> Connect your cells by selecting the contact points from a normal distribution with a specific mean value per connection (values above). \n",
    "    \n",
    "<font size='3'> Show the results on a __convergence__ matrix (how many contacts each of the cells receives from the others). \n",
    "    \n",
    "<font color= 'red'>[2 pts]"
   ]
  },
  {
   "cell_type": "markdown",
   "metadata": {},
   "source": [
    "### **Grading**: \n",
    "- <font color= 'red'>[1 pt]</font> for correct cell connections\n",
    "- <font color= 'red'>[1 pt]</font> for the convergence matrix plot, with labels and legend"
   ]
  },
  {
   "cell_type": "markdown",
   "metadata": {},
   "source": [
    "# <font color='red'> Ex4: </font>  Real Connectivity Rules\n",
    "\n",
    "<font size='3'> Imagine that you have to build a network with your five cells (3 pyramidals and 2 GABAergic interneurons) from rat somatosensory cortex. <br> In this situation you'd have to extract real connectivity rules for articles and decide how you can use them as parameters.\n",
    "    \n",
    "<font size='3'> For this exercise read the short Gupta et al. (2000) paper provided and digest it, writing below all the points that seem important when thinking about connectivity rules for various Int --> Int and Int --> Pyr.\n",
    "    \n",
    "<font size='3'> Use a mix of bullet points and complete sentences to summarise and comment every piece of information. Take some time with expressing your ideas precisely and concisely. Consider it exam practice.    \n",
    "    \n",
    "<font color= 'red'> [1.5 pts]\n",
    "    \n",
    "<font size='3'> _Hint_: If you need help, you can follow these points:\n",
    "    1) give an overview of the paper and the parameters they report\n",
    "    2) what is the overall connection probability for the cells they are examining?\n",
    "    3) what are the three different classes of GABAergic synapses they observed?\n",
    "    4) what are the three principles of synapse formation they mention?"
   ]
  },
  {
   "cell_type": "markdown",
   "metadata": {},
   "source": [
    "### **Grading levels**: \n",
    "- <font color= 'red'>[1.5 pts]</font> if summary contains >80% of the points in the reference answer, well organised\n",
    "- <font color= 'red'>[1.2 pts]</font> if summary contains ~70% of the points in the reference answer\n",
    "- <font color= 'red'>[0.8 pts]</font> if summary contains ~50% of the points in the reference answer\n",
    "- <font color= 'red'>[0.4 pts]</font> if summary contains <30% of the points in the reference answer"
   ]
  }
 ],
 "metadata": {
  "kernelspec": {
   "display_name": "biophysics",
   "language": "python",
   "name": "python3"
  },
  "language_info": {
   "codemirror_mode": {
    "name": "ipython",
    "version": 3
   },
   "file_extension": ".py",
   "mimetype": "text/x-python",
   "name": "python",
   "nbconvert_exporter": "python",
   "pygments_lexer": "ipython3",
   "version": "3.12.4"
  }
 },
 "nbformat": 4,
 "nbformat_minor": 4
}
