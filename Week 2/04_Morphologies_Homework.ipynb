{
 "cells": [
  {
   "cell_type": "markdown",
   "metadata": {},
   "source": [
    "<center><font size = \"10\"> Week 2 - Morphologies <center>\n",
    "<center><font size = \"8\">Homework<center>"
   ]
  },
  {
   "cell_type": "code",
   "execution_count": null,
   "metadata": {},
   "outputs": [],
   "source": [
    "%matplotlib inline \n",
    "\n",
    "import numpy as np\n",
    "import neurom as nm\n",
    "import matplotlib.pyplot as plt\n",
    "\n",
    "from neuron import h\n",
    "from hoc2swc import neuron2swc\n",
    "from neurom import view\n",
    "from neurom.view.matplotlib_utils import update_plot_limits"
   ]
  },
  {
   "cell_type": "markdown",
   "metadata": {},
   "source": [
    "# <font color='red'> Ex1: </font>Create your favorite neuron\n",
    "    \n",
    "<font size =\"3\">Write code that builds a geometrical model of a neuron with one soma, one axon and two dendrites. Add three branches to the first dendrite. Set different geometrical properties to your morphology (diameter, lenght). Show the resulting model.  \n",
    "\n",
    "<font color= 'red'>[0.5 pts]"
   ]
  },
  {
   "cell_type": "code",
   "execution_count": null,
   "metadata": {},
   "outputs": [],
   "source": [
    "# your answer"
   ]
  },
  {
   "cell_type": "code",
   "execution_count": null,
   "metadata": {},
   "outputs": [],
   "source": [
    "# your plot"
   ]
  },
  {
   "cell_type": "markdown",
   "metadata": {},
   "source": [
    "# <font color= 'red'>Ex2:</font> Visualizing neurons\n",
    "\n",
    "\n",
    "Get familiar with your assigned morphology\n",
    "    \n",
    "    \n",
    "<font size =\"3\"> Generate three plots:\n",
    "  - Visualize each of your group's cells with neurom\n",
    "  - Pick a cell and create a dendrogram of it\n",
    "  - Pick a cell, isolate each of its neurites, and view them individually\n",
    "    \n",
    "Make sure to include a title for each plot, and for 1 and 2 plot everything within the same figure (hint: use `plt.subplots`). The plots should be clear - not cluttered <font color= 'red'>[1.5 pts]\n",
    "\n",
    "~ Hint: if you run into problems, check out neurom.view.matplotlib_utils"
   ]
  },
  {
   "cell_type": "code",
   "execution_count": null,
   "metadata": {
    "tags": []
   },
   "outputs": [],
   "source": [
    "morph_dir = 'input/group_#'\n",
    "neurons = nm.load_morphologies(morph_dir)"
   ]
  },
  {
   "cell_type": "code",
   "execution_count": null,
   "metadata": {},
   "outputs": [],
   "source": [
    "# your plots of all neurons in your group"
   ]
  },
  {
   "cell_type": "code",
   "execution_count": null,
   "metadata": {},
   "outputs": [],
   "source": [
    "# dendrogram of one neuron"
   ]
  },
  {
   "cell_type": "code",
   "execution_count": null,
   "metadata": {},
   "outputs": [],
   "source": [
    "# plots of all neurites of a single neuron"
   ]
  },
  {
   "cell_type": "markdown",
   "metadata": {},
   "source": [
    "### **Grading**: \n",
    "<font color= 'red'>[0.5 pt]</font> for each of the 3 plots (all cells in group, dendrogram and individual neurites from one chosen cell)"
   ]
  },
  {
   "cell_type": "markdown",
   "metadata": {
    "tags": []
   },
   "source": [
    "# <font color= 'red'>Ex3:</font> Check your set of morphologies for mistakes\n",
    "\n",
    "Now check your morphologies for mistakes. After the code has given you results, add you own reasoning and undertanding:\n",
    "- Explain in your own words what each of the reported errors means and describe an approach that could be used to correct them.\n",
    "- Try to understand if some errors could in fact not be errors but just due to different types of cells having different morphological features. Use the resources below to help you.\n",
    "    <br>_example_: interneurons have dendrites that are not distinguished in apical vs basal, and in NeuroM they are labeled as having only basal_dendrites and no apical_dendrites. This does not mean their morphology is wrong.\n",
    "- Once you have a good idea, group the morphologies into probably correct and definetely incorrect ones.\n",
    "\n",
    "_Doc:_ if you need help with the meaning of certain errors, consult the [link](https://github.com/BlueBrain/NeuroM/blob/v1.4.17/neurom/check/neuron_checks.py) given in tutorial 2.\n",
    "<br>_Resources:_ to understand the morphology of the two main classes of cells you can read the [Petilla group paper (2008)](https://www.nature.com/articles/nrn2402.pdf) for interneurons and the structure section of [this Scholarpedia page](http://www.scholarpedia.org/article/Pyramidal_neuron#Structure) for pyramidal neurons.\n",
    "\n",
    "<font color= 'red'>[2 pts]</font>"
   ]
  },
  {
   "cell_type": "code",
   "execution_count": null,
   "metadata": {},
   "outputs": [],
   "source": [
    "from neurom.check.runner import CheckRunner"
   ]
  },
  {
   "cell_type": "code",
   "execution_count": null,
   "metadata": {},
   "outputs": [],
   "source": [
    "# your config and check run"
   ]
  },
  {
   "cell_type": "code",
   "execution_count": null,
   "metadata": {},
   "outputs": [],
   "source": [
    "# your reasoning on each of the errors and possible corrections"
   ]
  },
  {
   "cell_type": "code",
   "execution_count": null,
   "metadata": {
    "tags": []
   },
   "outputs": [],
   "source": [
    "# your lists of probably correct and definetely wrong morphologies with explanation\n",
    "\n",
    "probably_correct_morphologies      = [0,2,4,6,8]\n",
    "definetely_incorrect_morphologies  = [1,3,5,7,9]\n",
    "\n",
    "# explanation"
   ]
  },
  {
   "cell_type": "markdown",
   "metadata": {},
   "source": [
    "### **Grading**:\n",
    "-  <font color= 'red'>[1 pt]</font> for error explanation (0.5 for error meaning and 0.5 for possible solutions)\n",
    "-  <font color= 'red'>[1 pt]</font> for testing the morphologies and listing probably good/definetely bad with explanation"
   ]
  },
  {
   "cell_type": "markdown",
   "metadata": {},
   "source": [
    "# <font color= 'red'>Ex4:</font> Morphometrics\n",
    "\n",
    "<font size = \"3\"> Now that you have added your reasoning to the automatic check run results, you have a group of morphologies that are probably correct and a suspicion on what general cell class they could belong to.\n",
    "    \n",
    "<font size = \"3\"> In this exercise you will analyse some of their characteristics using the morphometrics you learnt in tutorial 3 and see if you can separate them into the groups you suspect they may belong to.\n",
    "\n",
    "\n",
    "- Take your probably correct cells, disregard the definetely incorrect ones.\n",
    "- First compute three morphometric characteristics of all your cells, display the results using bar plots and compare what you see between the cells.\n",
    "- Thinking about your hypothesis, see if you can choose 1 or 2 morphometric features that allow you to segregate your cells into two cell classes.\n",
    "- Divide your cells accordingly into two groups and write the list down.\n",
    "\n",
    "    \n",
    "_Doc:_ the list of morphometric features available can be found in neurom.features.morphology\n",
    "    \n",
    " <font color= 'red'> [2 pts]"
   ]
  },
  {
   "cell_type": "code",
   "execution_count": null,
   "metadata": {},
   "outputs": [],
   "source": [
    "# your three morphometrics bar plots"
   ]
  },
  {
   "cell_type": "code",
   "execution_count": null,
   "metadata": {},
   "outputs": [],
   "source": [
    "# your selection of the 1 or 2 best morphometrics to separate the cells into two general classes"
   ]
  },
  {
   "cell_type": "code",
   "execution_count": null,
   "metadata": {},
   "outputs": [],
   "source": [
    "# your list of cells divided accordingly\n",
    "\n",
    "cell_class_one = { 'class_name':'class_1', 'cell_list':[0,2,4]}\n",
    "cell_call_two = { 'class_name':'class_2', 'cell_list':[1,3]}\n",
    "\n",
    "# some comment/explanation"
   ]
  },
  {
   "cell_type": "markdown",
   "metadata": {},
   "source": [
    "### **Grading**: \n",
    "- <font color= 'red'>[0.5 pt]</font> for measurement and visualization\n",
    "- <font color= 'red'>[1 pt]</font> for choice and explanation of which morphometrics were most helpful for the decision: what does the histogram indicate, how did this help identify the type of neuron?\n",
    "- <font color= 'red'>[0.5 pt]</font> for correct classification of neurons"
   ]
  }
 ],
 "metadata": {
  "kernelspec": {
   "display_name": "Python3",
   "language": "python",
   "name": "python3"
  },
  "language_info": {
   "codemirror_mode": {
    "name": "ipython",
    "version": 3
   },
   "file_extension": ".py",
   "mimetype": "text/x-python",
   "name": "python",
   "nbconvert_exporter": "python",
   "pygments_lexer": "ipython3",
   "version": "3.12.5"
  }
 },
 "nbformat": 4,
 "nbformat_minor": 4
}
