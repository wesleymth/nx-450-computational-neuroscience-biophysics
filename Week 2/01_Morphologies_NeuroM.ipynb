{
 "cells": [
  {
   "cell_type": "markdown",
   "metadata": {},
   "source": [
    "<center><font size = \"10\"> Week 2 - Morphologies <center>\n",
    "<center><font size = \"8\">Tutorial 01: Create and Visualize<center>"
   ]
  },
  {
   "cell_type": "markdown",
   "metadata": {},
   "source": [
    "<font size = \"3\"><font color='blue'>During this tutorial you will learn how to: \n",
    "    \n",
    "<font size = \"3\"><font color='blue'>- Build a neuron morphology step-by-step with NEURON \n",
    "    \n",
    "<font size = \"3\"><font color='blue'>- Load a complex neuronal morphology in NEURON\n",
    "    \n",
    "<font size = \"3\"><font color='blue'>- Visualize morphologies with NeuroM"
   ]
  },
  {
   "cell_type": "markdown",
   "metadata": {},
   "source": [
    "# 1. Build a neuron morphology with Neuron"
   ]
  },
  {
   "cell_type": "markdown",
   "metadata": {
    "tags": []
   },
   "source": [
    " ## What is NEURON?\n",
    " \n",
    " <font size = \"3\"> The NEURON simulation environment is a powerful engine for performing simulations of neurons and biophysical neural networks. It allows the construction of biologically realistic membranes with active and passive ion channels, combined with virtual connectivity and electrophysiology tools to drive and measure single neurons and network behavior.\n",
    "\n",
    "<font size = \"3\">You can take a look to the online guides and tutorials here - [NEURON](https://www.neuron.yale.edu/neuron/docs)\n",
    "\n",
    "NEURON was originally implmented in the HOC programming language but now has an additional Python interface.\n",
    "\n",
    "The cryptically named module neuron.h is the top-level HocObject, allowing interaction between Python and Hoc."
   ]
  },
  {
   "cell_type": "code",
   "execution_count": 1,
   "metadata": {},
   "outputs": [
    {
     "name": "stderr",
     "output_type": "stream",
     "text": [
      "Warning: no DISPLAY environment variable.\n",
      "--No graphics will be displayed.\n"
     ]
    },
    {
     "name": "stdout",
     "output_type": "stream",
     "text": [
      "\n",
      "NEURON+Python Online Help System\n",
      "================================\n",
      "\n",
      "\n",
      "\n",
      "neuron.h\n",
      "========\n",
      "\n",
      "neuron.h is the top-level HocObject, allowing interaction between Python and Hoc.\n",
      "\n",
      "It is callable like a function, and takes Hoc code as an argument to be executed.\n",
      "\n",
      "The top-level Hoc namespace is exposed as attributes to the h object.\n",
      "\n",
      "Ex:\n",
      "\n",
      "    >>> h = neuron.h\n",
      "    >>> h(\"objref myvec\")\n",
      "    >>> h(\"myvec = new Vector(10)\")\n",
      "    >>> h.myvec.x[0]=1.0\n",
      "    >>> h.myvec.printf()\n",
      "    1       0       0       0       0\n",
      "    0       0       0       0       0\n",
      "\n",
      "\n",
      "NEURON classes are defined in the h namespace and can be constructed as follows:\n",
      "\n",
      ">>> v = h.Vector(10)\n",
      ">>> soma = h.Section()\n",
      ">>> input = h.IClamp(soma(0.5))\n",
      "\n",
      "More help on individual classes defined in Hoc and exposed in Python\n",
      "is available using Jupyter's online help feature\n",
      "\n",
      "In []: ? h.Section\n",
      "\n",
      "or in standard Python by python help system\n",
      "\n",
      ">>> help(h.Vector)\n",
      "\n",
      "For a list of symbols defined in neuron.h try:\n",
      "\n",
      ">>> dir(neuron.h)\n",
      "\n",
      "\n",
      "\n",
      "NOTE: Several Hoc symbols are not useful in Python, and thus raise an exception when accessed, for example:\n",
      "\n",
      "In []: h.objref\n",
      "---------------------------------------------------------------------------\n",
      "TypeError                                 Traceback (most recent call last)\n",
      "\n",
      "/home/emuller/hg/nrn_neurens_hg/<ipython console> in <module>()\n",
      "\n",
      "TypeError: Cannot access objref (NEURON type 323) directly.\n",
      "\n",
      "In []: h.objref ?\n",
      "Object `h.objref` not found.\n",
      "\n",
      "\n"
     ]
    }
   ],
   "source": [
    "from neuron import h\n",
    "help(h)"
   ]
  },
  {
   "cell_type": "markdown",
   "metadata": {},
   "source": [
    "\n",
    "## What is NeuroM?\n",
    " \n",
    "<font size = \"3\">NeuroM is a Python toolkit for the analysis and processing of neuron morphologies. \n",
    "You can find all the documentation here - [NeuroM](https://neurom.readthedocs.io/en/v1.4.17/quickstart.html )"
   ]
  },
  {
   "cell_type": "code",
   "execution_count": 2,
   "metadata": {},
   "outputs": [
    {
     "name": "stdout",
     "output_type": "stream",
     "text": [
      "Collecting neurom\n",
      "  Downloading neurom-4.0.4-py3-none-any.whl.metadata (6.8 kB)\n",
      "Collecting click>=7.0 (from neurom)\n",
      "  Using cached click-8.1.7-py3-none-any.whl.metadata (3.0 kB)\n",
      "Requirement already satisfied: matplotlib>=3.2.1 in /Users/wesleymonteith/miniconda3/envs/biophysics/lib/python3.12/site-packages (from neurom) (3.9.2)\n",
      "Collecting morphio>=3.3.6 (from neurom)\n",
      "  Downloading morphio-3.4.0-cp312-cp312-macosx_10_13_x86_64.whl.metadata (3.5 kB)\n",
      "Requirement already satisfied: numpy>=1.8.0 in /Users/wesleymonteith/miniconda3/envs/biophysics/lib/python3.12/site-packages (from neurom) (1.26.4)\n",
      "Requirement already satisfied: pandas>=1.0.5 in /Users/wesleymonteith/miniconda3/envs/biophysics/lib/python3.12/site-packages (from neurom) (2.2.2)\n",
      "Collecting pyyaml>=3.10 (from neurom)\n",
      "  Downloading PyYAML-6.0.2-cp312-cp312-macosx_10_9_x86_64.whl.metadata (2.1 kB)\n",
      "Collecting scipy>=1.2.0 (from neurom)\n",
      "  Downloading scipy-1.14.1-cp312-cp312-macosx_14_0_x86_64.whl.metadata (60 kB)\n",
      "Collecting tqdm>=4.8.4 (from neurom)\n",
      "  Downloading tqdm-4.66.5-py3-none-any.whl.metadata (57 kB)\n",
      "Collecting cached-property>=1.5.1 (from neurom)\n",
      "  Downloading cached_property-1.5.2-py2.py3-none-any.whl.metadata (11 kB)\n",
      "Requirement already satisfied: contourpy>=1.0.1 in /Users/wesleymonteith/miniconda3/envs/biophysics/lib/python3.12/site-packages (from matplotlib>=3.2.1->neurom) (1.3.0)\n",
      "Requirement already satisfied: cycler>=0.10 in /Users/wesleymonteith/miniconda3/envs/biophysics/lib/python3.12/site-packages (from matplotlib>=3.2.1->neurom) (0.12.1)\n",
      "Requirement already satisfied: fonttools>=4.22.0 in /Users/wesleymonteith/miniconda3/envs/biophysics/lib/python3.12/site-packages (from matplotlib>=3.2.1->neurom) (4.53.1)\n",
      "Requirement already satisfied: kiwisolver>=1.3.1 in /Users/wesleymonteith/miniconda3/envs/biophysics/lib/python3.12/site-packages (from matplotlib>=3.2.1->neurom) (1.4.7)\n",
      "Requirement already satisfied: packaging>=20.0 in /Users/wesleymonteith/miniconda3/envs/biophysics/lib/python3.12/site-packages (from matplotlib>=3.2.1->neurom) (24.1)\n",
      "Requirement already satisfied: pillow>=8 in /Users/wesleymonteith/miniconda3/envs/biophysics/lib/python3.12/site-packages (from matplotlib>=3.2.1->neurom) (10.4.0)\n",
      "Requirement already satisfied: pyparsing>=2.3.1 in /Users/wesleymonteith/miniconda3/envs/biophysics/lib/python3.12/site-packages (from matplotlib>=3.2.1->neurom) (3.1.4)\n",
      "Requirement already satisfied: python-dateutil>=2.7 in /Users/wesleymonteith/miniconda3/envs/biophysics/lib/python3.12/site-packages (from matplotlib>=3.2.1->neurom) (2.9.0)\n",
      "Requirement already satisfied: pytz>=2020.1 in /Users/wesleymonteith/miniconda3/envs/biophysics/lib/python3.12/site-packages (from pandas>=1.0.5->neurom) (2024.1)\n",
      "Requirement already satisfied: tzdata>=2022.7 in /Users/wesleymonteith/miniconda3/envs/biophysics/lib/python3.12/site-packages (from pandas>=1.0.5->neurom) (2024.1)\n",
      "Requirement already satisfied: six>=1.5 in /Users/wesleymonteith/miniconda3/envs/biophysics/lib/python3.12/site-packages (from python-dateutil>=2.7->matplotlib>=3.2.1->neurom) (1.16.0)\n",
      "Downloading neurom-4.0.4-py3-none-any.whl (110 kB)\n",
      "Downloading cached_property-1.5.2-py2.py3-none-any.whl (7.6 kB)\n",
      "Using cached click-8.1.7-py3-none-any.whl (97 kB)\n",
      "Downloading morphio-3.4.0-cp312-cp312-macosx_10_13_x86_64.whl (2.1 MB)\n",
      "\u001b[2K   \u001b[90m━━━━━━━━━━━━━━━━━━━━━━━━━━━━━━━━━━━━━━━━\u001b[0m \u001b[32m2.1/2.1 MB\u001b[0m \u001b[31m11.4 MB/s\u001b[0m eta \u001b[36m0:00:00\u001b[0m\n",
      "\u001b[?25hDownloading PyYAML-6.0.2-cp312-cp312-macosx_10_9_x86_64.whl (183 kB)\n",
      "Downloading scipy-1.14.1-cp312-cp312-macosx_14_0_x86_64.whl (25.6 MB)\n",
      "\u001b[2K   \u001b[90m━━━━━━━━━━━━━━━━━━━━━━━━━━━━━━━━━━━━━━━━\u001b[0m \u001b[32m25.6/25.6 MB\u001b[0m \u001b[31m8.4 MB/s\u001b[0m eta \u001b[36m0:00:00\u001b[0m00:01\u001b[0m00:01\u001b[0mm\n",
      "\u001b[?25hDownloading tqdm-4.66.5-py3-none-any.whl (78 kB)\n",
      "Installing collected packages: cached-property, tqdm, scipy, pyyaml, morphio, click, neurom\n",
      "Successfully installed cached-property-1.5.2 click-8.1.7 morphio-3.4.0 neurom-4.0.4 pyyaml-6.0.2 scipy-1.14.1 tqdm-4.66.5\n"
     ]
    }
   ],
   "source": [
    "!pip install neurom"
   ]
  },
  {
   "cell_type": "code",
   "execution_count": 3,
   "metadata": {},
   "outputs": [
    {
     "name": "stdout",
     "output_type": "stream",
     "text": [
      "Help on package neurom:\n",
      "\n",
      "NAME\n",
      "    neurom - NeuroM neurom morphology analysis package.\n",
      "\n",
      "DESCRIPTION\n",
      "    Examples:\n",
      "        Load a morphology\n",
      "\n",
      "        >>> import neurom as nm\n",
      "        >>> m = nm.load_morphology('tests/data/swc/Neuron.swc')\n",
      "\n",
      "        Obtain some morphometrics using the get function\n",
      "\n",
      "        >>> ap_seg_len = nm.get('segment_lengths', m, neurite_type=nm.APICAL_DENDRITE)\n",
      "        >>> ax_sec_len = nm.get('section_lengths', m, neurite_type=nm.AXON)\n",
      "\n",
      "        Load morphologies from a directory. This loads all SWC, HDF5 or NeuroLucida .asc\n",
      "        files it finds and returns a list of morphologies\n",
      "\n",
      "        >>> import numpy as np  # For mean value calculation\n",
      "        >>> pop = nm.load_morphologies('tests/data/valid_set')\n",
      "        >>> mean_section_lengths = [np.mean(nm.get('section_lengths', m)) for m in pop]\n",
      "\n",
      "        Apply a function to a selection of neurites in a morphology or morphology population.\n",
      "        This example gets the number of points in each axon in a morphology population\n",
      "\n",
      "        >>> import neurom as nm\n",
      "        >>> filter = lambda n : n.type == nm.AXON\n",
      "        >>> mapping = lambda n, section_type : len(n.points)\n",
      "        >>> n_points = [n for n in nm.iter_neurites(pop, mapping, filter)]\n",
      "\n",
      "PACKAGE CONTENTS\n",
      "    apps (package)\n",
      "    check (package)\n",
      "    core (package)\n",
      "    exceptions\n",
      "    features (package)\n",
      "    geom (package)\n",
      "    io (package)\n",
      "    morphmath\n",
      "    stats\n",
      "    utils\n",
      "    view (package)\n",
      "\n",
      "DATA\n",
      "    ANY_NEURITE = <NeuriteType.all: 32>\n",
      "    APICAL_DENDRITE = <NeuriteType.apical_dendrite: 4>\n",
      "    AXON = <NeuriteType.axon: 2>\n",
      "    BASAL_DENDRITE = <NeuriteType.basal_dendrite: 3>\n",
      "    NEURITE_TYPES = (<NeuriteType.axon: 2>, <NeuriteType.apical_dendrite: ...\n",
      "    SOMA = <NeuriteType.soma: 1>\n",
      "\n",
      "VERSION\n",
      "    4.0.4\n",
      "\n",
      "FILE\n",
      "    /Users/wesleymonteith/miniconda3/envs/biophysics/lib/python3.12/site-packages/neurom/__init__.py\n",
      "\n",
      "\n"
     ]
    }
   ],
   "source": [
    "import neurom\n",
    "help(neurom)"
   ]
  },
  {
   "cell_type": "markdown",
   "metadata": {},
   "source": [
    "# Ball and stick model\n",
    "\n",
    "A simplified representation of pyramidal cell morphology is to have one cylindrical section for the soma, one for the apical dendrite, and one for the axon.\n",
    "\n",
    "<img src=\"doc/SimplifiedNeuronShapes.png\" width=\"1100\">\n",
    "\n",
    "Now we are going to build a ball and stick model step by step in Neuron."
   ]
  },
  {
   "cell_type": "code",
   "execution_count": 4,
   "metadata": {},
   "outputs": [],
   "source": [
    "soma = h.Section(name=\"soma\")  # section representing the cell body"
   ]
  },
  {
   "cell_type": "markdown",
   "metadata": {
    "tags": []
   },
   "source": [
    "[**Sections**](https://www.neuron.yale.edu/neuron/static/new_doc/modelspec/programmatic/topology/geometry.html) are unbranched lengths of continuous cable connected together to form a neuron. Sections can be connected to form any tree-shaped structure but loops are not permitted. (You may, however, develop membrane mechanisms, such as electrical gap junctions which do not have the loop restriction. But be aware that the electrical current flows through such connections are calculated by a modified euler method instead of the more numerically robust fully implicit/crank-nicholson methods)\n",
    "\n",
    "_Do not confuse sections with **segments**_! Sections are divided into segments of equal length for numerical simulation purposes (see [nseg](https://www.neuron.yale.edu/neuron/static/new_doc/modelspec/programmatic/topology.html#nseg)). Such segments are similar to compartments in compartmental modeling programs."
   ]
  },
  {
   "cell_type": "code",
   "execution_count": 5,
   "metadata": {},
   "outputs": [
    {
     "name": "stdout",
     "output_type": "stream",
     "text": [
      "soma { nseg=1  L=100  Ra=35.4\n",
      "\t/*location 0 attached to cell 0*/\n",
      "\t/* First segment only */\n",
      "\tinsert morphology { diam=500}\n",
      "\tinsert capacitance { cm=1}\n",
      "}\n"
     ]
    },
    {
     "data": {
      "text/plain": [
       "1.0"
      ]
     },
     "execution_count": 5,
     "metadata": {},
     "output_type": "execute_result"
    }
   ],
   "source": [
    "# the h.psection() function prints information on the existing sections\n",
    "h.psection()"
   ]
  },
  {
   "cell_type": "markdown",
   "metadata": {},
   "source": [
    "Section.psection gives us the info of the specific section instance"
   ]
  },
  {
   "cell_type": "code",
   "execution_count": 6,
   "metadata": {},
   "outputs": [
    {
     "data": {
      "text/plain": [
       "{'point_processes': {},\n",
       " 'density_mechs': {},\n",
       " 'ions': {},\n",
       " 'morphology': {'L': 100.0,\n",
       "  'diam': [500.0],\n",
       "  'pts3d': [],\n",
       "  'parent': None,\n",
       "  'trueparent': None},\n",
       " 'nseg': 1,\n",
       " 'Ra': 35.4,\n",
       " 'cm': [1.0],\n",
       " 'regions': set(),\n",
       " 'species': set(),\n",
       " 'name': 'soma',\n",
       " 'hoc_internal_name': '__nrnsec_0x7f7e5f115000',\n",
       " 'cell': None}"
      ]
     },
     "execution_count": 6,
     "metadata": {},
     "output_type": "execute_result"
    }
   ],
   "source": [
    "soma.psection()"
   ]
  },
  {
   "cell_type": "markdown",
   "metadata": {},
   "source": [
    "calling a section with a number between 0 and 1 will return a __Segment__, representing a point along the cylinder"
   ]
  },
  {
   "cell_type": "code",
   "execution_count": 7,
   "metadata": {},
   "outputs": [
    {
     "name": "stdout",
     "output_type": "stream",
     "text": [
      "soma(1)\n",
      "0.75\n",
      "Help on Segment in module nrn object:\n",
      "\n",
      "class Segment(builtins.object)\n",
      " |  Segment objects\n",
      " |\n",
      " |  Methods defined here:\n",
      " |\n",
      " |  __delattr__(self, name, /)\n",
      " |      Implement delattr(self, name).\n",
      " |\n",
      " |  __eq__(self, value, /)\n",
      " |      Return self==value.\n",
      " |\n",
      " |  __ge__(self, value, /)\n",
      " |      Return self>=value.\n",
      " |\n",
      " |  __getattribute__(self, name, /)\n",
      " |      Return getattr(self, name).\n",
      " |\n",
      " |  __gt__(self, value, /)\n",
      " |      Return self>value.\n",
      " |\n",
      " |  __hash__(self, /)\n",
      " |      Return hash(self).\n",
      " |\n",
      " |  __init__(self, /, *args, **kwargs)\n",
      " |      Initialize self.  See help(type(self)) for accurate signature.\n",
      " |\n",
      " |  __iter__(self, /)\n",
      " |      Implement iter(self).\n",
      " |\n",
      " |  __le__(self, value, /)\n",
      " |      Return self<=value.\n",
      " |\n",
      " |  __lt__(self, value, /)\n",
      " |      Return self<value.\n",
      " |\n",
      " |  __ne__(self, value, /)\n",
      " |      Return self!=value.\n",
      " |\n",
      " |  __repr__(self, /)\n",
      " |      Return repr(self).\n",
      " |\n",
      " |  __setattr__(self, name, value, /)\n",
      " |      Implement setattr(self, name, value).\n",
      " |\n",
      " |  area(...)\n",
      " |      Segment area (um2) (same as h.area(sec(x), sec=sec))\n",
      " |\n",
      " |  node_index(...)\n",
      " |      seg.node_index() returns index of v, rhs, etc. in the _actual arrays of the appropriate NrnThread.\n",
      " |\n",
      " |  point_processes(...)\n",
      " |      seg.point_processes() returns list of POINT_PROCESS instances in the segment.\n",
      " |\n",
      " |  ri(...)\n",
      " |      Segment resistance to parent segment (Megohms) (same as h.ri(sec(x), sec=sec))\n",
      " |\n",
      " |  volume(...)\n",
      " |      Segment volume (um3)\n",
      " |\n",
      " |  ----------------------------------------------------------------------\n",
      " |  Static methods defined here:\n",
      " |\n",
      " |  __new__(*args, **kwargs)\n",
      " |      Create and return a new object.  See help(type) for accurate signature.\n",
      " |\n",
      " |  ----------------------------------------------------------------------\n",
      " |  Data descriptors defined here:\n",
      " |\n",
      " |  sec\n",
      " |      Section\n",
      " |\n",
      " |  x\n",
      " |      location in the section (segment containing x)\n",
      "\n",
      "None\n"
     ]
    },
    {
     "ename": "ValueError",
     "evalue": "segment position range is 0 <= x <= 1",
     "output_type": "error",
     "traceback": [
      "\u001b[0;31m---------------------------------------------------------------------------\u001b[0m",
      "\u001b[0;31mValueError\u001b[0m                                Traceback (most recent call last)",
      "Cell \u001b[0;32mIn[7], line 4\u001b[0m\n\u001b[1;32m      2\u001b[0m \u001b[38;5;28mprint\u001b[39m(soma(\u001b[38;5;241m0.75\u001b[39m)\u001b[38;5;241m.\u001b[39mx)\n\u001b[1;32m      3\u001b[0m \u001b[38;5;28mprint\u001b[39m(help(soma(\u001b[38;5;241m0.5\u001b[39m)))\n\u001b[0;32m----> 4\u001b[0m \u001b[43msoma\u001b[49m\u001b[43m(\u001b[49m\u001b[38;5;241;43m1.1\u001b[39;49m\u001b[43m)\u001b[49m \u001b[38;5;66;03m# will raise an error, as 0 and 1 are the ends of the section\u001b[39;00m\n",
      "\u001b[0;31mValueError\u001b[0m: segment position range is 0 <= x <= 1"
     ]
    }
   ],
   "source": [
    "print(soma(1))\n",
    "print(soma(0.75).x)\n",
    "print(help(soma(0.5)))\n",
    "soma(1.1) # will raise an error, as 0 and 1 are the ends of the section"
   ]
  },
  {
   "cell_type": "markdown",
   "metadata": {},
   "source": [
    "# Connecting sections\n",
    "Let's try adding some neurites.\n",
    "\n",
    "The Section.connect method connects one __Section__ to a __Segment__.\n",
    "So `dend.connect(soma(1))` below connects the section dend to the very end of soma "
   ]
  },
  {
   "cell_type": "code",
   "execution_count": 8,
   "metadata": {},
   "outputs": [
    {
     "name": "stdout",
     "output_type": "stream",
     "text": [
      "\n",
      "|-|       soma(0-1)\n",
      "   `--|       dendrite(0-1)\n",
      " `----|       axon(0-1)\n",
      "\n",
      "\n",
      "NEURON+Python Online Help System\n",
      "================================\n",
      "\n",
      "Syntax:\n",
      "    ``h.define_shape()``\n",
      "\n",
      "\n",
      "Description:\n",
      "    Fill in empty pt3d information with a naive algorithm based on current \n",
      "    values for *L* and *diam*. Sections that already have pt3d info are \n",
      "    translated to ensure that their first point is at the same location \n",
      "    as the parent. But see :func:`pt3dstyle` with regard to the use of \n",
      "    a logical connection point if the translation ruins the \n",
      "    visualization. \n",
      "\n",
      "\n",
      "    Note: This may not work right when a branch is connected to \n",
      "    the interior of a parent section \\ ``0 < x < 1``, \n",
      "    rather only when it is connected to the parent at 0 or 1. \n",
      "\n"
     ]
    }
   ],
   "source": [
    "# Define all the sections first\n",
    "dend = h.Section(name=\"dendrite\")\n",
    "axon = h.Section(name=\"axon\")\n",
    "\n",
    "# Topology\n",
    "dend.connect(soma(1))\n",
    "axon.connect(soma(0))\n",
    "\n",
    "# Geometry\n",
    "# Since NEURON deals with many different sections each with their own unique name,\n",
    "# we must tell NEURON which section we are working on when we want to access a section parameter.\n",
    "\n",
    "soma.L = soma.diam = 15  # microns\n",
    "dend.L = 50\n",
    "dend.diam = 1\n",
    "dend.nseg = 3\n",
    "axon.diam = 3\n",
    "axon.L = 100\n",
    "axon.nseg = 5\n",
    "\n",
    "\n",
    "# NEURON's h.topology() function displays the topological structure of the entire model, indicating which sections\n",
    "# are connected to which sections, where they are connected, and how many segments each section is divided into.\n",
    "h.topology()\n",
    "help(h.define_shape)"
   ]
  },
  {
   "cell_type": "markdown",
   "metadata": {},
   "source": [
    "NeuroM can show us a clearer visualzation, but first we have to save the morphology to disc with neuron2swc"
   ]
  },
  {
   "cell_type": "code",
   "execution_count": 9,
   "metadata": {},
   "outputs": [],
   "source": [
    "import neurom as nm\n",
    "from neurom import view\n",
    "import matplotlib.pyplot as plt\n",
    "from hoc2swc import neuron2swc"
   ]
  },
  {
   "cell_type": "code",
   "execution_count": 14,
   "metadata": {},
   "outputs": [
    {
     "name": "stdout",
     "output_type": "stream",
     "text": [
      "Wrote cell 0 to ./output/cell_01.swc\n"
     ]
    },
    {
     "data": {
      "image/png": "[encoded data removed]",
      "text/plain": [
       "<Figure size 640x480 with 1 Axes>"
      ]
     },
     "metadata": {},
     "output_type": "display_data"
    }
   ],
   "source": [
    "# In Noto\n",
    "# save hoc object into swc file\n",
    "neuron2swc(\"./output/cell_01.swc\", swap_yz=False)\n",
    "# Open the swc and plot with NeuroM viewer\n",
    "neuron1 = nm.load_morphology(\"./output/cell_01.swc\")\n",
    "#fig, ax = plt.subplots()\n",
    "view.plot_morph(neuron1)\n"
   ]
  },
  {
   "cell_type": "code",
   "execution_count": 15,
   "metadata": {},
   "outputs": [
    {
     "name": "stdout",
     "output_type": "stream",
     "text": [
      "\n",
      "|-|       soma(0-1)\n",
      "\n"
     ]
    },
    {
     "data": {
      "text/plain": [
       "1.0"
      ]
     },
     "execution_count": 15,
     "metadata": {},
     "output_type": "execute_result"
    }
   ],
   "source": [
    "# delete references to variables, they are then garbage collected and topology() should be empty\n",
    "del dend\n",
    "del axon\n",
    "del soma\n",
    "del neuron1\n",
    "h.topology()"
   ]
  },
  {
   "cell_type": "markdown",
   "metadata": {},
   "source": [
    "## Creating a geometrically complex model"
   ]
  },
  {
   "cell_type": "code",
   "execution_count": 16,
   "metadata": {},
   "outputs": [],
   "source": [
    "import neurom as nm\n",
    "from neurom import view\n",
    "from neuron import h\n",
    "from hoc2swc import neuron2swc"
   ]
  },
  {
   "cell_type": "code",
   "execution_count": 17,
   "metadata": {},
   "outputs": [
    {
     "name": "stdout",
     "output_type": "stream",
     "text": [
      "\n",
      "|-|       soma(0-1)\n",
      "|-|       my_soma(0-1)\n",
      "   `|       main_dend(0-1)\n",
      "     `|       branch 0(0-1)\n",
      "     `|       branch 1(0-1)\n",
      "     `|       branch 2(0-1)\n",
      " `|       my_axon(0-1)\n",
      "\n"
     ]
    },
    {
     "data": {
      "text/plain": [
       "1.0"
      ]
     },
     "execution_count": 17,
     "metadata": {},
     "output_type": "execute_result"
    }
   ],
   "source": [
    "# Defining the sections\n",
    "my_soma = h.Section(name=\"my_soma\")\n",
    "main_dend = h.Section(name=\"main_dend\")\n",
    "my_axon = h.Section(name=\"my_axon\")\n",
    "\n",
    "# Geometry\n",
    "my_soma.L = my_soma.diam = 15\n",
    "main_dend.L = 100\n",
    "main_dend.diam = 5\n",
    "my_axon.L = 200\n",
    "my_axon.diam = 7\n",
    "\n",
    "# Topology\n",
    "main_dend.connect(my_soma(1))\n",
    "my_axon.connect(my_soma(0))\n",
    "nbranches = 3\n",
    "branches = []\n",
    "for i in range(nbranches):\n",
    "    branch = h.Section(name=f\"branch {i}\")\n",
    "    branch.L - 50\n",
    "    branch.diam = 3\n",
    "    branch.connect(main_dend(1))\n",
    "    branches.append(branch) \n",
    "\n",
    "h.topology()  # Check the topology"
   ]
  },
  {
   "cell_type": "code",
   "execution_count": 21,
   "metadata": {},
   "outputs": [
    {
     "name": "stdout",
     "output_type": "stream",
     "text": [
      "Wrote cell 0 to ./output/cell_02_0000.swc\n",
      "Wrote cell 1 to ./output/cell_02_0001.swc\n"
     ]
    },
    {
     "data": {
      "image/png": "[encoded data removed]",
      "text/plain": [
       "<Figure size 640x480 with 1 Axes>"
      ]
     },
     "metadata": {},
     "output_type": "display_data"
    }
   ],
   "source": [
    "neuron2swc('./output/cell_02.swc', swap_yz=False)\n",
    "neuron2 = nm.load_morphology('./output/cell_02_0001.swc')\n",
    "view.plot_morph(neuron2);"
   ]
  },
  {
   "cell_type": "markdown",
   "metadata": {},
   "source": [
    "### Create another neuron model example with crazy values\n",
    "\n",
    "#### <font color='red'>PLEASE RESTART YOU KERNEL!!!!"
   ]
  },
  {
   "cell_type": "code",
   "execution_count": 1,
   "metadata": {},
   "outputs": [
    {
     "name": "stderr",
     "output_type": "stream",
     "text": [
      "Warning: no DISPLAY environment variable.\n",
      "--No graphics will be displayed.\n"
     ]
    }
   ],
   "source": [
    "from neuron import h\n",
    "import neurom as nm\n",
    "from neurom import view\n",
    "from hoc2swc import neuron2swc"
   ]
  },
  {
   "cell_type": "code",
   "execution_count": 2,
   "metadata": {},
   "outputs": [
    {
     "name": "stdout",
     "output_type": "stream",
     "text": [
      "\n",
      "|-|       soma(0-1)\n",
      "   `|       proxApical(0-1)\n",
      "     `|       apic1(0-1)\n",
      "     `|       apic2(0-1)\n",
      " `|       proxBasal(0-1)\n",
      "   `|       distBasal1(0-1)\n",
      "   `|       distBasal2(0-1)\n",
      "\n"
     ]
    },
    {
     "data": {
      "text/plain": [
       "1.0"
      ]
     },
     "execution_count": 2,
     "metadata": {},
     "output_type": "execute_result"
    }
   ],
   "source": [
    "# Instantiate the new model\n",
    "\n",
    "# sections\n",
    "soma = h.Section(name=\"soma\")\n",
    "papic = h.Section(name=\"proxApical\")\n",
    "apic1 = h.Section(name=\"apic1\")\n",
    "apic2 = h.Section(name=\"apic2\")\n",
    "pb = h.Section(name=\"proxBasal\")\n",
    "db1 = h.Section(name=\"distBasal1\")\n",
    "db2 = h.Section(name=\"distBasal2\")\n",
    "\n",
    "# Geometry - crazy values\n",
    "soma.L = soma.diam = 30\n",
    "papic.L = 200\n",
    "papic.diam = 10\n",
    "apic1.L = 100\n",
    "apic1.diam = 7\n",
    "apic2.L = 300\n",
    "apic2.diam = 5\n",
    "pb.L = 60\n",
    "pb.diam = 4\n",
    "db1.L = 80\n",
    "db1.diam = 5\n",
    "db2.L = 70\n",
    "db2.diam = 2\n",
    "\n",
    "# connect sections\n",
    "papic.connect(soma)\n",
    "pb.connect(soma(0))\n",
    "apic1.connect(papic)\n",
    "apic2.connect(papic)\n",
    "db1.connect(pb)\n",
    "db2.connect(pb)\n",
    "h.topology()"
   ]
  },
  {
   "cell_type": "code",
   "execution_count": 3,
   "metadata": {},
   "outputs": [
    {
     "name": "stdout",
     "output_type": "stream",
     "text": [
      "Wrote cell 0 to output/cell_03.swc\n"
     ]
    },
    {
     "data": {
      "image/png": "[encoded data removed]",
      "text/plain": [
       "<Figure size 640x480 with 1 Axes>"
      ]
     },
     "metadata": {},
     "output_type": "display_data"
    }
   ],
   "source": [
    "# Visualize in Noto\n",
    "neuron2swc('output/cell_03.swc', swap_yz=False)\n",
    "neuron3 = nm.load_morphology('output/cell_03.swc')\n",
    "view.plot_morph(neuron3);\n",
    "\n",
    "# In your laptop\n",
    "# Visualize in the Neuron GUI\n",
    "# Show sections in different colors\n",
    "#s.show(False)\n",
    "#s.color(1, sec=papic) \n",
    "#s.color(2, sec=pb)\n",
    "#s.color(3, sec=apic1)\n",
    "#s.color(3, sec=apic2)\n",
    "#s.color(4, sec=db1) \n",
    "#s.color(4, sec=db2) \n",
    "#s = h.Shape()"
   ]
  },
  {
   "cell_type": "markdown",
   "metadata": {},
   "source": [
    "### Using for-loops to create more complex morphologies\n",
    "\n",
    "#### <font color='red'>PLEASE RESTART YOU KERNEL!!!!"
   ]
  },
  {
   "cell_type": "code",
   "execution_count": 1,
   "metadata": {},
   "outputs": [
    {
     "name": "stderr",
     "output_type": "stream",
     "text": [
      "Warning: no DISPLAY environment variable.\n",
      "--No graphics will be displayed.\n"
     ]
    }
   ],
   "source": [
    "from neuron import h\n",
    "import numpy as np\n",
    "import neurom as nm\n",
    "from neurom import view\n",
    "from hoc2swc import neuron2swc"
   ]
  },
  {
   "cell_type": "code",
   "execution_count": 2,
   "metadata": {},
   "outputs": [
    {
     "name": "stdout",
     "output_type": "stream",
     "text": [
      "\n",
      "|----------|       soma(0-1)\n",
      "            `---------|       dend1(0-1)\n",
      "                       `---------|       dend_branch1(0-1)\n",
      "                       `---------|       dend_branch2(0-1)\n",
      " `---------|       axon(0-1)\n",
      "\n"
     ]
    },
    {
     "data": {
      "text/plain": [
       "1.0"
      ]
     },
     "execution_count": 2,
     "metadata": {},
     "output_type": "execute_result"
    }
   ],
   "source": [
    "# Pro tip: the same thing can also be done by using a list comprehension!!\n",
    "# A list comprehension is conceptually the same as a for loop\n",
    "soma, dend1, db1, db2, axon = [\n",
    "    h.Section(name=n) for n in [\"soma\", \"dend1\", \"dend_branch1\", \"dend_branch2\", \"axon\"]\n",
    "]\n",
    "\n",
    "# Geometry\n",
    "for sec in h.allsec():\n",
    "    sec.nseg = 10\n",
    "    sec.L = 100\n",
    "    for seg in sec:\n",
    "        seg.diam = np.interp(seg.x, [0, 1], [1, 10])\n",
    "\n",
    "# connect sections\n",
    "dend1.connect(soma(1))\n",
    "db1.connect(dend1(1), 0)\n",
    "db2.connect(dend1)\n",
    "axon.connect(soma(0))\n",
    "h.topology()"
   ]
  },
  {
   "cell_type": "code",
   "execution_count": 3,
   "metadata": {},
   "outputs": [
    {
     "name": "stdout",
     "output_type": "stream",
     "text": [
      "Wrote cell 0 to output/cell_05.swc\n"
     ]
    },
    {
     "data": {
      "image/png": "[encoded data removed]",
      "text/plain": [
       "<Figure size 640x480 with 1 Axes>"
      ]
     },
     "metadata": {},
     "output_type": "display_data"
    }
   ],
   "source": [
    "# Visualize in Noto\n",
    "neuron2swc('output/cell_05.swc', swap_yz=False)\n",
    "neuron4 = nm.load_morphology('output/cell_05.swc')\n",
    "view.plot_morph(neuron4)\n",
    "\n",
    "# In your laptop\n",
    "# Visualize in the Neuron GUI\n",
    "#s.show(False)\n",
    "#s = h.Shape()"
   ]
  },
  {
   "cell_type": "markdown",
   "metadata": {},
   "source": [
    "### Create a neuron class\n",
    "\n",
    "#### <font color='red'>PLEASE RESTART YOU KERNEL!!!!"
   ]
  },
  {
   "cell_type": "code",
   "execution_count": 1,
   "metadata": {},
   "outputs": [
    {
     "name": "stderr",
     "output_type": "stream",
     "text": [
      "Warning: no DISPLAY environment variable.\n",
      "--No graphics will be displayed.\n"
     ]
    }
   ],
   "source": [
    "from neuron import h\n",
    "import numpy as np\n",
    "import neurom as nm\n",
    "from neurom import view\n",
    "from hoc2swc import neuron2swc"
   ]
  },
  {
   "cell_type": "code",
   "execution_count": 2,
   "metadata": {},
   "outputs": [
    {
     "name": "stdout",
     "output_type": "stream",
     "text": [
      "\n",
      "|-|       BallAndStick[0].soma(0-1)\n",
      "   `|       BallAndStick[0].dend(0-1)\n",
      "\n"
     ]
    },
    {
     "data": {
      "text/plain": [
       "1.0"
      ]
     },
     "execution_count": 2,
     "metadata": {},
     "output_type": "execute_result"
    }
   ],
   "source": [
    "class BallAndStick:\n",
    "    def __init__(self, gid):\n",
    "        self._gid = gid\n",
    "        self.soma = h.Section(name=\"soma\", cell=self)\n",
    "        self.dend = h.Section(name=\"dend\", cell=self)\n",
    "        self.dend.connect(self.soma)\n",
    "        self.soma.L = (\n",
    "            self.soma.diam\n",
    "        ) = 12.6157  # If you're wondering why that number was chosen\n",
    "        # for the soma, it's because it makes the surface area\n",
    "        # (which doesn't include end faces) approximately 500 μm2:\n",
    "        self.dend.L = 200\n",
    "        self.dend.diam = 1\n",
    "\n",
    "    def __str__(self):\n",
    "        return \"BallAndStick[{}]\".format(self._gid)\n",
    "\n",
    "\n",
    "my_cell = BallAndStick(0)\n",
    "h.topology()"
   ]
  },
  {
   "cell_type": "code",
   "execution_count": 3,
   "metadata": {},
   "outputs": [
    {
     "name": "stdout",
     "output_type": "stream",
     "text": [
      "Wrote cell 0 to output/cell_04.swc\n"
     ]
    },
    {
     "data": {
      "image/png": "[encoded data removed]",
      "text/plain": [
       "<Figure size 640x480 with 1 Axes>"
      ]
     },
     "metadata": {},
     "output_type": "display_data"
    }
   ],
   "source": [
    "# Visualize in Noto\n",
    "neuron2swc('output/cell_04.swc', swap_yz=False)\n",
    "neuron5 = nm.load_morphology('output/cell_04.swc')\n",
    "view.plot_morph(neuron5);"
   ]
  },
  {
   "cell_type": "markdown",
   "metadata": {},
   "source": [
    "# 2. Load and visualize real neuronal morphologies"
   ]
  },
  {
   "cell_type": "markdown",
   "metadata": {},
   "source": [
    "<font size = \"3\">You should change the following paths to the ones in which you have saved the files."
   ]
  },
  {
   "cell_type": "code",
   "execution_count": 4,
   "metadata": {
    "scrolled": true
   },
   "outputs": [],
   "source": [
    "import neurom as nm\n",
    "import matplotlib.pyplot as plt\n",
    "from neurom import view\n",
    "from neurom.view.matplotlib_utils import (\n",
    "    update_plot_limits,\n",
    ")  # from NeuroM we import utils function to adjust the plot limits"
   ]
  },
  {
   "cell_type": "code",
   "execution_count": 5,
   "metadata": {},
   "outputs": [],
   "source": [
    "# Here are the paths to morphology files\n",
    "path_to_file = \"input/example_morphologies/Fluo55_low.asc\"\n",
    "nrn = path_to_file"
   ]
  },
  {
   "cell_type": "markdown",
   "metadata": {},
   "source": [
    "<font size = \"3\"> First, we can check what is inside the file."
   ]
  },
  {
   "cell_type": "code",
   "execution_count": 6,
   "metadata": {
    "scrolled": true
   },
   "outputs": [
    {
     "name": "stdout",
     "output_type": "stream",
     "text": [
      "Fluo55_low.asc\n"
     ]
    },
    {
     "ename": "AttributeError",
     "evalue": "'Neurite' object has no attribute 'iter_sections'",
     "output_type": "error",
     "traceback": [
      "\u001b[0;31m---------------------------------------------------------------------------\u001b[0m",
      "\u001b[0;31mAttributeError\u001b[0m                            Traceback (most recent call last)",
      "Cell \u001b[0;32mIn[6], line 15\u001b[0m\n\u001b[1;32m      7\u001b[0m \u001b[38;5;66;03m# print(neurites)       # Uncomment this if you want to know what are you going to iterate through.\u001b[39;00m\n\u001b[1;32m      8\u001b[0m \n\u001b[1;32m      9\u001b[0m \u001b[38;5;66;03m# enumerate returns the number of the list item and the object itself\u001b[39;00m\n\u001b[1;32m     10\u001b[0m \u001b[38;5;66;03m# e.g. (1, neurite1), (2, neurite2), etc.\u001b[39;00m\n\u001b[1;32m     11\u001b[0m \u001b[38;5;28;01mfor\u001b[39;00m i, neurite \u001b[38;5;129;01min\u001b[39;00m \u001b[38;5;28menumerate\u001b[39m(neurites):\n\u001b[1;32m     12\u001b[0m \n\u001b[1;32m     13\u001b[0m     \u001b[38;5;66;03m# iter_sections is an iterator. It returns the values one by one every time it is called\u001b[39;00m\n\u001b[1;32m     14\u001b[0m     \u001b[38;5;66;03m# therefore by applying the list function we force to return all the values.\u001b[39;00m\n\u001b[0;32m---> 15\u001b[0m     number_of_sections \u001b[38;5;241m=\u001b[39m \u001b[38;5;28mlen\u001b[39m(\u001b[38;5;28mlist\u001b[39m(\u001b[43mneurite\u001b[49m\u001b[38;5;241;43m.\u001b[39;49m\u001b[43miter_sections\u001b[49m()))\n\u001b[1;32m     17\u001b[0m     \u001b[38;5;66;03m# points is a numpy array, where instead of len, shape is used\u001b[39;00m\n\u001b[1;32m     18\u001b[0m     \u001b[38;5;66;03m# first element is the number of points, second the number of coordinates and a radius (4)\u001b[39;00m\n\u001b[1;32m     19\u001b[0m     number_of_points \u001b[38;5;241m=\u001b[39m neurite\u001b[38;5;241m.\u001b[39mpoints\u001b[38;5;241m.\u001b[39mshape[\u001b[38;5;241m0\u001b[39m]\n",
      "\u001b[0;31mAttributeError\u001b[0m: 'Neurite' object has no attribute 'iter_sections'"
     ]
    }
   ],
   "source": [
    "# compatible file formats for morphology could be: ascii, swc, hdf5\n",
    "# Before ploting let's see what is inside the morphology file\n",
    "neuron = nm.load_morphology(nrn)\n",
    "print(neuron.name)\n",
    "\n",
    "neurites = neuron.neurites\n",
    "# print(neurites)       # Uncomment this if you want to know what are you going to iterate through.\n",
    "\n",
    "# enumerate returns the number of the list item and the object itself\n",
    "# e.g. (1, neurite1), (2, neurite2), etc.\n",
    "for i, neurite in enumerate(neurites):\n",
    "\n",
    "    # iter_sections is an iterator. It returns the values one by one every time it is called\n",
    "    # therefore by applying the list function we force to return all the values.\n",
    "    number_of_sections = len(list(neurite.iter_sections()))\n",
    "\n",
    "    # points is a numpy array, where instead of len, shape is used\n",
    "    # first element is the number of points, second the number of coordinates and a radius (4)\n",
    "    number_of_points = neurite.points.shape[0]\n",
    "\n",
    "    # strings to use for printing (\\n = change line)\n",
    "    string_neurite = \"Neurite {0}:\\n\".format(i)\n",
    "    string_type = \"Type: {0}\\n\".format(neurite.type)\n",
    "    string_n_secs = \"Number of Sections: {0}\\n\".format(number_of_sections)\n",
    "    string_n_pnts = \"Number of Points: {0}\\n\".format(number_of_points)\n",
    "\n",
    "    # join concatenates strings in a list by linking them with the provided string (here a tab identation \\t)\n",
    "    print(\"\\t\".join((string_neurite, string_type, string_n_secs, string_n_pnts)))"
   ]
  },
  {
   "cell_type": "markdown",
   "metadata": {},
   "source": [
    "<font size = \"3\">Second, we can plot the real morphological reconstruction using neurom viewer.\n",
    "<font size = \"3\"> We will plot four different graphs: the soma, the morphology on its planes ('xy', 'xz', 'zy', the different neurites and the dendrogram of the neuron."
   ]
  },
  {
   "cell_type": "code",
   "execution_count": 7,
   "metadata": {},
   "outputs": [
    {
     "ename": "AttributeError",
     "evalue": "module 'neurom.view' has no attribute 'plot_soma'",
     "output_type": "error",
     "traceback": [
      "\u001b[0;31m---------------------------------------------------------------------------\u001b[0m",
      "\u001b[0;31mAttributeError\u001b[0m                            Traceback (most recent call last)",
      "Cell \u001b[0;32mIn[7], line 3\u001b[0m\n\u001b[1;32m      1\u001b[0m \u001b[38;5;66;03m## PLOT 1\u001b[39;00m\n\u001b[1;32m      2\u001b[0m \u001b[38;5;66;03m# Plot only the soma\u001b[39;00m\n\u001b[0;32m----> 3\u001b[0m \u001b[43mview\u001b[49m\u001b[38;5;241;43m.\u001b[39;49m\u001b[43mplot_soma\u001b[49m(neuron\u001b[38;5;241m.\u001b[39msoma, plane\u001b[38;5;241m=\u001b[39m\u001b[38;5;124m\"\u001b[39m\u001b[38;5;124mxy\u001b[39m\u001b[38;5;124m\"\u001b[39m)\n",
      "\u001b[0;31mAttributeError\u001b[0m: module 'neurom.view' has no attribute 'plot_soma'"
     ]
    }
   ],
   "source": [
    "## PLOT 1\n",
    "# Plot only the soma\n",
    "view.plot_soma(neuron.soma, plane=\"xy\")"
   ]
  },
  {
   "cell_type": "code",
   "execution_count": 8,
   "metadata": {},
   "outputs": [
    {
     "data": {
      "image/png": "[encoded data removed]",
      "text/plain": [
       "<Figure size 500x500 with 1 Axes>"
      ]
     },
     "metadata": {},
     "output_type": "display_data"
    }
   ],
   "source": [
    "## PLOT 2\n",
    "# Plot the morphology on a specific plane\n",
    "# planes: 'xy', 'xz', 'yz'\n",
    "\n",
    "# figure, axis = viewer.draw(neuron, mode='2d', plane='xy')\n",
    "fig, ax = plt.subplots(1, 1, figsize=(5, 5))\n",
    "view.plot_morph(neuron, plane=\"xy\", ax=ax)\n",
    "update_plot_limits(\n",
    "    ax, white_space=10\n",
    ")  # set your x, y plot limits to match with your neuron\n",
    "\n",
    "# the axis handler is returend for further customization\n",
    "ax.set_title(\"My Favorite Neuron\")\n",
    "ax.set_xlabel(\"x, micrometers (um)\")\n",
    "ax.set_ylabel(\"y, micrometers (um)\");"
   ]
  },
  {
   "cell_type": "code",
   "execution_count": 9,
   "metadata": {},
   "outputs": [
    {
     "ename": "AttributeError",
     "evalue": "module 'neurom.view' has no attribute 'plot_tree'",
     "output_type": "error",
     "traceback": [
      "\u001b[0;31m---------------------------------------------------------------------------\u001b[0m",
      "\u001b[0;31mAttributeError\u001b[0m                            Traceback (most recent call last)",
      "Cell \u001b[0;32mIn[9], line 12\u001b[0m\n\u001b[1;32m      9\u001b[0m current_axes \u001b[38;5;241m=\u001b[39m axes[i]\n\u001b[1;32m     10\u001b[0m \u001b[38;5;66;03m# draw the neurite in the i-th subplot\u001b[39;00m\n\u001b[1;32m     11\u001b[0m \u001b[38;5;66;03m# every time the function is called. The one that we created above will be used instead\u001b[39;00m\n\u001b[0;32m---> 12\u001b[0m \u001b[43mview\u001b[49m\u001b[38;5;241;43m.\u001b[39;49m\u001b[43mplot_tree\u001b[49m(neurite, ax\u001b[38;5;241m=\u001b[39mcurrent_axes, plane\u001b[38;5;241m=\u001b[39m\u001b[38;5;124m\"\u001b[39m\u001b[38;5;124mxy\u001b[39m\u001b[38;5;124m\"\u001b[39m)\n\u001b[1;32m     13\u001b[0m update_plot_limits(current_axes, white_space\u001b[38;5;241m=\u001b[39m\u001b[38;5;241m10\u001b[39m)\n\u001b[1;32m     15\u001b[0m \u001b[38;5;66;03m# remove the xy axes for a prettier result\u001b[39;00m\n\u001b[1;32m     16\u001b[0m \u001b[38;5;66;03m# current_axes.axis('off')\u001b[39;00m\n\u001b[1;32m     17\u001b[0m \n\u001b[1;32m     18\u001b[0m \u001b[38;5;66;03m# remove the title for each subplot\u001b[39;00m\n",
      "\u001b[0;31mAttributeError\u001b[0m: module 'neurom.view' has no attribute 'plot_tree'"
     ]
    },
    {
     "data": {
      "image/png": "[encoded data removed]",
      "text/plain": [
       "<Figure size 2000x500 with 8 Axes>"
      ]
     },
     "metadata": {},
     "output_type": "display_data"
    }
   ],
   "source": [
    "## PLOT 3\n",
    "# Plot each of the neurites separately\n",
    "N = len(neurites)\n",
    "\n",
    "# create N subplots, one for each neurite\n",
    "fig, axes = plt.subplots(1, N, figsize=(20, 5))  # figsize in inches (width, height)\n",
    "\n",
    "for i, neurite in enumerate(neurites):\n",
    "    current_axes = axes[i]\n",
    "    # draw the neurite in the i-th subplot\n",
    "    # every time the function is called. The one that we created above will be used instead\n",
    "    view.plot_tree(neurite, ax=current_axes, plane=\"xy\")\n",
    "    update_plot_limits(current_axes, white_space=10)\n",
    "\n",
    "    # remove the xy axes for a prettier result\n",
    "    # current_axes.axis('off')\n",
    "\n",
    "    # remove the title for each subplot\n",
    "    current_axes.set_xlabel(\"x (um)\")\n",
    "    current_axes.set_ylabel(\"y (um)\")\n",
    "    current_axes.set_title(f\"neurite {i}\")\n",
    "    plt.tight_layout()\n",
    "\n",
    "# set a global title for the figure\n",
    "fig.suptitle(neuron.name, fontsize=20);\n",
    "plt.tight_layout()"
   ]
  },
  {
   "cell_type": "code",
   "execution_count": 10,
   "metadata": {
    "tags": []
   },
   "outputs": [
    {
     "data": {
      "image/png": "[encoded data removed]",
      "text/plain": [
       "<Figure size 1000x500 with 1 Axes>"
      ]
     },
     "metadata": {},
     "output_type": "display_data"
    }
   ],
   "source": [
    "## PLOT 4\n",
    "# Here we can create a dendrogram of our loaded morphology - showing us the\n",
    "# hierarchical relationship of neurons axon, basal and apical dendrite\n",
    "\n",
    "fig, ax = plt.subplots(figsize=(10, 5))\n",
    "view.plot_dendrogram(neuron, ax=ax)"
   ]
  },
  {
   "cell_type": "code",
   "execution_count": null,
   "metadata": {},
   "outputs": [],
   "source": []
  }
 ],
 "metadata": {
  "kernelspec": {
   "display_name": "Python3",
   "language": "python",
   "name": "python3"
  },
  "language_info": {
   "codemirror_mode": {
    "name": "ipython",
    "version": 3
   },
   "file_extension": ".py",
   "mimetype": "text/x-python",
   "name": "python",
   "nbconvert_exporter": "python",
   "pygments_lexer": "ipython3",
   "version": "3.12.4"
  }
 },
 "nbformat": 4,
 "nbformat_minor": 4
}
