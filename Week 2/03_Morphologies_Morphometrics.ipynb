{
 "cells": [
  {
   "cell_type": "markdown",
   "metadata": {},
   "source": [
    "<center><font size = \"10\"> Week 2 - Morphologies <center>\n",
    "<center><font size = \"8\">Tutorial 03: Morphometrics<center>"
   ]
  },
  {
   "cell_type": "markdown",
   "metadata": {},
   "source": [
    "<font size =\"3\"><font color='blue'>In this tutorial you will learn:\n",
    "    \n",
    "<font size =\"3\"><font color='blue'>- How to analyze morphologies and plot results"
   ]
  },
  {
   "cell_type": "markdown",
   "metadata": {},
   "source": [
    "<font size =\"3\">There are two types of features, the neuron and neurite features.\n",
    "\n",
    "<font size =\"3\">- Neurite features can be extracted from a single neurite, a list of neurites or a neuron.\n",
    "\n",
    "<font size =\"3\">- Neuron features can only be extracted from a whole neuron, because some particular information is usually required (e.g. distance from soma)."
   ]
  },
  {
   "cell_type": "code",
   "execution_count": 1,
   "metadata": {},
   "outputs": [],
   "source": [
    "# import the packages\n",
    "import matplotlib.pyplot as plt\n",
    "import neurom as nm\n",
    "import numpy as np\n",
    "\n",
    "# Define the paths in which the data file is\n",
    "good_neuron = \"input/example_morphologies/Fluo55_low.asc\"\n",
    "neuron = nm.load_morphology(good_neuron)"
   ]
  },
  {
   "cell_type": "markdown",
   "metadata": {},
   "source": [
    "<font size =\"3\">All features can be called through the neurom.get function"
   ]
  },
  {
   "cell_type": "code",
   "execution_count": 2,
   "metadata": {
    "tags": []
   },
   "outputs": [
    {
     "name": "stdout",
     "output_type": "stream",
     "text": [
      "Help on module neurom.features.morphology in neurom.features:\n",
      "\n",
      "NAME\n",
      "    neurom.features.morphology - Morphology features.\n",
      "\n",
      "DESCRIPTION\n",
      "    Any public function from this namespace can be called via the features mechanism. If calling\n",
      "    directly the function in this namespace can only accept a morphology as its input. If you want to\n",
      "    apply it to a morphology population then you must use the features mechanism e.g. ``features.get``.\n",
      "    The features mechanism does not allow you to apply these features to neurites.\n",
      "\n",
      "    >>> import neurom\n",
      "    >>> from neurom import features\n",
      "    >>> m = neurom.load_morphology(\"tests/data/swc/Neuron.swc\")\n",
      "    >>> result = features.get('soma_surface_area', m)\n",
      "    >>> population = neurom.load_morphologies(\"tests/data/valid_set\")\n",
      "    >>> result = features.get('sholl_crossings', population)\n",
      "\n",
      "    For more details see :ref:`features`.\n",
      "\n",
      "FUNCTIONS\n",
      "    aspect_ratio(morph, neurite_type=<NeuriteType.all: 32>, projection_plane='xy')\n",
      "        Calculates the min/max ratio of the principal direction extents along the plane.\n",
      "\n",
      "        Args:\n",
      "            morph: Morphology object.\n",
      "            neurite_type: The neurite type to use. By default all neurite types are used.\n",
      "            projection_plane: Projection plane to use for the calculation. One of ('xy', 'xz', 'yz').\n",
      "\n",
      "        Returns:\n",
      "            The aspect ratio feature of the morphology points.\n",
      "\n",
      "    circularity(morph, neurite_type=<NeuriteType.all: 32>, projection_plane='xy')\n",
      "        Calculates the circularity of the morphology points along the plane.\n",
      "\n",
      "        The circularity is defined as the 4 * pi * area of the convex hull over its\n",
      "        perimeter.\n",
      "\n",
      "        Args:\n",
      "            morph: Morphology object.\n",
      "            neurite_type: The neurite type to use. By default all neurite types are used.\n",
      "            projection_plane: Projection plane to use for the calculation. One of\n",
      "                ('xy', 'xz', 'yz').\n",
      "\n",
      "        Returns:\n",
      "            The circularity of the morphology points.\n",
      "\n",
      "    length_fraction_above_soma(morph, neurite_type=<NeuriteType.all: 32>, up='Y')\n",
      "        Returns the length fraction of the segments that have their midpoints higher than the soma.\n",
      "\n",
      "        Args:\n",
      "            morph: Morphology object.\n",
      "            neurite_type: The neurite type to use. By default all neurite types are used.\n",
      "            up: The axis along which the computation is performed. One of ('X', 'Y', 'Z').\n",
      "\n",
      "        Returns:\n",
      "            The fraction of neurite length that lies on the right of the soma along the given axis.\n",
      "\n",
      "    max_radial_distance(morph, origin=None, neurite_type=<NeuriteType.all: 32>)\n",
      "        Get the maximum radial distances of the termination sections.\n",
      "\n",
      "    neurite_volume_density(morph, neurite_type=<NeuriteType.all: 32>)\n",
      "        Get volume density per neurite.\n",
      "\n",
      "    number_of_neurites(morph, neurite_type=<NeuriteType.all: 32>)\n",
      "        Number of neurites in a morph.\n",
      "\n",
      "    number_of_sections_per_neurite(morph, neurite_type=<NeuriteType.all: 32>)\n",
      "        List of numbers of sections per neurite.\n",
      "\n",
      "    section_bif_radial_distances(morph, origin=None, neurite_type=<NeuriteType.all: 32>)\n",
      "        Get the radial distances of the bifurcation sections.\n",
      "\n",
      "    section_radial_distances(morph, origin=None, neurite_type=<NeuriteType.all: 32>)\n",
      "        Section radial distances.\n",
      "\n",
      "    section_term_radial_distances(morph, origin=None, neurite_type=<NeuriteType.all: 32>)\n",
      "        Get the radial distances of the termination sections.\n",
      "\n",
      "    segment_radial_distances(morph, origin=None, neurite_type=<NeuriteType.all: 32>)\n",
      "        Ger the radial distances of the segments.\n",
      "\n",
      "    shape_factor(morph, neurite_type=<NeuriteType.all: 32>, projection_plane='xy')\n",
      "        Calculates the shape factor of the morphology points along the plane.\n",
      "\n",
      "        The shape factor is defined as the ratio of the convex hull area over max squared\n",
      "        pairwise distance of the morphology points.\n",
      "\n",
      "        Args:\n",
      "            morph: Morphology object.\n",
      "            neurite_type: The neurite type to use. By default all neurite types are used.\n",
      "            projection_plane: Projection plane to use for the calculation. One of\n",
      "                ('xy', 'xz', 'yz').\n",
      "\n",
      "        Returns:\n",
      "            The shape factor of the morphology points.\n",
      "\n",
      "    sholl_crossings(morph, neurite_type=<NeuriteType.all: 32>, center=None, radii=None)\n",
      "        Calculate crossings of neurites.\n",
      "\n",
      "        Args:\n",
      "            morph(Morphology|list): morphology or a list of neurites\n",
      "            neurite_type(NeuriteType): Type of neurite to use. By default ``NeuriteType.all`` is used.\n",
      "            center(Point): center point, if None then soma center is taken\n",
      "            radii: iterable of floats for which crossings will be counted,\n",
      "                if None then soma radius is taken\n",
      "\n",
      "        Returns:\n",
      "            Array of same length as radii, with a count of the number of crossings\n",
      "            for the respective radius\n",
      "\n",
      "        This function can also be used with a list of sections, as follow::\n",
      "\n",
      "            secs = (sec for sec in nm.iter_sections(morph) if complex_filter(sec))\n",
      "            sholl = nm.features.neuritefunc.sholl_crossings(secs,\n",
      "                                                            center=morph.soma.center,\n",
      "                                                            radii=np.arange(0, 1000, 100))\n",
      "\n",
      "    sholl_frequency(morph, neurite_type=<NeuriteType.all: 32>, step_size=10, bins=None)\n",
      "        Perform Sholl frequency calculations on a morph.\n",
      "\n",
      "        Args:\n",
      "            morph(Morphology): a morphology\n",
      "            neurite_type(NeuriteType): which neurites to operate on\n",
      "            step_size(float): step size between Sholl radii\n",
      "            bins: iterable of floats defining custom binning to use for the Sholl radii.\n",
      "                If None, it uses intervals of step_size between min and max radii of ``morphologies``.\n",
      "\n",
      "        Note:\n",
      "            Given a morphology, the soma center is used for the concentric circles,\n",
      "            which range from the soma radii, and the maximum radial distance\n",
      "            in steps of `step_size`. Each segment of the morphology is tested, so a neurite that\n",
      "            bends back on itself, and crosses the same Sholl radius will get counted as\n",
      "            having crossed multiple times.\n",
      "\n",
      "            If a `neurite_type` is specified and there are no trees corresponding to it, an empty\n",
      "            list will be returned.\n",
      "\n",
      "    soma_radius(morph)\n",
      "        Get the radius of a morphology's soma.\n",
      "\n",
      "    soma_surface_area(morph)\n",
      "        Get the surface area of a morphology's soma.\n",
      "\n",
      "        Note:\n",
      "            The surface area is calculated by assuming the soma is spherical.\n",
      "\n",
      "    soma_volume(morph)\n",
      "        Get the volume of a morphology's soma.\n",
      "\n",
      "    total_area_per_neurite(morph, neurite_type=<NeuriteType.all: 32>)\n",
      "        Neurite areas.\n",
      "\n",
      "    total_depth(morph, neurite_type=<NeuriteType.all: 32>)\n",
      "        Extent of morphology along axis z.\n",
      "\n",
      "    total_height(morph, neurite_type=<NeuriteType.all: 32>)\n",
      "        Extent of morphology along axis y.\n",
      "\n",
      "    total_length_per_neurite(morph, neurite_type=<NeuriteType.all: 32>)\n",
      "        Neurite lengths.\n",
      "\n",
      "    total_volume_per_neurite(morph, neurite_type=<NeuriteType.all: 32>)\n",
      "        Neurite volumes.\n",
      "\n",
      "    total_width(morph, neurite_type=<NeuriteType.all: 32>)\n",
      "        Extent of morphology along axis x.\n",
      "\n",
      "    trunk_angles(morph, neurite_type=<NeuriteType.all: 32>, coords_only='xy', sort_along='xy', consecutive_only=True)\n",
      "        Calculate the angles between all the trunks of the morph.\n",
      "\n",
      "        By default, the angles are defined on the x-y plane and the trees are sorted from the y axis\n",
      "        and anticlock-wise.\n",
      "\n",
      "        Args:\n",
      "            morph: The morphology to process.\n",
      "            neurite_type: Only the neurites of this type are considered.\n",
      "            coords_only: Consider only the coordinates listed in this argument (should be a combination\n",
      "                of 'x', 'y' and 'z').\n",
      "            sort_along: Sort angles according to the given plane (should be 'xy', 'xz' or 'yz') before\n",
      "                computing the angles between the trunks.\n",
      "            consecutive_only: Compute only the angles between consecutive trunks (the default order of\n",
      "                neurite trunks is the same as the one used by\n",
      "                :func:`neurom.core.morphology.iter_neurites` but this order can be changed using the\n",
      "                `sort_along` parameter).\n",
      "\n",
      "        Returns:\n",
      "            list[[float]] or list[float]:\n",
      "                The angles between each trunk and all the others. If ``consecutive_only`` is ``True``,\n",
      "                only the angle with the next trunk is returned for each trunk.\n",
      "\n",
      "    trunk_angles_from_vector(morph, neurite_type=<NeuriteType.all: 32>, vector=None)\n",
      "        Calculate the angles between the trunks of the morph of a given type and a given vector.\n",
      "\n",
      "        Args:\n",
      "            morph: The morphology to process.\n",
      "            neurite_type: Only the neurites of this type are considered.\n",
      "            vector: The reference vector. If ``None``, the reference vector is set to ``(0, 1, 0)``.\n",
      "\n",
      "        Returns:\n",
      "            list[list[float]]:\n",
      "                For each neurite, an array with 3 elements is returned:\n",
      "\n",
      "                * the absolute 3d angle between the two vectors.\n",
      "                * the elevation angle (or polar angle) between the two vectors.\n",
      "                * the azimuth angle between the two vectors.\n",
      "\n",
      "    trunk_angles_inter_types(morph, source_neurite_type=<NeuriteType.apical_dendrite: 4>, target_neurite_type=<NeuriteType.basal_dendrite: 3>, closest_component=None)\n",
      "        Calculate the angles between the trunks of the morph of a source type to target type.\n",
      "\n",
      "        Args:\n",
      "            morph: The morphology to process.\n",
      "            source_neurite_type: Only the neurites of this type are considered as sources.\n",
      "            target_neurite_type: Only the neurites of this type are considered as targets.\n",
      "            closest_component:\n",
      "                If ``closest_component`` is not ``None``, only one element is returned for each neurite\n",
      "                of source type:\n",
      "\n",
      "                * if set to 0, the one with the lowest absolute 3d angle is returned.\n",
      "                * if set to 1, the one with the lowest absolute elevation angle is returned.\n",
      "                * if set to 2, the one with the lowest absolute azimuth angle is returned.\n",
      "\n",
      "        Returns:\n",
      "            list[list[float]] or list[float]:\n",
      "                If ``closest_component`` is ``None``, a list of 3 elements is returned for each couple\n",
      "                of neurites:\n",
      "\n",
      "                * the absolute 3d angle between the two vectors.\n",
      "                * the elevation angle (or polar angle) between the two vectors.\n",
      "                * the azimuth angle between the two vectors.\n",
      "\n",
      "                If ``closest_component`` is not ``None``, only one of these values is returned for each\n",
      "                couple.\n",
      "\n",
      "    trunk_origin_azimuths(morph, neurite_type=<NeuriteType.all: 32>)\n",
      "        Get a list of all the trunk origin azimuths of a morph.\n",
      "\n",
      "        The azimuth is defined as Angle between x-axis and the vector\n",
      "        defined by (initial tree point - soma center) on the x-z plane.\n",
      "\n",
      "        The range of the azimuth angle [-pi, pi] radians\n",
      "\n",
      "    trunk_origin_elevations(morph, neurite_type=<NeuriteType.all: 32>)\n",
      "        Get a list of all the trunk origin elevations of a morph.\n",
      "\n",
      "        The elevation is defined as the angle between x-axis and the\n",
      "        vector defined by (initial tree point - soma center)\n",
      "        on the x-y half-plane.\n",
      "\n",
      "        The range of the elevation angle [-pi/2, pi/2] radians\n",
      "\n",
      "    trunk_origin_radii(morph, neurite_type=<NeuriteType.all: 32>, min_length_filter=None, max_length_filter=None)\n",
      "        Radii of the trunk sections of neurites in a morph.\n",
      "\n",
      "        .. warning::\n",
      "            If ``min_length_filter`` and / or ``max_length_filter`` is given, the points are filtered\n",
      "            and the mean radii of the remaining points is returned.\n",
      "            Note that if the ``min_length_filter`` is greater than the path distance of the last point\n",
      "            of the first section, the radius of this last point is returned.\n",
      "\n",
      "        Args:\n",
      "            morph: The morphology to process.\n",
      "            neurite_type: Only the neurites of this type are considered.\n",
      "            min_length_filter: The min length from which the neurite points are considered.\n",
      "            max_length_filter: The max length from which the neurite points are considered.\n",
      "\n",
      "        Returns:\n",
      "            list[float]:\n",
      "                * if ``min_length_filter`` and ``max_length_filter`` are ``None``, the radii of the\n",
      "                  first point of each neurite are returned.\n",
      "                * else the mean radius of the points between the given ``min_length_filter`` and\n",
      "                  ``max_length_filter`` are returned.\n",
      "\n",
      "    trunk_section_lengths(morph, neurite_type=<NeuriteType.all: 32>)\n",
      "        List of lengths of trunk sections of neurites in a morph.\n",
      "\n",
      "    trunk_vectors(morph, neurite_type=<NeuriteType.all: 32>)\n",
      "        Calculate the vectors between all the trunks of the morphology and the soma center.\n",
      "\n",
      "    volume_density(morph, neurite_type=<NeuriteType.all: 32>)\n",
      "        Get the volume density.\n",
      "\n",
      "        The volume density is defined as the ratio of the neurite volume and\n",
      "        the volume of the morphology's enclosing convex hull\n",
      "\n",
      "        .. note:: Returns `np.nan` if the convex hull computation fails or there are not points\n",
      "                  available due to neurite type filtering.\n",
      "\n",
      "DATA\n",
      "    feature = functools.partial(<function feature at 0x125767060>, namespa...\n",
      "\n",
      "FILE\n",
      "    /Users/wesleymonteith/miniconda3/envs/biophysics/lib/python3.12/site-packages/neurom/features/morphology.py\n",
      "\n",
      "\n"
     ]
    }
   ],
   "source": [
    "# help(nm.features.neurite)\n",
    "help(nm.features.morphology)"
   ]
  },
  {
   "cell_type": "markdown",
   "metadata": {},
   "source": [
    "<font size = \"3\">Now let's see how to obtain some measurements."
   ]
  },
  {
   "cell_type": "code",
   "execution_count": 3,
   "metadata": {},
   "outputs": [
    {
     "name": "stdout",
     "output_type": "stream",
     "text": [
      "Section lengths: \n",
      " [125.13077545166016, 124.34028625488281, 163.31492614746094, 23.143268585205078, 13.671525001525879, 5.4365153312683105, 7.427929401397705, 122.31117248535156, 223.8179168701172, 615.74267578125]\n",
      "\n",
      "Section local bifurcation angles: \n",
      " [1.875139019069966, 0.4293747783741623, 1.284743192501375, 0.6993977597375743, 2.837939292380174, 2.0113672381924954, 1.9660023347452151, 2.571552693915766, 1.2229657259308395, 1.81106277089467]\n"
     ]
    }
   ],
   "source": [
    "# Extract section_lengths\n",
    "section_lengths_neuron = nm.get(\"section_lengths\", neuron)\n",
    "print(\"Section lengths: \\n\", section_lengths_neuron[:10])\n",
    "\n",
    "# Extract the local bifurcation angles\n",
    "local_bif_angles = nm.get(\"local_bifurcation_angles\", neuron)\n",
    "print(\"\\nSection local bifurcation angles: \\n\", local_bif_angles[:10])"
   ]
  },
  {
   "cell_type": "code",
   "execution_count": 4,
   "metadata": {},
   "outputs": [
    {
     "name": "stdout",
     "output_type": "stream",
     "text": [
      "Soma was not found. Input object is wrong.\n"
     ]
    }
   ],
   "source": [
    "try:\n",
    "    # this must create an error because no soma is available\n",
    "    nm.get('soma_radius', neuron.neurites)\n",
    "\n",
    "except nm.exceptions.NeuroMError:\n",
    "    print (\"Soma was not found. Input object is wrong.\")\n"
   ]
  },
  {
   "cell_type": "markdown",
   "metadata": {},
   "source": [
    "## Select Neurite Types"
   ]
  },
  {
   "cell_type": "markdown",
   "metadata": {},
   "source": [
    "<font size =\"3\">The previous examples treated all neurites in the same way. NeuroM also allows you to extract specific morphometrics for specific types of tree. "
   ]
  },
  {
   "cell_type": "code",
   "execution_count": 5,
   "metadata": {},
   "outputs": [
    {
     "data": {
      "text/plain": [
       "['__class__',\n",
       " '__contains__',\n",
       " '__doc__',\n",
       " '__getitem__',\n",
       " '__init_subclass__',\n",
       " '__iter__',\n",
       " '__len__',\n",
       " '__members__',\n",
       " '__module__',\n",
       " '__name__',\n",
       " '__new__',\n",
       " '__qualname__',\n",
       " 'all',\n",
       " 'apical_dendrite',\n",
       " 'axon',\n",
       " 'axon_carrying_dendrite',\n",
       " 'basal_dendrite',\n",
       " 'custom10',\n",
       " 'custom11',\n",
       " 'custom12',\n",
       " 'custom13',\n",
       " 'custom14',\n",
       " 'custom15',\n",
       " 'custom16',\n",
       " 'custom17',\n",
       " 'custom18',\n",
       " 'custom19',\n",
       " 'custom5',\n",
       " 'custom6',\n",
       " 'custom7',\n",
       " 'custom8',\n",
       " 'custom9',\n",
       " 'soma',\n",
       " 'undefined']"
      ]
     },
     "execution_count": 5,
     "metadata": {},
     "output_type": "execute_result"
    }
   ],
   "source": [
    "dir(nm.NeuriteType) # You can see some of these neurite types listed below (i.e. 'apical_dendrite')"
   ]
  },
  {
   "cell_type": "code",
   "execution_count": 6,
   "metadata": {
    "scrolled": true
   },
   "outputs": [
    {
     "name": "stdout",
     "output_type": "stream",
     "text": [
      "axonal  [125.13077545166016, 124.34028625488281, 163.31492614746094, 23.143268585205078, 13.671525001525879, 5.4365153312683105, 7.427929401397705, 122.31117248535156, 223.8179168701172, 615.74267578125, 195.0153045654297, 7.0960187911987305, 11.986316680908203, 98.99915313720703, 36.76093673706055, 141.6623077392578, 580.3489990234375, 82.78782653808594, 15.272869110107422, 127.34693908691406, 19.79242706298828, 19.01007652282715, 168.3170623779297, 78.61100769042969, 26.14040756225586, 260.1595458984375, 36.36137390136719, 464.41302490234375, 10.992305755615234, 642.8326416015625, 121.58130645751953, 540.0194091796875, 57.40644073486328, 27.629798889160156, 12.96740436553955, 47.255680084228516, 78.45690155029297, 163.9033660888672, 420.84552001953125, 184.70970153808594, 163.84957885742188, 57.01117706298828, 49.273658752441406, 28.75994300842285, 51.456050872802734]\n",
      "\n",
      " basal   [41.81123352050781, 10.01152515411377, 115.59085083007812, 70.33538055419922, 144.306884765625, 52.76976013183594, 129.13441467285156, 18.11256980895996, 173.16400146484375, 110.68128967285156, 5.711341857910156, 49.19373321533203, 13.749814987182617, 46.360862731933594, 20.812137603759766, 23.489545822143555, 44.268157958984375, 22.000215530395508, 231.34019470214844, 246.50146484375, 11.931662559509277, 8.914870262145996, 45.68599319458008, 112.93145751953125, 186.83282470703125, 45.913970947265625, 69.29042053222656, 142.25860595703125, 28.784507751464844, 196.75506591796875, 63.829410552978516, 19.6978702545166, 210.3210906982422, 7.946870803833008, 186.0642852783203, 10.399862289428711, 18.44081687927246, 249.09750366210938]\n",
      "\n",
      " apical  [10.321834564208984, 13.442834854125977, 240.11610412597656, 45.80105972290039, 211.583984375, 118.8879623413086, 34.2109375, 103.32351684570312, 81.99433898925781, 54.632503509521484, 20.861068725585938, 60.82162857055664, 45.533077239990234, 38.818355560302734, 106.36782836914062, 167.87538146972656, 64.34092712402344, 55.64862823486328, 52.393001556396484, 104.35128784179688, 123.7668685913086, 97.50840759277344, 128.60470581054688, 42.24512481689453, 69.40152740478516, 86.74989318847656, 118.4292221069336, 91.70741271972656, 227.4830780029297]\n",
      "\n",
      " total_axonal_length = 6453.369473457336\n"
     ]
    }
   ],
   "source": [
    "# Extract the section lengths of axonal trees\n",
    "ax_section_lengths = nm.get(\"section_lengths\", neuron, neurite_type=nm.NeuriteType.axon)\n",
    "\n",
    "# Extract the section lengths of basal dendrite trees\n",
    "ba_section_lengths = nm.get(\n",
    "    \"section_lengths\", neuron, neurite_type=nm.NeuriteType.basal_dendrite\n",
    ")\n",
    "\n",
    "# Extract the section lengths of apical dendrite trees\n",
    "ap_section_lengths = nm.get(\n",
    "    \"section_lengths\", neuron, neurite_type=nm.NeuriteType.apical_dendrite\n",
    ")\n",
    "\n",
    "print(\"axonal \", ax_section_lengths)\n",
    "print(\"\\n basal  \", ba_section_lengths)\n",
    "print(\"\\n apical \", ap_section_lengths)\n",
    "print(\"\\n total_axonal_length =\", np.sum(ax_section_lengths))"
   ]
  },
  {
   "cell_type": "markdown",
   "metadata": {},
   "source": [
    "## Let's plot the results"
   ]
  },
  {
   "cell_type": "code",
   "execution_count": 7,
   "metadata": {},
   "outputs": [],
   "source": [
    "def histogram(data):\n",
    "    \"\"\"Generates a histogram in a new figure\"\"\"\n",
    "    # create an image with one subplot\n",
    "    f, ax = plt.subplots(1, 1, figsize=(5, 5))\n",
    "\n",
    "    # create a histogram with specified bins and normalized\n",
    "    ax.hist(data, bins=10)\n",
    "    ax.set_title(\n",
    "        feature.replace(\"_\", \" \")\n",
    "    )  # replace the underscores with spaces in the string\n",
    "    ax.set_xlabel(\"length (um)\")\n",
    "    ax.set_ylabel(\"density\")\n",
    "\n",
    "    return f, ax\n",
    "\n",
    "\n",
    "def boxplot(data):\n",
    "    \"\"\"Generates a boxplot in a new figure\"\"\"\n",
    "    # create an image with one subplot\n",
    "    f, ax = plt.subplots(1, 1, figsize=(5, 5))\n",
    "    ax.boxplot(data)  \n",
    "    ax.set_ylabel(\"length (um)\")\n",
    "    \n",
    "\n",
    "    return f, ax"
   ]
  },
  {
   "cell_type": "code",
   "execution_count": 8,
   "metadata": {
    "tags": []
   },
   "outputs": [
    {
     "data": {
      "image/png": "[encoded data removed]",
      "text/plain": [
       "<Figure size 500x500 with 1 Axes>"
      ]
     },
     "metadata": {},
     "output_type": "display_data"
    },
    {
     "data": {
      "image/png": "[encoded data removed]",
      "text/plain": [
       "<Figure size 500x500 with 1 Axes>"
      ]
     },
     "metadata": {},
     "output_type": "display_data"
    }
   ],
   "source": [
    "feature = \"section_lengths\"\n",
    "values = nm.get(feature, neuron)\n",
    "\n",
    "histogram(values)\n",
    "boxplot(values);"
   ]
  },
  {
   "cell_type": "code",
   "execution_count": null,
   "metadata": {},
   "outputs": [],
   "source": []
  }
 ],
 "metadata": {
  "kernelspec": {
   "display_name": "Python3",
   "language": "python",
   "name": "python3"
  },
  "language_info": {
   "codemirror_mode": {
    "name": "ipython",
    "version": 3
   },
   "file_extension": ".py",
   "mimetype": "text/x-python",
   "name": "python",
   "nbconvert_exporter": "python",
   "pygments_lexer": "ipython3",
   "version": "3.12.4"
  }
 },
 "nbformat": 4,
 "nbformat_minor": 4
}
